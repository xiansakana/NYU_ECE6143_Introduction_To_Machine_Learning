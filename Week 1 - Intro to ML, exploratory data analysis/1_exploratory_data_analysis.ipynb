{
  "cells": [
    {
      "cell_type": "markdown",
      "metadata": {
        "id": "9dae4006-4083-4679-bff0-46c57d964ee7"
      },
      "source": [
        "# Exploratory data analysis\n",
        "\n",
        "*Fraida Fund*"
      ],
      "id": "9dae4006-4083-4679-bff0-46c57d964ee7"
    },
    {
      "cell_type": "markdown",
      "metadata": {
        "id": "378ad417-9c20-4ec0-944a-0d68fda73768"
      },
      "source": [
        "## In this notebook\n",
        "\n",
        "In this notebook:\n",
        "\n",
        "-   We practice using `pandas` to read in and manipulate a data set. (We won’t have a separate tutorial on `pandas` - we will learn basic `pandas` techniques as we need them.)\n",
        "-   We learn a basic “recipe” for exploratory data analysis and apply it to an example"
      ],
      "id": "378ad417-9c20-4ec0-944a-0d68fda73768"
    },
    {
      "cell_type": "markdown",
      "metadata": {
        "id": "4282efe4-579a-4fcb-9f14-5333012b8950"
      },
      "source": [
        "## Introduction"
      ],
      "id": "4282efe4-579a-4fcb-9f14-5333012b8950"
    },
    {
      "cell_type": "markdown",
      "metadata": {
        "id": "470fe028-9b96-4863-9879-68c66d2ae448"
      },
      "source": [
        "The first step in applying machine learning to a real problem is *finding* or *creating* an appropriate data set with which to train your model."
      ],
      "id": "470fe028-9b96-4863-9879-68c66d2ae448"
    },
    {
      "cell_type": "markdown",
      "metadata": {
        "id": "b28d8509-9113-4748-9f66-5afc787b3391"
      },
      "source": [
        "### What makes data “good”?\n",
        "\n",
        "What makes a good data set?\n",
        "\n",
        "-   **Size**: the more *samples* are in the data set, the more examples your machine learning model will be able to learn from, and the better it will do. Often, a simple machine learning model trained on a large data set will outperform a “fancy” model on a small data set.\n",
        "-   **Quality**: Are there *predictive* features in the data? Are no values (or very few values) missing, noisy, or incorrect? Is the scenario in which the data collected similar to the scenario in which your model will be used? These are examples of questions that we might ask to evaluate the quality of a data set."
      ],
      "id": "b28d8509-9113-4748-9f66-5afc787b3391"
    },
    {
      "cell_type": "markdown",
      "metadata": {
        "id": "bd716dc2-1085-4177-96c1-635298421426"
      },
      "source": [
        "One of the most important principles in machine learning is: **garbage in, garbage out**. If the data you use to train a machine learning model is problematic, or not well suited for the purpose, then even the best model will produce useless predictions."
      ],
      "id": "bd716dc2-1085-4177-96c1-635298421426"
    },
    {
      "cell_type": "markdown",
      "metadata": {
        "id": "ed48f56b-9863-4330-b6b7-3a39c537309b"
      },
      "source": [
        "### Purpose of exploratory data analysis\n",
        "\n",
        "Once we have identified one or more candidate data sets for a particular problem, we perform some *exploratory data analysis*. This process helps us\n",
        "\n",
        "-   detect and possibly correct mistakes in the data\n",
        "-   check our assumptions about the data\n",
        "-   identify potential relationships between features\n",
        "-   assess the direction and rough size of relationships between features and the target variable\n",
        "\n",
        "Exploratory data analysis is important for understanding whether this data set is appropriate for the machine learning task at hand, and if any extra cleaning or processing steps are required before we use the data."
      ],
      "id": "ed48f56b-9863-4330-b6b7-3a39c537309b"
    },
    {
      "cell_type": "markdown",
      "metadata": {
        "id": "8500330e-e2e7-4085-812c-b8a53eeb57fc"
      },
      "source": [
        "## “Recipe” for exploratory data analysis\n",
        "\n",
        "We will practice using a basic “recipe” for exploratory data analysis.\n",
        "\n",
        "1.  Set down *expectations* about the data\n",
        "2.  Load data and check that it is loaded correctly\n",
        "3.  Inspect the data to make sure it is consistent with your expectations (“sanity checks”), and clean or filter the data if needed\n",
        "4.  Explore relationships in the data to identify good candidate features and target variables\n",
        "\n",
        "Every exploratory data analysis is different, as specific characteristics of the data may lead you to explore different things in depth. However, this “recipe” can be a helpful starting point.\n",
        "\n",
        "**Note**: before we do anything with a dataset that we will use for machine learning, we should set aside a part of the data to use as a held-out test set! In this example, assume that we have already separated out a held-out test set."
      ],
      "id": "8500330e-e2e7-4085-812c-b8a53eeb57fc"
    },
    {
      "cell_type": "markdown",
      "metadata": {
        "id": "cf910bfd-66c4-48fa-ab14-90d866af5a6f"
      },
      "source": [
        "## Example: Brooklyn Bridge pedestrian data set"
      ],
      "id": "cf910bfd-66c4-48fa-ab14-90d866af5a6f"
    },
    {
      "cell_type": "markdown",
      "metadata": {
        "id": "5ebe83bb-6acc-41e6-925c-dd96058c088e"
      },
      "source": [
        "The Brooklyn Bridge is a bridge that connects Brooklyn and Manhattan. It supports vehicles, pedestrians, and bikers.\n",
        "\n",
        "![](https://brooklyneagle.com/wp-content/uploads/2019/01/7-Brooklyn-Bridge-pedestrians-in-bike-lane-to-right-of-white-stripe-January-2019-photo-by-Lore-Croghan-600x397.jpg)"
      ],
      "id": "5ebe83bb-6acc-41e6-925c-dd96058c088e"
    },
    {
      "cell_type": "markdown",
      "metadata": {
        "id": "8ef9c433-cafc-429d-9aae-95a317964ab9"
      },
      "source": [
        "Support you are developing a machine learning model to predict the volume of pedestrian traffic on the Brooklyn Bridge. There is a dataset available that you think may be useful as training data: [Brooklyn Bridge Automated Pedestrian Counts dataset](https://data.cityofnewyork.us/Transportation/Brooklyn-Bridge-Automated-Pedestrian-Counts-Demons/6fi9-q3ta), from the NYC Department of Transportation.\n",
        "\n",
        "We will practice applying the “recipe” for exploratory data analysis to this data.\n",
        "\n",
        "We will use the `pandas` library in Python, which includes many powerful utilities for managing data. You can refer to the [`pandas` reference](https://pandas.pydata.org/pandas-docs/stable/reference/index.html) for more details on the `pandas` functions used in this notebook."
      ],
      "id": "8ef9c433-cafc-429d-9aae-95a317964ab9"
    },
    {
      "cell_type": "markdown",
      "metadata": {
        "id": "b8a3578d-8142-4a68-8f85-1aea8b731ea9"
      },
      "source": [
        "### Set down *expectations* about the data\n",
        "\n",
        "The first step is to codify your expectations about the data *before* you look at it:\n",
        "\n",
        "-   Read about *methodology* and *data codebook*\n",
        "-   How many rows and columns are in the data?\n",
        "-   What does each variable mean? What units are data recorded in? What is the expected range or typical value for each column?\n",
        "-   What variables do you think could be used as target variable? What variables could be used as features from which to learn?\n",
        "-   How was data collected? Identify sampling issues, timeliness issues, fairness issues, etc."
      ],
      "id": "b8a3578d-8142-4a68-8f85-1aea8b731ea9"
    },
    {
      "cell_type": "markdown",
      "metadata": {
        "id": "41fc0a1f-28c7-47c6-b38c-b72bd3479589"
      },
      "source": [
        "For the Brooklyn Bridge dataset, you can review the associated documentation on the NYC Data website:\n",
        "\n",
        "-   [NYC Data Website](https://data.cityofnewyork.us/Transportation/Brooklyn-Bridge-Automated-Pedestrian-Counts-Demons/6fi9-q3ta)\n",
        "-   [Data dictionary](https://data.cityofnewyork.us/api/views/6fi9-q3ta/files/845905ea-21d4-4ec7-958a-a1a09214513d?download=true&filename=Brooklyn_Bridge_Automated_Pedestrian_Counts_Demonstration_Project_data_dictionary.xlsx)"
      ],
      "id": "41fc0a1f-28c7-47c6-b38c-b72bd3479589"
    },
    {
      "cell_type": "markdown",
      "metadata": {
        "id": "06cc42c9-ab54-482c-b56d-a033a5b0dd72"
      },
      "source": [
        "### Load data and check that it is loaded correctly\n",
        "\n",
        "The next step is to load the data in preparation for our exploratory data analysis. Then, we’ll check that it is loaded correctly.\n",
        "\n",
        "Some examples of the things we’ll look for include:\n",
        "\n",
        "-   Does the `DataFrame` have the correct number of rows and columns (consistent with our expectations from the first step)?\n",
        "-   Is the first row of “data” in the `DataFrame` real data, or is it column labels that were misinterpreted as data? (Similarly, are the column labels actually labels, or are they the first row of data?)\n",
        "-   Are the data types of every column consistent with our expectations?\n",
        "\n",
        "At this stage, we might also do some very basic manipulation of the data - for example, compute some fields that are derived directly from other fields. (For example, suppose you have a “distance” field in miles and you wanted to convert it to meters - you could do that here!)"
      ],
      "id": "06cc42c9-ab54-482c-b56d-a033a5b0dd72"
    },
    {
      "cell_type": "markdown",
      "metadata": {
        "id": "6014f76f-bd13-48cc-9809-4b2bd7f5db4e"
      },
      "source": [
        "First, we will import some useful libraries:\n",
        "\n",
        "-   In Python - libraries add powerful functionality\n",
        "-   You can import an entire library (`import foo`) or part (`from foo import bar`)\n",
        "-   You can define a nickname, which you will use to call functions of these libraries (many libraries have “conventional” nicknames)\n",
        "\n",
        "`pandas` is a popular Python library for working with data. It is conventionally imported with the `pd` nickname."
      ],
      "id": "6014f76f-bd13-48cc-9809-4b2bd7f5db4e"
    },
    {
      "cell_type": "code",
      "execution_count": null,
      "metadata": {
        "id": "310b721d-f760-4466-9589-68099cdc6031"
      },
      "outputs": [],
      "source": [
        "import pandas as pd\n",
        "import matplotlib.pyplot as plt\n",
        "import seaborn as sns\n",
        "\n",
        "# set up notebook to show all outputs, not only last one\n",
        "from IPython.core.interactiveshell import InteractiveShell\n",
        "InteractiveShell.ast_node_interactivity = \"all\""
      ],
      "id": "310b721d-f760-4466-9589-68099cdc6031"
    },
    {
      "cell_type": "markdown",
      "metadata": {
        "id": "0a656ef1-4733-41ae-8452-06aa31c282f1"
      },
      "source": [
        "Now we are ready to read in our data!\n",
        "\n",
        "The main type of data structure in `pandas` is a `DataFrame`, which organizes data into a 2D table, like a spreadsheet. Unlike a `numpy` array, however, each column in a `DataFrame` can have different data types - for example, you can have a string column, an integer column, and a float column all in the same `DataFrame`.\n",
        "\n",
        "(The other major type of data in `pandas` is a `Series`, which is like a 1D array- any individual row or column from a `DataFrame` will be a `Series`.)"
      ],
      "id": "0a656ef1-4733-41ae-8452-06aa31c282f1"
    },
    {
      "cell_type": "markdown",
      "metadata": {
        "id": "3801f6c8-e4d1-4f9d-b7b2-051ce77ed1cb"
      },
      "source": [
        "You *can* create a `DataFrame` or a `Series` “by hand” - for example, try\n",
        "\n",
        "``` python\n",
        "pd.Series([1,2,3,99])\n",
        "```\n",
        "\n",
        "or\n",
        "\n",
        "``` python\n",
        "pd.DataFrame({'fruit': ['apple', 'banana', 'kiwi'], 'cost': [0.55, 0.99, 1.24]})\n",
        "```"
      ],
      "id": "3801f6c8-e4d1-4f9d-b7b2-051ce77ed1cb"
    },
    {
      "cell_type": "markdown",
      "metadata": {
        "id": "de082613-1fe2-4365-af36-08feb2d98a81"
      },
      "source": [
        "But usually, we’ll read in data from a file.\n",
        "\n",
        "Our data for this Brooklyn Bridge example is in CSV format, so will use the `read_csv` function in `pandas` to read in our data. This function accepts a URL or a path to a file, and will return our data as a `DataFrame`.\n",
        "\n",
        "Function documentation: [pandas reference](https://pandas.pydata.org/pandas-docs/stable/reference/api/pandas.read_csv.html)\n",
        "\n",
        "``` python\n",
        "pandas.read_csv(filepath_or_buffer,\n",
        "    sep=',', header='infer',\n",
        "    names=None,\n",
        "    ...)\n",
        "```\n",
        "\n",
        "`read_csv` is for “flat” text files, where each data point is on another row, and the fields in a row are separated by some delimiter (e.g. comma). Other pandas functions exist for loading other kinds of data (read from database, Excel file, etc.)"
      ],
      "id": "de082613-1fe2-4365-af36-08feb2d98a81"
    },
    {
      "cell_type": "code",
      "execution_count": null,
      "metadata": {
        "id": "62031060-f78a-4281-b9e9-8f9ac2c8c8ab"
      },
      "outputs": [],
      "source": [
        "url = 'https://data.cityofnewyork.us/api/views/6fi9-q3ta/rows.csv?accessType=DOWNLOAD'\n",
        "df = pd.read_csv(url)"
      ],
      "id": "62031060-f78a-4281-b9e9-8f9ac2c8c8ab"
    },
    {
      "cell_type": "markdown",
      "metadata": {
        "id": "ad3d47c4-2ce2-4c1b-bb99-9624f641c15b"
      },
      "source": [
        "We will want to verify that the data was loaded correctly. For *tabular* data, we can start by looking at the first few rows of data or the last few rows of data with the `head` and `tail` functions, respectively. (For data that is not tabular, such as image, text, or audio data, we would similarly start by looking at some samples.)"
      ],
      "id": "ad3d47c4-2ce2-4c1b-bb99-9624f641c15b"
    },
    {
      "cell_type": "code",
      "execution_count": null,
      "metadata": {
        "id": "b4cd91c9-1636-4264-9ff0-944056965f5d"
      },
      "outputs": [],
      "source": [
        "df.head()"
      ],
      "id": "b4cd91c9-1636-4264-9ff0-944056965f5d"
    },
    {
      "cell_type": "code",
      "execution_count": null,
      "metadata": {
        "id": "fe234238-3b7a-490a-ba0b-0a1f3d8fde57"
      },
      "outputs": [],
      "source": [
        "df.tail()"
      ],
      "id": "fe234238-3b7a-490a-ba0b-0a1f3d8fde57"
    },
    {
      "cell_type": "markdown",
      "metadata": {
        "id": "06349ec0-3af6-423f-b21e-db179e4f87a2"
      },
      "source": [
        "We can also get a few random rows:"
      ],
      "id": "06349ec0-3af6-423f-b21e-db179e4f87a2"
    },
    {
      "cell_type": "code",
      "execution_count": null,
      "metadata": {
        "id": "cbc4b34b-fecc-4b1c-96f2-2c19e79c8dc3"
      },
      "outputs": [],
      "source": [
        "df.sample(5)"
      ],
      "id": "cbc4b34b-fecc-4b1c-96f2-2c19e79c8dc3"
    },
    {
      "cell_type": "markdown",
      "metadata": {
        "id": "193be5c2-0137-401d-a236-808d5b02e78b"
      },
      "source": [
        "Looking at some rows can help us spot obvious problems with data loading. For example, suppose we had tried to read in the data using a tab delimiter to separate fields on the same row, instead of a comma."
      ],
      "id": "193be5c2-0137-401d-a236-808d5b02e78b"
    },
    {
      "cell_type": "code",
      "execution_count": null,
      "metadata": {
        "id": "7a6b99a9-8407-412b-b737-c6ffe658a459"
      },
      "outputs": [],
      "source": [
        "df_bad  = pd.read_csv(url, sep='\\t')\n",
        "df_bad.head()"
      ],
      "id": "7a6b99a9-8407-412b-b737-c6ffe658a459"
    },
    {
      "cell_type": "markdown",
      "metadata": {
        "id": "64b4bbd6-5592-4f95-adc7-ef74e85a9cf0"
      },
      "source": [
        "This “bad” version of the `DataFrame` has only a single column (because it believes tabs are used to separate fields in the same row, when actually commas are used). The variable names are combined together into one long column name. By looking at the first few rows of data, we can spot this obvious error.\n",
        "\n",
        "Here is another example of a “bad” `DataFrame`. Suppose we tell `read_csv` that the data file itself does not have a header row at the top, with column names in it; instead, we supply column names ourselves."
      ],
      "id": "64b4bbd6-5592-4f95-adc7-ef74e85a9cf0"
    },
    {
      "cell_type": "code",
      "execution_count": null,
      "metadata": {
        "id": "980a182b-459d-4ab0-90f9-954e2277317c"
      },
      "outputs": [],
      "source": [
        "col_names = [\"hour_beginning\", \"location\", \"Pedestrians\", \"Towards Manhattan\",\n",
        "    \"Towards Brooklyn\", \"weather_summary\", \"temperature\", \"precipitation\",\n",
        "    \"lat\", \"long\", \"events\", \"Location1\"]\n",
        "df_bad  = pd.read_csv(url, header=None, names=col_names)\n",
        "df_bad.head()"
      ],
      "id": "980a182b-459d-4ab0-90f9-954e2277317c"
    },
    {
      "cell_type": "markdown",
      "metadata": {
        "id": "aac7452d-18d8-431e-a430-59f72427e126"
      },
      "source": [
        "In this example, the first row in the file *is* actually a column header, and we mistakenly read it in as data. (A similar problem can occur in reverse - if we told `read_csv` that the first row *is* a header when it is not, then our “column labels” would actually be the first row of data.)"
      ],
      "id": "aac7452d-18d8-431e-a430-59f72427e126"
    },
    {
      "cell_type": "markdown",
      "metadata": {
        "id": "b1357c72-1070-48f2-ae33-64eb36fbc9e0"
      },
      "source": [
        "We should always check the shape of the data frame - the number of rows and columns. This, too, should be checked against our assumptions about the data (in this case, what we know from the NYC Data website.)"
      ],
      "id": "b1357c72-1070-48f2-ae33-64eb36fbc9e0"
    },
    {
      "cell_type": "code",
      "execution_count": null,
      "metadata": {
        "id": "416621a0-73d4-4f63-ae93-ce12fee954a4"
      },
      "outputs": [],
      "source": [
        "df.shape"
      ],
      "id": "416621a0-73d4-4f63-ae93-ce12fee954a4"
    },
    {
      "cell_type": "markdown",
      "metadata": {
        "id": "2867440c-18b1-42d5-9d7c-91ba62be99dc"
      },
      "source": [
        "Check the names of the columns and their data types:"
      ],
      "id": "2867440c-18b1-42d5-9d7c-91ba62be99dc"
    },
    {
      "cell_type": "code",
      "execution_count": null,
      "metadata": {
        "id": "d73a7020-ae73-4d58-a547-8325313751a2"
      },
      "outputs": [],
      "source": [
        "df.columns\n",
        "df.dtypes"
      ],
      "id": "d73a7020-ae73-4d58-a547-8325313751a2"
    },
    {
      "cell_type": "markdown",
      "metadata": {
        "id": "f80a8cab-bfc1-41ac-8de5-179a68f31748"
      },
      "source": [
        "The main data types we’ll see most often are `int64` (integer), `float64` (numeric), `bool` (True or False), or `object` (which includes string)."
      ],
      "id": "f80a8cab-bfc1-41ac-8de5-179a68f31748"
    },
    {
      "cell_type": "markdown",
      "metadata": {
        "id": "a9389845-bfc0-4c65-9b80-1ec29cc3d244"
      },
      "source": [
        "We can also get a quick summary with `info()`;"
      ],
      "id": "a9389845-bfc0-4c65-9b80-1ec29cc3d244"
    },
    {
      "cell_type": "code",
      "execution_count": null,
      "metadata": {
        "id": "2d96cdc2-35c0-4d5e-9da4-210af8f99f98"
      },
      "outputs": [],
      "source": [
        "df.info()"
      ],
      "id": "2d96cdc2-35c0-4d5e-9da4-210af8f99f98"
    },
    {
      "cell_type": "markdown",
      "metadata": {
        "id": "fe48019b-3420-49fd-be50-44797c9a5532"
      },
      "source": [
        "`pandas` infers the data type of each column automatically from the contents of the data.\n",
        "\n",
        "If the data type of a column is not what you expect it to be, this can often be a signal that the data needs cleaning. For example, if you expect a column to be numeric and it is read in as non-numeric, this indicates that there are probably some samples that include a non-numeric value in that column. (The [NYC Data website](https://data.cityofnewyork.us/Transportation/Brooklyn-Bridge-Automated-Pedestrian-Counts-Demons/6fi9-q3ta) indicates what type of data *should* be in each column, so you should reference that when checking this output. )"
      ],
      "id": "fe48019b-3420-49fd-be50-44797c9a5532"
    },
    {
      "cell_type": "markdown",
      "metadata": {
        "id": "0b09562c-56e6-494b-8761-5259eda3d514"
      },
      "source": [
        "We have a date/time column (`hour_beginning`) that was read in as a string. Let’s take a closer look at that. We can get one column of data either using a notation like a dictionary, as in\n",
        "\n",
        "``` python\n",
        "df['hour_beginning']\n",
        "```\n",
        "\n",
        "or using class attribute-like notation, as in\n",
        "\n",
        "``` python\n",
        "df.hour_beginning\n",
        "```\n",
        "\n",
        "(either one returns exactly the same thing!) (Note that if the column name includes spaces, you can only use the notation with the brackets, since it encloses the column name in quotes.)"
      ],
      "id": "0b09562c-56e6-494b-8761-5259eda3d514"
    },
    {
      "cell_type": "markdown",
      "metadata": {
        "id": "8e1dc9ee-9997-4022-bd11-52347142c4de"
      },
      "source": [
        "`pandas` includes a `to_datetime` function to convert this string to a “native” date/time format, so we can use that now:"
      ],
      "id": "8e1dc9ee-9997-4022-bd11-52347142c4de"
    },
    {
      "cell_type": "code",
      "execution_count": null,
      "metadata": {
        "id": "764b1b14-8429-4cf9-857f-5c64584b09ef"
      },
      "outputs": [],
      "source": [
        "df['hour_beginning'] = pd.to_datetime(df['hour_beginning'])\n",
        "df.info()"
      ],
      "id": "764b1b14-8429-4cf9-857f-5c64584b09ef"
    },
    {
      "cell_type": "markdown",
      "metadata": {
        "id": "5076c049-f3f7-450f-bc89-3e90795dd236"
      },
      "source": [
        "You may notice that the `hour_beginning` variable includes the full date and time in one field. For our analysis, it would be more useful to have separate fields for the date, month, day of the week, and hour.\n",
        "\n",
        "We can create these additional fields by assigning the desired value to them directly - then, observe the effect:"
      ],
      "id": "5076c049-f3f7-450f-bc89-3e90795dd236"
    },
    {
      "cell_type": "code",
      "execution_count": null,
      "metadata": {
        "id": "25bf6954-81d9-4d0f-b659-d42d544e9640"
      },
      "outputs": [],
      "source": [
        "df['hour'] = df['hour_beginning'].dt.hour\n",
        "df['month'] = df['hour_beginning'].dt.month\n",
        "df['date'] = df['hour_beginning'].dt.date\n",
        "df['day_name'] = df['hour_beginning'].dt.day_name()\n",
        "\n",
        "df.head()"
      ],
      "id": "25bf6954-81d9-4d0f-b659-d42d544e9640"
    },
    {
      "cell_type": "markdown",
      "metadata": {
        "id": "f1e29cec-1e45-4b05-838e-9575af19bca5"
      },
      "source": [
        "### More `pandas` basics"
      ],
      "id": "f1e29cec-1e45-4b05-838e-9575af19bca5"
    },
    {
      "cell_type": "markdown",
      "metadata": {
        "id": "fafae765-8bea-4615-9c5b-0644d1b62cce"
      },
      "source": [
        "There are a few basic things that it’s helpful to be able to do in `pandas` without consulting documentation. Let’s run through these things here:\n",
        "\n",
        "-   get a column or a subset of columns from a `pandas` data frame (and understand what data type is returned in each case!)\n",
        "-   get a `numpy` array with values from a `pandas` data frame\n",
        "-   get a row or a subset of rows from a `pandas` data frame."
      ],
      "id": "fafae765-8bea-4615-9c5b-0644d1b62cce"
    },
    {
      "cell_type": "markdown",
      "metadata": {
        "id": "bd1f2638-84a7-4878-a9da-fb96eec5fe2e"
      },
      "source": [
        "We will often need to select a single column or a subset of columns from a `pandas` data frame. For example, we may have a data frame that includes useful features, identifiers (such as names or ID numbers) that should not be used as features, and a target variable - and we will want to pass just the useful features to a function that will train a model.\n",
        "\n",
        "The syntax for selecting a subset of columns from a data frame named `df` is:\n",
        "\n",
        "    df[[\"name_col_1\", \"name_col_2\"]]\n",
        "\n",
        "etc., where `name_col_1` and `name_col_2` are the names of the columns that you want to select.\n",
        "\n",
        "Try this now:"
      ],
      "id": "bd1f2638-84a7-4878-a9da-fb96eec5fe2e"
    },
    {
      "cell_type": "code",
      "execution_count": null,
      "metadata": {
        "id": "b998b21d-6b57-4d18-88d0-5fd6c9a52314"
      },
      "outputs": [],
      "source": [
        "df[[\"Towards Manhattan\", \"Towards Brooklyn\"]]"
      ],
      "id": "b998b21d-6b57-4d18-88d0-5fd6c9a52314"
    },
    {
      "cell_type": "code",
      "execution_count": null,
      "metadata": {
        "id": "53d8de50-2a71-4a2f-9d4e-cd64906a25e6"
      },
      "outputs": [],
      "source": [
        "df[[\"Towards Manhattan\", \"Towards Brooklyn\"]].info()"
      ],
      "id": "53d8de50-2a71-4a2f-9d4e-cd64906a25e6"
    },
    {
      "cell_type": "markdown",
      "metadata": {
        "id": "9b140dc7-e329-409b-bbfe-8e857590c469"
      },
      "source": [
        "Note that the return value is a *data frame*.\n",
        "\n",
        "You can get these values as `numpy` array using `.to_numpy()` (or you may see code that does this using `.values` - but this syntax is being phased out). This will be a **2D** `numpy` array (with a row dimension and a column dimension)."
      ],
      "id": "9b140dc7-e329-409b-bbfe-8e857590c469"
    },
    {
      "cell_type": "code",
      "execution_count": null,
      "metadata": {
        "id": "881edce6-b3e4-4530-bea2-22b2eab5e532"
      },
      "outputs": [],
      "source": [
        "df[[\"Towards Manhattan\", \"Towards Brooklyn\"]].to_numpy()"
      ],
      "id": "881edce6-b3e4-4530-bea2-22b2eab5e532"
    },
    {
      "cell_type": "code",
      "execution_count": null,
      "metadata": {
        "id": "dcb0dd42-6fab-4b80-ba09-86ddca11511b"
      },
      "outputs": [],
      "source": [
        "df[[\"Towards Manhattan\", \"Towards Brooklyn\"]].to_numpy().shape"
      ],
      "id": "dcb0dd42-6fab-4b80-ba09-86ddca11511b"
    },
    {
      "cell_type": "markdown",
      "metadata": {
        "id": "dd69f4e6-6789-4c1c-a303-c71fd87eb2c7"
      },
      "source": [
        "If you need to select a single column, you can do it in a similar way, but passing only one entry in the list of columns to select - e.g.\n",
        "\n",
        "    df[[\"name_col_1\"]]\n",
        "\n",
        "and the return value will similarly be a data frame (and after `.to_numpy()`, will be a `numpy` array that is 2D)."
      ],
      "id": "dd69f4e6-6789-4c1c-a303-c71fd87eb2c7"
    },
    {
      "cell_type": "code",
      "execution_count": null,
      "metadata": {
        "id": "73d08f15-25fd-4936-be37-a0e94d7cbcc2"
      },
      "outputs": [],
      "source": [
        "df[[\"Pedestrians\"]]"
      ],
      "id": "73d08f15-25fd-4936-be37-a0e94d7cbcc2"
    },
    {
      "cell_type": "markdown",
      "metadata": {
        "id": "32c8d062-bb81-44b4-aa76-eeb6a64b914d"
      },
      "source": [
        "However, you could also select a single column by passing the column name as a string, instead of as a list, like\n",
        "\n",
        "    df[\"name_col_1\"]\n",
        "\n",
        "In this case, the return value will be a data *series*, and the `numpy` array returned by `.to_numpy()` is 1D."
      ],
      "id": "32c8d062-bb81-44b4-aa76-eeb6a64b914d"
    },
    {
      "cell_type": "code",
      "execution_count": null,
      "metadata": {
        "id": "79de093f-d67d-44ec-85f4-86c2df536421"
      },
      "outputs": [],
      "source": [
        "df[\"Pedestrians\"]"
      ],
      "id": "79de093f-d67d-44ec-85f4-86c2df536421"
    },
    {
      "cell_type": "markdown",
      "metadata": {
        "id": "6e4d84a9-f303-44bc-82a5-e153e6cfd257"
      },
      "source": [
        "Note the differences in the outputs below, depending on whether a string or a list is used inside the `[]`. These differences have implications for further computation using broadcasting rules, or for passing values to functions that require specific types of inputs (e.g. specifically a data frame or 2D array, vs a data series or 1D array)."
      ],
      "id": "6e4d84a9-f303-44bc-82a5-e153e6cfd257"
    },
    {
      "cell_type": "code",
      "execution_count": null,
      "metadata": {
        "id": "a31ff1c4-b063-4f52-95be-b67b78ea5bde"
      },
      "outputs": [],
      "source": [
        "df[[\"Pedestrians\"]].info()"
      ],
      "id": "a31ff1c4-b063-4f52-95be-b67b78ea5bde"
    },
    {
      "cell_type": "code",
      "execution_count": null,
      "metadata": {
        "id": "8a44fc2c-93d2-474e-a3ca-7ac097e2b2cc"
      },
      "outputs": [],
      "source": [
        "df[\"Pedestrians\"].info()"
      ],
      "id": "8a44fc2c-93d2-474e-a3ca-7ac097e2b2cc"
    },
    {
      "cell_type": "code",
      "execution_count": null,
      "metadata": {
        "id": "f63e65e4-cc3b-4139-addc-11d5424e386b"
      },
      "outputs": [],
      "source": [
        "df[[\"Pedestrians\"]].to_numpy().shape"
      ],
      "id": "f63e65e4-cc3b-4139-addc-11d5424e386b"
    },
    {
      "cell_type": "code",
      "execution_count": null,
      "metadata": {
        "id": "478a2cb1-3a14-41cd-8ed5-0d58f46b37a7"
      },
      "outputs": [],
      "source": [
        "df[\"Pedestrians\"].to_numpy().shape"
      ],
      "id": "478a2cb1-3a14-41cd-8ed5-0d58f46b37a7"
    },
    {
      "cell_type": "markdown",
      "metadata": {
        "id": "50b7698c-05af-40d5-a246-e75e7a62bdff"
      },
      "source": [
        "Next, let’s talk about getting a row or subset of rows!\n",
        "\n",
        "First, let’s note that the data we are working with right now has integer indices. These are shown in the first “column” of the print view:"
      ],
      "id": "50b7698c-05af-40d5-a246-e75e7a62bdff"
    },
    {
      "cell_type": "code",
      "execution_count": null,
      "metadata": {
        "id": "cae27207-d8f6-4add-a33a-73f72fbb3b1a"
      },
      "outputs": [],
      "source": [
        "df"
      ],
      "id": "cae27207-d8f6-4add-a33a-73f72fbb3b1a"
    },
    {
      "cell_type": "code",
      "execution_count": null,
      "metadata": {
        "id": "6dbe1e7f-58e7-49da-ad58-79291584fde5"
      },
      "outputs": [],
      "source": [
        "df.index.to_numpy()"
      ],
      "id": "6dbe1e7f-58e7-49da-ad58-79291584fde5"
    },
    {
      "cell_type": "markdown",
      "metadata": {
        "id": "fcf3e24c-d7b2-447b-815b-7a6842174511"
      },
      "source": [
        "To select rows by passing an integer index or list of indices, we will use either `.iloc[]` or `.loc[]`.\n",
        "\n",
        "As with column indexing, we can pass a single value (which will return a data series, 1D array) or a list of one or more values (which will return a data frame, 2D array, even if we pass a “list” of one value!)"
      ],
      "id": "fcf3e24c-d7b2-447b-815b-7a6842174511"
    },
    {
      "cell_type": "code",
      "execution_count": null,
      "metadata": {
        "id": "a4bb59cb-6715-48e4-a319-f9e0880aed00"
      },
      "outputs": [],
      "source": [
        "df.iloc[0]"
      ],
      "id": "a4bb59cb-6715-48e4-a319-f9e0880aed00"
    },
    {
      "cell_type": "code",
      "execution_count": null,
      "metadata": {
        "id": "42ccb98f-a413-4e68-9c3d-f731efdc3730"
      },
      "outputs": [],
      "source": [
        "df.loc[0]"
      ],
      "id": "42ccb98f-a413-4e68-9c3d-f731efdc3730"
    },
    {
      "cell_type": "code",
      "execution_count": null,
      "metadata": {
        "id": "00dfc608-13c6-4f09-975c-ca9438560a14"
      },
      "outputs": [],
      "source": [
        "df.loc[0].info()"
      ],
      "id": "00dfc608-13c6-4f09-975c-ca9438560a14"
    },
    {
      "cell_type": "code",
      "execution_count": null,
      "metadata": {
        "id": "dc5f6f77-7363-4fbc-b133-8093cae32281"
      },
      "outputs": [],
      "source": [
        "df.iloc[[0, 1, 2]]"
      ],
      "id": "dc5f6f77-7363-4fbc-b133-8093cae32281"
    },
    {
      "cell_type": "code",
      "execution_count": null,
      "metadata": {
        "id": "eaeda1be-ced1-42ab-b42e-f7efbdc2a7e9"
      },
      "outputs": [],
      "source": [
        "df.loc[[0, 1, 2]]"
      ],
      "id": "eaeda1be-ced1-42ab-b42e-f7efbdc2a7e9"
    },
    {
      "cell_type": "code",
      "execution_count": null,
      "metadata": {
        "id": "b055d601-862f-4c90-a473-9a77fc0c98d1"
      },
      "outputs": [],
      "source": [
        "df.loc[[0, 1, 2]].info()"
      ],
      "id": "b055d601-862f-4c90-a473-9a77fc0c98d1"
    },
    {
      "cell_type": "markdown",
      "metadata": {
        "id": "7ba0c4af-1af7-4725-ab56-da0707fd913e"
      },
      "source": [
        "Note that in either case, an array of indices can also be passed using a variable. (This will be useful in machine learning contexts, when we may have a large data frame and then an array of indices of samples used for training, and another array of indices of samples used for test/evaluation.)"
      ],
      "id": "7ba0c4af-1af7-4725-ab56-da0707fd913e"
    },
    {
      "cell_type": "code",
      "execution_count": null,
      "metadata": {
        "id": "0f1dc240-7129-4636-9e05-16e727f49bd2"
      },
      "outputs": [],
      "source": [
        "idx = [0, 1, 2]\n",
        "df.loc[idx].info()"
      ],
      "id": "0f1dc240-7129-4636-9e05-16e727f49bd2"
    },
    {
      "cell_type": "markdown",
      "metadata": {
        "id": "630c5bae-0a4e-4700-901a-0d03d695588d"
      },
      "source": [
        "Either `.iloc[]` or `.loc[]` can also be used to select specific rows and columns together.\n",
        "\n",
        "Since this data frame has columns with names, not integer indices, we will use the column names with `.loc[]`.\n",
        "\n",
        "If we use `.iloc[]` we would specify the integer index of the column instead."
      ],
      "id": "630c5bae-0a4e-4700-901a-0d03d695588d"
    },
    {
      "cell_type": "code",
      "execution_count": null,
      "metadata": {
        "id": "e93860db-6a91-457a-91fa-4b344cef043b"
      },
      "outputs": [],
      "source": [
        "df.loc[[0, 1, 2], ['Pedestrians']]"
      ],
      "id": "e93860db-6a91-457a-91fa-4b344cef043b"
    },
    {
      "cell_type": "code",
      "execution_count": null,
      "metadata": {
        "id": "59cf0944-9a99-4be4-84da-a63c94266bb7"
      },
      "outputs": [],
      "source": [
        "df.iloc[[0, 1, 2], [2]]"
      ],
      "id": "59cf0944-9a99-4be4-84da-a63c94266bb7"
    },
    {
      "cell_type": "markdown",
      "metadata": {
        "id": "7f9742c3-cd74-4c42-a07c-4b638b3bf2c2"
      },
      "source": [
        "Of course, we can also specify multiple columns -"
      ],
      "id": "7f9742c3-cd74-4c42-a07c-4b638b3bf2c2"
    },
    {
      "cell_type": "code",
      "execution_count": null,
      "metadata": {
        "id": "17079462-5b92-4fc7-8542-f99428694e08"
      },
      "outputs": [],
      "source": [
        "df.loc[[0, 1, 2], ['Pedestrians', 'hour']]"
      ],
      "id": "17079462-5b92-4fc7-8542-f99428694e08"
    },
    {
      "cell_type": "markdown",
      "metadata": {
        "id": "ae41fee9-1f60-4ff0-9a76-a642323545c5"
      },
      "source": [
        "With respect to the dimension of the return values\n",
        "\n",
        "-   when we pass an array for both row index and column index, the return value will be a data frame (or, after `.to_numpy()`, a 2D array)\n",
        "-   when we pass a single value for either the row index or column index, and an array for the other index, the return value will be a data series (or, after `.to_numpy()`, a 1d array)\n",
        "-   when we pass a single value for both the row index and column index, the return value is just a single value, e.g. an integer or a string"
      ],
      "id": "ae41fee9-1f60-4ff0-9a76-a642323545c5"
    },
    {
      "cell_type": "code",
      "execution_count": null,
      "metadata": {
        "id": "d244d506-c0f3-4c90-8088-81b3e7e9106c"
      },
      "outputs": [],
      "source": [
        "# data frame with one value\n",
        "df.loc[[0], ['Pedestrians']]\n",
        "#df.loc[[0], ['Pedestrians']].info()"
      ],
      "id": "d244d506-c0f3-4c90-8088-81b3e7e9106c"
    },
    {
      "cell_type": "code",
      "execution_count": null,
      "metadata": {
        "id": "df5d8905-fe96-4d76-a64d-dff9153ddde4"
      },
      "outputs": [],
      "source": [
        "# data series with one value\n",
        "df.loc[0, ['Pedestrians']]\n",
        "#df.loc[0, ['Pedestrians']].info()"
      ],
      "id": "df5d8905-fe96-4d76-a64d-dff9153ddde4"
    },
    {
      "cell_type": "code",
      "execution_count": null,
      "metadata": {
        "id": "e4cc802d-513f-4d1e-8c6c-e5e9cb379e83"
      },
      "outputs": [],
      "source": [
        "# also data series with one value\n",
        "df.loc[[0], 'Pedestrians']\n",
        "#df.loc[[0], 'Pedestrians'].info()"
      ],
      "id": "e4cc802d-513f-4d1e-8c6c-e5e9cb379e83"
    },
    {
      "cell_type": "code",
      "execution_count": null,
      "metadata": {
        "id": "dcb90b6a-b45c-4925-9f9d-e65b361319cd"
      },
      "outputs": [],
      "source": [
        "# one value returned as an integer\n",
        "df.loc[0, 'Pedestrians']"
      ],
      "id": "dcb90b6a-b45c-4925-9f9d-e65b361319cd"
    },
    {
      "cell_type": "markdown",
      "metadata": {
        "id": "f3dcdd33-172c-4b38-8d93-1f9c535143bd"
      },
      "source": [
        "As with `numpy` array slicing and indexing, we can also use `:` to mean “all” (rows or columns, depending on which dimension it is passed in), and things like `:2` or `100:` or `10:15`, with `.loc[]`:"
      ],
      "id": "f3dcdd33-172c-4b38-8d93-1f9c535143bd"
    },
    {
      "cell_type": "code",
      "execution_count": null,
      "metadata": {
        "id": "6cbe2e09-b1a8-4a19-8d75-11943d8cb72c"
      },
      "outputs": [],
      "source": [
        "df.loc[[0, 1, 2], :]"
      ],
      "id": "6cbe2e09-b1a8-4a19-8d75-11943d8cb72c"
    },
    {
      "cell_type": "code",
      "execution_count": null,
      "metadata": {
        "id": "df2dcac9-0cd9-4596-8f37-69e67d4fb093"
      },
      "outputs": [],
      "source": [
        "df.loc[:, ['Pedestrians', 'hour']]"
      ],
      "id": "df2dcac9-0cd9-4596-8f37-69e67d4fb093"
    },
    {
      "cell_type": "code",
      "execution_count": null,
      "metadata": {
        "id": "e2d52a24-7386-4644-8847-10f0b0fe0dfb"
      },
      "outputs": [],
      "source": [
        "df.loc[:2, ['Pedestrians', 'hour']]"
      ],
      "id": "e2d52a24-7386-4644-8847-10f0b0fe0dfb"
    },
    {
      "cell_type": "code",
      "execution_count": null,
      "metadata": {
        "id": "998bde0c-beb8-4cf3-be0d-df1167d5b1d9"
      },
      "outputs": [],
      "source": [
        "df.loc[100:, ['Pedestrians', 'hour']]"
      ],
      "id": "998bde0c-beb8-4cf3-be0d-df1167d5b1d9"
    },
    {
      "cell_type": "code",
      "execution_count": null,
      "metadata": {
        "id": "15ab06b4-7313-4da7-8a2e-7f258209b0be"
      },
      "outputs": [],
      "source": [
        "df.loc[10:15, ['Pedestrians', 'hour']]"
      ],
      "id": "15ab06b4-7313-4da7-8a2e-7f258209b0be"
    },
    {
      "cell_type": "markdown",
      "metadata": {
        "id": "3f932500-461a-449e-9e87-867c727408cb"
      },
      "source": [
        "`.loc[]` can also accept an array of Boolean indices! For example:"
      ],
      "id": "3f932500-461a-449e-9e87-867c727408cb"
    },
    {
      "cell_type": "code",
      "execution_count": null,
      "metadata": {
        "id": "30d39409-8980-4ded-a9f8-984118d9fda6"
      },
      "outputs": [],
      "source": [
        "# all samples recorded at 5AM\n",
        "df.loc[df.hour==5]"
      ],
      "id": "30d39409-8980-4ded-a9f8-984118d9fda6"
    },
    {
      "cell_type": "code",
      "execution_count": null,
      "metadata": {
        "id": "a7529882-e447-43b8-b82b-d591a3cfa96e"
      },
      "outputs": [],
      "source": [
        "# all samples recorded at 5AM or 6AM\n",
        "df.loc[(df.hour==5) | (df.hour==6)]"
      ],
      "id": "a7529882-e447-43b8-b82b-d591a3cfa96e"
    },
    {
      "cell_type": "code",
      "execution_count": null,
      "metadata": {
        "id": "154b4ecf-d381-46b4-b56b-69610a7b5934"
      },
      "outputs": [],
      "source": [
        "# all samples from January or February where there was some precipitation\n",
        "df.loc[(df.month <= 2) & (df.precipitation > 0)]"
      ],
      "id": "154b4ecf-d381-46b4-b56b-69610a7b5934"
    },
    {
      "cell_type": "markdown",
      "metadata": {
        "id": "1dcb4039-83f9-4cc9-9320-7b0d01ef55b1"
      },
      "source": [
        "These basic techniques - including a good understanding of the dimension of return values - will come in handy whenever you are working with data in `pandas`."
      ],
      "id": "1dcb4039-83f9-4cc9-9320-7b0d01ef55b1"
    },
    {
      "cell_type": "markdown",
      "metadata": {
        "id": "3169fb5e-8139-452f-90e3-688317b8af15"
      },
      "source": [
        "### Inspect (and possibly clean/filter) the data\n",
        "\n",
        "Now we are ready to inspect the data.\n",
        "\n",
        "Some examples of the things we’ll look for include:\n",
        "\n",
        "-   Are there missing values? There may be rows *in* the data where some or all fields are missing (which can be denoted as None, NaN, or even 0 or -1 - which can be misleading when 0 or -1 are also valid values for that field.) There may also be rows *not in* the data, that we expect *should be* in the data.\n",
        "-   For numeric fields: Is the min and max of each field consistent with our expectation? Is the median consistent with our expectation?\n",
        "-   For non-numeric fields: Are the number of unique values in each field consistent with our expectations? Are the values of the factor levels (where these can reasonably be assessed) described consistently throughout the data?\n",
        "-   Are the relationships *between* variables consistent with our expectations? (We can evaluate this visually, and also by looking at summary statistics.)\n",
        "-   If the data is a time series, is the trend of each variable over time consistent with our expectations?\n",
        "\n",
        "For many of these “sanity checks”, we will need some *domain knowledge*. It’s hard to have reasonable expectations about the values in the data if you do not understand the topic that the data relates to."
      ],
      "id": "3169fb5e-8139-452f-90e3-688317b8af15"
    },
    {
      "cell_type": "markdown",
      "metadata": {
        "id": "460fd303-f0d4-4e31-9de7-08e9995dac44"
      },
      "source": [
        "> **Note**: Ordinarily, if we plan to train a machine learning model, this is the stage at which we would divide the data into a training set (used for all data exploration, pre-processing, model fitting, and model selection tasks) and a test set (used only for evaluation). We are not actually going to train any machine learning model with this data, though, so we can proceed with our exploratory data analysis on the entire dataset."
      ],
      "id": "460fd303-f0d4-4e31-9de7-08e9995dac44"
    },
    {
      "cell_type": "markdown",
      "metadata": {
        "id": "512168d1-b724-4ccd-99fc-022103e62651"
      },
      "source": [
        "#### Check whether data is complete"
      ],
      "id": "512168d1-b724-4ccd-99fc-022103e62651"
    },
    {
      "cell_type": "markdown",
      "metadata": {
        "id": "85afcd9a-6128-4034-b9a2-3ed6986f7870"
      },
      "source": [
        "Let us start by checking whether the data is complete. First, we’ll check whether there are any rows in the data where some or all fields are missing.\n",
        "\n",
        "We can see the number of missing values in each column by summing up all the instances where the `isnull` function returns a True value:"
      ],
      "id": "85afcd9a-6128-4034-b9a2-3ed6986f7870"
    },
    {
      "cell_type": "code",
      "execution_count": null,
      "metadata": {
        "id": "3670397e-00c9-480c-acfb-4d26c34582d5"
      },
      "outputs": [],
      "source": [
        "df.isnull().sum()"
      ],
      "id": "3670397e-00c9-480c-acfb-4d26c34582d5"
    },
    {
      "cell_type": "markdown",
      "metadata": {
        "id": "4b5d8bc5-8aa3-4876-a7ab-c5a5db6386d2"
      },
      "source": [
        "(Note that this only tells us about missing values that are explicitly denoted as such - for example, explicit `NaN` values. If a missing value is coded as something else - like a 0 or -1 - we wouldn’t know unless we noticed an unusually high frequency of 0 or -1 values.)"
      ],
      "id": "4b5d8bc5-8aa3-4876-a7ab-c5a5db6386d2"
    },
    {
      "cell_type": "markdown",
      "metadata": {
        "id": "06e4c111-c5b8-43e2-9768-634ba7d6a670"
      },
      "source": [
        "We notice that the majority of rows are missing a value in the `events` field, which is used to mark dates that are holidays or other special events. This is reasonable, since most dates do not have any remarkable events.\n",
        "\n",
        "Let’s look at the rows that *do* have a value in the `events` field. To filter a dataframe, we’ll use the `.loc[]` operator. This accepts either an index (for example, we can do `df.loc[0]` to see the first record in the dataframe), an array of indices (for example, `df.loc[[0,1,2]]`), or an array of boolean values the length of the entire dataframe. That’s what we’ll use here."
      ],
      "id": "06e4c111-c5b8-43e2-9768-634ba7d6a670"
    },
    {
      "cell_type": "code",
      "execution_count": null,
      "metadata": {
        "id": "19586e0d-d181-4df8-8248-59f88f4b9828"
      },
      "outputs": [],
      "source": [
        "df.loc[df['events'].notnull()]"
      ],
      "id": "19586e0d-d181-4df8-8248-59f88f4b9828"
    },
    {
      "cell_type": "markdown",
      "metadata": {
        "id": "d342d4e6-6145-408f-89f2-03296553f87d"
      },
      "source": [
        "We also notice a small number of rows missing weather information. It’s not clear why these are missing. Let’s take a closer look at some of those rows, by *filtering* the dataframe to only rows that meet a specific condition - in this case, that the `temperature` field is missing."
      ],
      "id": "d342d4e6-6145-408f-89f2-03296553f87d"
    },
    {
      "cell_type": "code",
      "execution_count": null,
      "metadata": {
        "id": "56799386-82e8-4df5-9b08-30e1c83c8190"
      },
      "outputs": [],
      "source": [
        "df.loc[df.temperature.isnull()]"
      ],
      "id": "56799386-82e8-4df5-9b08-30e1c83c8190"
    },
    {
      "cell_type": "markdown",
      "metadata": {
        "id": "b3962ec9-a5e7-4504-b03f-0dbd7caaa7cd"
      },
      "source": [
        "We can see that for these particular instances, all of the weather information is missing. There’s no obvious reason or pattern. We’ll deal with these soon, when we try to clean/filter the data."
      ],
      "id": "b3962ec9-a5e7-4504-b03f-0dbd7caaa7cd"
    },
    {
      "cell_type": "markdown",
      "metadata": {
        "id": "5b013dba-2d7c-4abc-b8ec-e46f4cecfe68"
      },
      "source": [
        "Before we do that, though, let’s check for the *other* kind of missing data: rows that are missing completely, that we expect *should* be present.\n",
        "\n",
        "In this example, the data is a time series, and we expect that there is exactly one row of data for every single hour over the time period in which this data was collected."
      ],
      "id": "5b013dba-2d7c-4abc-b8ec-e46f4cecfe68"
    },
    {
      "cell_type": "markdown",
      "metadata": {
        "id": "55965f7c-0e35-46b1-851d-e7144b404aa0"
      },
      "source": [
        "Let’s see if the data is complete, or if there are gaps in time.\n",
        "\n",
        "First, we will use [`pd.date_range`](https://pandas.pydata.org/pandas-docs/stable/reference/api/pandas.date_range.html) to get the list of hour intervals that we expect to find in the dataset. Then, we will find the difference between this list and the actual list of hour intervals in the dataset - these are missing intervals."
      ],
      "id": "55965f7c-0e35-46b1-851d-e7144b404aa0"
    },
    {
      "cell_type": "code",
      "execution_count": null,
      "metadata": {
        "id": "2f7bb8bc-2ae5-4759-9379-4ce8df585567"
      },
      "outputs": [],
      "source": [
        "# get beginning and end of date range\n",
        "min_dt = df.hour_beginning.min()\n",
        "max_dt = df.hour_beginning.max()\n",
        "print(min_dt)\n",
        "print(max_dt)"
      ],
      "id": "2f7bb8bc-2ae5-4759-9379-4ce8df585567"
    },
    {
      "cell_type": "code",
      "execution_count": null,
      "metadata": {
        "id": "442fa8e5-f60e-49a4-b521-b635487a9c98"
      },
      "outputs": [],
      "source": [
        "expected_range = pd.date_range(start = min_dt, end = max_dt, freq='H' )\n",
        "expected_range"
      ],
      "id": "442fa8e5-f60e-49a4-b521-b635487a9c98"
    },
    {
      "cell_type": "code",
      "execution_count": null,
      "metadata": {
        "id": "2352c879-9890-4110-95f6-5da981b260f7"
      },
      "outputs": [],
      "source": [
        "# then identify the missing hours\n",
        "missing_hours = expected_range.difference(df['hour_beginning'])\n",
        "print(missing_hours)"
      ],
      "id": "2352c879-9890-4110-95f6-5da981b260f7"
    },
    {
      "cell_type": "markdown",
      "metadata": {
        "id": "90fc6552-19e9-442a-8863-1aad5607eb07"
      },
      "source": [
        "We had the expected number of rows (the output of `shape` matched the description of the data on the NYC Data website), but the data seems to be missing samples from August 2018 through December 2018, which is worth keeping in mind if we decide to use it:"
      ],
      "id": "90fc6552-19e9-442a-8863-1aad5607eb07"
    },
    {
      "cell_type": "code",
      "execution_count": null,
      "metadata": {
        "id": "74fca6c7-51e7-4850-9353-3c34973bbd15"
      },
      "outputs": [],
      "source": [
        "pd.unique(missing_hours.date)"
      ],
      "id": "74fca6c7-51e7-4850-9353-3c34973bbd15"
    },
    {
      "cell_type": "markdown",
      "metadata": {
        "id": "f6db6ad8-af18-4df2-b0ac-c696c29f53bd"
      },
      "source": [
        "Let’s also check if any hour appears more than once in the data. We can use `pandas`’s `value_counts` function to find out how many times each unique value appears in the data:"
      ],
      "id": "f6db6ad8-af18-4df2-b0ac-c696c29f53bd"
    },
    {
      "cell_type": "code",
      "execution_count": null,
      "metadata": {
        "id": "dab4c9b1-59ae-4f90-8f1a-0da1d397dc6a"
      },
      "outputs": [],
      "source": [
        "df['hour_beginning'].value_counts()"
      ],
      "id": "dab4c9b1-59ae-4f90-8f1a-0da1d397dc6a"
    },
    {
      "cell_type": "markdown",
      "metadata": {
        "id": "875d3f95-34c7-4e8f-bd17-63ef3d66229e"
      },
      "source": [
        "It looks like at least one hour appears twice in the data, which is unexpected! Let’s use filtering again to find out all of the instances where that occurs:"
      ],
      "id": "875d3f95-34c7-4e8f-bd17-63ef3d66229e"
    },
    {
      "cell_type": "code",
      "execution_count": null,
      "metadata": {
        "id": "63a6edd7-4ea5-4fbf-b2dd-2228627ca382"
      },
      "outputs": [],
      "source": [
        "hour_counts = df['hour_beginning'].value_counts()\n",
        "hour_counts.loc[hour_counts > 1]"
      ],
      "id": "63a6edd7-4ea5-4fbf-b2dd-2228627ca382"
    },
    {
      "cell_type": "markdown",
      "metadata": {
        "id": "3793cced-e615-4cda-be72-3bb760a7ebc3"
      },
      "source": [
        "It seems to happen exactly once. Let’s filter the dataframe to find the rows corresponding to the duplicate day.\n",
        "\n",
        "Here’s a useful clue - we can see that this hour appears twice because the clock is shifted for Daylight Savings time. (It’s not clear why there is no duplicate hour for that same event in 2017. Perhaps only one of those hours is recorded.)"
      ],
      "id": "3793cced-e615-4cda-be72-3bb760a7ebc3"
    },
    {
      "cell_type": "code",
      "execution_count": null,
      "metadata": {
        "id": "39f9581d-ceb2-4f40-8804-94b60c5e07a9"
      },
      "outputs": [],
      "source": [
        "df.loc[df['hour_beginning']==\"2019-11-03 01:00:00\"]"
      ],
      "id": "39f9581d-ceb2-4f40-8804-94b60c5e07a9"
    },
    {
      "cell_type": "markdown",
      "metadata": {
        "id": "624d5e60-7ff2-4175-9519-c7f34e8703ec"
      },
      "source": [
        "#### Handle missing values"
      ],
      "id": "624d5e60-7ff2-4175-9519-c7f34e8703ec"
    },
    {
      "cell_type": "markdown",
      "metadata": {
        "id": "eec6480d-547b-4a47-a34f-56880824325e"
      },
      "source": [
        "Now that we have evaluated the “completeness” of our data, we have to decide what to do about missing values.\n",
        "\n",
        "Some machine learning models cannot tolerate data with missing values. Depending on what *type* of data is missing and *why* it is missing, we can\n",
        "\n",
        "-   drop rows with missing values from the dataset\n",
        "-   fill in (“impute”) the missing values with some value: a 0, the mode of that column, the median of that column, or forward/back fill data from the nearest row that is not missing"
      ],
      "id": "eec6480d-547b-4a47-a34f-56880824325e"
    },
    {
      "cell_type": "markdown",
      "metadata": {
        "id": "d9f8bb46-2dfc-4725-b37a-d7ea6cd64558"
      },
      "source": [
        "For this data, let’s try the forward/back fill method. This makes some sense because the data has a logical order in time, and the missing value - weather - changes relatively slowly with respect to time. We can expect that the weather at any given hour is probably similar to the weather in the previous (or next) hour.\n",
        "\n",
        "For this to work, we’ll first have to sort the data by time. (Note that the data was not sorted originally.)"
      ],
      "id": "d9f8bb46-2dfc-4725-b37a-d7ea6cd64558"
    },
    {
      "cell_type": "code",
      "execution_count": null,
      "metadata": {
        "id": "dc04a55e-3a54-4977-95a9-0775aff4769a"
      },
      "outputs": [],
      "source": [
        "df = df.sort_values(by='hour_beginning')\n",
        "df.head()"
      ],
      "id": "dc04a55e-3a54-4977-95a9-0775aff4769a"
    },
    {
      "cell_type": "markdown",
      "metadata": {
        "id": "69faec9a-10b3-42fa-b99d-9fc689bab57b"
      },
      "source": [
        "We can also “reset” the index now, so that if we ask for `df.loc[0]` we’ll get the first row in time, and so on."
      ],
      "id": "69faec9a-10b3-42fa-b99d-9fc689bab57b"
    },
    {
      "cell_type": "code",
      "execution_count": null,
      "metadata": {
        "id": "be2e3939-1579-4001-9df2-040b61fe82b3"
      },
      "outputs": [],
      "source": [
        "df.reset_index(drop=True, inplace=True)\n",
        "df.head()"
      ],
      "id": "be2e3939-1579-4001-9df2-040b61fe82b3"
    },
    {
      "cell_type": "markdown",
      "metadata": {
        "id": "4fdcce04-ca41-4687-b9cf-b5c776da675a"
      },
      "source": [
        "Now we can fill in missing data using the `fillna` function ([reference](https://pandas.pydata.org/pandas-docs/stable/reference/api/pandas.DataFrame.fillna.html)). We will fill the missing weather data using the “forward fill” method, which caries the last valid observation forward to fill in NAs."
      ],
      "id": "4fdcce04-ca41-4687-b9cf-b5c776da675a"
    },
    {
      "cell_type": "code",
      "execution_count": null,
      "metadata": {
        "id": "441bbec3-0021-4ed2-96d3-68e9e89ca044"
      },
      "outputs": [],
      "source": [
        "df['temperature'] = df['temperature'].fillna(method=\"ffill\")\n",
        "df['precipitation'] = df['precipitation'].fillna(method=\"ffill\")\n",
        "df['weather_summary'] = df['weather_summary'].fillna(method=\"ffill\")\n"
      ],
      "id": "441bbec3-0021-4ed2-96d3-68e9e89ca044"
    },
    {
      "cell_type": "markdown",
      "metadata": {
        "id": "c749d88b-898e-4387-9115-d2ddd1e42661"
      },
      "source": [
        "Having imputed missing vaules in the weather-related columns, we can count the NAs again and find that there are only missing values in the `events` column."
      ],
      "id": "c749d88b-898e-4387-9115-d2ddd1e42661"
    },
    {
      "cell_type": "code",
      "execution_count": null,
      "metadata": {
        "id": "26859256-e849-4b97-bc65-59810bebc863"
      },
      "outputs": [],
      "source": [
        "df.isnull().sum()"
      ],
      "id": "26859256-e849-4b97-bc65-59810bebc863"
    },
    {
      "cell_type": "markdown",
      "metadata": {
        "id": "86a09cf9-51d6-4cf8-9af9-8359fb2c1664"
      },
      "source": [
        "#### Validating expectations"
      ],
      "id": "86a09cf9-51d6-4cf8-9af9-8359fb2c1664"
    },
    {
      "cell_type": "markdown",
      "metadata": {
        "id": "ee758c82-e9a9-4a0c-9fe4-d0e44c6c9cd5"
      },
      "source": [
        "Now that we have some idea of the completeness of the data, let’s look at whether the data values are consistent with our expectations.\n",
        "\n",
        "To start, let’s look at summary statistics. The “five number summary” - extremes (min and max), median, and quartiles -can help us gain a better understanding of numeric fields in the data, and see whether they have reasonable values. We can use the `describe` function in `pandas` to compute this summary."
      ],
      "id": "ee758c82-e9a9-4a0c-9fe4-d0e44c6c9cd5"
    },
    {
      "cell_type": "code",
      "execution_count": null,
      "metadata": {
        "id": "c4922bba-9686-453d-83c8-5f0e2b237bf2"
      },
      "outputs": [],
      "source": [
        "df.describe()"
      ],
      "id": "c4922bba-9686-453d-83c8-5f0e2b237bf2"
    },
    {
      "cell_type": "markdown",
      "metadata": {
        "id": "05fcbaf4-25c2-4498-aa3c-73b5625af5b8"
      },
      "source": [
        "We can only compute those summary statistics for numerical variables. For categorical variables, we can use `value_counts()` to get frequency of each value.\n",
        "\n",
        "For example, let’s see how often each `weather` condition occurs, and whether it is reasonable for NYC:"
      ],
      "id": "05fcbaf4-25c2-4498-aa3c-73b5625af5b8"
    },
    {
      "cell_type": "code",
      "execution_count": null,
      "metadata": {
        "id": "edbf6a42-633c-4169-8863-12e7923a6097"
      },
      "outputs": [],
      "source": [
        "df.weather_summary.value_counts()"
      ],
      "id": "edbf6a42-633c-4169-8863-12e7923a6097"
    },
    {
      "cell_type": "markdown",
      "metadata": {
        "id": "805bacec-279b-4904-a03f-a15133779aaa"
      },
      "source": [
        "It’s also useful to verify expected relationships.\n",
        "\n",
        "For example, we expect to see precipitation when the weather is rainy. We can use `groupby` in `pandas` to capture the effect between a categorical variable (`weather_summary`) and a numerical one, `precipitation`:"
      ],
      "id": "805bacec-279b-4904-a03f-a15133779aaa"
    },
    {
      "cell_type": "code",
      "execution_count": null,
      "metadata": {
        "id": "8a6a7ecf-7959-4d74-91ac-e9811840ca45"
      },
      "outputs": [],
      "source": [
        "df.groupby('weather_summary')['precipitation'].describe()"
      ],
      "id": "8a6a7ecf-7959-4d74-91ac-e9811840ca45"
    },
    {
      "cell_type": "markdown",
      "metadata": {
        "id": "63c2f712-28eb-4f6d-8ad6-14490206be15"
      },
      "source": [
        "Make special note of the `count` column, which shows us the prevalence of different weather conditions in this dataset. There are some weather conditions for which we have very few examples."
      ],
      "id": "63c2f712-28eb-4f6d-8ad6-14490206be15"
    },
    {
      "cell_type": "markdown",
      "metadata": {
        "id": "d16a0667-2fca-4a3b-a82f-9aed7d8c469d"
      },
      "source": [
        "Similarly, we can validate our expectation of hotter weather in the summer months:"
      ],
      "id": "d16a0667-2fca-4a3b-a82f-9aed7d8c469d"
    },
    {
      "cell_type": "code",
      "execution_count": null,
      "metadata": {
        "id": "89eb76d2-3e2f-45a7-bde8-fc4848e25a7f"
      },
      "outputs": [],
      "source": [
        "df.groupby('month')['temperature'].describe()"
      ],
      "id": "89eb76d2-3e2f-45a7-bde8-fc4848e25a7f"
    },
    {
      "cell_type": "markdown",
      "metadata": {
        "id": "8151acac-f432-4e60-a7c0-e05303552fa3"
      },
      "source": [
        "as well as during the middle of the day:"
      ],
      "id": "8151acac-f432-4e60-a7c0-e05303552fa3"
    },
    {
      "cell_type": "code",
      "execution_count": null,
      "metadata": {
        "id": "219a24e4-de92-45eb-b047-5a07152f9d09"
      },
      "outputs": [],
      "source": [
        "df.groupby('hour')['temperature'].describe()"
      ],
      "id": "219a24e4-de92-45eb-b047-5a07152f9d09"
    },
    {
      "cell_type": "markdown",
      "metadata": {
        "id": "923faabe-04c8-4b72-8564-0eab66048f14"
      },
      "source": [
        "#### Create a pairplot"
      ],
      "id": "923faabe-04c8-4b72-8564-0eab66048f14"
    },
    {
      "cell_type": "markdown",
      "metadata": {
        "id": "0d788256-be4f-4ae0-b83a-3af8ea9da77e"
      },
      "source": [
        "For tabular data with multiple numeric features, it is often useful to create a *pairplot*. A pairplot shows pairwise relationships between all numerical variables. It is a useful way to identify variables that have a relationship."
      ],
      "id": "0d788256-be4f-4ae0-b83a-3af8ea9da77e"
    },
    {
      "cell_type": "markdown",
      "metadata": {
        "id": "97211521-86d5-4fbe-bd58-271ac3058545"
      },
      "source": [
        "We can create a “default” pairplot with"
      ],
      "id": "97211521-86d5-4fbe-bd58-271ac3058545"
    },
    {
      "cell_type": "code",
      "execution_count": null,
      "metadata": {
        "id": "efd95471-d12c-48e2-9c54-d6a6ed3b8f2f"
      },
      "outputs": [],
      "source": [
        "sns.pairplot(df)"
      ],
      "id": "efd95471-d12c-48e2-9c54-d6a6ed3b8f2f"
    },
    {
      "cell_type": "markdown",
      "metadata": {
        "id": "df80d9c3-01b6-4a1e-9602-89094d40d98c"
      },
      "source": [
        "Here, each pane shows one numerical variable on the x-axis and another numerical variable on the y-axis, so that we can see if a relationship exists between them. The panes along the diagonal shows the empirical distribution of values for each feature in this data."
      ],
      "id": "df80d9c3-01b6-4a1e-9602-89094d40d98c"
    },
    {
      "cell_type": "markdown",
      "metadata": {
        "id": "748e8e26-8f5f-40a5-aff9-8c79123606f4"
      },
      "source": [
        "But, it is difficult to see anything useful because there is so much going on in this plot. We can improve things somewhat by:\n",
        "\n",
        "-   specifying only the variables we want to include, and exluding variables that don’t contain useful information, such as `lat` and `long`, and\n",
        "-   making the points on the plot smaller and partially transparent, to help with the overplotting.\n",
        "\n",
        "We’ll also change the histograms on the diagonal, which show the frequency of values for each variable, into a density plot which shows the same information in a more useful format."
      ],
      "id": "748e8e26-8f5f-40a5-aff9-8c79123606f4"
    },
    {
      "cell_type": "code",
      "execution_count": null,
      "metadata": {
        "id": "d7a6d9c4-a41f-4ebe-b734-1709a39877ec"
      },
      "outputs": [],
      "source": [
        "sns.pairplot(df,\n",
        "             vars=['Pedestrians', 'temperature', 'precipitation', 'hour', 'month'],\n",
        "             diag_kind = 'kde',\n",
        "             plot_kws={'alpha':0.5, 'size': 0.1})"
      ],
      "id": "d7a6d9c4-a41f-4ebe-b734-1709a39877ec"
    },
    {
      "cell_type": "markdown",
      "metadata": {
        "id": "1ebc2e50-1a78-467e-b64a-13ea3910ef40"
      },
      "source": [
        "This plot validates the relationship between `temperature` and `hour`, and between `temperature` and `month`. However, we can also use this plot to identify useful features - features that appear to be related to the `target` variable."
      ],
      "id": "1ebc2e50-1a78-467e-b64a-13ea3910ef40"
    },
    {
      "cell_type": "markdown",
      "metadata": {
        "id": "02f1e8a0-6bd7-4250-8d0e-6e3835b250da"
      },
      "source": [
        "### Explore relationships and identify target variable and features"
      ],
      "id": "02f1e8a0-6bd7-4250-8d0e-6e3835b250da"
    },
    {
      "cell_type": "markdown",
      "metadata": {
        "id": "d0067485-c8b1-44de-961f-e7d1b3277a93"
      },
      "source": [
        "Finally, since our goal is to train a machine learning model, we want to identify:\n",
        "\n",
        "-   an appropriate target variable - something on which to train our model. (Either a direct target variable, or a proxy.)\n",
        "-   features that are predictive - if there is any noticeable relationship between the target variable and any other variable, this is likely to be a useful feature.\n",
        "-   features that are correlated with one another - if two features are highly correlated, this presents some difficulty to certain types of models, so we’ll want to know about it."
      ],
      "id": "d0067485-c8b1-44de-961f-e7d1b3277a93"
    },
    {
      "cell_type": "markdown",
      "metadata": {
        "id": "92750e2f-2f2c-44ac-a73b-3447d822c798"
      },
      "source": [
        "The `Pedestrians` variable is the obvious target variable for this learning problem: it’s exactly the quantity we want to predict."
      ],
      "id": "92750e2f-2f2c-44ac-a73b-3447d822c798"
    },
    {
      "cell_type": "markdown",
      "metadata": {
        "id": "283ab8ea-d6c8-4e01-b911-622cb7f89bcd"
      },
      "source": [
        "To identify potential predictive features among the numeric variables in the data, we can use the pairplot. Look at the row of the pairplot in which `Pedestrians` is on the vertical axis, and each of the other variables in turn is on the horizontal axis. Which of these seem to show a relationship? (Note: the relationship does not necessarily need to be a linear relationship.)"
      ],
      "id": "283ab8ea-d6c8-4e01-b911-622cb7f89bcd"
    },
    {
      "cell_type": "markdown",
      "metadata": {
        "id": "5c4e000a-e9ef-44a4-a40b-119cef7bcf1f"
      },
      "source": [
        "We will also want to evaluate the categorical variables. For example, to look for a relationship between day of the week and pedestrian volume, we can group by `day_name`, then call the `describe` function on the `Pedestrians` column:"
      ],
      "id": "5c4e000a-e9ef-44a4-a40b-119cef7bcf1f"
    },
    {
      "cell_type": "code",
      "execution_count": null,
      "metadata": {
        "id": "a24e1e58-eb4e-42c4-8b64-a09aaea51ce2"
      },
      "outputs": [],
      "source": [
        "df.groupby('day_name')['Pedestrians'].describe()"
      ],
      "id": "a24e1e58-eb4e-42c4-8b64-a09aaea51ce2"
    },
    {
      "cell_type": "markdown",
      "metadata": {
        "id": "50cc4a80-2110-4307-8fd7-d541101fcda4"
      },
      "source": [
        "Similarly, we can see the effect of weather:"
      ],
      "id": "50cc4a80-2110-4307-8fd7-d541101fcda4"
    },
    {
      "cell_type": "code",
      "execution_count": null,
      "metadata": {
        "id": "d15ecf6e-557c-4df0-97d7-0a507289fa82"
      },
      "outputs": [],
      "source": [
        "df.groupby('weather_summary')['Pedestrians'].describe()"
      ],
      "id": "d15ecf6e-557c-4df0-97d7-0a507289fa82"
    },
    {
      "cell_type": "markdown",
      "metadata": {
        "id": "1bc693ea-2c86-497a-a8de-c99c7df6c18b"
      },
      "source": [
        "And the effect of various holidays:"
      ],
      "id": "1bc693ea-2c86-497a-a8de-c99c7df6c18b"
    },
    {
      "cell_type": "code",
      "execution_count": null,
      "metadata": {
        "id": "13480414-fd97-4328-ae11-6c8cba0f84bb"
      },
      "outputs": [],
      "source": [
        "df.groupby('events')['Pedestrians'].describe()"
      ],
      "id": "13480414-fd97-4328-ae11-6c8cba0f84bb"
    },
    {
      "cell_type": "markdown",
      "metadata": {
        "id": "74d6f558-5382-46db-ae19-23c563f19218"
      },
      "source": [
        "Now armed with information about these relationships, we can identify good candidate features for a machine learning model."
      ],
      "id": "74d6f558-5382-46db-ae19-23c563f19218"
    }
  ],
  "nbformat": 4,
  "nbformat_minor": 5,
  "metadata": {
    "colab": {
      "provenance": [],
      "toc_visible": true
    }
  }
}