{
  "cells": [
    {
      "cell_type": "markdown",
      "metadata": {
        "id": "529c0b12-f047-44b3-8f44-a6863b5a7c86"
      },
      "source": [
        "# Bias/variance and model selection in depth\n",
        "\n",
        "*Fraida Fund*"
      ],
      "id": "529c0b12-f047-44b3-8f44-a6863b5a7c86"
    },
    {
      "cell_type": "markdown",
      "metadata": {
        "id": "0acfae24-a288-40a9-941d-0ea87ff49adb"
      },
      "source": [
        "#### Attribution\n",
        "\n",
        "Parts of this notebook borrow from, or are inspired by, the following sources:\n",
        "\n",
        "-   The Introduction section is based on [Hyperparameters and Model Validation](https://jakevdp.github.io/PythonDataScienceHandbook/05.03-hyperparameters-and-model-validation.html), in the Python Data Science Handbook by Jake VanderPlas\n",
        "-   The section on polynomial models is based on [the model order selection demo notebook](https://colab.research.google.com/github/sdrangan/introml/blob/master/unit04_model_sel/demo_polyfit.ipynb) by Prof. Sundeep Rangan, and some of the text in that section is copied from that notebook.\n",
        "-   The section on uninformative features is based on [Cross Validation: The Right and Wrong Way](http://nbviewer.ipython.org/urls/raw.github.com/cs109/content/master/lec_10_cross_val.ipynb) from [Harvard CS109 Data Science](https://github.com/cs109/content)\n",
        "-   The simulation plots are based on the `scikit-learn` example [Single estimator versus bagging: bias-variance decomposition](https://scikit-learn.org/stable/auto_examples/ensemble/plot_bias_variance.html#sphx-glr-auto-examples-ensemble-plot-bias-variance-py)"
      ],
      "id": "0acfae24-a288-40a9-941d-0ea87ff49adb"
    },
    {
      "cell_type": "markdown",
      "metadata": {
        "id": "bf994018-cceb-4d26-a4ff-c6cc3421853b"
      },
      "source": [
        "## Introduction\n",
        "\n",
        "As a distinguished machine learning expert, you are hired as a consultant to solve a difficult problem for a client. You apply the best <sup>\\[1\\]</sup> machine learning model you know, and present the results to the client. The response?\n",
        "\n",
        "> Not good enough! We expect much better performance.\n",
        "\n",
        "As a machine learning expert, what should you do to improve your results?\n",
        "\n",
        "-   Find and correct a problem with the data (garbage in, garbage out!)\n",
        "-   Find and correct a problem with the model implementation/training\n",
        "-   Use a more complicated model (more flexible)\n",
        "-   Use a less complicated model (less flexible)\n",
        "-   Get more training samples\n",
        "-   Get more data to add features to each sample - for example, you could join two related datasets to get more potentially predictive features\n",
        "-   Add additional features using transformed versions of the features you already have\n",
        "\n",
        "Each of these possible solutions has the potential to improve results, or to have no effect. In some cases, they can actually make the performance even worse.\n",
        "\n",
        "How do you know which one to try?\n",
        "\n",
        "<small>\\[1\\] There is actually no “best” machine learning model in general - various models will perform better on different problems.</small>"
      ],
      "id": "bf994018-cceb-4d26-a4ff-c6cc3421853b"
    },
    {
      "cell_type": "markdown",
      "metadata": {
        "id": "c8c3fc44-2b9c-4fd5-9aee-fce3aad65139"
      },
      "source": [
        "Your first instinct may be to try all of these potential solutions, and see which one improves performance. But that could be very expensive -\n",
        "\n",
        "-   Your time costs \\$ (you are getting paid for consulting on this problem!)\n",
        "-   You may need to use metered computing resources to train the model, which costs \\$\n",
        "-   Collecting data, especially labeled data, often costs \\$\n",
        "-   Your client is losing \\$ due to using a sub-optimal model in production while waiting for you to improve it"
      ],
      "id": "c8c3fc44-2b9c-4fd5-9aee-fce3aad65139"
    },
    {
      "cell_type": "markdown",
      "metadata": {
        "id": "789b5e8a-b4c2-4aac-9957-df48d474cf2f"
      },
      "source": [
        "As a machine learning expert, your knowledge of the theoretical basics of machine learning, and your ability to *connect that knowledge* to practical solutions for real problems, should prepare you for this moment."
      ],
      "id": "789b5e8a-b4c2-4aac-9957-df48d474cf2f"
    },
    {
      "cell_type": "markdown",
      "metadata": {
        "id": "776202c3-546f-4e2a-8c30-bb1a65f695eb"
      },
      "source": [
        "Our previous work in this course has prepared us to evaluate some of these “next steps” to see whether they would be appropriate.\n",
        "\n",
        "**Find and correct a problem with the data (garbage in, garbage out!)**:\n",
        "\n",
        "-   We practiced using exploratory data analysis as a first step toward identifying problems or wrong assumptions related to the data.\n",
        "-   We also saw that when using models with good *interpretability*, we can inspect the fitted model as another step toward finding problems with the data. For example, in a case study on linear regression, we saw that the coefficients for certain features were high when common sense dictated that those features should not have any effect on the target variable.\n",
        "\n",
        "**Find and correct a problem with the model implementation/training**:\n",
        "\n",
        "-   We looked at, and will continue to look at, some problems that can arise with model training, for example learning rate too high/too low in gradient descent.\n",
        "\n",
        "**Get more data to add features to each sample**:\n",
        "\n",
        "-   We practiced inspecting the residuals. Plots of residuals against $y$ or against each of the features are a good way to see a 2D view of the results of the model, even when the dimension of the data is large.\n",
        "-   When there appears to be a pattern in the residuals, this indicates something “learnable” in the data that isn’t captured by our model.\n",
        "    -   For example, suppose we find that the residuals appear to be a function of $y$, but not of any feature $x$. This suggests that $y$ is partly a function of a “missing” feature, which we should try to identify (using domain knowledge) and add to our model.\n",
        "    -   Similarly, if the residuals appear to be a function of a feature $x$ that is in our data, but we are not using to train the model, we should absolutely add that feature to our model.\n",
        "-   Another thing to look for in a residuals plot: “outliers” or extreme values. These can sometimes indicate problems with the data,such as samples affected by measurement or recording error. (In this case, you might want to exclude these samples, and also figure out how to exclude them in production.) These can also indicate that the data is drawn from two distributions, where samples from the minority distribution appear as outliers. (In this case, you wouldn’t want to exclude these samples. You would want to add a feature to help you distinguish between the two populations, and then re-train your model with the added feature.)\n",
        "\n",
        "**Add additional features using transformed versions of the features you already have**:\n",
        "\n",
        "-   If the plot of residuals against a feature $x$ appears to have a non-linear pattern, we should consider adding a transformed version of that feature to our model."
      ],
      "id": "776202c3-546f-4e2a-8c30-bb1a65f695eb"
    },
    {
      "cell_type": "markdown",
      "metadata": {
        "id": "e96587d5-0ef0-47bf-9389-78ba945b5e30"
      },
      "source": [
        "It’s a good start. But to help us identify whether some of the other steps would be helpful, we need to understand *bias* and *variance*. Then, we’ll be on our way towards understanding when to:\n",
        "\n",
        "-   Use a more complicated model (more flexible)\n",
        "-   Use a less complicated model (less flexible)\n",
        "-   Get more training samples"
      ],
      "id": "e96587d5-0ef0-47bf-9389-78ba945b5e30"
    },
    {
      "cell_type": "code",
      "execution_count": null,
      "metadata": {
        "id": "27fac0dc-2d43-48c3-86e0-3349858083fb"
      },
      "outputs": [],
      "source": [
        "from sklearn import datasets\n",
        "from sklearn import metrics\n",
        "from sklearn import preprocessing\n",
        "from sklearn.linear_model import LinearRegression\n",
        "from sklearn.model_selection import train_test_split, KFold\n",
        "\n",
        "\n",
        "import numpy as np\n",
        "import matplotlib.pyplot as plt\n",
        "import pandas as pd\n",
        "import seaborn as sns\n",
        "sns.set()\n",
        "\n",
        "from IPython.core.interactiveshell import InteractiveShell\n",
        "InteractiveShell.ast_node_interactivity = \"all\""
      ],
      "id": "27fac0dc-2d43-48c3-86e0-3349858083fb"
    },
    {
      "cell_type": "markdown",
      "metadata": {
        "id": "b7f8eb41-8112-4d6c-823d-0897d91e5e78"
      },
      "source": [
        "## Overfitting and underfitting: Polynomial data"
      ],
      "id": "b7f8eb41-8112-4d6c-823d-0897d91e5e78"
    },
    {
      "cell_type": "markdown",
      "metadata": {
        "id": "44dad513-e19b-4365-a881-cd697e491120"
      },
      "source": [
        "To illustrate the concept of overfitting, we will consider data generated by a polynomial of order $d$, with some added Gaussian noise:\n",
        "\n",
        "$$y_i = w_0 + w_1 x_{1} + \\cdots + w_d x_{i}^d + \\epsilon $$\n",
        "\n",
        "where $\\epsilon_i \\sim N(0, \\sigma^2)$.\n",
        "\n",
        "We can fit this model using a linear basis function regression."
      ],
      "id": "44dad513-e19b-4365-a881-cd697e491120"
    },
    {
      "cell_type": "markdown",
      "metadata": {
        "id": "fd1926e8-2524-40e9-8f16-fee4890b6cf5"
      },
      "source": [
        "Here is a function that generates polynomial data:"
      ],
      "id": "fd1926e8-2524-40e9-8f16-fee4890b6cf5"
    },
    {
      "cell_type": "code",
      "execution_count": null,
      "metadata": {
        "id": "c0539d5a-0b41-49e5-bc9d-dea67b8d89ec"
      },
      "outputs": [],
      "source": [
        "def generate_polynomial_regression_data(n=100, xrange=[-1,1], coefs=[1,0.5,0,2], sigma=0.5):\n",
        "  x = np.random.uniform(xrange[0], xrange[1], n)\n",
        "  y = np.polynomial.polynomial.polyval(x,coefs) + sigma * np.random.randn(n)\n",
        "\n",
        "  return x.reshape(-1,1), y"
      ],
      "id": "c0539d5a-0b41-49e5-bc9d-dea67b8d89ec"
    },
    {
      "cell_type": "code",
      "execution_count": null,
      "metadata": {
        "id": "8731abc3-e308-4b43-a3c0-67b4b63c0811"
      },
      "outputs": [],
      "source": [
        "coefs=[1,0.5,0,2]\n",
        "n_samples = 100\n",
        "sigma = 0.5"
      ],
      "id": "8731abc3-e308-4b43-a3c0-67b4b63c0811"
    },
    {
      "cell_type": "code",
      "execution_count": null,
      "metadata": {
        "id": "595d52a7-76e1-4357-a099-fe8e25939e63"
      },
      "outputs": [],
      "source": [
        "x_test, y_test = generate_polynomial_regression_data(n=n_samples, coefs=coefs, sigma=sigma)\n",
        "x_train, y_train = generate_polynomial_regression_data(n=n_samples, coefs=coefs, sigma=sigma)"
      ],
      "id": "595d52a7-76e1-4357-a099-fe8e25939e63"
    },
    {
      "cell_type": "code",
      "execution_count": null,
      "metadata": {
        "id": "cd062080-98b3-4764-bc00-fab2a29f4e0d"
      },
      "outputs": [],
      "source": [
        "sns.scatterplot(x=x_test.squeeze(), y=y_test, label='Test points');\n",
        "plt.xlabel(\"x\");\n",
        "plt.ylabel(\"y\");\n",
        "plt.title(\"Data generated from $1 + 0.5x + 2x^3$\");"
      ],
      "id": "cd062080-98b3-4764-bc00-fab2a29f4e0d"
    },
    {
      "cell_type": "markdown",
      "metadata": {
        "id": "57606889-e0c2-4c33-be46-945eed99c6ef"
      },
      "source": [
        "In this case, since the data is generated synthetically, we know the “true” function that generated the data. We can plot this function along with the data:"
      ],
      "id": "57606889-e0c2-4c33-be46-945eed99c6ef"
    },
    {
      "cell_type": "code",
      "execution_count": null,
      "metadata": {
        "id": "273e60fb-23d7-46e4-a419-cd34fc030b3a"
      },
      "outputs": [],
      "source": [
        "sns.scatterplot(x=x_test.squeeze(), y=y_test, label='Test points');\n",
        "plt.xlabel(\"x\");\n",
        "plt.ylabel(\"y\");\n",
        "plt.title(\"Data generated from $1 + 0.5x + 2x^3$\");\n",
        "\n",
        "# Plot true function\n",
        "x_p = np.linspace(-1,1,100);\n",
        "y_p = np.polynomial.polynomial.polyval(x_p, coefs);\n",
        "sns.lineplot(x=x_p,y=y_p, color='red', label='True function');"
      ],
      "id": "273e60fb-23d7-46e4-a419-cd34fc030b3a"
    },
    {
      "cell_type": "markdown",
      "metadata": {
        "id": "d4a6781e-7155-431e-a99f-d3dbbe23e2f1"
      },
      "source": [
        "We can use “transformed” features to fit a linear regression to this data."
      ],
      "id": "d4a6781e-7155-431e-a99f-d3dbbe23e2f1"
    },
    {
      "cell_type": "code",
      "execution_count": null,
      "metadata": {
        "id": "7be5d728-8599-408b-ae34-aaa2afc223bb"
      },
      "outputs": [],
      "source": [
        "x_train_d3 = np.column_stack( [x_train**d for d in np.arange(1,4)])\n",
        "print(x_train_d3.shape)"
      ],
      "id": "7be5d728-8599-408b-ae34-aaa2afc223bb"
    },
    {
      "cell_type": "code",
      "execution_count": null,
      "metadata": {
        "id": "8bb5f6cf-aaa8-4296-8ceb-47b09a81dd0f"
      },
      "outputs": [],
      "source": [
        "reg_poly3 = LinearRegression().fit(x_train_d3,y_train)"
      ],
      "id": "8bb5f6cf-aaa8-4296-8ceb-47b09a81dd0f"
    },
    {
      "cell_type": "code",
      "execution_count": null,
      "metadata": {
        "id": "94bc42b4-3b5a-4084-958b-33e99fab83ff"
      },
      "outputs": [],
      "source": [
        "print(reg_poly3.intercept_)\n",
        "print(reg_poly3.coef_)"
      ],
      "id": "94bc42b4-3b5a-4084-958b-33e99fab83ff"
    },
    {
      "cell_type": "markdown",
      "metadata": {
        "id": "0d1aafab-024c-49d7-b11d-57e53b61b587"
      },
      "source": [
        "That’s pretty good."
      ],
      "id": "0d1aafab-024c-49d7-b11d-57e53b61b587"
    },
    {
      "cell_type": "code",
      "execution_count": null,
      "metadata": {
        "id": "8e2bbfa3-8891-4f15-ab0c-01e98e70bc9d"
      },
      "outputs": [],
      "source": [
        "sns.scatterplot(x=x_test.squeeze(), y=y_test, label='Test points');\n",
        "plt.xlabel(\"x\");\n",
        "plt.ylabel(\"y\");\n",
        "plt.title(\"Data generated from $1 + 0.5x + 2x^3$\");\n",
        "\n",
        "# Plot true function\n",
        "x_p = np.linspace(-1,1,100);\n",
        "y_p = np.polynomial.polynomial.polyval(x_p, coefs);\n",
        "sns.lineplot(x=x_p,y=y_p, color='red', label='True function');\n",
        "\n",
        "# Plot fitted function\n",
        "x_p = np.linspace(-1,1,100);\n",
        "x_p_d3 = np.column_stack( [x_p.reshape(-1,1)**d for d in np.arange(1,4)])\n",
        "y_p = reg_poly3.predict(x_p_d3);\n",
        "sns.lineplot(x=x_p, y=y_p, color='green', label='Model with d=3');"
      ],
      "id": "8e2bbfa3-8891-4f15-ab0c-01e98e70bc9d"
    },
    {
      "cell_type": "markdown",
      "metadata": {
        "id": "21def51b-883e-43c3-8c2f-9717c0c198d3"
      },
      "source": [
        "We can compute the error on the training set and on the test set:"
      ],
      "id": "21def51b-883e-43c3-8c2f-9717c0c198d3"
    },
    {
      "cell_type": "code",
      "execution_count": null,
      "metadata": {
        "id": "b0a7a6d6-6df5-4707-bb0b-f27f8572fd68"
      },
      "outputs": [],
      "source": [
        "mse_poly3_train = metrics.mean_squared_error(y_train, reg_poly3.predict(x_train_d3))\n",
        "mse_poly3_train"
      ],
      "id": "b0a7a6d6-6df5-4707-bb0b-f27f8572fd68"
    },
    {
      "cell_type": "code",
      "execution_count": null,
      "metadata": {
        "id": "b85d7ecf-72b7-4254-9b24-2a1e2cb9b6d7"
      },
      "outputs": [],
      "source": [
        "x_test_d3 = np.column_stack( [x_test**d for d in np.arange(1,4)])\n",
        "mse_poly3 = metrics.mean_squared_error(y_test, reg_poly3.predict(x_test_d3))\n",
        "mse_poly3"
      ],
      "id": "b85d7ecf-72b7-4254-9b24-2a1e2cb9b6d7"
    },
    {
      "cell_type": "markdown",
      "metadata": {
        "id": "5222d467-e8e0-406b-8932-d053831f5552"
      },
      "source": [
        "In general, though, we don’t know the “true” model order."
      ],
      "id": "5222d467-e8e0-406b-8932-d053831f5552"
    },
    {
      "cell_type": "markdown",
      "metadata": {
        "id": "f26fee9d-05e5-4e5a-afca-f3b78186c474"
      },
      "source": [
        "Suppose we try fitting a linear regression (using transformed features) to this model, starting with $d=1$."
      ],
      "id": "f26fee9d-05e5-4e5a-afca-f3b78186c474"
    },
    {
      "cell_type": "code",
      "execution_count": null,
      "metadata": {
        "id": "dbd858a9-41c9-4c15-b2a3-de4f084cbfde"
      },
      "outputs": [],
      "source": [
        "reg_poly1 = LinearRegression().fit(x_train,y_train)"
      ],
      "id": "dbd858a9-41c9-4c15-b2a3-de4f084cbfde"
    },
    {
      "cell_type": "code",
      "execution_count": null,
      "metadata": {
        "id": "ae8f02a2-1035-4e7a-af84-369ce3db1df0"
      },
      "outputs": [],
      "source": [
        "sns.scatterplot(x=x_test.squeeze(), y=y_test, label='Test points');\n",
        "plt.xlabel(\"x\");\n",
        "plt.ylabel(\"y\");\n",
        "plt.title(\"Data generated from $1 + 0.5x + 2x^3$\");\n",
        "\n",
        "# Plot true function\n",
        "x_p = np.linspace(-1,1,100);\n",
        "y_p = np.polynomial.polynomial.polyval(x_p, coefs);\n",
        "sns.lineplot(x=x_p,y=y_p, color='red', label='True function');\n",
        "\n",
        "# Plot fitted function\n",
        "x_p = np.linspace(-1,1,100);\n",
        "y_p = reg_poly1.predict(x_p.reshape(-1,1));\n",
        "sns.lineplot(x=x_p, y=y_p, color='green', label='Model with d=1');"
      ],
      "id": "ae8f02a2-1035-4e7a-af84-369ce3db1df0"
    },
    {
      "cell_type": "markdown",
      "metadata": {
        "id": "d55b2e7b-de18-4d1c-83ae-4120a411ed5d"
      },
      "source": [
        "This is an example of *under-fitting* or *under-modeling*. The estimated function is not able to capture the complexity of the relation between $x$ and $y$ - it is not flexible enough.\n",
        "\n",
        "We can compute the error of this model, too:"
      ],
      "id": "d55b2e7b-de18-4d1c-83ae-4120a411ed5d"
    },
    {
      "cell_type": "code",
      "execution_count": null,
      "metadata": {
        "id": "776b4d44-575a-4b7b-ba9b-ded77dd34225"
      },
      "outputs": [],
      "source": [
        "mse_poly1_train = metrics.mean_squared_error(y_train, reg_poly1.predict(x_train))\n",
        "mse_poly1_train"
      ],
      "id": "776b4d44-575a-4b7b-ba9b-ded77dd34225"
    },
    {
      "cell_type": "code",
      "execution_count": null,
      "metadata": {
        "id": "8d276b11-5690-4259-a369-761c4f7315b8"
      },
      "outputs": [],
      "source": [
        "mse_poly1 = metrics.mean_squared_error(y_test, reg_poly1.predict(x_test))\n",
        "mse_poly1"
      ],
      "id": "8d276b11-5690-4259-a369-761c4f7315b8"
    },
    {
      "cell_type": "markdown",
      "metadata": {
        "id": "3f436b74-68f8-4981-8308-a20b06b9da3f"
      },
      "source": [
        "It has higher error than the model with $d=3$, which is what we expected."
      ],
      "id": "3f436b74-68f8-4981-8308-a20b06b9da3f"
    },
    {
      "cell_type": "markdown",
      "metadata": {
        "id": "c0d7fbc4-1a71-469c-81ee-b66935a822a5"
      },
      "source": [
        "Now suppose that we tried a model order that was too high, say $d=10$."
      ],
      "id": "c0d7fbc4-1a71-469c-81ee-b66935a822a5"
    },
    {
      "cell_type": "code",
      "execution_count": null,
      "metadata": {
        "id": "55c449a6-18ac-4846-8fe9-ffe24b52233e"
      },
      "outputs": [],
      "source": [
        "x_train_d10 = np.column_stack( [x_train**d for d in np.arange(1,11)])\n",
        "print(x_train_d10.shape)"
      ],
      "id": "55c449a6-18ac-4846-8fe9-ffe24b52233e"
    },
    {
      "cell_type": "code",
      "execution_count": null,
      "metadata": {
        "id": "10433e54-dc34-4f54-9f51-4d908ffbb9fd"
      },
      "outputs": [],
      "source": [
        "reg_poly10 = LinearRegression().fit(x_train_d10,y_train)"
      ],
      "id": "10433e54-dc34-4f54-9f51-4d908ffbb9fd"
    },
    {
      "cell_type": "code",
      "execution_count": null,
      "metadata": {
        "id": "73b60fa7-bda0-4f26-b91a-c9e5155e4dbf"
      },
      "outputs": [],
      "source": [
        "sns.scatterplot(x=x_test.squeeze(), y=y_test, label='Test points');\n",
        "plt.xlabel(\"x\");\n",
        "plt.ylabel(\"y\");\n",
        "plt.title(\"Data generated from $1 + 0.5x + 2x^3$\");\n",
        "\n",
        "# Plot true function\n",
        "x_p = np.linspace(-1,1,100);\n",
        "y_p = np.polynomial.polynomial.polyval(x_p, coefs);\n",
        "sns.lineplot(x=x_p,y=y_p, color='red', label='True function');\n",
        "\n",
        "# Plot fitted function\n",
        "x_p = np.linspace(-1,1,100)\n",
        "x_p_d10 = np.column_stack( [x_p.reshape(-1,1)**d for d in np.arange(1,11)])\n",
        "y_p = reg_poly10.predict(x_p_d10);\n",
        "sns.lineplot(x=x_p, y=y_p, color='green', label='Model with d=10');"
      ],
      "id": "73b60fa7-bda0-4f26-b91a-c9e5155e4dbf"
    },
    {
      "cell_type": "markdown",
      "metadata": {
        "id": "cf0ccbc9-86cc-4d43-8021-d64c86a39318"
      },
      "source": [
        "The test error of this model is higher than the “true” model order, too. But, the training error is smaller!"
      ],
      "id": "cf0ccbc9-86cc-4d43-8021-d64c86a39318"
    },
    {
      "cell_type": "code",
      "execution_count": null,
      "metadata": {
        "id": "cadde57b-84eb-4cad-805c-4f2edf8c36d2"
      },
      "outputs": [],
      "source": [
        "mse_poly10_train = metrics.mean_squared_error(y_train, reg_poly10.predict(x_train_d10))\n",
        "mse_poly10_train"
      ],
      "id": "cadde57b-84eb-4cad-805c-4f2edf8c36d2"
    },
    {
      "cell_type": "code",
      "execution_count": null,
      "metadata": {
        "id": "d6db4a9c-25da-4fa7-8396-d8ea0f27467b"
      },
      "outputs": [],
      "source": [
        "x_test_d10 = np.column_stack( [x_test**d for d in np.arange(1,11)])\n",
        "mse_poly10 = metrics.mean_squared_error(y_test, reg_poly10.predict(x_test_d10))\n",
        "mse_poly10"
      ],
      "id": "d6db4a9c-25da-4fa7-8396-d8ea0f27467b"
    },
    {
      "cell_type": "markdown",
      "metadata": {
        "id": "39005eb0-478a-4607-97a1-745df664d247"
      },
      "source": [
        "This is called *over-fitting* or *over-modeling*. Because the model is very flexible, it is fitting the noise in the data and not the underlying relationship $y=t(x)$."
      ],
      "id": "39005eb0-478a-4607-97a1-745df664d247"
    },
    {
      "cell_type": "markdown",
      "metadata": {
        "id": "d4533dbe-7455-4017-8d83-d22c15d03ee5"
      },
      "source": [
        "When we compare the estimated function with the true function we can see the overfitting and underfitting clearly. But, in a real problem, we would not have access to the true function (otherwise, we wouldn’t need to be estimating it). The question then is if we can determine the correct model order from data.\n",
        "\n",
        "This problem is known as the *model order selection* problem."
      ],
      "id": "d4533dbe-7455-4017-8d83-d22c15d03ee5"
    },
    {
      "cell_type": "markdown",
      "metadata": {
        "id": "a1446635-d747-4da2-a5de-874f74752a69"
      },
      "source": [
        "One (bad) idea is for each model order to measure the MSE on the training data and select $d$ that minimizes the MSE. To do this, the code below loops over a model order `d = 1,2,...,14` and for each model order, fits a model and measures the MSE."
      ],
      "id": "a1446635-d747-4da2-a5de-874f74752a69"
    },
    {
      "cell_type": "code",
      "execution_count": null,
      "metadata": {
        "id": "5705372e-68a6-4964-9d85-67a8db9f8c64"
      },
      "outputs": [],
      "source": [
        "dtest_list = np.arange(1,20)\n",
        "mse_tr = np.zeros(len(dtest_list))\n",
        "mse_test = np.zeros(len(dtest_list))\n",
        "\n",
        "\n",
        "for didx, dtest in enumerate(dtest_list):\n",
        "\n",
        "    # get transformed features\n",
        "    x_train_dtest = np.column_stack( [x_train**d for d in np.arange(1,(dtest+1))])\n",
        "    x_test_dtest = np.column_stack( [x_test**d for d in np.arange(1,(dtest+1))])\n",
        "\n",
        "    # fit data\n",
        "    reg_dtest = LinearRegression().fit(x_train_dtest,y_train)\n",
        "\n",
        "    # measure MSE on training data\n",
        "    y_hat = reg_dtest.predict(x_train_dtest)\n",
        "    mse_tr[didx] = metrics.mean_squared_error(y_train, y_hat)\n",
        "\n",
        "    # measure MSE on test data\n",
        "    y_hat_test = reg_dtest.predict(x_test_dtest)\n",
        "    mse_test[didx] = metrics.mean_squared_error(y_test, y_hat_test)"
      ],
      "id": "5705372e-68a6-4964-9d85-67a8db9f8c64"
    },
    {
      "cell_type": "code",
      "execution_count": null,
      "metadata": {
        "id": "35903aac-0eb4-4983-a7dd-38f2673143f6"
      },
      "outputs": [],
      "source": [
        "sns.lineplot(x=dtest_list,y=mse_tr, marker=\"o\", label=\"Training\");\n",
        "sns.lineplot(x=dtest_list,y=mse_test, marker=\"o\", label=\"Test\");\n",
        "plt.xlabel('Model order');\n",
        "plt.ylabel('MSE');"
      ],
      "id": "35903aac-0eb4-4983-a7dd-38f2673143f6"
    },
    {
      "cell_type": "markdown",
      "metadata": {
        "id": "45215a1e-3ed5-41fb-9afb-2da73b93712b"
      },
      "source": [
        "As we increase $d$, the training MSE always decreases. So minimizing MSE on the training data leads to selecting a very high $d$ which in turn results in over-fitting.\n",
        "\n",
        "On the test data, we observe that the test MSE is high at first (due to high bias), then decreases, then increases again (due to high variance). The model with the smallest MSE on this particular test set may or may not be the model that best reflects the true relationship. (The performance on this test set is still subject to the random draw of samples in the test set!)"
      ],
      "id": "45215a1e-3ed5-41fb-9afb-2da73b93712b"
    },
    {
      "cell_type": "markdown",
      "metadata": {
        "id": "e147ba1a-c22e-4f29-b3f8-c5b3c1c2e977"
      },
      "source": [
        "## Overfitting and underfitting: uninformative features"
      ],
      "id": "e147ba1a-c22e-4f29-b3f8-c5b3c1c2e977"
    },
    {
      "cell_type": "markdown",
      "metadata": {
        "id": "7faa584b-6205-48af-9c8c-1e5b96d52506"
      },
      "source": [
        "Overfitting and underfitting can occur even with a “regular” linear regression on the original features."
      ],
      "id": "7faa584b-6205-48af-9c8c-1e5b96d52506"
    },
    {
      "cell_type": "markdown",
      "metadata": {
        "id": "0c5d4abb-ec70-430b-94cf-d51b0c4b70f7"
      },
      "source": [
        "In a previous lesson, we introduced a Python function that generates data using\n",
        "\n",
        "$$y_i = w_0 + w_1 x_{i,1} + \\ldots + w_d x_{i,d} + \\epsilon_i $$\n",
        "\n",
        "where $\\epsilon_i \\sim N(0, \\sigma^2)$."
      ],
      "id": "0c5d4abb-ec70-430b-94cf-d51b0c4b70f7"
    },
    {
      "cell_type": "markdown",
      "metadata": {
        "id": "5741d29d-ba7d-4c8d-8c7e-139d7306a975"
      },
      "source": [
        "Now, we will introduce a slight variation on this function: we will add the ability to include *uninformative* features. These features are not related to the target variable $y$."
      ],
      "id": "5741d29d-ba7d-4c8d-8c7e-139d7306a975"
    },
    {
      "cell_type": "code",
      "execution_count": null,
      "metadata": {
        "id": "a6cc41b0-5ee4-4165-9ff0-04c64f5c2c1b"
      },
      "outputs": [],
      "source": [
        "def generate_linear_regression_data(n=100, d=1, coef=[5], intercept=1, sigma=0, uninformative=0):\n",
        "  x = np.random.uniform(-1,1,size=(n,d-uninformative))\n",
        "  y = (np.dot(x, coef) + intercept).squeeze() + sigma * np.random.randn(n)\n",
        "  if uninformative:\n",
        "    x = np.column_stack((x, np.random.randn(n,uninformative)))\n",
        "\n",
        "  return x, y"
      ],
      "id": "a6cc41b0-5ee4-4165-9ff0-04c64f5c2c1b"
    },
    {
      "cell_type": "markdown",
      "metadata": {
        "id": "7476ebd1-93e8-4ec8-95db-7189fbb5c526"
      },
      "source": [
        "For example, let’s generate some data with 2 informative features (with some noise), and 2 uninformative features:"
      ],
      "id": "7476ebd1-93e8-4ec8-95db-7189fbb5c526"
    },
    {
      "cell_type": "code",
      "execution_count": null,
      "metadata": {
        "id": "5f3535c5-730a-4c9e-ae7c-bb72452c8a48"
      },
      "outputs": [],
      "source": [
        "x, y = generate_linear_regression_data(n=100, d=4, coef=[5,5], intercept=1, sigma=1, uninformative=2)"
      ],
      "id": "5f3535c5-730a-4c9e-ae7c-bb72452c8a48"
    },
    {
      "cell_type": "code",
      "execution_count": null,
      "metadata": {
        "id": "e9a68ead-d799-4d9e-9c69-fd4a3e31716f"
      },
      "outputs": [],
      "source": [
        "x.shape"
      ],
      "id": "e9a68ead-d799-4d9e-9c69-fd4a3e31716f"
    },
    {
      "cell_type": "code",
      "execution_count": null,
      "metadata": {
        "id": "75840b57-1f95-4103-99f7-f609898bbb62"
      },
      "outputs": [],
      "source": [
        "p = plt.figure(figsize=(10,10));\n",
        "for i in range(4):\n",
        "  p = plt.subplot(2,2,i+1);\n",
        "  p = plt.scatter(x[:,i],  y);\n",
        "  p = plt.xlabel(\"x\" + str(i+1));\n",
        "  p = plt.ylabel(\"y\");"
      ],
      "id": "75840b57-1f95-4103-99f7-f609898bbb62"
    },
    {
      "cell_type": "markdown",
      "metadata": {
        "id": "f18db49c-52cf-41b9-a8e5-0e49e42ba4da"
      },
      "source": [
        "Once we fit a linear regression model, it is apparent that $x_3$ and $x_4$ do not affect $y$ - the coefficients $w_3$ and $w_4$ are close to zero."
      ],
      "id": "f18db49c-52cf-41b9-a8e5-0e49e42ba4da"
    },
    {
      "cell_type": "code",
      "execution_count": null,
      "metadata": {
        "id": "f80677ff-c186-4bde-a050-d580606dc5d9"
      },
      "outputs": [],
      "source": [
        "reg_demo = LinearRegression().fit(x, y)\n",
        "print(\"Coefficient list: \", reg_demo.coef_)\n",
        "print(\"Intercept: \" , reg_demo.intercept_)"
      ],
      "id": "f80677ff-c186-4bde-a050-d580606dc5d9"
    },
    {
      "cell_type": "markdown",
      "metadata": {
        "id": "879ca37e-bac2-49cb-a829-fb8068506f99"
      },
      "source": [
        "What if we have many more uninformative features, though, and lots of noise relative to the true relationship?"
      ],
      "id": "879ca37e-bac2-49cb-a829-fb8068506f99"
    },
    {
      "cell_type": "code",
      "execution_count": null,
      "metadata": {
        "id": "6ca16c34-5525-4488-9397-593080e54d05"
      },
      "outputs": [],
      "source": [
        "n_samples = 100\n",
        "d = 95\n",
        "informative = 20\n",
        "coef = np.repeat(1,informative)\n",
        "sigma = 1\n",
        "intercept = 1"
      ],
      "id": "6ca16c34-5525-4488-9397-593080e54d05"
    },
    {
      "cell_type": "code",
      "execution_count": null,
      "metadata": {
        "id": "e83cc248-0ea5-47dc-8e84-e138a2b5e916"
      },
      "outputs": [],
      "source": [
        "x_train, y_train = generate_linear_regression_data(n=n_samples, d=d, coef=coef, intercept=intercept, sigma=sigma, uninformative=d-informative)\n",
        "x_test, y_test = generate_linear_regression_data(n=n_samples, d=d, coef=coef, intercept=intercept, sigma=sigma, uninformative=d-informative)"
      ],
      "id": "e83cc248-0ea5-47dc-8e84-e138a2b5e916"
    },
    {
      "cell_type": "code",
      "execution_count": null,
      "metadata": {
        "id": "53392e5c-915c-4f86-9a08-ed2882575d09"
      },
      "outputs": [],
      "source": [
        "reg_all = LinearRegression().fit(x_train, y_train)"
      ],
      "id": "53392e5c-915c-4f86-9a08-ed2882575d09"
    },
    {
      "cell_type": "markdown",
      "metadata": {
        "id": "8d15632b-1188-4bc6-9d22-f07df36bf198"
      },
      "source": [
        "The following plot shows the coefficient value for each feature:"
      ],
      "id": "8d15632b-1188-4bc6-9d22-f07df36bf198"
    },
    {
      "cell_type": "code",
      "execution_count": null,
      "metadata": {
        "id": "ba608097-4023-41d9-be32-887219cf3f77"
      },
      "outputs": [],
      "source": [
        "plt.figure(figsize=(20,5))\n",
        "plt.stem(np.arange(0, d),reg_all.coef_, bottom=0, use_line_collection=True);\n",
        "plt.xticks(np.arange(0, d, 1.0), rotation=90);"
      ],
      "id": "ba608097-4023-41d9-be32-887219cf3f77"
    },
    {
      "cell_type": "markdown",
      "metadata": {
        "id": "24f49cc7-86a7-423c-80da-75586f1498bb"
      },
      "source": [
        "We observe that the informative features don’t necessarily have coefficients with the largest magnitudes. The random “relationship” between an uninformative feature $x$ and $y$ appears, in some cases, as strong or stronger than the true relationship between an informative $x$ and $y$."
      ],
      "id": "24f49cc7-86a7-423c-80da-75586f1498bb"
    },
    {
      "cell_type": "markdown",
      "metadata": {
        "id": "835a28c7-7ffe-443f-a888-193f0f701cf6"
      },
      "source": [
        "If we compute R2 on the training set, everything looks great:"
      ],
      "id": "835a28c7-7ffe-443f-a888-193f0f701cf6"
    },
    {
      "cell_type": "code",
      "execution_count": null,
      "metadata": {
        "id": "91134465-a842-4bbd-98d2-38e0766c3508"
      },
      "outputs": [],
      "source": [
        "y_hat = reg_all.predict(x_train)"
      ],
      "id": "91134465-a842-4bbd-98d2-38e0766c3508"
    },
    {
      "cell_type": "code",
      "execution_count": null,
      "metadata": {
        "id": "c7e0ea15-3118-4c14-bf7e-8b8b93df1830"
      },
      "outputs": [],
      "source": [
        "metrics.r2_score(y_train, y_hat)"
      ],
      "id": "c7e0ea15-3118-4c14-bf7e-8b8b93df1830"
    },
    {
      "cell_type": "markdown",
      "metadata": {
        "id": "1956eb11-a9ee-41f9-9e48-0f40dbdbb1b0"
      },
      "source": [
        "R2 is great!"
      ],
      "id": "1956eb11-a9ee-41f9-9e48-0f40dbdbb1b0"
    },
    {
      "cell_type": "markdown",
      "metadata": {
        "id": "3498d2cc-75ff-4506-8c69-64147329bd85"
      },
      "source": [
        "But what happens if we try to use our model to predict $y$ for some new, unseen data, from the same distribution?"
      ],
      "id": "3498d2cc-75ff-4506-8c69-64147329bd85"
    },
    {
      "cell_type": "code",
      "execution_count": null,
      "metadata": {
        "id": "8e19c774-492c-461c-82fb-79bef098b5bf"
      },
      "outputs": [],
      "source": [
        "y_test_hat = reg_all.predict(x_test)\n",
        "metrics.r2_score(y_test, y_test_hat)"
      ],
      "id": "8e19c774-492c-461c-82fb-79bef098b5bf"
    },
    {
      "cell_type": "markdown",
      "metadata": {
        "id": "b928e85d-c58d-41cc-9619-6935ae19e43d"
      },
      "source": [
        "That’s not good at all! Due to severe *over-fitting*, the model performs much worse on the test set than it did on the training set."
      ],
      "id": "b928e85d-c58d-41cc-9619-6935ae19e43d"
    },
    {
      "cell_type": "markdown",
      "metadata": {
        "id": "d4be272f-27ce-4923-8561-3ad73c10bd82"
      },
      "source": [
        "Suppose that, to avoid overfitting, we decide to use only a subset of features. We don’t know a priori which features are the most informative. This problem is known as the *feature selection problem*.\n",
        "\n",
        "Perhaps we may decide to try adding one feature at a time to our model, in order, and measure the MSE.\n",
        "\n",
        "(Obviously, there are better ways to do feature selection! But for our demo, this will suffice.)"
      ],
      "id": "d4be272f-27ce-4923-8561-3ad73c10bd82"
    },
    {
      "cell_type": "code",
      "execution_count": null,
      "metadata": {
        "id": "fb717f45-7d8f-4b33-8bfd-9d1d5995fb82"
      },
      "outputs": [],
      "source": [
        "dtest_list = np.arange(1,d)\n",
        "r2_tr = np.zeros(len(dtest_list))\n",
        "r2_test = np.zeros(len(dtest_list))\n",
        "\n",
        "column_order = np.random.permutation(x_train.shape[1])\n",
        "x_train_shuffle = x_train[:, column_order]\n",
        "x_test_shuffle  = x_test[:, column_order]\n",
        "\n",
        "\n",
        "for didx, dtest in enumerate(dtest_list):\n",
        "\n",
        "    # get data with the right number of features\n",
        "    x_train_dtest = x_train_shuffle[:, :dtest]\n",
        "    x_test_dtest = x_test_shuffle[:, :dtest]\n",
        "\n",
        "    # fit data\n",
        "    reg_dtest = LinearRegression().fit(x_train_dtest,y_train)\n",
        "\n",
        "    # measure R2 on training data\n",
        "    y_hat = reg_dtest.predict(x_train_dtest)\n",
        "    r2_tr[didx] = metrics.r2_score(y_train, y_hat)\n",
        "\n",
        "    # measure R2 on test data\n",
        "    y_hat_test = reg_dtest.predict(x_test_dtest)\n",
        "    r2_test[didx] = metrics.r2_score(y_test, y_hat_test)"
      ],
      "id": "fb717f45-7d8f-4b33-8bfd-9d1d5995fb82"
    },
    {
      "cell_type": "code",
      "execution_count": null,
      "metadata": {
        "id": "178d8eb8-5300-494a-b642-2921fbea6290"
      },
      "outputs": [],
      "source": [
        "sns.lineplot(x=dtest_list,y=r2_tr, label=\"Training\");\n",
        "sns.lineplot(x=dtest_list,y=r2_test, label=\"Test\");\n",
        "plt.xlabel('Number of features in model');\n",
        "plt.ylabel('R2');"
      ],
      "id": "178d8eb8-5300-494a-b642-2921fbea6290"
    },
    {
      "cell_type": "markdown",
      "metadata": {
        "id": "c4d1ea55-4656-4494-b22f-dedd5e2b0d3e"
      },
      "source": [
        "As in the previous example, where the model performed better on the training set with higher $d$, we see again that adding complexity reduces the training error and increases R2 on the training data - but not on the test data."
      ],
      "id": "c4d1ea55-4656-4494-b22f-dedd5e2b0d3e"
    },
    {
      "cell_type": "markdown",
      "metadata": {
        "id": "8b38d975-da59-4dc5-9d4d-9717b6649c9e"
      },
      "source": [
        "## Bias and variance"
      ],
      "id": "8b38d975-da59-4dc5-9d4d-9717b6649c9e"
    },
    {
      "cell_type": "markdown",
      "metadata": {
        "id": "277cd422-9f1a-4331-9f83-06f3b81803fc"
      },
      "source": [
        "Recall that we are trying to estimate some value $y$, which is related to $x$ by some “true” function, $t(x)$.\n",
        "\n",
        "In general, $t(x)$ is not known to us. We do, however, have some “noisy” samples of $y$, generated from\n",
        "\n",
        "$$y = t(x) + \\epsilon$$\n",
        "\n",
        "where $\\epsilon \\sim N(0, \\sigma^2)$.\n",
        "\n",
        "We use these training samples to “learn” a function $f(x,w)$ parameterized by $w$ such that for samples in the training set,\n",
        "\n",
        "$$y \\approx f(x,w)$$\n",
        "\n",
        "Our ultimate goal, however, is to learn the function that will best approximate samples that we have not yet seen, but that have also been generated from\n",
        "\n",
        "$$y = t(x) + \\epsilon$$"
      ],
      "id": "277cd422-9f1a-4331-9f83-06f3b81803fc"
    },
    {
      "cell_type": "markdown",
      "metadata": {
        "id": "4ddac7ab-88f7-4707-a0de-d05d6722ef9f"
      },
      "source": [
        "What might go wrong?"
      ],
      "id": "4ddac7ab-88f7-4707-a0de-d05d6722ef9f"
    },
    {
      "cell_type": "markdown",
      "metadata": {
        "id": "a8b6aeed-3efc-4fd9-8bf4-bf273f38b3cb"
      },
      "source": [
        "### Bias\n",
        "\n",
        "We might try to learn a class of function that is simply not capable of expressing $t(x)$.\n",
        "\n",
        "We observed this in the polynomial example, when we tried learning\n",
        "\n",
        "$$t(x) = w_0 + w_1 x + w_2 x^2 + w_3 x^3$$\n",
        "\n",
        "using\n",
        "\n",
        "$$f(x,w) = w_0 + w_1 x$$\n",
        "\n",
        "(or any $d < 3$.)\n",
        "\n",
        "We also observed this in the example with many features, when we tried learning\n",
        "\n",
        "$$t(x) = w_0 + w_1 x_1 + \\ldots + w_{20} x_{20}$$\n",
        "\n",
        "using a smaller number of features, e.g.\n",
        "\n",
        "$$f(x,w) = w_0 + w_1 x_1 + \\ldots + w_{10} x_{10}$$"
      ],
      "id": "a8b6aeed-3efc-4fd9-8bf4-bf273f38b3cb"
    },
    {
      "cell_type": "markdown",
      "metadata": {
        "id": "c10043c7-d365-4c2b-868c-f8d39cc21e65"
      },
      "source": [
        "### Variance\n",
        "\n",
        "We might learn the right class of function, but due to the stochastic noise in the training samples, and the random draw of training samples, our parameter estimates are different from the “true” values.\n",
        "\n",
        "We observed this in the polynomial example, when we tried learning\n",
        "\n",
        "$$t(x) = w_0 + w_1 x + w_2 x^2 + w_3 x^3$$\n",
        "\n",
        "using\n",
        "\n",
        "$$f(x,w) = w_0 + w_1 x + \\ldots + w_d x^d$$\n",
        "\n",
        "with $d \\geq 3$. The more complex polynomial *is* capable of expressing $t(x)$ - if we would learn exactly the correct coefficients for $w_i, 0 \\leq i \\leq 3$ and $w_i = 0$ for $i > 3$. But, we had some error in the coefficient estimates, because our coefficient estimates are tuned to the noise in the training data. The more coefficients we learn, the more potential for error.\n",
        "\n",
        "We also observed this in the example with many features, when we tried learning\n",
        "\n",
        "$$t(x) = w_0 + w_1 x_1 + \\ldots + w_{20} x_{20}$$\n",
        "\n",
        "using\n",
        "\n",
        "$$f(x,w) = w_0 + w_1 x_1 + \\ldots + w_d x_d$$\n",
        "\n",
        "with $d \\geq 20$. Again, the model with extra uninformative features is *capable* of expressing $t(x)$ - if we would learn exactly the correct coefficients for $w_i, 0 \\leq i \\leq 20$ and $w_i = 0$ for $i > 20$. But, we had some error in the coefficient estimates, because our coefficient estimates are tuned to the noise in the training data. The more coefficients we learn, the more potential for error."
      ],
      "id": "c10043c7-d365-4c2b-868c-f8d39cc21e65"
    },
    {
      "cell_type": "markdown",
      "metadata": {
        "id": "4c82f61f-a61f-4616-8c7f-90f917f4f223"
      },
      "source": [
        "### Irreducible error\n",
        "\n",
        "Even if we learn exactly the right function, $f(x,w) = t(x)$, and we also learn the correct parameters, but still have error in our estimate of $y$ because of the stochastic “noise” in the data. We cannot “learn” $\\epsilon$, it is unpredictable."
      ],
      "id": "4c82f61f-a61f-4616-8c7f-90f917f4f223"
    },
    {
      "cell_type": "markdown",
      "metadata": {
        "id": "3fd9b537-4f93-4f90-82be-5842cd7586c2"
      },
      "source": [
        "### Decomposition of test MSE\n",
        "\n",
        "We know that the expected MSE on a new, unseen test point, can be decomposed into those three factors. Let us denote $E[f(x,w)]$ as $\\bar{f}(x,w)$, then\n",
        "\n",
        "$$\n",
        "\\begin{aligned}\n",
        "\\text{Test MSE} &= E [(y - \\hat{y})^2] \\\\\n",
        "&= E [(t(x) + \\epsilon - f(x,w))^2] \\\\\n",
        "&= E (\\epsilon)^2 + E [(t(x) - f(x,w))^2] \\\\\n",
        "&=  E (\\epsilon)^2 + E[t(x) - \\bar{f}(x,w)]^2 + E[(f(x,w) - \\bar{f}(x,w))^2] \\\\\n",
        "&= \\sigma^2 + \\text{Bias}^2 + \\text{Var}(f(x,w))\n",
        "\\end{aligned}\n",
        "$$\n",
        "\n",
        "where the expectation is over the draw of the training set and the noise."
      ],
      "id": "3fd9b537-4f93-4f90-82be-5842cd7586c2"
    },
    {
      "cell_type": "markdown",
      "metadata": {
        "id": "d80ddf63-5081-4a37-a1d5-accac5c421da"
      },
      "source": [
        "-   The $\\sigma^2$ term captures the random noise in the data, which cannot be “learned”\n",
        "-   The $E[t(x) - \\bar{f}(x,w)]^2$ term captures any systematic difference between the function learned by our model and the true function, as will occur when the model cannot express the true function.\n",
        "-   The $E[(f(x,w) - \\bar{f}(x,w))^2]$ term captures the difference between the coefficient estimate due to a particular random training set, and the average coefficient estimate - in other words, the variance of the prediction over many fitted instances."
      ],
      "id": "d80ddf63-5081-4a37-a1d5-accac5c421da"
    },
    {
      "cell_type": "markdown",
      "metadata": {
        "id": "aeee426d-8aa4-4c53-af36-03a99ac75a11"
      },
      "source": [
        "### Bias and variance for linear regression"
      ],
      "id": "aeee426d-8aa4-4c53-af36-03a99ac75a11"
    },
    {
      "cell_type": "markdown",
      "metadata": {
        "id": "9f465cf8-0890-4d4b-85ce-c5bd1102f63c"
      },
      "source": [
        "We shall state here the following results, without proof, for a linear regression trained using least squares, with $n$ samples and having $d$ parameters. We also assume that $n \\geq d$ and the data matrix is full rank."
      ],
      "id": "9f465cf8-0890-4d4b-85ce-c5bd1102f63c"
    },
    {
      "cell_type": "markdown",
      "metadata": {
        "id": "e3166ef0-e0a5-4185-882d-588a50a0021c"
      },
      "source": [
        "**Bias**: If there is no under-modeling, then on average, the estimate of $y$ is unbiased, i.e.\n",
        "\n",
        "$$\\text{Bias}(f(x,w)) = 0$$"
      ],
      "id": "e3166ef0-e0a5-4185-882d-588a50a0021c"
    },
    {
      "cell_type": "markdown",
      "metadata": {
        "id": "d9b1df20-5ce2-4e86-a5ea-9e7b3b989902"
      },
      "source": [
        "**Variance**: On average, the variance increases linearly with the number of parameters $d$ and inversely with the number of samples used for training $n$:\n",
        "\n",
        "$$\\text{Var}(f(x,w)) = \\frac{d}{n} \\sigma^2 $$\n",
        "\n",
        "where \\$ \\sigma^2\\$ is the stochastic noise variance."
      ],
      "id": "d9b1df20-5ce2-4e86-a5ea-9e7b3b989902"
    },
    {
      "cell_type": "markdown",
      "metadata": {
        "id": "b0fad551-f9d0-41d3-953b-1bb664b4635c"
      },
      "source": [
        "## Check your understanding with simulation"
      ],
      "id": "b0fad551-f9d0-41d3-953b-1bb664b4635c"
    },
    {
      "cell_type": "markdown",
      "metadata": {
        "id": "0f097d2c-dd1e-427f-a090-0c35a484c9ec"
      },
      "source": [
        "For each of the following pairs of regression models, answer:\n",
        "\n",
        "-   Which model in each pair will have greater expected variance of its estimate of $y$?\n",
        "-   Which model in each pair will have greater bias?\n",
        "\n",
        "(Assume that the two models in each pair are identical except for the differences that are specified.)\n",
        "\n",
        "Then, we’ll check our answer with a simulation experiment, in which we:\n",
        "\n",
        "-   Draw a test set from the distribution of the data\n",
        "-   Many times:\n",
        "    -   Draw a training set from the distribution of the data\n",
        "    -   Fit each model on the training set\n",
        "    -   Compute error on the test set\n",
        "\n",
        "**Note**: we can’t do this when applying machine learning to a real problem with real data! Why not?\n",
        "\n",
        "**Note**: this procedure won’t give us the *exact* bias and variance of the model that we could compute using the closed form expression - why not?"
      ],
      "id": "0f097d2c-dd1e-427f-a090-0c35a484c9ec"
    },
    {
      "cell_type": "markdown",
      "metadata": {
        "id": "353a5d15-89b2-4602-9865-5de1fdaa62bf"
      },
      "source": [
        "### Constant model vs mean"
      ],
      "id": "353a5d15-89b2-4602-9865-5de1fdaa62bf"
    },
    {
      "cell_type": "markdown",
      "metadata": {
        "id": "3ab28bd4-cd80-4f02-b3c2-2ceea4b422f2"
      },
      "source": [
        "Suppose that data is generated as\n",
        "\n",
        "$$y = 1 + \\epsilon$$\n",
        "\n",
        "where $\\epsilon \\sim N(0, \\sigma^2)$.\n",
        "\n",
        "We will consider two models:\n",
        "\n",
        "**Model A** is a constant model:\n",
        "\n",
        "$$\\hat{y} = 1$$\n",
        "\n",
        "**Model B** is the mean of the training samples.\n",
        "\n",
        "$$\\hat{y} = \\bar{y} = \\frac{1}{n} \\sum_{i=1}^n y_i $$"
      ],
      "id": "3ab28bd4-cd80-4f02-b3c2-2ceea4b422f2"
    },
    {
      "cell_type": "code",
      "execution_count": null,
      "metadata": {
        "id": "4b228bd1-a0fe-4600-96f4-3e1a51335a3d"
      },
      "outputs": [],
      "source": [
        "n_repeat = 1000\n",
        "n_test = 50\n",
        "n_train = 5\n",
        "sigma = 1"
      ],
      "id": "4b228bd1-a0fe-4600-96f4-3e1a51335a3d"
    },
    {
      "cell_type": "code",
      "execution_count": null,
      "metadata": {
        "id": "b7623b35-b458-46f0-89ec-e0766af0388b"
      },
      "outputs": [],
      "source": [
        "# generate test data once\n",
        "x_test = np.random.uniform(-1, 1, size=(n_test, 1))\n",
        "y_test = np.ones(n_test) + sigma*np.random.randn(n_test)\n",
        "y_test_no_noise = np.ones(n_test)"
      ],
      "id": "b7623b35-b458-46f0-89ec-e0766af0388b"
    },
    {
      "cell_type": "code",
      "execution_count": null,
      "metadata": {
        "id": "577b9dc0-8cba-4ac4-afb0-23b8e0e9e29a"
      },
      "outputs": [],
      "source": [
        "# prepare some matrices for storing simulation results\n",
        "y_predict = np.zeros((n_test, n_repeat, 2))\n",
        "\n",
        "y_test_err = np.zeros((n_test, n_repeat, 2))\n",
        "y_test_bias = np.zeros((n_test, 2))"
      ],
      "id": "577b9dc0-8cba-4ac4-afb0-23b8e0e9e29a"
    },
    {
      "cell_type": "code",
      "execution_count": null,
      "metadata": {
        "id": "7820a61a-5170-4b80-8f04-48bb6b41b56f"
      },
      "outputs": [],
      "source": [
        "# now simulate training the model many times, on different training data every time\n",
        "# and evaluate using the test data\n",
        "for i in range(n_repeat):\n",
        "\n",
        "  # train both models on newly generated training data\n",
        "  # note: we don't need X data since y is independent of X\n",
        "  y_train = np.ones(n_train) + sigma*np.random.randn(n_train)\n",
        "\n",
        "  # model A: predict constant always\n",
        "  y_predict[:, i, 0] = np.repeat(1, n_test)\n",
        "  # model B: predict mean of training samples\n",
        "  y_predict[:, i, 1] = np.mean(y_train)\n",
        "\n",
        "  # overall squared error is due to difference between f_t(x) + epsilon, model prediction f(x,w)\n",
        "  y_test_err[:, i, 0] = (y_test - y_predict[:, i, 0])**2\n",
        "  y_test_err[:, i, 1] = (y_test - y_predict[:, i, 1])**2"
      ],
      "id": "7820a61a-5170-4b80-8f04-48bb6b41b56f"
    },
    {
      "cell_type": "code",
      "execution_count": null,
      "metadata": {
        "id": "ac62fdb8-233f-4c59-a7b6-7de6eb42c14d"
      },
      "outputs": [],
      "source": [
        "# bias is due to difference between f_t(x) and mean of model prediction f(x,w)\n",
        "y_test_bias[:, 0] = (y_test_no_noise - y_predict[:, :, 0].mean(axis=1))**2\n",
        "y_test_bias[:, 1] = (y_test_no_noise - y_predict[:, :, 1].mean(axis=1))**2"
      ],
      "id": "ac62fdb8-233f-4c59-a7b6-7de6eb42c14d"
    },
    {
      "cell_type": "code",
      "execution_count": null,
      "metadata": {
        "id": "0fd815db-72be-4232-b58a-eadf3e75c349"
      },
      "outputs": [],
      "source": [
        "# irreducible error is due to the difference between f_t(x) and f_t(x) + epsilon\n",
        "y_test_noise_var = (y_test_no_noise - y_test)**2"
      ],
      "id": "0fd815db-72be-4232-b58a-eadf3e75c349"
    },
    {
      "cell_type": "code",
      "execution_count": null,
      "metadata": {
        "id": "af47d3f3-f3c8-49fb-b791-0251dbf08bec"
      },
      "outputs": [],
      "source": [
        "p = plt.figure(figsize=(10,10));\n",
        "\n",
        "models = ['Model A', 'Model B']\n",
        "\n",
        "for midx, model in enumerate(models):\n",
        "  p = plt.subplot(2, 2, midx+1);\n",
        "  for i in range(n_repeat):\n",
        "    p = sns.lineplot(x=x_test.squeeze(), y=y_predict[:, i, midx], alpha=0.05, color='orange');\n",
        "  p = sns.lineplot(x=x_test.squeeze(), y=y_predict[:, :, midx].mean(axis=1), color='red', label='Mean of models');\n",
        "  p = sns.scatterplot(x=x_test[0:50].squeeze(), y=y_test[0:50], label='Test data');\n",
        "  p = plt.xlabel('x');\n",
        "  p = plt.ylabel('y');\n",
        "  p = plt.title(model);\n",
        "  p = plt.ylim(y_test.min()*1.1, y_test.max()*1.1)\n",
        "\n",
        "  p = plt.subplot(2, 2, midx+3);\n",
        "  p = sns.lineplot(x=x_test.squeeze(), y=y_test_err[:, :, midx].mean(axis=1), color='red', alpha=0.5, label='Total squared error', markers=True);\n",
        "  p = sns.lineplot(x=x_test.squeeze(), y=y_test_bias[:, midx], color='cyan', alpha=0.5, label='Bias^2');\n",
        "  p = sns.lineplot(x=x_test.squeeze(), y=y_predict[:, :, midx].var(axis=1), color='green', alpha=0.5, label='Variance');\n",
        "  p = sns.lineplot(x=x_test.squeeze(), y=y_test_noise_var, color='purple', alpha=0.2, label='Irreducible error');\n",
        "  p = plt.xlabel('x');\n",
        "  p = plt.ylabel('Error');\n",
        "  p = plt.title(\"MSE: %f \\n Irreducible error: %f \\n Bias^2: %f \\n Variance: %f \" %\n",
        "                (y_test_err[:,:,midx].mean(axis=(0,1)),\n",
        "                 y_test_noise_var.mean(),\n",
        "                 (y_test_bias[:, midx]).mean(),\n",
        "                  y_predict[:, :, midx].var(axis=1).mean() ) )\n",
        "  p = plt.ylim(0, 1.1* y_test_err[:, :, :].mean(axis=(1)).max() )\n",
        "\n",
        "plt.subplots_adjust(hspace=0.5)"
      ],
      "id": "af47d3f3-f3c8-49fb-b791-0251dbf08bec"
    },
    {
      "cell_type": "markdown",
      "metadata": {
        "id": "1e7e3807-0484-48d6-b883-2011e20b6778"
      },
      "source": [
        "Question:\n",
        "\n",
        "-   Are the specific values of bias and variance consistent with our expectations?\n",
        "-   What would happen if \\$\\sigma = 0 \\$?\n",
        "-   What would happen if we used $\\hat{y} = 2$ for the constant model?\n",
        "-   What would happen if we would use $\\hat{y} = \\bar{y} + 2$ instead of $\\bar{y}$ for the mean model?"
      ],
      "id": "1e7e3807-0484-48d6-b883-2011e20b6778"
    },
    {
      "cell_type": "markdown",
      "metadata": {
        "id": "dbbff0cf-f28c-4a9a-9928-f8a6b003ac24"
      },
      "source": [
        "### Mean vs. linear model with d=1"
      ],
      "id": "dbbff0cf-f28c-4a9a-9928-f8a6b003ac24"
    },
    {
      "cell_type": "markdown",
      "metadata": {
        "id": "66dc1eed-7446-431f-ae2e-248e267d84e2"
      },
      "source": [
        "Suppose that data is generated as\n",
        "\n",
        "$$y = 1 + \\epsilon$$\n",
        "\n",
        "where $\\epsilon \\sim N(0, \\sigma^2)$.\n",
        "\n",
        "We will consider two models:\n",
        "\n",
        "**Model A** is a linear model with $d=1$ (using an uninformative feature, since $y$ is not a function of any $x$), trained using least squares:\n",
        "\n",
        "$$\\hat{y} = w_0 + w_1 x$$\n",
        "\n",
        "**Model B** is the mean of the training samples.\n",
        "\n",
        "$$\\hat{y} = \\bar{y} = \\frac{1}{n} \\sum_{i=1}^n y_i $$"
      ],
      "id": "66dc1eed-7446-431f-ae2e-248e267d84e2"
    },
    {
      "cell_type": "code",
      "execution_count": null,
      "metadata": {
        "id": "ad5593c2-80f7-488f-80ad-34fb84715cd3"
      },
      "outputs": [],
      "source": [
        "n_repeat = 1000\n",
        "n_test = 50\n",
        "n_train = 5\n",
        "sigma = 1"
      ],
      "id": "ad5593c2-80f7-488f-80ad-34fb84715cd3"
    },
    {
      "cell_type": "code",
      "execution_count": null,
      "metadata": {
        "id": "c9a97f5c-153f-4e7d-807e-3e5ea1c6db3d"
      },
      "outputs": [],
      "source": [
        "# generate test data once\n",
        "x_test = np.random.uniform(-1, 1, size=(n_test, 1))\n",
        "y_test = np.ones(n_test) + sigma*np.random.randn(n_test)\n",
        "y_test_no_noise = np.ones(n_test)"
      ],
      "id": "c9a97f5c-153f-4e7d-807e-3e5ea1c6db3d"
    },
    {
      "cell_type": "code",
      "execution_count": null,
      "metadata": {
        "id": "677a4faf-cf90-47a9-99f2-f674cdc2f365"
      },
      "outputs": [],
      "source": [
        "# prepare some matrices for storing simulation results\n",
        "y_predict = np.zeros((n_test, n_repeat, 2))\n",
        "\n",
        "y_test_err = np.zeros((n_test, n_repeat, 2))\n",
        "y_test_bias = np.zeros((n_test, 2))"
      ],
      "id": "677a4faf-cf90-47a9-99f2-f674cdc2f365"
    },
    {
      "cell_type": "code",
      "execution_count": null,
      "metadata": {
        "id": "44e92709-1dab-4c48-90e4-45ebcddaabbf"
      },
      "outputs": [],
      "source": [
        "# now simulate training the model many times, on different training data every time\n",
        "# and evaluate using the test data\n",
        "for i in range(n_repeat):\n",
        "\n",
        "  # train both models on newly generated training data\n",
        "  y_train = np.ones(n_train) + sigma*np.random.randn(n_train)\n",
        "  x_train = np.random.uniform(-1,1, size=(n_train, 1))\n",
        "\n",
        "  # model A: fit linear model\n",
        "  reg_a = LinearRegression().fit(x_train, y_train)\n",
        "  y_predict[:, i, 0] = reg_a.predict(x_test)\n",
        "  # model B: predict mean of training samples\n",
        "  y_predict[:, i, 1] = np.mean(y_train)\n",
        "\n",
        "  # overall squared error is due to difference between f_t(x) + epsilon, model prediction f(x,w)\n",
        "  y_test_err[:, i, 0] = (y_test - y_predict[:, i, 0])**2\n",
        "  y_test_err[:, i, 1] = (y_test - y_predict[:, i, 1])**2"
      ],
      "id": "44e92709-1dab-4c48-90e4-45ebcddaabbf"
    },
    {
      "cell_type": "code",
      "execution_count": null,
      "metadata": {
        "id": "58987f51-bc1f-45ae-b59e-7699cccae8bf"
      },
      "outputs": [],
      "source": [
        "# bias is due to difference between f_t(x) and mean of model prediction f(x,w)\n",
        "y_test_bias[:, 0] = (y_test_no_noise - y_predict[:, :, 0].mean(axis=1))**2\n",
        "y_test_bias[:, 1] = (y_test_no_noise - y_predict[:, :, 1].mean(axis=1))**2"
      ],
      "id": "58987f51-bc1f-45ae-b59e-7699cccae8bf"
    },
    {
      "cell_type": "code",
      "execution_count": null,
      "metadata": {
        "id": "4b8204f4-2d13-432f-8021-c426270004b4"
      },
      "outputs": [],
      "source": [
        "# irreducible error is due to the difference between f_t(x) and f_t(x) + epsilon\n",
        "y_test_noise_var = (y_test_no_noise - y_test)**2"
      ],
      "id": "4b8204f4-2d13-432f-8021-c426270004b4"
    },
    {
      "cell_type": "code",
      "execution_count": null,
      "metadata": {
        "id": "fcb8500d-6aff-4356-a128-555095e96089"
      },
      "outputs": [],
      "source": [
        "p = plt.figure(figsize=(10,10));\n",
        "\n",
        "models = ['Model A', 'Model B']\n",
        "\n",
        "for midx, model in enumerate(models):\n",
        "  p = plt.subplot(2, 2, midx+1);\n",
        "  for i in range(n_repeat):\n",
        "    p = sns.lineplot(x=x_test.squeeze(), y=y_predict[:, i, midx], alpha=0.05, color='orange');\n",
        "  p = sns.lineplot(x=x_test.squeeze(), y=y_predict[:, :, midx].mean(axis=1), color='red', label='Mean of models');\n",
        "  p = sns.scatterplot(x=x_test[0:50].squeeze(), y=y_test[0:50], label='Test data');\n",
        "  p = plt.xlabel('x');\n",
        "  p = plt.ylabel('y');\n",
        "  p = plt.title(model);\n",
        "  p = plt.ylim(y_test.min()*1.1, y_test.max()*1.1)\n",
        "\n",
        "  p = plt.subplot(2, 2, midx+3);\n",
        "  p = sns.lineplot(x=x_test.squeeze(), y=y_test_err[:, :, midx].mean(axis=1), color='red', alpha=0.5, label='Total squared error', markers=True);\n",
        "  p = sns.lineplot(x=x_test.squeeze(), y=y_test_bias[:, midx], color='cyan', alpha=0.5, label='Bias^2');\n",
        "  p = sns.lineplot(x=x_test.squeeze(), y=y_predict[:, :, midx].var(axis=1), color='green', alpha=0.5, label='Variance');\n",
        "  p = sns.lineplot(x=x_test.squeeze(), y=y_test_noise_var, color='purple', alpha=0.2, label='Irreducible error');\n",
        "  p = plt.xlabel('x');\n",
        "  p = plt.ylabel('Error');\n",
        "  p = plt.title(\"MSE: %f \\n Irreducible error: %f \\n Bias^2: %f \\n Variance: %f \" %\n",
        "                (y_test_err[:,:,midx].mean(axis=(0,1)),\n",
        "                 y_test_noise_var.mean(),\n",
        "                 (y_test_bias[:, midx]).mean(),\n",
        "                  y_predict[:, :, midx].var(axis=1).mean() ) )\n",
        "  p = plt.ylim(0, 1.1* y_test_err[:, :, :].mean(axis=(1)).max() )\n",
        "\n",
        "plt.subplots_adjust(hspace=0.5)"
      ],
      "id": "fcb8500d-6aff-4356-a128-555095e96089"
    },
    {
      "cell_type": "markdown",
      "metadata": {
        "id": "a27a649d-a891-41e4-8689-a8cb43537963"
      },
      "source": [
        "### Linear model with 10 vs. 1000 training samples"
      ],
      "id": "a27a649d-a891-41e4-8689-a8cb43537963"
    },
    {
      "cell_type": "markdown",
      "metadata": {
        "id": "05da85d1-8b5b-4e55-b920-f111c329d7f5"
      },
      "source": [
        "**Model A**:\n",
        "\n",
        "$$\\hat{y} = w_0 + w_1 x_1$$\n",
        "\n",
        "with least squares estimate of parameters, $n = 10$ training samples.\n",
        "\n",
        "**Model B**:\n",
        "\n",
        "$$\\hat{y} = w_0 + w_1 x_1$$\n",
        "\n",
        "with least squares estimate of parameters, $n = 1000$ training samples."
      ],
      "id": "05da85d1-8b5b-4e55-b920-f111c329d7f5"
    },
    {
      "cell_type": "code",
      "execution_count": null,
      "metadata": {
        "id": "a291d8d3-6d31-48f8-a2bd-4f08b9e5853d"
      },
      "outputs": [],
      "source": [
        "n_repeat = 1000\n",
        "n_test = 50"
      ],
      "id": "a291d8d3-6d31-48f8-a2bd-4f08b9e5853d"
    },
    {
      "cell_type": "code",
      "execution_count": null,
      "metadata": {
        "id": "1bf047f4-7fe8-4252-a04e-37b0fb57b27e"
      },
      "outputs": [],
      "source": [
        "y_predict = np.zeros((n_test, n_repeat, 2))\n",
        "\n",
        "y_test_err = np.zeros((n_test, n_repeat, 2))\n",
        "y_test_bias = np.zeros((n_test, 2))"
      ],
      "id": "1bf047f4-7fe8-4252-a04e-37b0fb57b27e"
    },
    {
      "cell_type": "code",
      "execution_count": null,
      "metadata": {
        "id": "a9dcb6f7-8fd4-483b-890e-7438267b64da"
      },
      "outputs": [],
      "source": [
        "coef = [5]\n",
        "intercept = 1\n",
        "sigma = 2"
      ],
      "id": "a9dcb6f7-8fd4-483b-890e-7438267b64da"
    },
    {
      "cell_type": "code",
      "execution_count": null,
      "metadata": {
        "id": "a4467c3a-b525-49ba-b99e-2ca5c8c86396"
      },
      "outputs": [],
      "source": [
        "# generate test data once\n",
        "x_test, y_test = generate_linear_regression_data(n=n_test, d=1, coef=[5], intercept=1, sigma=sigma)\n",
        "y_test_no_noise = intercept + np.dot(x_test, coef)\n",
        "# note: y_test is f_t(x) + epsilon\n",
        "# note: y_test_no_noise is f_t(x)\n",
        "\n",
        "# noise is due to the difference between f_t(x) and f_t(x) + epsilon\n",
        "y_test_noise_var = (y_test_no_noise - y_test)**2"
      ],
      "id": "a4467c3a-b525-49ba-b99e-2ca5c8c86396"
    },
    {
      "cell_type": "code",
      "execution_count": null,
      "metadata": {
        "id": "9a58b76e-50dd-4e3c-939b-7087a8d989e8"
      },
      "outputs": [],
      "source": [
        "# now simulate training the model many times, on different training data every time\n",
        "# and evaluate using the test data\n",
        "for i in range(n_repeat):\n",
        "\n",
        "  # train both models on newly generated training data\n",
        "  x, y = generate_linear_regression_data(n=1000, d=1, coef=coef, intercept=intercept, sigma=sigma)\n",
        "  x_a, y_a = x[0:10], y[0:10]\n",
        "  reg_a = LinearRegression().fit(x_a, y_a)\n",
        "\n",
        "  x_b, y_b = x, y\n",
        "  reg_b = LinearRegression().fit(x_b, y_b)\n",
        "\n",
        "  y_predict[:, i, 0] = reg_a.predict(x_test)\n",
        "  y_predict[:, i, 1] = reg_b.predict(x_test)\n",
        "\n",
        "  # overall squared error is due to difference between f_t(x) + epsilon, model prediction f(x,w)\n",
        "  y_test_err[:, i, 0] = (y_test - y_predict[:, i, 0])**2\n",
        "  y_test_err[:, i, 1] = (y_test - y_predict[:, i, 1])**2"
      ],
      "id": "9a58b76e-50dd-4e3c-939b-7087a8d989e8"
    },
    {
      "cell_type": "code",
      "execution_count": null,
      "metadata": {
        "id": "68da94f6-e3b4-41b6-8311-85d5bc2edeff"
      },
      "outputs": [],
      "source": [
        "# bias is due to difference between f_t(x) and mean of model prediction f(x,w)\n",
        "y_test_bias[:, 0] = (y_test_no_noise - y_predict[:, :, 0].mean(axis=1))**2\n",
        "y_test_bias[:, 1] = (y_test_no_noise - y_predict[:, :, 1].mean(axis=1))**2"
      ],
      "id": "68da94f6-e3b4-41b6-8311-85d5bc2edeff"
    },
    {
      "cell_type": "code",
      "execution_count": null,
      "metadata": {
        "id": "c109de31-5ad9-4e54-b0ef-0f69b20a671a"
      },
      "outputs": [],
      "source": [
        "p = plt.figure(figsize=(10,10));\n",
        "\n",
        "models = ['Model A', 'Model B']\n",
        "\n",
        "for midx, model in enumerate(models):\n",
        "  p = plt.subplot(2, 2, midx+1);\n",
        "  for i in range(n_repeat):\n",
        "    p = sns.lineplot(x=x_test.squeeze(), y=y_predict[:, i, midx], alpha=0.05, color='orange');\n",
        "  p = sns.lineplot(x=x_test.squeeze(), y=y_predict[:, :, midx].mean(axis=1), color='red', label='Mean of models');\n",
        "  p = sns.scatterplot(x=x_test.squeeze(), y=y_test, label='Test data');\n",
        "  p = plt.xlabel('x');\n",
        "  p = plt.ylabel('y');\n",
        "  p = plt.title(model);\n",
        "  p = plt.ylim(y_test.min()*1.1, y_test.max()*1.1)\n",
        "\n",
        "  p = plt.subplot(2, 2, midx+3);\n",
        "  p = sns.lineplot(x=x_test.squeeze(), y=y_test_err[:, :, midx].mean(axis=1), color='red', alpha=0.5, label='Total squared error', markers=True);\n",
        "  p = sns.lineplot(x=x_test.squeeze(), y=y_test_bias[:, midx], color='cyan', alpha=0.5, label='Bias^2');\n",
        "  p = sns.lineplot(x=x_test.squeeze(), y=y_predict[:, :, midx].var(axis=1), color='green', alpha=0.5, label='Variance');\n",
        "  p = sns.lineplot(x=x_test.squeeze(), y=y_test_noise_var, color='purple', alpha=0.2, label='Irreducible error');\n",
        "  p = plt.xlabel('x');\n",
        "  p = plt.ylabel('Error');\n",
        "  p = plt.title(\"MSE: %f \\n Irreducible error: %f \\n Bias^2: %f \\n Variance: %f \" %\n",
        "                (y_test_err[:,:,midx].mean(axis=(0,1)),\n",
        "                 y_test_noise_var.mean(),\n",
        "                 (y_test_bias[:, midx]).mean(),\n",
        "                  y_predict[:, :, midx].var(axis=1).mean() ) )\n",
        "  p = plt.ylim(0, 1.1* y_test_err[:, :, :].mean(axis=(1)).max() )\n",
        "\n",
        "plt.subplots_adjust(hspace=0.5)"
      ],
      "id": "c109de31-5ad9-4e54-b0ef-0f69b20a671a"
    },
    {
      "cell_type": "code",
      "execution_count": null,
      "metadata": {
        "id": "5ccb1a39-28f4-4102-be2b-d17e6016d34b"
      },
      "outputs": [],
      "source": [],
      "id": "5ccb1a39-28f4-4102-be2b-d17e6016d34b"
    },
    {
      "cell_type": "markdown",
      "metadata": {
        "id": "df7c8ace-fcb5-4763-acfc-8ffaba34b9ad"
      },
      "source": [
        "### Linear vs. polynomial model"
      ],
      "id": "df7c8ace-fcb5-4763-acfc-8ffaba34b9ad"
    },
    {
      "cell_type": "markdown",
      "metadata": {
        "id": "b1f9bdc6-032b-45be-8dde-fedb83b4acf7"
      },
      "source": [
        "Data is generated as $y_i = 1 + 0.5x_i + 2x_i^3 + \\epsilon_i$.\n",
        "\n",
        "**Model A**:\n",
        "\n",
        "$$\\hat{y} = w_0 + w_1 x$$\n",
        "\n",
        "with least squares estimate of parameters.\n",
        "\n",
        "**Model B**:\n",
        "\n",
        "$$\\hat{y} = w_0 + w_1 x + w_2 x^2 + w_3 x^3$$\n",
        "\n",
        "with least squares estimate of parameters."
      ],
      "id": "b1f9bdc6-032b-45be-8dde-fedb83b4acf7"
    },
    {
      "cell_type": "code",
      "execution_count": null,
      "metadata": {
        "id": "4117380e-e1ea-4505-b664-f27a7f61387b"
      },
      "outputs": [],
      "source": [
        "n_repeat = 1000\n",
        "n_test = 50"
      ],
      "id": "4117380e-e1ea-4505-b664-f27a7f61387b"
    },
    {
      "cell_type": "code",
      "execution_count": null,
      "metadata": {
        "id": "f9b8abe7-fb34-46f2-85b5-ae1aaf0b1f15"
      },
      "outputs": [],
      "source": [
        "y_predict = np.zeros((n_test, n_repeat, 2))\n",
        "\n",
        "y_test_err = np.zeros((n_test, n_repeat, 2))\n",
        "y_test_bias = np.zeros((n_test, 2))"
      ],
      "id": "f9b8abe7-fb34-46f2-85b5-ae1aaf0b1f15"
    },
    {
      "cell_type": "code",
      "execution_count": null,
      "metadata": {
        "id": "a73a1d51-dde5-455b-bf97-c8cfaa9cb3f8"
      },
      "outputs": [],
      "source": [
        "coefs=[1,0.5,0,2]\n",
        "sigma = 3"
      ],
      "id": "a73a1d51-dde5-455b-bf97-c8cfaa9cb3f8"
    },
    {
      "cell_type": "code",
      "execution_count": null,
      "metadata": {
        "id": "a5db3752-cb0d-4939-b495-341612423ce4"
      },
      "outputs": [],
      "source": [
        "# generate test data once\n",
        "x_test, y_test = generate_polynomial_regression_data(n=n_test, coefs=coefs, sigma=sigma)\n",
        "y_test_no_noise = np.polynomial.polynomial.polyval(x_test, coefs).squeeze()\n",
        "# note: y_test is f_t(x) + epsilon\n",
        "# note: y_test_no_noise is f_t(x)\n",
        "\n",
        "# noise is due to the difference between f_t(x) and f_t(x) + epsilon\n",
        "y_test_noise_var = (y_test_no_noise - y_test)**2"
      ],
      "id": "a5db3752-cb0d-4939-b495-341612423ce4"
    },
    {
      "cell_type": "code",
      "execution_count": null,
      "metadata": {
        "id": "5a23669f-9c97-4844-94e3-50a27cb518a2"
      },
      "outputs": [],
      "source": [
        "# now simulate training the model many times, on different training data every time\n",
        "# and evaluate using the test data\n",
        "for i in range(n_repeat):\n",
        "\n",
        "  # train both models on newly generated training data\n",
        "  x, y = generate_polynomial_regression_data(n=100, coefs=coefs, sigma=sigma)\n",
        "\n",
        "  x_a, y_a = x, y\n",
        "  reg_a = LinearRegression().fit(x_a, y_a)\n",
        "\n",
        "  x_b_d3 = np.column_stack( [x.reshape(-1,1)**d for d in np.arange(1,4)])\n",
        "  y_b = y\n",
        "  reg_b = LinearRegression().fit(x_b_d3, y_b)\n",
        "\n",
        "  y_predict[:, i, 0] = reg_a.predict(x_test)\n",
        "  x_test_d3 = np.column_stack( [x_test.reshape(-1,1)**d for d in np.arange(1,4)])\n",
        "  y_predict[:, i, 1] = reg_b.predict(x_test_d3)\n",
        "\n",
        "  # overall squared error is due to difference between f_t(x) + epsilon, model prediction f(x,w)\n",
        "  y_test_err[:, i, 0] = (y_test - y_predict[:, i, 0])**2\n",
        "  y_test_err[:, i, 1] = (y_test - y_predict[:, i, 1])**2"
      ],
      "id": "5a23669f-9c97-4844-94e3-50a27cb518a2"
    },
    {
      "cell_type": "code",
      "execution_count": null,
      "metadata": {
        "id": "c682243b-8a50-4cb8-8e9d-751f3320d4d6"
      },
      "outputs": [],
      "source": [
        "# bias is due to difference between f_t(x) and mean of model prediction f(x,w)\n",
        "y_test_bias[:, 0] = (y_test_no_noise - y_predict[:, :, 0].mean(axis=1))**2\n",
        "y_test_bias[:, 1] = (y_test_no_noise - y_predict[:, :, 1].mean(axis=1))**2"
      ],
      "id": "c682243b-8a50-4cb8-8e9d-751f3320d4d6"
    },
    {
      "cell_type": "code",
      "execution_count": null,
      "metadata": {
        "id": "5aa692f6-e09e-4862-a8e5-0723c790face"
      },
      "outputs": [],
      "source": [
        "p = plt.figure(figsize=(10,10));\n",
        "\n",
        "models = ['Model A', 'Model B']\n",
        "\n",
        "for midx, model in enumerate(models):\n",
        "  p = plt.subplot(2, 2, midx+1);\n",
        "  for i in range(n_repeat):\n",
        "    p = sns.lineplot(x=x_test.squeeze(), y=y_predict[:, i, midx], alpha=0.05, color='orange');\n",
        "  p = sns.lineplot(x=x_test.squeeze(), y=y_predict[:, :, midx].mean(axis=1), color='red', label='Mean of models');\n",
        "  p = sns.scatterplot(x=x_test.squeeze(), y=y_test, label='Test data');\n",
        "  p = plt.xlabel('x');\n",
        "  p = plt.ylabel('y');\n",
        "  p = plt.title(model);\n",
        "  p = plt.ylim(y_test.min()*1.1, y_test.max()*1.1)\n",
        "\n",
        "  p = plt.subplot(2, 2, midx+3);\n",
        "  p = sns.lineplot(x=x_test.squeeze(), y=y_test_err[:, :, midx].mean(axis=1), color='red', alpha=0.5, label='Total squared error', markers=True);\n",
        "  p = sns.lineplot(x=x_test.squeeze(), y=y_test_bias[:, midx], color='cyan', alpha=0.5, label='Bias^2');\n",
        "  p = sns.lineplot(x=x_test.squeeze(), y=y_predict[:, :, midx].var(axis=1), color='green', alpha=0.5, label='Variance');\n",
        "  p = sns.lineplot(x=x_test.squeeze(), y=y_test_noise_var, color='purple', alpha=0.2, label='Irreducible error');\n",
        "  p = plt.xlabel('x');\n",
        "  p = plt.ylabel('Error');\n",
        "  p = plt.title(\"MSE: %f \\n Irreducible error: %f \\n Bias^2: %f \\n Variance: %f \" %\n",
        "                (y_test_err[:,:,midx].mean(axis=(0,1)),\n",
        "                 y_test_noise_var.mean(),\n",
        "                 (y_test_bias[:, midx]).mean(),\n",
        "                  y_predict[:, :, midx].var(axis=1).mean() ) )\n",
        "  p = plt.ylim(0, 1.1* y_test_err[:, :, :].mean(axis=(1)).max() )\n",
        "\n",
        "plt.subplots_adjust(hspace=0.5)"
      ],
      "id": "5aa692f6-e09e-4862-a8e5-0723c790face"
    },
    {
      "cell_type": "markdown",
      "metadata": {
        "id": "1d642fe3-5fcf-4952-8e11-fa62c93db26e"
      },
      "source": [
        "Questions:\n",
        "\n",
        "-   What would happen if you increase or decrease $\\sigma$ in this example?"
      ],
      "id": "1d642fe3-5fcf-4952-8e11-fa62c93db26e"
    },
    {
      "cell_type": "markdown",
      "metadata": {
        "id": "6c6c260e-60ce-4641-a879-6721ca1584db"
      },
      "source": [
        "<!-- Double descent: https://colab.research.google.com/github/aslanides/aslanides.github.io/blob/master/colabs/2019-10-10-interpolation-regime.ipynb#scrollTo=nlaWee2cN7K7\n",
        "https://mlu-explain.github.io/double-descent/\n",
        "https://mlu-explain.github.io/double-descent2/\n",
        "-->"
      ],
      "id": "6c6c260e-60ce-4641-a879-6721ca1584db"
    }
  ],
  "nbformat": 4,
  "nbformat_minor": 5,
  "metadata": {
    "colab": {
      "provenance": []
    }
  }
}