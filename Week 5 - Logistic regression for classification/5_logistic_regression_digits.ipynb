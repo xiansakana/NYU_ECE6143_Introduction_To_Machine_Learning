{
  "cells": [
    {
      "cell_type": "markdown",
      "metadata": {
        "id": "K6pjE-tOTbF9"
      },
      "source": [
        "# Demo: Logistic regression for classification of handwritten digits\n",
        "\n",
        "*Fraida Fund*"
      ]
    },
    {
      "cell_type": "markdown",
      "metadata": {
        "id": "v5wgBUMfTbGA"
      },
      "source": [
        "In this demo, we will explore the use of logistic regression for classification of handwritten digits. In other words, given an image of a handwritten digit, we want to classify it as a 0, 1, 2, 3, ..."
      ]
    },
    {
      "cell_type": "code",
      "execution_count": null,
      "metadata": {
        "id": "r-V_WBt3TbGA"
      },
      "outputs": [],
      "source": [
        "import numpy as np\n",
        "import pandas as pd\n",
        "import seaborn as sns\n",
        "import matplotlib.pyplot as plt\n",
        "from sklearn.datasets import fetch_openml\n",
        "from sklearn.model_selection import train_test_split\n",
        "from sklearn.linear_model import LogisticRegression\n",
        "from sklearn.metrics import accuracy_score\n",
        "\n",
        "from IPython.core.interactiveshell import InteractiveShell\n",
        "InteractiveShell.ast_node_interactivity = \"all\""
      ]
    },
    {
      "cell_type": "markdown",
      "metadata": {
        "id": "l87lG2YbTbGE"
      },
      "source": [
        "### Load the digits dataset\n",
        "\n",
        "For this demo, we will use a dataset known as [MNIST](https://en.wikipedia.org/wiki/MNIST_database). It contains 70,000 samples of handwritten digits, size-normalized and centered in a fixed-size image. Each sample is represented as a 28x28 pixel array, so there are 784 features per samples.\n",
        "\n",
        "We will start by loading the dataset using the `fetch_openml` function. This function allows us to retrieve a dataset by name from [OpenML](https://www.openml.org/), a public repository for machine learning data and experiments."
      ]
    },
    {
      "cell_type": "code",
      "execution_count": null,
      "metadata": {
        "id": "QWBomSXwTbGG"
      },
      "outputs": [],
      "source": [
        "X, y = fetch_openml('mnist_784', version=1, return_X_y=True, as_frame=False)"
      ]
    },
    {
      "cell_type": "markdown",
      "metadata": {
        "id": "YraFOu0UTbGG"
      },
      "source": [
        "We observe that the data has 784 features and we have 70,000 samples:"
      ]
    },
    {
      "cell_type": "code",
      "execution_count": null,
      "metadata": {
        "id": "BbfClD-gTbGG"
      },
      "outputs": [],
      "source": [
        "X.shape"
      ]
    },
    {
      "cell_type": "markdown",
      "metadata": {
        "id": "vdKlLymLTbGL"
      },
      "source": [
        "The target variables is a label for each digit: 0, 1, 2, 3, 4, 5, 6, 7, 8, 9. There are 6000-8000 samples for each class."
      ]
    },
    {
      "cell_type": "code",
      "execution_count": null,
      "metadata": {
        "id": "A9KtEvWCTbGL"
      },
      "outputs": [],
      "source": [
        "y.shape"
      ]
    },
    {
      "cell_type": "code",
      "execution_count": null,
      "metadata": {
        "id": "Neeb86YwTbGM"
      },
      "outputs": [],
      "source": [
        "print(y)"
      ]
    },
    {
      "cell_type": "code",
      "execution_count": null,
      "metadata": {
        "id": "cdMvJWyFTbGM"
      },
      "outputs": [],
      "source": [
        "pd.Series(y).value_counts()"
      ]
    },
    {
      "cell_type": "code",
      "execution_count": null,
      "metadata": {
        "id": "4833W_FITbGN"
      },
      "outputs": [],
      "source": [
        "classes = ['0', '1', '2','3', '4','5', '6', '7', '8', '9']\n",
        "nclasses = len(classes)"
      ]
    },
    {
      "cell_type": "markdown",
      "metadata": {
        "id": "R8hKIuGrTbGN"
      },
      "source": [
        "Each “feature” represents a pixel in the image, and each pixel can take on any integer value from 0 to 255. A large value for a pixel means that there is writing in that part of the image."
      ]
    },
    {
      "cell_type": "markdown",
      "metadata": {
        "id": "aWQE-MaRTbGN"
      },
      "source": [
        "We can see a few examples, by plotting the 784 features as a 28x28 grid. In these images, white pixels indicate high values in the feature matrix."
      ]
    },
    {
      "cell_type": "code",
      "execution_count": null,
      "metadata": {
        "id": "nK_s1peuTbGN"
      },
      "outputs": [],
      "source": [
        "samples_per_class = 5\n",
        "figure = plt.figure(figsize=(nclasses*2,(1+samples_per_class*2)));\n",
        "\n",
        "for idx_cls, cls in enumerate(classes):\n",
        "  idxs = np.flatnonzero(y == cls)\n",
        "  idxs = np.random.choice(idxs, samples_per_class, replace=False)\n",
        "  for i, idx in enumerate(idxs):\n",
        "    plt_idx = i * nclasses + idx_cls + 1\n",
        "    p = plt.subplot(samples_per_class, nclasses, plt_idx);\n",
        "    p = sns.heatmap(np.reshape(X[idx], (28,28)), cmap=plt.cm.gray,\n",
        "             xticklabels=False, yticklabels=False, cbar=False);\n",
        "    p = plt.axis('off');"
      ]
    },
    {
      "cell_type": "markdown",
      "metadata": {
        "id": "ZzJ60iVMTbGO"
      },
      "source": [
        "### Prepare data\n",
        "\n",
        "Next, we will split our data into a test and training set.\n",
        "\n",
        "We can use `train_test_split` from `sklearn.model_selection` to split the data."
      ]
    },
    {
      "cell_type": "markdown",
      "metadata": {
        "id": "y6hcjDgBTbGO"
      },
      "source": [
        "Since the dataset is very large, it can take a long time to train a classifier on it. We just want to use it to demonstrate some useful concepts, so we will work with a smaller subset of the dataset. When we split the data using the `train_test_split` function, we will specify that we want 7,500 samples in the training set and 2,500 samples in the test set."
      ]
    },
    {
      "cell_type": "code",
      "execution_count": null,
      "metadata": {
        "id": "LV8wb0UxTbGO"
      },
      "outputs": [],
      "source": [
        "X_train, X_test, y_train, y_test = train_test_split(X, y, random_state=9,\n",
        "                                     train_size=7500, test_size=2500)"
      ]
    },
    {
      "cell_type": "markdown",
      "metadata": {
        "id": "6Joc7bxBTbGO"
      },
      "source": [
        "We’l also scale the data so that each feature takes on a value between 0 and 1."
      ]
    },
    {
      "cell_type": "code",
      "execution_count": null,
      "metadata": {
        "id": "r2mqglFqTbGP"
      },
      "outputs": [],
      "source": [
        "X_train_scaled = X_train/255.0\n",
        "X_test_scaled = X_test/255.0"
      ]
    },
    {
      "cell_type": "markdown",
      "metadata": {
        "id": "vMV-u_nXTbGQ"
      },
      "source": [
        "### Train a classifier using logistic regression\n",
        "\n",
        "Finally, we are ready to train a classifier. We will use `sklearn`'s [LogisticRegression](https://scikit-learn.org/stable/modules/generated/sklearn.linear_model.LogisticRegression.html).\n",
        "\n",
        "Unlike the linear regression, there is no closed form solution to the least squares parameter estimate in logistic regression. Therefore, we need to use a “solver” which finds a numerical solution. Several solvers are available for use with `sklearn`'s `LogisticRegression`, but they don’t all support all varieties of logistic regression.\n",
        "\n",
        "We will use the `saga` solver, which\n",
        "\n",
        "-   works well when there is a large number of samples,\n",
        "-   supports logistic regression with no regularization penalty, L1 penalty, L2 penalty, or ElasticNet (which uses both penalties),\n",
        "-   and also supports multinomial regression with multiple classes, using the softmax function.\n",
        "\n",
        "In addition to specifying which solver we want to use, we also specify a tolerance, which gives stopping criteria for the solver. A higher tolerance will finish faster, but may not find the optimal solution."
      ]
    },
    {
      "cell_type": "code",
      "execution_count": null,
      "metadata": {
        "id": "87x_SQjYTbGQ"
      },
      "outputs": [],
      "source": [
        "clf = LogisticRegression(penalty=None,\n",
        "                         tol=0.1, solver='saga',\n",
        "                         multi_class='multinomial').fit(X_train_scaled, y_train)"
      ]
    },
    {
      "cell_type": "markdown",
      "metadata": {
        "id": "VbLzfN1YTbGQ"
      },
      "source": [
        "Once the classifier has been trained (fitted), we can get the coefficient values.\n",
        "\n",
        "We had 784 features - one for each pixel - so we will have 784 coefficients. Furthermore, we have 10 classes, so we will have a vector of 784 coefficients for each of the 10 classes.\n",
        "\n",
        "Therefore, our coefficient matrix has 10 rows and 784 columns:"
      ]
    },
    {
      "cell_type": "code",
      "execution_count": null,
      "metadata": {
        "id": "TwrC8hfxTbGR"
      },
      "outputs": [],
      "source": [
        "clf.coef_.shape"
      ]
    },
    {
      "cell_type": "markdown",
      "metadata": {
        "id": "-r04yIKcTbGR"
      },
      "source": [
        "### Interpret the coefficients of the logistic regression"
      ]
    },
    {
      "cell_type": "markdown",
      "metadata": {
        "id": "zEKXUvk1TbGR"
      },
      "source": [
        "One benefit of logistic regression is its interpretability - we can use the coefficient values to understand what features (i.e. which pixels) are important in determining what class a sample belongs to."
      ]
    },
    {
      "cell_type": "markdown",
      "metadata": {
        "id": "0fxwGO90TbGR"
      },
      "source": [
        "The following plot shows the coefficient vector for each class, with positive coefficients in blue and negative coefficients in red."
      ]
    },
    {
      "cell_type": "code",
      "execution_count": null,
      "metadata": {
        "id": "mCRW7n21TbGR"
      },
      "outputs": [],
      "source": [
        "scale = np.max(np.abs(clf.coef_))\n",
        "\n",
        "p = plt.figure(figsize=(25, 2.5));\n",
        "\n",
        "for i in range(nclasses):\n",
        "    p = plt.subplot(1, nclasses, i + 1)\n",
        "    p = plt.imshow(clf.coef_[i].reshape(28, 28),\n",
        "                  cmap=plt.cm.RdBu, vmin=-scale, vmax=scale);\n",
        "    p = plt.axis('off')\n",
        "    p = plt.title('Class %i' % i);"
      ]
    },
    {
      "cell_type": "markdown",
      "metadata": {
        "id": "8xawmrKFTbGS"
      },
      "source": [
        "We can see which pixels are positively associated with belonging to the class, and which pixels are negatively associated with belonging to the class.\n",
        "\n",
        "For example, consider Class 0. If a sample has large values in the pixels shown in blue (the 0 shape around the center of the image), the probability of that sample being a 0 digit increases. If the sample has large values in the pixels in the center of the image, the probability of the sample being a 0 digit decreases.\n",
        "\n",
        "Many pixels have coefficients whose magnitude are very small. These are shown in white, and they are not very important for this classification task."
      ]
    },
    {
      "cell_type": "markdown",
      "metadata": {
        "id": "CVrbwGKGTbGS"
      },
      "source": [
        "### Use a fitted logistic regression"
      ]
    },
    {
      "cell_type": "markdown",
      "metadata": {
        "id": "a06wkHP7TbGS"
      },
      "source": [
        "Given the coefficient matrix, we can get the per-class probability for any sample."
      ]
    },
    {
      "cell_type": "markdown",
      "metadata": {
        "id": "XvwEXSdaTbGS"
      },
      "source": [
        "We know that for logistic regression with the softmax function, the conditional probability of a sample belonging to class $k$ is given by:\n",
        "\n",
        "$$P(y=k | \\mathbf{x}) = \\frac{e^{z_k}}{\\sum_{\\ell=1}^K e^{z_\\ell}}$$\n",
        "\n",
        "where $z_{k} = w_k x$.\n",
        "\n",
        "($w_k$ is the weight vector for class $k$, and $x$ includes a 1s column so that the intercept can be included in the weight matrix.)"
      ]
    },
    {
      "cell_type": "markdown",
      "metadata": {
        "id": "IEDD81BCTbGU"
      },
      "source": [
        "As an example, let’s look at a specific test sample:"
      ]
    },
    {
      "cell_type": "code",
      "execution_count": null,
      "metadata": {
        "id": "QKzdWGy4TbGU"
      },
      "outputs": [],
      "source": [
        "sample_idx = 33"
      ]
    },
    {
      "cell_type": "code",
      "execution_count": null,
      "metadata": {
        "id": "5m2z9jIPTbGU"
      },
      "outputs": [],
      "source": [
        "plt.imshow(X_test_scaled[sample_idx].reshape(28,28), cmap='gray');\n",
        "plt.title('Label: %s\\n' % y_test[sample_idx]);\n",
        "plt.axis('off');"
      ]
    },
    {
      "cell_type": "markdown",
      "metadata": {
        "id": "voW-E-n6TbGV"
      },
      "source": [
        "We’l compute $z_k$ for each class $k$:"
      ]
    },
    {
      "cell_type": "code",
      "execution_count": null,
      "metadata": {
        "id": "VfRWKtgmTbGX"
      },
      "outputs": [],
      "source": [
        "z = [ clf.intercept_[k] + np.dot(clf.coef_[k], X_test_scaled[sample_idx]) for k in range(10) ]\n",
        "z"
      ]
    },
    {
      "cell_type": "markdown",
      "metadata": {
        "id": "ZN0mlUvmTbGX"
      },
      "source": [
        "Then, we can compute the conditional probability for each class, for this sample:"
      ]
    },
    {
      "cell_type": "code",
      "execution_count": null,
      "metadata": {
        "id": "81kr4iYDTbGX"
      },
      "outputs": [],
      "source": [
        "exps = [np.exp(z[k]) for k in range(10)]\n",
        "exps_sum = np.sum(exps)\n",
        "probs = exps/exps_sum\n",
        "probs"
      ]
    },
    {
      "cell_type": "markdown",
      "metadata": {
        "id": "Yl1_Wm_nTbGj"
      },
      "source": [
        "Here, the first entry is the probability of belonging to class 0 (i.e. having the label '0'), the second entry is the probability of belonging to class 1, etc."
      ]
    },
    {
      "cell_type": "code",
      "execution_count": null,
      "metadata": {
        "id": "GMLpc_v2TbGo"
      },
      "outputs": [],
      "source": [
        "sns.barplot(x=np.arange(0,10), y=probs);\n",
        "plt.ylabel(\"Probability\");\n",
        "plt.xlabel(\"Class\");"
      ]
    },
    {
      "cell_type": "markdown",
      "metadata": {
        "id": "WgUkMdgwTbGp"
      },
      "source": [
        "In general, to get the predicted *label*, we can find the class with the highest probability:"
      ]
    },
    {
      "cell_type": "code",
      "execution_count": null,
      "metadata": {
        "id": "JZ5LsfXPTbGp"
      },
      "outputs": [],
      "source": [
        "idx_cls = np.argmax(probs)\n",
        "classes[idx_cls]"
      ]
    },
    {
      "cell_type": "markdown",
      "metadata": {
        "id": "BNPyY-JrTbGp"
      },
      "source": [
        "*If* this matches the actual label for the first test sample, then our prediction is correct."
      ]
    },
    {
      "cell_type": "code",
      "execution_count": null,
      "metadata": {
        "id": "knsnBo5_TbGs"
      },
      "outputs": [],
      "source": [
        "y_test[sample_idx]"
      ]
    },
    {
      "cell_type": "markdown",
      "metadata": {
        "id": "3KriEk56TbGs"
      },
      "source": [
        "The `LogisticRegression` implementation in `sklearn` includes functions to compute both the per-class probability, and the most likely label."
      ]
    },
    {
      "cell_type": "markdown",
      "metadata": {
        "id": "5VI0eSdoTbGt"
      },
      "source": [
        "We can use the `predict_proba` function on the logistic regression to get these probabilities. For each sample, it returns 10 probabilities - one for each of the ten classes (i.e. each value of $k$)."
      ]
    },
    {
      "cell_type": "code",
      "execution_count": null,
      "metadata": {
        "id": "e8sWQ_FvTbGt"
      },
      "outputs": [],
      "source": [
        "y_pred_prob = clf.predict_proba(X_test_scaled)"
      ]
    },
    {
      "cell_type": "markdown",
      "metadata": {
        "id": "eHVCB_5OTbGv"
      },
      "source": [
        "Let’s look at our example test point, and compare to our own computations:"
      ]
    },
    {
      "cell_type": "code",
      "execution_count": null,
      "metadata": {
        "id": "jV38GytNTbGv"
      },
      "outputs": [],
      "source": [
        "y_pred_prob[sample_idx]"
      ]
    },
    {
      "cell_type": "markdown",
      "metadata": {
        "id": "8YILEhahTbGv"
      },
      "source": [
        "We use the `predict` function to predict a label for each sample in the test set. This will return the class label with the highest probability.\n",
        "\n",
        "For our test sample, the prediction is:"
      ]
    },
    {
      "cell_type": "code",
      "execution_count": null,
      "metadata": {
        "id": "FBgYJFJPTbGv"
      },
      "outputs": [],
      "source": [
        "y_pred = clf.predict(X_test_scaled)"
      ]
    },
    {
      "cell_type": "code",
      "execution_count": null,
      "metadata": {
        "id": "AnTVrRFMTbGw"
      },
      "outputs": [],
      "source": [
        "y_pred[sample_idx]"
      ]
    },
    {
      "cell_type": "markdown",
      "metadata": {
        "id": "xLJNfNUeTbGx"
      },
      "source": [
        "and the true value is:"
      ]
    },
    {
      "cell_type": "code",
      "execution_count": null,
      "metadata": {
        "id": "hEYe5Z-uTbGx"
      },
      "outputs": [],
      "source": [
        "y_test[sample_idx]"
      ]
    },
    {
      "cell_type": "markdown",
      "metadata": {
        "id": "MdMyFlBWTbGy"
      },
      "source": [
        "### Evaluate classifier performance"
      ]
    },
    {
      "cell_type": "markdown",
      "metadata": {
        "id": "qoDOMcxYTbGz"
      },
      "source": [
        "The first important metric is the accuracy - what percent of predicted labels are the same as the true labels?"
      ]
    },
    {
      "cell_type": "markdown",
      "metadata": {
        "id": "yp-kHx2CTbGz"
      },
      "source": [
        "There are a few ways to compute this value -"
      ]
    },
    {
      "cell_type": "code",
      "execution_count": null,
      "metadata": {
        "id": "K5OVtes3TbG0"
      },
      "outputs": [],
      "source": [
        "accuracy =  np.mean(y_test == y_pred)\n",
        "print(accuracy)"
      ]
    },
    {
      "cell_type": "code",
      "execution_count": null,
      "metadata": {
        "id": "cN2OuZu3TbG2"
      },
      "outputs": [],
      "source": [
        "accuracy = accuracy_score(y_test, y_pred)\n",
        "print(accuracy)"
      ]
    },
    {
      "cell_type": "code",
      "execution_count": null,
      "metadata": {
        "id": "2kBDexsxTbG2"
      },
      "outputs": [],
      "source": [
        "accuracy = clf.score(X_test_scaled, y_test)\n",
        "print(accuracy)"
      ]
    },
    {
      "cell_type": "markdown",
      "metadata": {
        "id": "TrcePLjWTbG3"
      },
      "source": [
        "What about other important metrics?\n",
        "\n",
        "For a binary classifier, we also care about\n",
        "\n",
        "-   The number of true positive (TP) outputs - samples from the positive class that are predicted as positive\n",
        "-   The number of true negative (TN) outputs - samples from the negative class that are predicted as negative\n",
        "-   The number of false positive (FP) outputs - samples from the negative class that are predicted as positive, and\n",
        "-   The number of false negative (FN) outputs - samples from the positive class that are predicted as negative."
      ]
    },
    {
      "cell_type": "markdown",
      "metadata": {
        "id": "lcZtiLR2TbG3"
      },
      "source": [
        "These are often presented together in a confusion matrix."
      ]
    },
    {
      "cell_type": "markdown",
      "metadata": {
        "id": "c6eX24pATbG5"
      },
      "source": [
        "For a multi-class problem, we can extend the confusion matrix to have more rows and columns. The diagonal of the multi-class confusion matrix shows the number of correct classifications for each class, and other entries show instances where a sample from one class was mistakenly assigned a different class label."
      ]
    },
    {
      "cell_type": "markdown",
      "metadata": {
        "id": "mRGg97zRTbG5"
      },
      "source": [
        "We can create a confusion matrix using the `pandas` library's `crosstab` function."
      ]
    },
    {
      "cell_type": "code",
      "execution_count": null,
      "metadata": {
        "id": "nx9za122TbG5"
      },
      "outputs": [],
      "source": [
        "cm = pd.crosstab(y_test, y_pred,\n",
        "                               rownames=['Actual'], colnames=['Predicted'])\n",
        "p = plt.figure(figsize=(10,10));\n",
        "p = sns.heatmap(cm, annot=True, fmt=\"d\", cbar=False)"
      ]
    },
    {
      "cell_type": "markdown",
      "metadata": {
        "id": "Vq56HRQdTbG6"
      },
      "source": [
        "Here's a version that is slightly easier to interpret - we have normalized the confusion matrix by row, so that the entries on the diagonal show the accuracy per class."
      ]
    },
    {
      "cell_type": "code",
      "execution_count": null,
      "metadata": {
        "id": "iO_sH9wbTbG7"
      },
      "outputs": [],
      "source": [
        "cm = pd.crosstab(y_test, y_pred,\n",
        "                               rownames=['Actual'], colnames=['Predicted'], normalize='index')\n",
        "p = plt.figure(figsize=(10,10));\n",
        "p = sns.heatmap(cm, annot=True, fmt=\".2f\", cbar=False)"
      ]
    },
    {
      "cell_type": "markdown",
      "metadata": {
        "id": "62PKf-CTTbG7"
      },
      "source": [
        "We can see that the digits 0, 1, 4 are easiest for the logistic regression to classify, while the digits 8, 5, 2, and 3 are more difficult (because the classification accuracy was less for these digits).\n",
        "\n",
        "We can also see which digits are easily confused with one another. For example, we can see that some 8s are misclassified as 1s, and some 5s are misclassified as 8s."
      ]
    },
    {
      "cell_type": "markdown",
      "metadata": {
        "id": "pQsYYo4VTbG7"
      },
      "source": [
        "### Try your own image"
      ]
    },
    {
      "cell_type": "markdown",
      "metadata": {
        "id": "HgnRNoTCTbG8"
      },
      "source": [
        "On a plain white piece of paper, in a black or other dark-colored pen or pencil, write a digit of your choice from 0 to 9. Take a photo of your handwritten digit.\n",
        "\n",
        "Edit your photo (crop, rotate as needed), using a photo editor of your choice (I used Google Photos), so that your photo is approximately square, and includes only the digit and the white background. Leave a small margin around the edge of the writing, but not too much. Your edited photo should look similar to the MNIST images in the demo notebook.\n",
        "\n",
        "For example:\n",
        "\n",
        "<img src=\"https://i.ibb.co/RzLP8nm/20200710-115731.jpg\" alt=\"A handwritten '8'\" width=200/>"
      ]
    },
    {
      "cell_type": "markdown",
      "metadata": {
        "id": "B5N4OsLMTbG8"
      },
      "source": [
        "Run the following cell. Click “Choose files”, and upload the photo of your handwritten digit."
      ]
    },
    {
      "cell_type": "code",
      "execution_count": null,
      "metadata": {
        "id": "8jFAOtx8TbG9"
      },
      "outputs": [],
      "source": [
        "from google.colab import files\n",
        "\n",
        "uploaded = files.upload()\n",
        "\n",
        "for fn in uploaded.keys():\n",
        "  print('User uploaded file \"{name}\" with length {length} bytes'.format(\n",
        "      name=fn, length=len(uploaded[fn])))"
      ]
    },
    {
      "cell_type": "markdown",
      "metadata": {
        "id": "64WZQ12sTbG9"
      },
      "source": [
        "On the left side of the Colab window, you will see a small file folder icon, which allows you to explore the filesystem of your Colab workspace. If you click on this icon, you should see that your file has been uploaded to your Colab workspace. (You may need to use the “Refresh” button in the file browser in order to see the file.) Make a note of the file name."
      ]
    },
    {
      "cell_type": "markdown",
      "metadata": {
        "id": "kz7I7civTbG-"
      },
      "source": [
        "After uploading your image, run this cell, but *replace the filename* with the name of the file you have just uploaded to Colab. You shold see your image appear in the cell output."
      ]
    },
    {
      "cell_type": "code",
      "execution_count": null,
      "metadata": {
        "id": "flvZ2OCcTbG-"
      },
      "outputs": [],
      "source": [
        "from PIL import Image\n",
        "\n",
        "filename = '2021-07-01_14-03.png'\n",
        "\n",
        "image = Image.open(filename)\n",
        "p = plt.imshow(np.asarray(image), cmap=plt.cm.gray,);\n",
        "p = plt.title('Shape: ' + str(np.asarray(image).shape))"
      ]
    },
    {
      "cell_type": "markdown",
      "metadata": {
        "id": "A3bNpVE0TbG-"
      },
      "source": [
        "For example:\n",
        "\n",
        "<img src=\"https://i.ibb.co/jy2Qt6Z/image.png\" alt=\"A handwritten '8' after uploading to Colab\" width=200/>"
      ]
    },
    {
      "cell_type": "markdown",
      "metadata": {
        "id": "ZA_kxLbITbG_"
      },
      "source": [
        "The images in MNIST have been pre-processed - they are converted to grayscale, and centered in a 28x28 image by computing the center of mass of the pixels, and then translating and scaling the image so as to position this point at the center of the 28x28 field.\n",
        "\n",
        "You have already done some manual pre-processing, by cropping your image before uploading. But you may have noticed from the `shape` output that your image resolution is much larger than 28x28, and you probably had three color channels (red, green, and blue).\n",
        "\n",
        "Use the code in the following cells to pre-process your image into a 28x28 image with one color channel (grayscale). You may have to manually tune the contrast for best results, by changing the `pixel_filter` value. You will want the background to be as close to pure black as possible, without affecting the legibility of the handwritten digit.\n",
        "\n",
        "(We won’t bother with centering the image, but that would probably improve the prediction performance quite a lot!)"
      ]
    },
    {
      "cell_type": "code",
      "execution_count": null,
      "metadata": {
        "id": "McL10l69TbHB"
      },
      "outputs": [],
      "source": [
        "# convert to grayscale image - 'L' format means each pixel is\n",
        "# represented by a single value from 0 to 255\n",
        "image_bw = image.convert('L')\n",
        "p = plt.imshow(np.asarray(image_bw), cmap=plt.cm.gray,);\n",
        "p = plt.title('Shape: ' + str(np.asarray(image_bw).shape))"
      ]
    },
    {
      "cell_type": "code",
      "execution_count": null,
      "metadata": {
        "id": "hRtjCjn_TbHC"
      },
      "outputs": [],
      "source": [
        "# resize image\n",
        "image_bw_resized = image_bw.resize((28,28), Image.ANTIALIAS)\n",
        "p = plt.imshow(np.asarray(image_bw_resized), cmap=plt.cm.gray,);\n",
        "p = plt.title('Shape: ' + str(np.asarray(image_bw_resized).shape))"
      ]
    },
    {
      "cell_type": "code",
      "execution_count": null,
      "metadata": {
        "id": "QhbO51bTTbHC"
      },
      "outputs": [],
      "source": [
        "# invert image, to match training data\n",
        "import PIL.ImageOps\n",
        "\n",
        "image_bw_resized_inverted = PIL.ImageOps.invert(image_bw_resized)\n",
        "p = plt.imshow(np.asarray(image_bw_resized_inverted), cmap=plt.cm.gray,);\n",
        "p = plt.title('Shape: ' + str(np.asarray(image_bw_resized_inverted).shape))"
      ]
    },
    {
      "cell_type": "code",
      "execution_count": null,
      "metadata": {
        "id": "XG3f0lptTbHE"
      },
      "outputs": [],
      "source": [
        "# adjust contrast and scale\n",
        "pixel_filter = 20 # value from 0 to 100 - may need to adjust this manually\n",
        "min_pixel = np.percentile(image_bw_resized_inverted, pixel_filter)\n",
        "image_bw_resized_inverted_scaled = np.clip(image_bw_resized_inverted-min_pixel, 0, 255)\n",
        "max_pixel = np.max(image_bw_resized_inverted_scaled)\n",
        "image_bw_resized_inverted_scaled = np.asarray(image_bw_resized_inverted_scaled)/max_pixel\n",
        "p = plt.imshow(np.asarray(image_bw_resized_inverted_scaled), cmap=plt.cm.gray,);\n",
        "p = plt.title('Shape: ' + str(np.asarray(image_bw_resized_inverted_scaled).shape))"
      ]
    },
    {
      "cell_type": "code",
      "execution_count": null,
      "metadata": {
        "id": "2RPX5V5TTbHF"
      },
      "outputs": [],
      "source": [
        "# finally, reshape to (1, 784) - 1 sample, 784 features\n",
        "test_sample = np.array(image_bw_resized_inverted_scaled).reshape(1,784)\n",
        "p = plt.imshow(np.reshape(test_sample, (28,28)), cmap=plt.cm.gray,);\n",
        "p = plt.title('Shape: ' + str(test_sample.shape))"
      ]
    },
    {
      "cell_type": "markdown",
      "metadata": {
        "id": "paZB1CliTbHF"
      },
      "source": [
        "Make sure the `shape` of your test sample is `(1,784)` (one sample, 784 features)."
      ]
    },
    {
      "cell_type": "markdown",
      "metadata": {
        "id": "Bvh_MHRpTbHF"
      },
      "source": [
        "Run the following code to visualize your pre-processed image."
      ]
    },
    {
      "cell_type": "code",
      "execution_count": null,
      "metadata": {
        "id": "Rv8b0Q06TbHI"
      },
      "outputs": [],
      "source": [
        "p = plt.imshow(np.reshape(test_sample, (28,28)), cmap=plt.cm.gray,);\n",
        "p = plt.title('Shape: ' + str(test_sample.shape))"
      ]
    },
    {
      "cell_type": "markdown",
      "metadata": {
        "id": "ZIPQ0_c2TbHI"
      },
      "source": [
        "For example:\n",
        "\n",
        "<img src=\"https://i.ibb.co/0rD9Z75/image.png\" alt=\"A handwritten '8' after pre-processing\" width=200/>"
      ]
    },
    {
      "cell_type": "markdown",
      "metadata": {
        "id": "9YmuxMx7TbHI"
      },
      "source": [
        "Now that you have processed your test image, let us see whether it is classified correctly by the logistic regression."
      ]
    },
    {
      "cell_type": "markdown",
      "metadata": {
        "id": "DxM923ZyTbHJ"
      },
      "source": [
        "Run the following cell. This will use your fitted logistic regression to predict conditional probabilities per class for this test sample, and plot them."
      ]
    },
    {
      "cell_type": "code",
      "execution_count": null,
      "metadata": {
        "id": "kglnQQvmTbHJ"
      },
      "outputs": [],
      "source": [
        "test_probs = clf.predict_proba(test_sample)\n",
        "\n",
        "sns.barplot(x=np.arange(0,10), y=test_probs.squeeze());\n",
        "plt.ylabel(\"Probability\");\n",
        "plt.xlabel(\"Class\");"
      ]
    },
    {
      "cell_type": "markdown",
      "metadata": {
        "id": "iC-1xd-bTbHJ"
      },
      "source": [
        "For example:\n",
        "\n",
        "<img src=\"https://i.ibb.co/80TzWQv/image.png\" alt=\"Probabilities\" />"
      ]
    },
    {
      "cell_type": "markdown",
      "metadata": {
        "id": "tdKe3Cn0TbHJ"
      },
      "source": [
        "Also run this cell, to show the predicted label for your test sample:"
      ]
    },
    {
      "cell_type": "code",
      "execution_count": null,
      "metadata": {
        "id": "RSoXB_HLTbHK"
      },
      "outputs": [],
      "source": []
    },
    {
      "cell_type": "code",
      "execution_count": null,
      "metadata": {
        "id": "MjN7l6-oTbHK"
      },
      "outputs": [],
      "source": [
        "test_pred = clf.predict(test_sample)\n",
        "print(\"Predicted class is: \", test_pred)"
      ]
    },
    {
      "cell_type": "markdown",
      "metadata": {
        "id": "_l2jDtJRTbHK"
      },
      "source": [
        "Even if the fitted model correctly labeled your handwritten digit, it may have estimated a moderately high probability for some of the other labels. To understand why, it is useful to visualize\n",
        "\n",
        "$$\\langle w_k, x\\rangle$$\n",
        "\n",
        "for each class $k$.\n",
        "\n",
        "Add a cell with the following code, and run it. This will plot:\n",
        "\n",
        "-   on the top row, the coefficient vector for each class,\n",
        "-   on the bottom row, each pixel in your test image, multiplied by the associated coefficient for that class."
      ]
    },
    {
      "cell_type": "code",
      "execution_count": null,
      "metadata": {
        "id": "l090-PQ0TbHK"
      },
      "outputs": [],
      "source": [
        "scale = np.max(np.abs(clf.coef_))\n",
        "\n",
        "p = plt.figure(figsize=(25, 5));\n",
        "\n",
        "for i in range(nclasses):\n",
        "    p = plt.subplot(2, nclasses, i + 1)\n",
        "    p = plt.imshow(clf.coef_[i].reshape(28, 28),\n",
        "                  cmap=plt.cm.RdBu, vmin=-scale, vmax=scale);\n",
        "    p = plt.title('Class %i' % i);\n",
        "    p = plt.axis('off')\n",
        "\n",
        "for i in range(nclasses):\n",
        "    p = plt.subplot(2, nclasses, nclasses + i + 1)\n",
        "    p = plt.imshow(test_sample.reshape(28, 28)*clf.coef_[i].reshape(28, 28),\n",
        "                  cmap=plt.cm.RdBu, vmin=-scale/2, vmax=scale/2);\n",
        "    # note: you can adjust the scaling factor if necessary,\n",
        "    # to make the visualization easier to understand\n",
        "    p = plt.axis('off')"
      ]
    },
    {
      "cell_type": "markdown",
      "metadata": {
        "id": "AgK3qiQ8TbHK"
      },
      "source": [
        "For example:\n",
        "\n",
        "<img src=\"https://i.ibb.co/MGLkf0T/image.png\" alt=\"A handwritten '8' after pre-processing\"/>"
      ]
    },
    {
      "cell_type": "markdown",
      "metadata": {
        "id": "rhFsEfJgTbHK"
      },
      "source": [
        "In the images in the bottom row,\n",
        "\n",
        "-   a blue pixel (and especially a dark blue pixel) means that your test image had writing in the part of the image that is positively associated with belonging to the class, and\n",
        "-   a red pixel (and especially a dark red pixel) means that your test image had writing in the part of the image that is negatively associated with belonging to the class."
      ]
    },
    {
      "cell_type": "markdown",
      "metadata": {
        "id": "60KSVvTfTbHK"
      },
      "source": [
        "The image above should give you an idea of why your digit was classified correctly or incorrectly, and should help you understand when and why the model misclassifies some samples.\n",
        "\n",
        "-   if your image *was* classified correctly: draw a *slightly* modified version of the same digit, that you believe will be classified *incorrectly*. Run this second image through the steps above, and confirm your intuition.\n",
        "-   if your image *was not* classified correctly: draw a *slightly* modified version of the same digit, that you believe will be classified *correctly*. Run this second image through the steps above, and confirm your intuition.\n",
        "\n",
        "(Your second image should still be approximately square, include only the digit and the white background, and have a small margin around the edge of the writing, i.e. it should also “look like” the MNIST samples.)"
      ]
    },
    {
      "cell_type": "markdown",
      "metadata": {
        "id": "su_NgWEYTbHL"
      },
      "source": [
        "### Regularization"
      ]
    },
    {
      "cell_type": "markdown",
      "metadata": {
        "id": "ZP1ntg6cTbHL"
      },
      "source": [
        "For the handwritten digit recognition task, many of the pixels (especially those near the outer border of the image) are not relevant. We can use L1 regularization to do feature selection, i.e. encourage a zero coefficient for features that are not relevant."
      ]
    },
    {
      "cell_type": "markdown",
      "metadata": {
        "id": "pISa7Qh1TbHL"
      },
      "source": [
        "However, the classifier still fits a non-zero coefficient for those pixels. In the following images, any pixel with a zero coefficient is marked in black:"
      ]
    },
    {
      "cell_type": "code",
      "execution_count": null,
      "metadata": {
        "id": "XHaAGCYNTbHL"
      },
      "outputs": [],
      "source": [
        "zeros = np.ma.masked_where(clf.coef_ != 0, clf.coef_)\n",
        "\n",
        "scale = np.max(np.abs(clf.coef_))\n",
        "\n",
        "p = plt.figure(figsize=(25, 3));\n",
        "\n",
        "for i in range(nclasses):\n",
        "    p = plt.subplot(2, nclasses, i + 1)\n",
        "    p = plt.imshow(clf.coef_[i].reshape(28, 28),\n",
        "                  cmap=plt.cm.RdBu, vmin=-scale, vmax=scale);\n",
        "    p = plt.imshow((zeros[i]).reshape(28, 28),\n",
        "                  cmap=plt.cm.gray, vmin=0, vmax=1);\n",
        "    p = plt.title('Class %i' % i);\n",
        "    p = plt.axis('off')\n"
      ]
    },
    {
      "cell_type": "markdown",
      "metadata": {
        "id": "i7pte_oQTbHL"
      },
      "source": [
        "L1 regularization will encourage more zero coefficients. To fit a logistic regression with regularization, we specify the penalty and the regularization strength.\n",
        "\n",
        "The parameter `C` is actually the *inverse* of the regularization strength, so a small value means stronger regularization and more coefficients zeroed."
      ]
    },
    {
      "cell_type": "code",
      "execution_count": null,
      "metadata": {
        "id": "JI0bR5ALTbHL"
      },
      "outputs": [],
      "source": [
        "clf_l1 = LogisticRegression(penalty='l1', C=1,\n",
        "                      tol=0.1, solver='saga',\n",
        "                      multi_class='multinomial').fit(X_train_scaled, y_train)"
      ]
    },
    {
      "cell_type": "markdown",
      "metadata": {
        "id": "upGOrCk7TbHM"
      },
      "source": [
        "The coefficients for the regularized model are shown in the bottom row below.\n",
        "\n",
        "With the L1 penalty, many more coefficients are zeroed."
      ]
    },
    {
      "cell_type": "code",
      "execution_count": null,
      "metadata": {
        "id": "3pJQuHpaTbHM"
      },
      "outputs": [],
      "source": [
        "\n",
        "zeros = np.ma.masked_where(clf.coef_ != 0, clf.coef_)\n",
        "zeros_l1 = np.ma.masked_where(clf_l1.coef_ != 0, clf.coef_)\n",
        "\n",
        "scale = np.max(np.abs(clf.coef_))\n",
        "\n",
        "p = plt.figure(figsize=(25, 5));\n",
        "\n",
        "for i in range(nclasses):\n",
        "    p = plt.subplot(2, nclasses, i + 1)\n",
        "    p = plt.imshow(clf.coef_[i].reshape(28, 28),\n",
        "                  cmap=plt.cm.RdBu, vmin=-scale, vmax=scale);\n",
        "    p = plt.imshow((zeros[i]).reshape(28, 28),\n",
        "                  cmap=plt.cm.gray, vmin=0, vmax=1);\n",
        "    p = plt.title('Class %i' % i);\n",
        "    p = plt.axis('off')\n",
        "\n",
        "for i in range(nclasses):\n",
        "    p = plt.subplot(2, nclasses, nclasses + i + 1)\n",
        "    p = plt.imshow(clf_l1.coef_[i].reshape(28, 28),\n",
        "                  cmap=plt.cm.RdBu, vmin=-scale, vmax=scale);\n",
        "    p = plt.imshow((zeros_l1[i]).reshape(28, 28),\n",
        "                  cmap=plt.cm.gray, vmin=0, vmax=1);\n",
        "    p = plt.title('Class %i' % i);\n",
        "    p = plt.axis('off')"
      ]
    },
    {
      "cell_type": "markdown",
      "metadata": {
        "id": "ddtL__lKTbHM"
      },
      "source": [
        "Things to try:\n",
        "\n",
        "-   What happens if you increase C? decrease C?"
      ]
    }
  ],
  "nbformat": 4,
  "nbformat_minor": 0,
  "metadata": {
    "kernelspec": {
      "name": "python3",
      "display_name": "Python 3"
    },
    "colab": {
      "provenance": []
    }
  }
}