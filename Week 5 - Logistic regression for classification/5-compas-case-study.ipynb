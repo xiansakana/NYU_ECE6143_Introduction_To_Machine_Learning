{
  "cells": [
    {
      "cell_type": "markdown",
      "metadata": {
        "id": "II7xz3FGTcAE"
      },
      "source": [
        "Case study: COMPAS and classifier fairness\n",
        "------------------------------------------\n",
        "\n",
        "![ProPublica headline](https://static.propublica.org/projects/algorithmic-bias/assets/img/generated/opener-b-crop-2400*1350-00796e.jpg)"
      ]
    },
    {
      "cell_type": "markdown",
      "metadata": {
        "id": "vE1-AYDBTcAE"
      },
      "source": [
        "About COMPAS\n",
        "------------\n",
        "\n",
        "COMPAS is a tool used in many jurisdictions around the U.S. to predict *recidivism* risk - the risk that a criminal defendant will reoffend.\n",
        "\n",
        "-   COMPAS assigns scores from 1 (lowest risk) to 10 (highest risk).\n",
        "-   It also assigns a class: each sample is labeled as high risk of recidivism, medium risk of recidivism, or low risk of recidivism. For this analysis, we turn it into a binary classification problem by re-labeling as medium or high risk of recidivism vs. low risk of recidivism.\n",
        "-   As input, the model uses 137 factors, including age, gender, and criminal history of the defendant.\n",
        "-   Race is *not* an explicit feature considered by the model."
      ]
    },
    {
      "cell_type": "markdown",
      "metadata": {
        "id": "iFXdGtUnTcAF"
      },
      "source": [
        "### Using COMPAS\n",
        "\n",
        "-   Judges can see the defendant’s COMPAS score when deciding whether to detain the defendant prior to trial and/or when sentencing.\n",
        "-   Defendants who are classified medium or high risk (scores of 5-10), are more likely to be held in prison while awaiting trial than those classified as low risk (scores of 1-4)."
      ]
    },
    {
      "cell_type": "markdown",
      "metadata": {
        "id": "G3SA0GnLTcAF"
      },
      "source": [
        "### ProPublica claims (1)\n",
        "\n",
        "> Prediction Fails Differently for Black Defendants\n",
        "\n",
        "|                                           | WHITE | AFRICAN AMERICAN |\n",
        "|-------------------------------------------|:------|:-----------------|\n",
        "| Labeled Higher Risk, But Didn’t Re-Offend | 23.5% | 44.9%            |\n",
        "| Labeled Lower Risk, Yet Did Re-Offend     | 47.7% | 28.0%            |"
      ]
    },
    {
      "cell_type": "markdown",
      "metadata": {
        "id": "Xlcs46UHTcAF"
      },
      "source": [
        "### ProPublica claims (2)\n",
        "\n",
        "> Overall, Northpointe’s assessment tool correctly predicts recidivism 61 percent of the time. But blacks are almost twice as likely as whites to be labeled a higher risk but not actually re-offend. It makes the opposite mistake among whites: They are much more likely than blacks to be labeled lower risk but go on to commit other crimes."
      ]
    },
    {
      "cell_type": "markdown",
      "metadata": {
        "id": "alm_k9YgTcAF"
      },
      "source": [
        "Replicating ProPublica analysis\n",
        "-------------------------------"
      ]
    },
    {
      "cell_type": "markdown",
      "metadata": {
        "id": "YfOGLD6wTcAF"
      },
      "source": [
        "------------------------------------------------------------------------"
      ]
    },
    {
      "cell_type": "code",
      "execution_count": null,
      "metadata": {
        "id": "YVmfdiiPTcAG"
      },
      "outputs": [],
      "source": [
        "from IPython.core.interactiveshell import InteractiveShell\n",
        "InteractiveShell.ast_node_interactivity = \"all\"\n",
        "\n",
        "import numpy as np\n",
        "import pandas as pd\n",
        "import matplotlib.pyplot as plt\n",
        "import seaborn as sns\n",
        "from sklearn.metrics import confusion_matrix"
      ]
    },
    {
      "cell_type": "markdown",
      "metadata": {
        "id": "FkhSxJ2ZTcAG"
      },
      "source": [
        "### Read in the data"
      ]
    },
    {
      "cell_type": "code",
      "execution_count": null,
      "metadata": {
        "id": "PqtBVM7_TcAG"
      },
      "outputs": [],
      "source": [
        "url = 'https://raw.githubusercontent.com/propublica/compas-analysis/master/compas-scores-two-years.csv'\n",
        "df = pd.read_csv(url)"
      ]
    },
    {
      "cell_type": "code",
      "execution_count": null,
      "metadata": {
        "id": "3LpI8yRMTcAG"
      },
      "outputs": [],
      "source": [
        "df.info()"
      ]
    },
    {
      "cell_type": "code",
      "execution_count": null,
      "metadata": {
        "id": "t9pE_llhTcAG"
      },
      "outputs": [],
      "source": [
        "df.head()"
      ]
    },
    {
      "cell_type": "markdown",
      "metadata": {
        "id": "ySeAb0oBTcAG"
      },
      "source": [
        "### Transform into a binary classification problem"
      ]
    },
    {
      "cell_type": "markdown",
      "metadata": {
        "id": "UhuQ4i54TcAG"
      },
      "source": [
        "First, let’s make this a binary classification problem. We will add a new column that translates the risk score (`decile_score`) into a binary label.\n",
        "\n",
        "Any score 5 or higher (Medium or High risk) means that a defendant is treated as a likely recividist, and a score of 4 or lower (Low risk) means that a defendant is treated as unlikely to reoffend."
      ]
    },
    {
      "cell_type": "code",
      "execution_count": null,
      "metadata": {
        "id": "1pfUYyZWTcAH"
      },
      "outputs": [],
      "source": [
        "df['is_med_or_high_risk']  = (df['decile_score']>=5).astype(int)"
      ]
    },
    {
      "cell_type": "code",
      "execution_count": null,
      "metadata": {
        "id": "3yIPqB9TTcAH"
      },
      "outputs": [],
      "source": [
        "df.head()"
      ]
    },
    {
      "cell_type": "markdown",
      "metadata": {
        "id": "P1IZHlSeTcAH"
      },
      "source": [
        "We are using this data as a case study in evaluating the performance of a binary classifier.\n",
        "\n",
        "-   Which column in this data frame represents $\\hat{y}$, the prediction of a binary classifier?\n",
        "-   Which column in this data frame represents $y$, the actual outcome that the classifier is trying to predict?"
      ]
    },
    {
      "cell_type": "markdown",
      "metadata": {
        "id": "sLnrgN1ITcAH"
      },
      "source": [
        "### Evaluate model performance"
      ]
    },
    {
      "cell_type": "markdown",
      "metadata": {
        "id": "hV2lvmXCTcAH"
      },
      "source": [
        "To evaluate the performance of the model, we will compare the model’s predictions to the “truth”:\n",
        "\n",
        "-   The risk score prediction of the COMPAS system is in the `decile_score` column,\n",
        "-   The classification of COMPAS as medium/high risk or low risk is in the `is_med_or_high_risk` column\n",
        "-   The “true” recidivism value (whether or not the defendant committed another crime in the next two years) is in the `two_year_recid` column."
      ]
    },
    {
      "cell_type": "markdown",
      "metadata": {
        "id": "Ju3pF_DrTcAH"
      },
      "source": [
        "Let’s start by computing the accuracy:"
      ]
    },
    {
      "cell_type": "code",
      "execution_count": null,
      "metadata": {
        "id": "tTn9oOuFTcAH"
      },
      "outputs": [],
      "source": [
        "np.mean(df['is_med_or_high_risk']==df['two_year_recid'])"
      ]
    },
    {
      "cell_type": "markdown",
      "metadata": {
        "id": "fmtNn9vrTcAH"
      },
      "source": [
        "In comparison to “prediction by mode”:"
      ]
    },
    {
      "cell_type": "code",
      "execution_count": null,
      "metadata": {
        "id": "vEMiaz1vTcAH"
      },
      "outputs": [],
      "source": [
        "np.mean(df['two_year_recid'])"
      ]
    },
    {
      "cell_type": "markdown",
      "metadata": {
        "id": "3UGqr3doTcAH"
      },
      "source": [
        "This, itself, might already be considered problematic...\n",
        "\n",
        "-   it’s not at all obvious that pretrial release and sentencing decisions benefit from a risk assessment that is just a bit better than a random classifier, and\n",
        "-   it’s not obvious that the people using these risk assessment scores (for example, judges) are aware that the accuracy is so low."
      ]
    },
    {
      "cell_type": "markdown",
      "metadata": {
        "id": "yoGTOsXwTcAH"
      },
      "source": [
        "The accuracy score includes both kinds of errors:\n",
        "\n",
        "-   false positives (defendant is predicted as medium/high risk but does not reoffend)\n",
        "-   false negatives (defendant is predicted as low risk, but does reoffend)\n",
        "\n",
        "but these errors have different costs.\n",
        "\n",
        "(Which has a higher “cost”: giving an overly harsh sentence to someone who will not reoffend, or giving a too-lenient sentence to someone who will reoffend?)\n",
        "\n",
        "It can be useful to pull out the different types of errors separately, to see the rate of different types of errors."
      ]
    },
    {
      "cell_type": "markdown",
      "metadata": {
        "id": "ubz9AZE4TcAH"
      },
      "source": [
        "If we create a confusion matrix, we can use it to derive a whole set of classifier metrics:\n",
        "\n",
        "-   True Positive Rate (TPR) also called recall or sensitivity\n",
        "-   True Negative Rate (TNR) also called specificity\n",
        "-   Positive Predictive Value (PPV) also called precision\n",
        "-   Negative Predictive Value (NPV)\n",
        "-   False Positive Rate (FPR)\n",
        "-   False Discovery Rate (FDR)\n",
        "-   False Negative Rate (FNR)\n",
        "-   False Omission Rate (FOR)"
      ]
    },
    {
      "cell_type": "markdown",
      "metadata": {
        "id": "XwD-UqPjTcAH"
      },
      "source": [
        "![](https://ffund.github.io/intro-ml-tss21/images/ConfusionMatrix.svg)"
      ]
    },
    {
      "cell_type": "code",
      "execution_count": null,
      "metadata": {
        "id": "jYy6Dv9WTcAI"
      },
      "outputs": [],
      "source": [
        "cm = pd.crosstab(df['is_med_or_high_risk'], df['two_year_recid'],\n",
        "                               rownames=['Predicted'], colnames=['Actual'])\n",
        "p = plt.figure(figsize=(5,5));\n",
        "p = sns.heatmap(cm, annot=True, fmt=\"d\", cbar=False)"
      ]
    },
    {
      "cell_type": "markdown",
      "metadata": {
        "id": "eyG00RlDTcAI"
      },
      "source": [
        "We can also use `sklearn`'s `confusion_matrix` to pull out these values and compute any metrics of interest:"
      ]
    },
    {
      "cell_type": "code",
      "execution_count": null,
      "metadata": {
        "id": "HJYFpeXHTcAI"
      },
      "outputs": [],
      "source": [
        "[[tn , fp],[fn , tp]]  = confusion_matrix(df['two_year_recid'], df['is_med_or_high_risk'])\n",
        "print(\"True negatives:  \", tn)\n",
        "print(\"False positives: \", fp)\n",
        "print(\"False negatives: \", fn)\n",
        "print(\"True positives:  \", tp)"
      ]
    },
    {
      "cell_type": "markdown",
      "metadata": {
        "id": "q2pSTqfXTcAI"
      },
      "source": [
        "Or we can compute them directly using `crosstab` -"
      ]
    },
    {
      "cell_type": "markdown",
      "metadata": {
        "id": "dyWxsuHlTcAI"
      },
      "source": [
        "Here, we normalize by row - show the PPV, FDR, FOR, NPV:"
      ]
    },
    {
      "cell_type": "code",
      "execution_count": null,
      "metadata": {
        "id": "uq6F3YLETcAI"
      },
      "outputs": [],
      "source": [
        "cm = pd.crosstab(df['is_med_or_high_risk'], df['two_year_recid'],\n",
        "                               rownames=['Predicted'], colnames=['Actual'], normalize='index')\n",
        "p = plt.figure(figsize=(5,5));\n",
        "p = sns.heatmap(cm, annot=True, fmt=\".2f\", cbar=False)"
      ]
    },
    {
      "cell_type": "markdown",
      "metadata": {
        "id": "E3f3GpSDTcAI"
      },
      "source": [
        "Here, we normalize by colum - show the TPR, FPR, FNR, TNR:"
      ]
    },
    {
      "cell_type": "code",
      "execution_count": null,
      "metadata": {
        "id": "Bjcd2WcWTcAI"
      },
      "outputs": [],
      "source": [
        "cm = pd.crosstab(df['is_med_or_high_risk'], df['two_year_recid'],\n",
        "                               rownames=['Predicted'], colnames=['Actual'], normalize='columns')\n",
        "p = plt.figure(figsize=(5,5));\n",
        "p = sns.heatmap(cm, annot=True, fmt=\".2f\", cbar=False)"
      ]
    },
    {
      "cell_type": "markdown",
      "metadata": {
        "id": "iudKpAZATcAI"
      },
      "source": [
        "Overall, we see that a defendant has a similar likelihood of being wrongly labeled a likely recidivist and of being wrongly labeled as unlikely to reoffend:"
      ]
    },
    {
      "cell_type": "code",
      "execution_count": null,
      "metadata": {
        "id": "p0g-ftuhTcAI"
      },
      "outputs": [],
      "source": [
        "fpr = fp/(fp+tn)\n",
        "tpr = tp/(tp+fn)\n",
        "fnr = fn/(fn+tp)\n",
        "tnr = tn/(tn+fp)\n",
        "\n",
        "print(\"False positive rate (overall): \", fpr)\n",
        "print(\"False negative rate (overall): \", fnr)"
      ]
    },
    {
      "cell_type": "markdown",
      "metadata": {
        "id": "Jcf5DRloTcAI"
      },
      "source": [
        "We can also directly evaluate the risk score, instead of just the labels. The risk score is meant to indicate the probability that a defendant will reoffend."
      ]
    },
    {
      "cell_type": "code",
      "execution_count": null,
      "metadata": {
        "id": "DcYmIoSPTcAJ"
      },
      "outputs": [],
      "source": [
        "d = df.groupby('decile_score').agg({'two_year_recid': 'mean'})"
      ]
    },
    {
      "cell_type": "code",
      "execution_count": null,
      "metadata": {
        "id": "p1oP7ophTcAM"
      },
      "outputs": [],
      "source": [
        "sns.scatterplot(data=d);\n",
        "plt.ylim(0,1);\n",
        "plt.ylabel('Recidivism rate');"
      ]
    },
    {
      "cell_type": "markdown",
      "metadata": {
        "id": "5XxSZMNlTcAM"
      },
      "source": [
        "Defendants with a higher COMPAS score indeed had higher rates of recidivism."
      ]
    },
    {
      "cell_type": "markdown",
      "metadata": {
        "id": "BwqLA8VLTcAM"
      },
      "source": [
        "Finally, we can look at the ROC curve and AUC, which tells us how to work with the FPR-TPR tradeoff by setting the threshold for “medium or high risk” at different decile score levels."
      ]
    },
    {
      "cell_type": "code",
      "execution_count": null,
      "metadata": {
        "id": "K8BRI5aDTcAM"
      },
      "outputs": [],
      "source": [
        "from sklearn.metrics import roc_curve, roc_auc_score\n",
        "fpr, tpr, thresholds = roc_curve(df['two_year_recid'], df['decile_score'])\n",
        "auc = roc_auc_score(df['two_year_recid'], df['decile_score'])\n",
        "sns.lineplot(x=fpr, y=tpr, color='gray', alpha=0.5);\n",
        "sns.scatterplot(x=fpr, y=tpr, hue=pd.Categorical(thresholds), legend='full');\n",
        "plt.plot([0, 1], [0, 1], color='gray', linestyle='--');\n",
        "plt.title('AUC: %s' % ('{0:.4f}'.format(auc)));\n",
        "plt.xlabel(\"False positive rate\");\n",
        "plt.ylabel(\"True positive rate\");"
      ]
    },
    {
      "cell_type": "markdown",
      "metadata": {
        "id": "gdTPgorITcAM"
      },
      "source": [
        "### Fairness\n",
        "\n",
        "A useful reference for the fairness definitions in this notebook: [Fairness Definitions Explained](https://fairware.cs.umass.edu/papers/Verma.pdf)"
      ]
    },
    {
      "cell_type": "markdown",
      "metadata": {
        "id": "QGALjU40TcAM"
      },
      "source": [
        "COMPAS has been under scrutiny for issues related for fairness with respect to race of the defendant.\n",
        "\n",
        "Race is not an explicit input to COMPAS, but some of the questions that *are* used as input may have strong correlations with race.\n",
        "\n",
        "First, we will find out how frequently each race is represented in the data:"
      ]
    },
    {
      "cell_type": "code",
      "execution_count": null,
      "metadata": {
        "id": "NVXlxRq9TcAM"
      },
      "outputs": [],
      "source": [
        "df['race'].value_counts()"
      ]
    },
    {
      "cell_type": "markdown",
      "metadata": {
        "id": "Jvzl96XTTcAM"
      },
      "source": [
        "We will focus specifically on African-American or Caucasian defendants, since they are the subject of the ProPublica claim."
      ]
    },
    {
      "cell_type": "code",
      "execution_count": null,
      "metadata": {
        "id": "gylBaQCSTcAM"
      },
      "outputs": [],
      "source": [
        "df = df[df.race.isin([\"African-American\",\"Caucasian\"])]"
      ]
    },
    {
      "cell_type": "markdown",
      "metadata": {
        "id": "pCK8heESTcAM"
      },
      "source": [
        "First, let’s compare the accuracy for the two groups:"
      ]
    },
    {
      "cell_type": "code",
      "execution_count": null,
      "metadata": {
        "id": "mQ-OeaCETcAM"
      },
      "outputs": [],
      "source": [
        "(df['two_year_recid']==df['is_med_or_high_risk']).astype(int).groupby(df['race']).mean()"
      ]
    },
    {
      "cell_type": "markdown",
      "metadata": {
        "id": "kzWBZa34TcAM"
      },
      "source": [
        "It isn’t exactly the same, but it’s similar - within a few points. This is a type of fairness known as **overall accuracy equality**."
      ]
    },
    {
      "cell_type": "markdown",
      "metadata": {
        "id": "6kDyg_UuTcAM"
      },
      "source": [
        "Next, let’s see whether a defendant who is classified as medium/high risk has the same probability of recidivism for the two groups.\n",
        "\n",
        "In other words, we will compute the PPV for each group:\n",
        "\n",
        "$$PPV = \\frac{TP}{TP+FP} = P(y=1 | \\hat{y} = 1)$$"
      ]
    },
    {
      "cell_type": "code",
      "execution_count": null,
      "metadata": {
        "id": "Og-1fUu6TcAM"
      },
      "outputs": [],
      "source": [
        "df[df['is_med_or_high_risk']==1]['two_year_recid'].groupby(df['race']).mean()"
      ]
    },
    {
      "cell_type": "markdown",
      "metadata": {
        "id": "0oCYaB_MTcAM"
      },
      "source": [
        "Again, similar (within a few points). This is a type of fairness known as **predictive parity**."
      ]
    },
    {
      "cell_type": "markdown",
      "metadata": {
        "id": "raIl2LDyTcAN"
      },
      "source": [
        "We can extend this idea, to check whether a defendant with a given score has the same probability of recidivism for the two groups:"
      ]
    },
    {
      "cell_type": "code",
      "execution_count": null,
      "metadata": {
        "id": "54602pPiTcAN"
      },
      "outputs": [],
      "source": [
        "d = pd.DataFrame(df.groupby(['decile_score','race']).agg({'two_year_recid': 'mean'}))\n",
        "d = d.reset_index()\n",
        "im = sns.scatterplot(data=d, x='decile_score', y='two_year_recid', hue='race');\n",
        "im.set(ylim=(0,1));"
      ]
    },
    {
      "cell_type": "markdown",
      "metadata": {
        "id": "sbBc304MTcAN"
      },
      "source": [
        "We can see that for both African-American and Caucasian defendants, for any given COMPAS score, recidivism rates are similar. This is a type of fairness known as **calibration**."
      ]
    },
    {
      "cell_type": "markdown",
      "metadata": {
        "id": "lNxAAmNvTcAN"
      },
      "source": [
        "Next, we will look at the frequency with which defendants of each race are assigned each COMPAS score:"
      ]
    },
    {
      "cell_type": "code",
      "execution_count": null,
      "metadata": {
        "id": "uJkyH8OjTcAN"
      },
      "outputs": [],
      "source": [
        "g = sns.FacetGrid(df, col=\"race\", margin_titles=True);\n",
        "g.map(plt.hist, \"decile_score\", bins=10);"
      ]
    },
    {
      "cell_type": "markdown",
      "metadata": {
        "id": "67xy53g1TcAN"
      },
      "source": [
        "We observe that Caucasian defendants in this sample are more likely to be assigned a low risk score."
      ]
    },
    {
      "cell_type": "markdown",
      "metadata": {
        "id": "ok757FYtTcAN"
      },
      "source": [
        "However, to evaluate whether this is *unfair*, we need to know the true prevalence - whether the rates of recividism are the same in both populations, according to the data:"
      ]
    },
    {
      "cell_type": "code",
      "execution_count": null,
      "metadata": {
        "id": "Imgj8IB8TcAN"
      },
      "outputs": [],
      "source": [
        "df.groupby('race').agg({'two_year_recid': 'mean',\n",
        "                        'is_med_or_high_risk': 'mean',\n",
        "                        'decile_score': 'mean'})"
      ]
    },
    {
      "cell_type": "markdown",
      "metadata": {
        "id": "HdSpUPamTcAN"
      },
      "source": [
        "The predictions of the model are fairly close to the actual prevalence in the population."
      ]
    },
    {
      "cell_type": "markdown",
      "metadata": {
        "id": "UVHK21Q8TcAN"
      },
      "source": [
        "So far, our analysis suggests that COMPAS is fair with respect to race:\n",
        "\n",
        "-   The overall accuracy of the COMPAS label is the same, regardless of race (**overall accuracy equality**)\n",
        "-   The likelihood of recividism among defendants labeled as medium or high risk is similar, regardless of race (**predictive parity**)\n",
        "-   For any given COMPAS score, the risk of recidivism is similar, regardless of race - the “meaning” of the score is consistent across race (**calibration**)\n",
        "\n",
        "We do not have **statistical parity** (a type of fairness corresponding to equal probability of positive classification), but we don’t necessarily expect to when the prevalance of actual positive is different between groups."
      ]
    },
    {
      "cell_type": "markdown",
      "metadata": {
        "id": "IVwwkTHrTcAN"
      },
      "source": [
        "### Revisiting the ProPublica claim"
      ]
    },
    {
      "cell_type": "markdown",
      "metadata": {
        "id": "pqRpTnWjTcAN"
      },
      "source": [
        "ProPublica made a specific claim:\n",
        "\n",
        "> 23.5% of Caucasian defendants, 44.9% of African-American defendants were “Labeled Higher Risk, But Didn’t Re-Offend”"
      ]
    },
    {
      "cell_type": "markdown",
      "metadata": {
        "id": "MWek7oZTTcAN"
      },
      "source": [
        "What metric should we check to evaluate whether this claim is correct?\n",
        "\n",
        "$$FDR   = \\frac{FP}{FP + TP} = P(y = 0 | \\hat{y} = 1)$$\n",
        "\n",
        "$$FPR = \\frac{FP}{FP + TN} = P(\\hat{y} = 1 | y=0)$$\n",
        "\n",
        "$$FOR   = \\frac{FN}{FN + TN} = P(y = 1 |\\hat{y} = 0)$$\n",
        "\n",
        "$$FNR = \\frac{FN}{TP + FN} = P(\\hat{y} = 0 | y=1)$$"
      ]
    },
    {
      "cell_type": "markdown",
      "metadata": {
        "id": "orp6IyqpTcAN"
      },
      "source": [
        "Is “Labeled Higher Risk, But Didn’t Re-Offend” the same thing as \"Didn’t Re-Offend, But Labeled Higher Risk?"
      ]
    },
    {
      "cell_type": "markdown",
      "metadata": {
        "id": "mx9NL6PyTcAN"
      },
      "source": [
        "In the following image, the top row shows the confusion matrix normalized by row - the PPV, FDR, FOR, NPV - by race. The bottom row shows the confusion matrix normalized by column - TPR, FPR, FNR, TNR."
      ]
    },
    {
      "cell_type": "code",
      "execution_count": null,
      "metadata": {
        "id": "7m5ns32JTcAN"
      },
      "outputs": [],
      "source": [
        "p = plt.figure(figsize=(9,9));\n",
        "plt.subplots_adjust(hspace=0.4)\n",
        "\n",
        "for i, race in enumerate(['Caucasian', 'African-American']):\n",
        "  cm = pd.crosstab(df[df.race.eq(race)]['is_med_or_high_risk'], df[df.race.eq(race)]['two_year_recid'],\n",
        "                               rownames=['Predicted'], colnames=['Actual'], normalize='index')\n",
        "  p = plt.subplot(2,2,i+1)\n",
        "  p = sns.heatmap(cm, annot=True, fmt=\".2f\", cbar=False, vmin=0, vmax=1)\n",
        "  p = plt.title(\"PPV, FDR, FOR, NPV\\nfor %s defendants\" % race)\n",
        "\n",
        "for i, race in enumerate(['Caucasian', 'African-American']):\n",
        "  cm = pd.crosstab(df[df.race.eq(race)]['is_med_or_high_risk'], df[df.race.eq(race)]['two_year_recid'],\n",
        "                               rownames=['Predicted'], colnames=['Actual'], normalize='columns')\n",
        "  p = plt.subplot(2,2,i+3)\n",
        "  p = sns.heatmap(cm, annot=True, fmt=\".2f\", cbar=False, vmin=0, vmax=1)\n",
        "  p = plt.title(\"TPR, FPR, FNR, TNR\\nfor %s defendants\" % race)"
      ]
    },
    {
      "cell_type": "markdown",
      "metadata": {
        "id": "RTvTaUNhTcAN"
      },
      "source": [
        "### Can we fix it?"
      ]
    },
    {
      "cell_type": "markdown",
      "metadata": {
        "id": "cryV7X-cTcAO"
      },
      "source": [
        "What if we adjust the thresholds separately for each group, to try and equalize the error rates?"
      ]
    },
    {
      "cell_type": "code",
      "execution_count": null,
      "metadata": {
        "id": "wk9LMGMITcAO"
      },
      "outputs": [],
      "source": [
        "thresholds = {'Caucasian': 4, 'African-American': 6}\n",
        "df['threshold'] = df['race'].map(thresholds)\n",
        "df['is_med_or_high_risk']  = (df['decile_score']>=df['threshold']).astype(int)"
      ]
    },
    {
      "cell_type": "code",
      "execution_count": null,
      "metadata": {
        "id": "GcGNp_0BTcAO"
      },
      "outputs": [],
      "source": [
        "p = plt.figure(figsize=(9,9));\n",
        "plt.subplots_adjust(hspace=0.4)\n",
        "\n",
        "for i, race in enumerate(['Caucasian', 'African-American']):\n",
        "  cm = pd.crosstab(df[df.race.eq(race)]['is_med_or_high_risk'], df[df.race.eq(race)]['two_year_recid'],\n",
        "                               rownames=['Predicted'], colnames=['Actual'], normalize='index')\n",
        "  p = plt.subplot(2,2,i+1)\n",
        "  p = sns.heatmap(cm, annot=True, fmt=\".2f\", cbar=False, vmin=0, vmax=1)\n",
        "  p = plt.title(\"PPV, FDR, FOR, NPV\\nfor %s defendants\" % race)\n",
        "\n",
        "for i, race in enumerate(['Caucasian', 'African-American']):\n",
        "  cm = pd.crosstab(df[df.race.eq(race)]['is_med_or_high_risk'], df[df.race.eq(race)]['two_year_recid'],\n",
        "                               rownames=['Predicted'], colnames=['Actual'], normalize='columns')\n",
        "  p = plt.subplot(2,2,i+3)\n",
        "  p = sns.heatmap(cm, annot=True, fmt=\".2f\", cbar=False, vmin=0, vmax=1)\n",
        "  p = plt.title(\"TPR, FPR, FNR, TNR\\nfor %s defendants\" % race)"
      ]
    },
    {
      "cell_type": "markdown",
      "metadata": {
        "id": "R9ndWcfOTcAO"
      },
      "source": [
        "Why is it so tricky to satisfy multiple types of fairness at once? This is due to a proven *impossibility result*.\n",
        "\n",
        "Any time\n",
        "\n",
        "-   the *base rate* (prevalence of the positive condition) is different in the two groups, and\n",
        "-   we do not have a perfect classifier\n",
        "\n",
        "Then we cannot simultaneously satisfy:\n",
        "\n",
        "-   Equal PPV and NPV for both groups (known as **conditional use accuracy equality**), and\n",
        "-   Equal FPR and FNR for both groups (known as **equalized odds** or **conditional procedure accuracy equality**)\n",
        "\n",
        "The proof is in: [Inherent Trade-Offs in the Fair Determination of Risk Scores](https://arxiv.org/pdf/1609.05807.pdf)"
      ]
    },
    {
      "cell_type": "markdown",
      "metadata": {
        "id": "TVzeVOWwTcAO"
      },
      "source": [
        "Some interactive online demos on this:\n",
        "\n",
        "-   Google's People + AI + Research (PAIR) group explainer: [Measuring fairness](https://pair.withgoogle.com/explorables/measuring-fairness/)\n",
        "-   Another Google Explainer: [Attacking discrimination with smarter machine learning](https://research.google.com/bigpicture/attacking-discrimination-in-ml/)"
      ]
    },
    {
      "cell_type": "markdown",
      "metadata": {
        "id": "ohiGXSL8TcAO"
      },
      "source": [
        "Are human decision-makers more fair?\n",
        "------------------------------------\n",
        "\n",
        "From [The accuracy, fairness, and limits of predicting recidivism](https://www.ncbi.nlm.nih.gov/pmc/articles/PMC5777393/) (Julia Dressel and Hany Farid, January 2018):\n",
        "\n",
        "![Human vs. COMPAS predictions](https://www.ncbi.nlm.nih.gov/pmc/articles/PMC5777393/bin/aao5580-F1.jpg)\n",
        "\n",
        "> Participants saw a short description of a defendant that included the defendant’s sex, age, and previous criminal history, but not their race (see Materials and Methods). Participants predicted whether this person would recidivate within 2 years of their most recent crime.… We compare these results with the performance of COMPAS."
      ]
    },
    {
      "cell_type": "markdown",
      "metadata": {
        "id": "nULCIpn8TcAO"
      },
      "source": [
        "Overview\n",
        "--------"
      ]
    },
    {
      "cell_type": "markdown",
      "metadata": {
        "id": "arsIc_gqTcAO"
      },
      "source": [
        "### What we learned\n",
        "\n",
        "-   A model can be biased with respect to age, race, gender, even if those features are not used as input to the model. (“Fairness through unawareness” is often not very helpful!)\n",
        "-   Human biases and unfairness in society leak into the data used to train machine learning models. For example, if Black defendants are subject to closer monitoring than white defendants, they might have higher rights of *measured* recidivism even if the underlying rates of offense were the same.\n",
        "-   There are many measures of fairness, it may be impossible to satisfy some combination of these simultaneously."
      ]
    },
    {
      "cell_type": "markdown",
      "metadata": {
        "id": "Gq1IJGXgTcAO"
      },
      "source": [
        "### What we can do\n",
        "\n",
        "What can we do to improve fairness of our machine learning models?\n",
        "\n",
        "-   Are there policy/legal actions that might help?\n",
        "    -   Justice in Forensic Algorithms Act [proposed by Rep. Mark Takano](https://medium.com/@repmarktakano/opening-the-black-box-of-forensic-algorithms-6194493b9960) would give defendants access to source code - would that help defendants facing unfair machine learning models?\n",
        "-   What can we do, as machine learning engineers, that might help?\n",
        "    -   Exploratory data analysis - look for possible underlying bias in the data.\n",
        "    -   Avoid using sensitive group as a feature (or a proxy for a sensitive group), but this doesn’t necessarily help. (It didn’t help in this example.) Sometimes, using the sensitive group to explicitly *add* fairness might be better.\n",
        "    -   Make sure different groups are well represented in the data.\n",
        "    -   End users must be made aware of what the model output means - for example, judges should understand that a “high risk” label only means a 65% chance of reoffending.\n",
        "    -   Evaluate final model for bias with respect to sensitive groups.\n",
        "    -   May not be possible to satisfy multiple fairness metrics simultaneously, work with end users to decide which fairness metrics to prioritize, and to create a model that is fair w.r.t. that metric."
      ]
    },
    {
      "cell_type": "markdown",
      "metadata": {
        "id": "qGMh8SlbTcAO"
      },
      "source": [
        "More details on the COMPAS analysis\n",
        "-----------------------------------\n",
        "\n",
        "-   Julia Angwin, Jeff Larson, Surya Mattu and Lauren Kirchner, May 2016, [Machine Bias](https://www.propublica.org/article/machine-bias-risk-assessments-in-criminal-sentencing)\n",
        "-   Jeff Larson, Surya Mattu, Lauren Kirchner and Julia Angwin, May 2016, [How We Analyzed the COMPAS Recidivism Algorithm](https://www.propublica.org/article/how-we-analyzed-the-compas-recidivism-algorithm)\n",
        "-   William Dieterich, Christina Mendoza, and Tim Brennan, July 2016, [COMPAS Risk Scales: Demonstrating Accuracy Equity and Predictive Parity](http://go.volarisgroup.com/rs/430-MBX-989/images/ProPublica_Commentary_Final_070616.pdf)"
      ]
    }
  ],
  "nbformat": 4,
  "nbformat_minor": 0,
  "metadata": {
    "kernelspec": {
      "name": "python3",
      "display_name": "Python 3"
    },
    "colab": {
      "name": "4-compas-case-study.ipynb",
      "provenance": []
    }
  }
}