{
  "cells": [
    {
      "cell_type": "markdown",
      "metadata": {
        "id": "fae4a584-1ec8-4646-acf6-15cf439859e1"
      },
      "source": [
        "## In this notebook\n",
        "\n",
        "Many college courses conclude by giving students the opportunity to evaluate the course and the instructor anonymously. In the article “Beauty in the Classroom: Professors’ Pulchritude and Putative Pedagogical Productivity” ([PDF](https://www.nber.org/papers/w9853.pdf)), authors Daniel Hamermesh and Amy M. Parker suggest (based on a data set of teaching evaluation scores collected at UT Austin) that student evaluation scores can partially be predicted by features unrelated to teaching, such as the physical attractiveness of the instructor.\n",
        "\n",
        "In this notebook, we will use this data to try and predict a course- and instructor-specific “baseline” score (excluding the effect of teaching quality), against which to measure instructor performance."
      ],
      "id": "fae4a584-1ec8-4646-acf6-15cf439859e1"
    },
    {
      "cell_type": "markdown",
      "metadata": {
        "id": "a2e3c382-e2db-4df3-b50c-e805697d333f"
      },
      "source": [
        "### Attribution\n",
        "\n",
        "Parts of this lab are based on a lab assignment from the OpenIntro textbook “Introductory Statistics with Randomization and Simulation” that is released under a Creative Commons Attribution-ShareAlike 3.0 Unported license. The book website is at <https://www.openintro.org/book/isrs/>."
      ],
      "id": "a2e3c382-e2db-4df3-b50c-e805697d333f"
    },
    {
      "cell_type": "markdown",
      "metadata": {
        "id": "07b1750b-2f69-4fc2-953c-3493616489fc"
      },
      "source": [
        "### Data\n",
        "\n",
        "The data were gathered from end of semester student evaluations for a large sample of professors from the University of Texas at Austin. In addition, six students looked at a photograph of each professor in the sample, and rated the professors’ physical appearance. More specifically:\n",
        "\n",
        "> Each of the professors’ pictures was rated by each of six undergraduate students: Three women and three men, with one of each gender being a lower-division, two upper-division students (to accord with the distribution of classes across the two levels). The raters were told to use a 10 (highest) to 1 rating scale, to concentrate on the physiognomy of the professor in the picture, to make their ratings independent of age, and to keep 5 in mind as an average.\n",
        "\n",
        "We are using a slightly modified version of the original data set from the published paper. The dataset was released along with the textbook “Data Analysis Using Regression and Multilevel/Hierarchical Models” (Gelman and Hill, 2007).)"
      ],
      "id": "07b1750b-2f69-4fc2-953c-3493616489fc"
    },
    {
      "cell_type": "markdown",
      "metadata": {
        "id": "9e5b8e51-5598-4a28-a400-3ad780b0cde6"
      },
      "source": [
        "### Setup\n",
        "\n",
        "We will start by importing relevant libraries, setting up our notebook, reading in the data, and checking that it was loaded correctly."
      ],
      "id": "9e5b8e51-5598-4a28-a400-3ad780b0cde6"
    },
    {
      "cell_type": "code",
      "execution_count": null,
      "metadata": {
        "id": "e8d0a3f2-9afa-4f96-82e2-8491384e1978"
      },
      "outputs": [],
      "source": [
        "import pandas as pd\n",
        "import matplotlib.pyplot as plt\n",
        "import seaborn as sns\n",
        "import numpy as np\n",
        "from sklearn import metrics\n",
        "from sklearn import model_selection\n",
        "from sklearn.linear_model import LinearRegression\n",
        "\n",
        "from IPython.core.interactiveshell import InteractiveShell\n",
        "InteractiveShell.ast_node_interactivity = \"all\""
      ],
      "id": "e8d0a3f2-9afa-4f96-82e2-8491384e1978"
    },
    {
      "cell_type": "code",
      "execution_count": null,
      "metadata": {
        "id": "d5df40c3-3cfa-4a6f-a6f4-0dc7ec5daf0a"
      },
      "outputs": [],
      "source": [
        "!wget 'https://www.openintro.org/stat/data/evals.csv' -O 'evals.csv'"
      ],
      "id": "d5df40c3-3cfa-4a6f-a6f4-0dc7ec5daf0a"
    },
    {
      "cell_type": "code",
      "execution_count": null,
      "metadata": {
        "id": "2caf5b8a-1122-48f0-a5d3-853ef7a8f54a"
      },
      "outputs": [],
      "source": [
        "df = pd.read_csv('evals.csv')\n",
        "df.head()\n",
        "df.columns\n",
        "df.shape"
      ],
      "id": "2caf5b8a-1122-48f0-a5d3-853ef7a8f54a"
    },
    {
      "cell_type": "markdown",
      "metadata": {
        "id": "e87ed421-b537-4511-ac2a-3bb3dfc4036f"
      },
      "source": [
        "Each row in the data frame represents a different course, and columns represent features of the courses and professors. Here’s the data dictionary:\n",
        "\n",
        "| variable        | description                                                                           |\n",
        "|------------------------------------------|------------------------------|\n",
        "| `score`         | average professor evaluation score: (1) very unsatisfactory - (5) excellent.          |\n",
        "| `rank`          | rank of professor: teaching, tenure track, tenured.                                   |\n",
        "| `ethnicity`     | ethnicity of professor: not minority, minority.                                       |\n",
        "| `gender`        | gender of professor: female, male.                                                    |\n",
        "| `language`      | language of school where professor received education: english or non-english.        |\n",
        "| `age`           | age of professor.                                                                     |\n",
        "| `cls_perc_eval` | percent of students in class who completed evaluation.                                |\n",
        "| `cls_did_eval`  | number of students in class who completed evaluation.                                 |\n",
        "| `cls_students`  | total number of students in class.                                                    |\n",
        "| `cls_level`     | class level: lower, upper.                                                            |\n",
        "| `cls_profs`     | number of professors teaching sections in course in sample: single, multiple.         |\n",
        "| `cls_credits`   | number of credits of class: one credit (lab, PE, etc.), multi credit.                 |\n",
        "| `bty_f1lower`   | beauty rating of professor from lower level female: (1) lowest - (10) highest.        |\n",
        "| `bty_f1upper`   | beauty rating of professor from upper level female: (1) lowest - (10) highest.        |\n",
        "| `bty_f2upper`   | beauty rating of professor from second upper level female: (1) lowest - (10) highest. |\n",
        "| `bty_m1lower`   | beauty rating of professor from lower level male: (1) lowest - (10) highest.          |\n",
        "| `bty_m1upper`   | beauty rating of professor from upper level male: (1) lowest - (10) highest.          |\n",
        "| `bty_m2upper`   | beauty rating of professor from second upper level male: (1) lowest - (10) highest.   |\n",
        "| `bty_avg`       | average beauty rating of professor.                                                   |\n",
        "| `pic_outfit`    | outfit of professor in picture: not formal, formal.                                   |\n",
        "| `pic_color`     | color of professor’s picture: color, black & white.                                   |\n",
        "\n",
        "Source: [OpenIntro book](https://www.openintro.org/book/isrs/)."
      ],
      "id": "e87ed421-b537-4511-ac2a-3bb3dfc4036f"
    },
    {
      "cell_type": "markdown",
      "metadata": {
        "id": "b29553df-8afd-467d-8290-c1ed1c49028f"
      },
      "source": [
        "Note that:\n",
        "\n",
        "-   `score` is the target variable - this is what we want our model to predict. We expect that the score is a function of the teaching quality, characteristics of the course, and non-teaching related characteristics of the instructor. However, the “true” teaching quality for each course is not known.\n",
        "-   the variables that begin with a `cls_` prefix are features that relate to the course. These features could potentially affect student evaluations: for example, students may rank one-credit lab courses more highly than multi-credit lecture courses.\n",
        "-   variables such as `rank`, `ethnicity`, `gender`, `language`, `age`, and the variables with a `bty_` prefix are features that relate to the instructor. They do not necessarily to the quality of instruction! These features may also affect student evaluations: for example, students may rate instructors more highly if they are physically attractive.\n",
        "-   variables with the `pic_` prefix describe the photograph that was shown to the students who provided the `bty_` scores. This should have no effect on the student evaluations, since those were evaluations by students who were enrolled in the course (not the students who were shown the photograph and asked to provide an attractiveness score.) (For your reference: on the bottom of page 7 of the paper, the authors describe why they include this variable and how they used it )"
      ],
      "id": "b29553df-8afd-467d-8290-c1ed1c49028f"
    },
    {
      "cell_type": "markdown",
      "metadata": {
        "id": "dda465cc-23fa-43b9-9dc3-f4795e245bbb"
      },
      "source": [
        "### Explore data\n",
        "\n",
        "As always, start by exploring the data:"
      ],
      "id": "dda465cc-23fa-43b9-9dc3-f4795e245bbb"
    },
    {
      "cell_type": "code",
      "execution_count": null,
      "metadata": {
        "id": "ff361fa5-b75b-4133-98c1-0b659f21b70a"
      },
      "outputs": [],
      "source": [
        "df.describe()"
      ],
      "id": "ff361fa5-b75b-4133-98c1-0b659f21b70a"
    },
    {
      "cell_type": "code",
      "execution_count": null,
      "metadata": {
        "id": "0220d53e-6a63-4e76-a2b9-7aa93a6780e0"
      },
      "outputs": [],
      "source": [
        "sns.pairplot(df, plot_kws={'alpha':0.5, 'size': 0.1})"
      ],
      "id": "0220d53e-6a63-4e76-a2b9-7aa93a6780e0"
    },
    {
      "cell_type": "markdown",
      "metadata": {
        "id": "b76d8911-10dc-4388-adc4-e0b0004c4ee6"
      },
      "source": [
        "With so many numeric variables, the pair plot is hard to read. We can create a pairplot excluding some variables that we don’t expect to be useful for visualization: `cls_perc_eval`, `cls_did_eval`. We will also exclude the individual attractiveness ratings `bty_f1lower`, `bty_f1upper`, `bty_f2upper`, `bty_m1lower`, `bty_m1upper`, `bty_m2upper`, since the overall attractiveness rating is still represented by `bty_avg`."
      ],
      "id": "b76d8911-10dc-4388-adc4-e0b0004c4ee6"
    },
    {
      "cell_type": "code",
      "execution_count": null,
      "metadata": {
        "id": "c591257c-2e64-4e37-a007-24629b12a75c"
      },
      "outputs": [],
      "source": [
        "sns.pairplot(df, vars=['age', 'cls_students', 'bty_avg', 'score'], plot_kws={'alpha':0.5, 'size': 0.1})"
      ],
      "id": "c591257c-2e64-4e37-a007-24629b12a75c"
    },
    {
      "cell_type": "markdown",
      "metadata": {
        "id": "b2fb15f6-3071-4eab-a141-1571ad50b420"
      },
      "source": [
        "As part of our exploration of the data, we can also examine the effect of non-numeric variables related to the instructor and the class: `rank`, `ethnicity`, `gender`, `language`, `cls_level`, `cls_profs`, `cls_credits`."
      ],
      "id": "b2fb15f6-3071-4eab-a141-1571ad50b420"
    },
    {
      "cell_type": "code",
      "execution_count": null,
      "metadata": {
        "id": "0f333bf8-88d7-4009-a3db-7040d4ab00f2"
      },
      "outputs": [],
      "source": [
        "for feature in ['rank', 'ethnicity', 'gender', 'language', 'cls_level', 'cls_profs', 'cls_credits']:\n",
        "    df.groupby([feature])['score'].describe()"
      ],
      "id": "0f333bf8-88d7-4009-a3db-7040d4ab00f2"
    },
    {
      "cell_type": "markdown",
      "metadata": {
        "id": "6d2a54a5-591e-4e31-99ab-f33094648f3a"
      },
      "source": [
        "#### Discussion Question 1\n",
        "\n",
        "Describe the relationship between `score` and the overall attractiveness rating `bty_avg`. Is there an apparent correlation? If so, is it a positive or a negative correlation? What about `age` and `cls_students`, do they appear to be correlated with `score`?\n",
        "\n",
        "Also describe the relationship between `score` and the categorical variables you explored above that are related to characteristics of the *instructor*: `rank`, `ethnicity`, `gender`, `language`. Which of these variables have an apparent correlation with `score`? Is it a positive or a negative correlation?\n",
        "\n",
        "Are any of the apparent relationships you observed unexpected to you? Explain.\n",
        "\n",
        "------------------------------------------------------------------------"
      ],
      "id": "6d2a54a5-591e-4e31-99ab-f33094648f3a"
    },
    {
      "cell_type": "markdown",
      "metadata": {
        "id": "f13abb70-b45d-4f49-9dd8-3c61ca185c70"
      },
      "source": [
        "### Encoding categorical variables\n",
        "\n",
        "To represent a categorical variable (with no inherent ordering) in a regression, we can use *one hot encoding*. It works as follows:\n",
        "\n",
        "-   For a categorical variable $x$ with values $1,\\cdots,M$\n",
        "-   Represent with $M$ binary features: $\\phi_1, \\phi_2, \\cdots , \\phi_M$\n",
        "-   Model in regression $w1_1 \\phi_1 + \\cdots + w_M \\phi_M$\n",
        "\n",
        "We can use the `get_dummies` function in `pandas` for one hot encoding. Create a copy of the dataframe with all categorical variables transformed into indicator (“dummy”) variables, and save it in a new data frame called `df_enc`.\n",
        "\n",
        "Compare the columns of the `df` data frame versus the `df_enc` data frame."
      ],
      "id": "f13abb70-b45d-4f49-9dd8-3c61ca185c70"
    },
    {
      "cell_type": "code",
      "execution_count": null,
      "metadata": {
        "id": "751c0928-678b-4069-9099-5fe7bb5e78f4"
      },
      "outputs": [],
      "source": [
        "df_enc = pd.get_dummies(df)\n",
        "df_enc.columns"
      ],
      "id": "751c0928-678b-4069-9099-5fe7bb5e78f4"
    },
    {
      "cell_type": "markdown",
      "metadata": {
        "id": "5b056075-36ef-4f47-bf91-c43467cf8fbc"
      },
      "source": [
        "### Split data\n",
        "\n",
        "Next, we split the encoded data into a training set (70%) and test set (30%). We will be especially interested in evaluating the model performance on the test set. Since it was not used to train the model parameters (intercept and coefficients), the performance on this data gives us a better idea of how the model may perform on new data.\n",
        "\n",
        "We’ll use the `train_test_split` method in `sklearn`’s `model_selection` module. Since it randomly splits the data, we’ll pass a random “state” into the function that makes the split repeatable (same split every time we run this notebook) and ensures that everyone in the class will have exactly the same split."
      ],
      "id": "5b056075-36ef-4f47-bf91-c43467cf8fbc"
    },
    {
      "cell_type": "code",
      "execution_count": null,
      "metadata": {
        "id": "7fd3638b-2180-4cf3-84a2-e3fd528517ba"
      },
      "outputs": [],
      "source": [
        "train, test = model_selection.train_test_split(df_enc, test_size=0.3, random_state=9)\n",
        "# why 9? see https://dilbert.com/strip/2001-10-25\n",
        "train.shape\n",
        "test.shape"
      ],
      "id": "7fd3638b-2180-4cf3-84a2-e3fd528517ba"
    },
    {
      "cell_type": "markdown",
      "metadata": {
        "id": "38e4de2f-de76-47f9-a3cc-fc64fa40909c"
      },
      "source": [
        "### Simple linear regression\n",
        "\n",
        "Now we are finally ready to train a regression model.\n",
        "\n",
        "Since the article is nominally abou the attractiveness of the instructor, we will train the simple linear regression on the `bty_avg` feature.\n",
        "\n",
        "In the cell that follows, we will write code to\n",
        "\n",
        "-   use `sklearn` to fit a simple linear regression model on the training set, using `bty_avg` as the feature on which to train. Save your fitted model in a variable `reg_simple`.\n",
        "-   print the intercept and coefficient of the model.\n",
        "-   use `predict` on the fitted model to estimate the evaluation score on the training set, and save this array in `y_pred_train`.\n",
        "-   use `predict` on the fitted model to estimate the evaluation score on the test set, and save this array in `y_pred_test`.\n",
        "\n",
        "Then run the cell after that one, which will show you the training data, the test data, and your regression line."
      ],
      "id": "38e4de2f-de76-47f9-a3cc-fc64fa40909c"
    },
    {
      "cell_type": "code",
      "execution_count": null,
      "metadata": {
        "id": "d3ace044-a76a-47f8-a326-0eee9849ef05"
      },
      "outputs": [],
      "source": [
        "reg_simple = LinearRegression().fit(train[['bty_avg']], train['score'])\n",
        "reg_simple.coef_\n",
        "reg_simple.intercept_\n",
        "\n",
        "y_pred_train = reg_simple.predict(train[['bty_avg']])\n",
        "y_pred_test = reg_simple.predict(test[['bty_avg']])"
      ],
      "id": "d3ace044-a76a-47f8-a326-0eee9849ef05"
    },
    {
      "cell_type": "code",
      "execution_count": null,
      "metadata": {
        "id": "b138aa93-21c4-4805-8054-8d205493a16a"
      },
      "outputs": [],
      "source": [
        "sns.scatterplot(data=train, x=\"bty_avg\", y=\"score\", color='blue', alpha=0.5);\n",
        "sns.scatterplot(data=test, x=\"bty_avg\", y=\"score\", color='green', alpha=0.5);\n",
        "sns.lineplot(data=train, x=\"bty_avg\", y=y_pred_train, color='red');"
      ],
      "id": "b138aa93-21c4-4805-8054-8d205493a16a"
    },
    {
      "cell_type": "markdown",
      "metadata": {
        "id": "92975b17-1687-4d6d-87f0-129914ed71fb"
      },
      "source": [
        "### Evaluate simple linear regression performance\n",
        "\n",
        "Next, we will evaluate our model performance.\n",
        "\n",
        "In the following cell, we will write a *function* to compute key performance metrics for our model:\n",
        "\n",
        "-   compute the R2 score on your training data\n",
        "-   compute the MSE on your training data\n",
        "-   compute the MSE, divided by the sample variance of `score`, on your training data. Recall that this metric tells us the ratio of average error of your model to average error of prediction by mean.\n",
        "-   and compute the same three metrics for your test set"
      ],
      "id": "92975b17-1687-4d6d-87f0-129914ed71fb"
    },
    {
      "cell_type": "code",
      "execution_count": null,
      "metadata": {
        "id": "236c3c42-ae82-44ed-9c10-3a9458a5ef09"
      },
      "outputs": [],
      "source": [
        "def regression_performance(y_true_train, y_pred_train, y_true_test, y_pred_test):\n",
        "\n",
        "    r2_train = metrics.r2_score(y_true_train, y_pred_train)\n",
        "    mse_train = metrics.mean_squared_error(y_true_train, y_pred_train)\n",
        "    norm_mse_train = metrics.mean_squared_error(y_true_train, y_pred_train)/(np.std(y_true_train)**2)\n",
        "\n",
        "    r2_test = metrics.r2_score(y_true_test, y_pred_test)\n",
        "    mse_test = metrics.mean_squared_error(y_true_test, y_pred_test)\n",
        "    norm_mse_test = metrics.mean_squared_error(y_true_test, y_pred_test)/(np.std(y_true_test)**2)\n",
        "\n",
        "    #print(\"Training:   %f %f %f\" % (r2_train, mse_train, norm_mse_train))\n",
        "    #print(\"Test:       %f %f %f\" % (r2_test, mse_test, norm_mse_test))\n",
        "\n",
        "    return [r2_train, mse_train, norm_mse_train, r2_test, mse_test, norm_mse_test]"
      ],
      "id": "236c3c42-ae82-44ed-9c10-3a9458a5ef09"
    },
    {
      "cell_type": "markdown",
      "metadata": {
        "id": "48417613-d38e-4956-ba2e-0a5eb598494d"
      },
      "source": [
        "Call your function to print the performance of the simple linear regression. Is a simple linear regression on `bty_avg` better than a “dumb” model that predicts the mean value of `score` for all samples?"
      ],
      "id": "48417613-d38e-4956-ba2e-0a5eb598494d"
    },
    {
      "cell_type": "code",
      "execution_count": null,
      "metadata": {
        "id": "3b7251ef-65dd-49ce-a8b5-1227ce053c43"
      },
      "outputs": [],
      "source": [
        "vals = regression_performance(train['score'], y_pred_train, test['score'], y_pred_test)"
      ],
      "id": "3b7251ef-65dd-49ce-a8b5-1227ce053c43"
    },
    {
      "cell_type": "markdown",
      "metadata": {
        "id": "09697ad9-8bab-49de-920b-9229d95f9318"
      },
      "source": [
        "### Multiple linear regression\n",
        "\n",
        "Next, we’ll see if we can improve model performance using multiple linear regression, with more features included.\n",
        "\n",
        "To start, we need to decide which features to use as input to our model. One possible approach is to use every feature in the dataset excluding the target variable, `score`.\n",
        "\n",
        "You can build and view this list of features by running:"
      ],
      "id": "09697ad9-8bab-49de-920b-9229d95f9318"
    },
    {
      "cell_type": "code",
      "execution_count": null,
      "metadata": {
        "id": "48ba8ad3-b59d-4c3c-b807-16e6c55747e7"
      },
      "outputs": [],
      "source": [
        "features = df_enc.columns.drop(['score'])\n",
        "features"
      ],
      "id": "48ba8ad3-b59d-4c3c-b807-16e6c55747e7"
    },
    {
      "cell_type": "markdown",
      "metadata": {
        "id": "b0dabc60-b4da-4ce4-8da8-a319ccb43916"
      },
      "source": [
        "In the following cell, we will write code to\n",
        "\n",
        "-   use `sklearn` to fit a linear regression model on the training set, using the `features` array as the list of features to train on. Save your fitted model in a variable `reg_multi`.\n",
        "-   print a table of the features used in the regression and the coefficient assigned to each. If you have saved your fitted regression in a variable named `reg_multi`, you can create and print this table with:\n",
        "\n",
        "``` python\n",
        "df_coef = pd.DataFrame(data =\n",
        "                        {'feature': features,\n",
        "                         'coefficient': reg_multi.coef_})\n",
        "df_coef\n",
        "```"
      ],
      "id": "b0dabc60-b4da-4ce4-8da8-a319ccb43916"
    },
    {
      "cell_type": "code",
      "execution_count": null,
      "metadata": {
        "id": "62859fb6-8f8d-426b-b202-138f4a112f76"
      },
      "outputs": [],
      "source": [
        "reg_multi = LinearRegression().fit(train[features], train['score'])\n",
        "df_coef = pd.DataFrame(data =\n",
        "                        {'feature': features,\n",
        "                         'coefficient': reg_multi.coef_})\n",
        "df_coef"
      ],
      "id": "62859fb6-8f8d-426b-b202-138f4a112f76"
    },
    {
      "cell_type": "markdown",
      "metadata": {
        "id": "4de5b41d-d2db-4f75-b935-c9ce2ea02ef9"
      },
      "source": [
        "#### Discussion Question 2\n",
        "\n",
        "Look at the list of features and coefficients, especially those related to the attractiveness ratings.\n",
        "\n",
        "Are these results surprising, based on the results of the simple linear regression? Explain your answer.\n",
        "\n",
        "------------------------------------------------------------------------"
      ],
      "id": "4de5b41d-d2db-4f75-b935-c9ce2ea02ef9"
    },
    {
      "cell_type": "markdown",
      "metadata": {
        "id": "abd3fd3f-38ca-4fc7-88ed-6ef647dfe0dc"
      },
      "source": [
        "### Effect of collinearity\n",
        "\n",
        "Note especially the coefficients associated with each of the individual attractiveness rankings, and the coefficient associated with the average attractiveness ranking. Each of these features separately seems to have a large effect; however, because they are strongly *collinear*, they cancel one another out.\n",
        "\n",
        "(You should be able to see the collinearity clearly in the pairplot you created.)\n",
        "\n",
        "In the following cell, we will write code to\n",
        "\n",
        "-   create a new `features` array, that drops the *individual* attractiveness rankings in addition to the `score` variable (but do *not* drop the average attractiveness ranking)\n",
        "-   use `sklearn` to fit a linear regression model on the training set, using the new `features` array as the list of features to train on. Save your fitted model in a variable `reg_avgbty`.\n",
        "-   print a table of the features used in the regression and the coefficient assigned to each."
      ],
      "id": "abd3fd3f-38ca-4fc7-88ed-6ef647dfe0dc"
    },
    {
      "cell_type": "code",
      "execution_count": null,
      "metadata": {
        "id": "e2e54c6c-3f18-4877-8855-acf40df7e3c2"
      },
      "outputs": [],
      "source": [
        "features = df_enc.columns.drop(['score',\n",
        "    'bty_f1lower', 'bty_f1upper', 'bty_f2upper',\n",
        "    'bty_m1lower', 'bty_m1upper', 'bty_m2upper'])\n",
        "reg_avgbty = LinearRegression().fit(train[features], train['score'])\n",
        "\n",
        "df_coef = pd.DataFrame(data =\n",
        "                        {'feature': features,\n",
        "                         'coefficient': reg_avgbty.coef_})\n",
        "df_coef"
      ],
      "id": "e2e54c6c-3f18-4877-8855-acf40df7e3c2"
    },
    {
      "cell_type": "markdown",
      "metadata": {
        "id": "63e3b6d3-a7e3-4414-af00-1f2825039116"
      },
      "source": [
        "#### Discussion Question 3\n",
        "\n",
        "Given the model parameters you have found, which is associated with the strongest effect (on average) on the evaluation score:\n",
        "\n",
        "-   Instructor ethnicity\n",
        "-   Instructor gender\n",
        "\n",
        "(Note that in general, we cannot use the coefficient to compare the effect of features that have a different range. But both ethnicity and gender are represented by binary one hot-encoded variables.)\n",
        "\n",
        "------------------------------------------------------------------------"
      ],
      "id": "63e3b6d3-a7e3-4414-af00-1f2825039116"
    },
    {
      "cell_type": "markdown",
      "metadata": {
        "id": "6c53a7ff-8d65-475f-94d4-5817b8c0232b"
      },
      "source": [
        "### Evaluate multiple regression model performance\n",
        "\n",
        "Evaluate the performance of your `reg_avgbty` model. In the next cell, we will write code to:\n",
        "\n",
        "-   use the `predict` function on your fitted regression to find $\\hat{y}$ for all samples in the *training* set, and save this in an array called `y_pred_train`\n",
        "-   use the `predict` function on your fitted regression to find $\\hat{y}$ for all samples in the *test* set, and save this in an array called `y_pred_test`\n",
        "-   call the `regression_performance` function you wrote in a previous cell, and print the performance metrics on the training and test set."
      ],
      "id": "6c53a7ff-8d65-475f-94d4-5817b8c0232b"
    },
    {
      "cell_type": "code",
      "execution_count": null,
      "metadata": {
        "id": "eb87630c-c035-4978-aaa3-b2f206292067"
      },
      "outputs": [],
      "source": [
        "y_pred_train = reg_avgbty.predict(train[features])\n",
        "y_pred_test = reg_avgbty.predict(test[features])\n",
        "\n",
        "vals = regression_performance(train['score'], y_pred_train, test['score'], y_pred_test)"
      ],
      "id": "eb87630c-c035-4978-aaa3-b2f206292067"
    },
    {
      "cell_type": "markdown",
      "metadata": {
        "id": "86474974-ee89-40f3-af7a-e7487c57f2e5"
      },
      "source": [
        "#### Discussion Question 4\n",
        "\n",
        "Based on the analysis above, what portion of the variation in instructor teaching evaluation can be explained by the factors unrelated to teaching performance, such as the physical characteristics of the instructor?\n",
        "\n",
        "------------------------------------------------------------------------"
      ],
      "id": "86474974-ee89-40f3-af7a-e7487c57f2e5"
    },
    {
      "cell_type": "markdown",
      "metadata": {
        "id": "f0da2a6d-f4db-4b47-b179-ea71ec20d964"
      },
      "source": [
        "#### Discussion Question 5\n",
        "\n",
        "Based on the analysis above, is your model better at predicting instructor teaching scores than a “dumb” model that just assigns the mean teaching score to every instructor? Explain.\n",
        "\n",
        "------------------------------------------------------------------------"
      ],
      "id": "f0da2a6d-f4db-4b47-b179-ea71ec20d964"
    },
    {
      "cell_type": "markdown",
      "metadata": {
        "id": "41d2a3f6-ec58-4743-bf41-c4e3a0fd664f"
      },
      "source": [
        "#### Discussion Question 6\n",
        "\n",
        "Suppose you are hired by the ECE department to develop a classifer that will identify high-performing faculty, who will then be awarded prizes for their efforts.\n",
        "\n",
        "Based on the analysis above, do you think it would be fair to use scores on teaching evaluations as an input to your classifier? Explain your answer.\n",
        "\n",
        "------------------------------------------------------------------------"
      ],
      "id": "41d2a3f6-ec58-4743-bf41-c4e3a0fd664f"
    },
    {
      "cell_type": "markdown",
      "metadata": {
        "id": "a4eb0679-7765-42e7-b093-73be762a2e30"
      },
      "source": [
        "### Exploring unexpected correlation\n",
        "\n",
        "There are some features that we do *not* expect to be correlated with the instructor’s score.\n",
        "\n",
        "For example, consider the “features” related to the photograph used by the students who rated the instructor’s attractiveness.\n",
        "\n",
        "There is no reason that characteristics of an instructor’s photograph - whether it was in black and white or color, how the instructor was dressed in the photograph - should influence the ratings of students in the instructor’s class. (These students did not even see the photograph.)\n",
        "\n",
        "We’re going to explore this more… in the next lesson."
      ],
      "id": "a4eb0679-7765-42e7-b093-73be762a2e30"
    }
  ],
  "nbformat": 4,
  "nbformat_minor": 5,
  "metadata": {
    "colab": {
      "provenance": []
    }
  }
}