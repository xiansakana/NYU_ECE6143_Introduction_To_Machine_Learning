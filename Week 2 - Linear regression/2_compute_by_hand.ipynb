{
  "cells": [
    {
      "cell_type": "markdown",
      "id": "ea562ad4-c539-4a83-a582-7276b4886e5d",
      "metadata": {
        "id": "ea562ad4-c539-4a83-a582-7276b4886e5d"
      },
      "source": [
        "## Computing regression coefficients\n",
        "\n",
        "This notebook walks through the steps involved in manual (pen and paper) computation of the optimal least squares regression coefficients, using the normal equations.\n",
        "\n",
        "We’ll also show how to do each of these steps in Python, so that you can try other values for $X$ and $y$ and then check your work."
      ]
    },
    {
      "cell_type": "code",
      "execution_count": 1,
      "id": "c4bf15f0-5011-4673-9185-ee402db01fba",
      "metadata": {
        "id": "c4bf15f0-5011-4673-9185-ee402db01fba"
      },
      "outputs": [],
      "source": [
        "import pandas as pd\n",
        "import seaborn as sns\n",
        "import numpy as np"
      ]
    },
    {
      "cell_type": "markdown",
      "id": "24424047-cea1-4cbb-ab6d-523417b49d7c",
      "metadata": {
        "id": "24424047-cea1-4cbb-ab6d-523417b49d7c"
      },
      "source": [
        "We will start with the labeled data. Our data includes four samples, with two features:\n",
        "\n",
        "$$ X =\n",
        "\\begin{bmatrix}\n",
        "1 & 2 \\\\\n",
        "2 & 3 \\\\\n",
        "4 & 1 \\\\\n",
        "5 & 5\n",
        "\\end{bmatrix},\n",
        "y =\n",
        "\\begin{bmatrix}\n",
        "3  \\\\\n",
        "2 \\\\\n",
        "7 \\\\\n",
        "1\n",
        "\\end{bmatrix}\n",
        "$$"
      ]
    },
    {
      "cell_type": "code",
      "execution_count": 2,
      "id": "2b999e60-d5b9-4b09-8f1e-5d1c85787386",
      "metadata": {
        "id": "2b999e60-d5b9-4b09-8f1e-5d1c85787386"
      },
      "outputs": [],
      "source": [
        "X = [[1,2], [2, 3], [4, 1], [5, 5]]\n",
        "y = [3, 2, 7, 1]"
      ]
    },
    {
      "cell_type": "markdown",
      "id": "b97ed4c4-801d-4946-8099-1b188c504286",
      "metadata": {
        "id": "b97ed4c4-801d-4946-8099-1b188c504286"
      },
      "source": [
        "We can use `seaborn` to plot each column of $X$ versus $y$:"
      ]
    },
    {
      "cell_type": "code",
      "execution_count": 3,
      "id": "9fa6e7f2-b6df-4e9c-949b-ab3460602606",
      "metadata": {
        "id": "9fa6e7f2-b6df-4e9c-949b-ab3460602606"
      },
      "outputs": [
        {
          "data": {
            "image/png": "[encoded data removed]",
            "text/plain": [
              "<Figure size 900x300 with 2 Axes>"
            ]
          },
          "metadata": {},
          "output_type": "display_data"
        }
      ],
      "source": [
        "df = pd.DataFrame(X, columns = [ 'x1', 'x2'])\n",
        "df = df.assign(y=y)\n",
        "\n",
        "melted = df.melt(id_vars=['y'], value_vars=[ 'x1','x2'])\n",
        "g = sns.FacetGrid(melted, col='variable', col_wrap=3);\n",
        "g.map(sns.scatterplot, 'value', 'y');"
      ]
    },
    {
      "cell_type": "markdown",
      "id": "182e426c-5510-441d-b0da-a56d248084c8",
      "metadata": {
        "id": "182e426c-5510-441d-b0da-a56d248084c8"
      },
      "source": [
        "Of course, we will assume a linear model. For a given sample:\n",
        "\n",
        "$$\\hat{y} = w_0 + w_1 x_1 + w_2 x_2$$"
      ]
    },
    {
      "cell_type": "markdown",
      "id": "1cbd3831-8f27-4cf2-90ec-738f3cc851bd",
      "metadata": {
        "id": "1cbd3831-8f27-4cf2-90ec-738f3cc851bd"
      },
      "source": [
        "Next, we will create a design matrix $A$ by horizontally “stacking” a vector of 1s and the matrix $X$:\n",
        "\n",
        "$$ A =\n",
        "\\begin{bmatrix}\n",
        "1 & 1 & 2 \\\\\n",
        "1 & 2 & 3 \\\\\n",
        "1 & 4 & 1 \\\\\n",
        "1 & 5 & 5\n",
        "\\end{bmatrix},\n",
        "$$"
      ]
    },
    {
      "cell_type": "code",
      "execution_count": 4,
      "id": "e7e85f91-eda6-42a8-b333-eed0c1fb7267",
      "metadata": {
        "id": "e7e85f91-eda6-42a8-b333-eed0c1fb7267"
      },
      "outputs": [
        {
          "data": {
            "text/plain": [
              "array([[1., 1., 2.],\n",
              "       [1., 2., 3.],\n",
              "       [1., 4., 1.],\n",
              "       [1., 5., 5.]])"
            ]
          },
          "execution_count": 4,
          "metadata": {},
          "output_type": "execute_result"
        }
      ],
      "source": [
        "A = np.hstack((np.ones(4)[:,None], X))\n",
        "A"
      ]
    },
    {
      "cell_type": "markdown",
      "id": "cfdacf81-1ed4-4887-bc17-09bff2a60436",
      "metadata": {
        "id": "cfdacf81-1ed4-4887-bc17-09bff2a60436"
      },
      "source": [
        "Now we can represent our linear model more easily using matrices:\n",
        "\n",
        "$$\\hat{\\mathbf{\\hat{y}}} = A\\mathbf{w}$$\n",
        "\n",
        "where $\\hat{\\mathbf{\\hat{y}}}$ and $\\mathbf{w}$ are vectors."
      ]
    },
    {
      "cell_type": "markdown",
      "id": "68d41ac2-14e1-411d-b9a5-a9cd3d4c0a9a",
      "metadata": {
        "id": "68d41ac2-14e1-411d-b9a5-a9cd3d4c0a9a"
      },
      "source": [
        "The optimal least squares values for the vector $w$ are\n",
        "\n",
        "$$w^* = (A^T A)^{-1} A^{T} \\mathbf{y}$$\n",
        "\n",
        "Note that the least-squares solutions are the solutions of the matrix equation\n",
        "\n",
        "$$ A^T A \\mathbf{w} = A^T \\mathbf{y}$$\n",
        "\n",
        "A matrix equation is in the form $Ax=b$, where $A$ is an $m \\times n$ matrix and $b$ is a column vector with $m$ entries. It can be solved for $x$ by forming the augmented matrix $(A | b)$ and then using elementary row operations to get it in row reduced form.\n",
        "\n",
        "Thus, to get $w$ we will:\n",
        "\n",
        "-   Compute the matrix $A^T A$ and the vector $A^T y$.\n",
        "-   Form the augmented matrix for the matrix equation $A^T A w = A^T y$: $(A^T A | A^T y)$\n",
        "-   Row reduce to find the optimal value for $w$, \\$w^\\* \\$."
      ]
    },
    {
      "cell_type": "markdown",
      "id": "f858adc1-50ac-49ce-80dd-ff69372facd3",
      "metadata": {
        "id": "f858adc1-50ac-49ce-80dd-ff69372facd3"
      },
      "source": [
        "The transpose of $A$, $A^T$, is the matrix whose rows are the columns of $A$:\n",
        "\n",
        "$$ A^T =\n",
        "\\begin{bmatrix}\n",
        "1 & 1 & 1 & 1 \\\\\n",
        "1 & 2 & 4 & 5 \\\\\n",
        "2 & 3 & 1 & 5\n",
        "\\end{bmatrix}\n",
        "$$"
      ]
    },
    {
      "cell_type": "code",
      "execution_count": 5,
      "id": "7aa04c05-71d3-4aae-b83f-8090c3127a43",
      "metadata": {
        "id": "7aa04c05-71d3-4aae-b83f-8090c3127a43"
      },
      "outputs": [
        {
          "data": {
            "text/plain": [
              "array([[1., 1., 1., 1.],\n",
              "       [1., 2., 4., 5.],\n",
              "       [2., 3., 1., 5.]])"
            ]
          },
          "execution_count": 5,
          "metadata": {},
          "output_type": "execute_result"
        }
      ],
      "source": [
        "A.T"
      ]
    },
    {
      "cell_type": "markdown",
      "id": "86358d21-55f9-47db-ab20-517ed5295351",
      "metadata": {
        "id": "86358d21-55f9-47db-ab20-517ed5295351"
      },
      "source": [
        "To solve\n",
        "\n",
        "$$ A^T A w = A^T y$$\n",
        "\n",
        "we’ll need $A^T A$:\n",
        "\n",
        "$$ A^T A =\n",
        "\\begin{bmatrix}\n",
        "1 & 1 & 1 & 1 \\\\\n",
        "1 & 2 & 4 & 5 \\\\\n",
        "2 & 3 & 1 & 5\n",
        "\\end{bmatrix}\n",
        "\\begin{bmatrix}\n",
        "1 & 1 & 2 \\\\\n",
        "1 & 2 & 3 \\\\\n",
        "1 & 4 & 1 \\\\\n",
        "1 & 5 & 5\n",
        "\\end{bmatrix} =\n",
        "\\begin{bmatrix}\n",
        "4 & 12 & 11 \\\\\n",
        "12 & 46 & 37 \\\\\n",
        "11 & 37 & 39\n",
        "\\end{bmatrix}\n",
        "$$"
      ]
    },
    {
      "cell_type": "code",
      "execution_count": 6,
      "id": "e8ed18e9-c5c6-4086-a2c1-7395014f188a",
      "metadata": {
        "id": "e8ed18e9-c5c6-4086-a2c1-7395014f188a"
      },
      "outputs": [
        {
          "data": {
            "text/plain": [
              "array([[ 4., 12., 11.],\n",
              "       [12., 46., 37.],\n",
              "       [11., 37., 39.]])"
            ]
          },
          "execution_count": 6,
          "metadata": {},
          "output_type": "execute_result"
        }
      ],
      "source": [
        "A.T.dot(A)"
      ]
    },
    {
      "cell_type": "markdown",
      "id": "8036c27a-0a22-487d-a1f4-e385c7980efd",
      "metadata": {
        "id": "8036c27a-0a22-487d-a1f4-e385c7980efd"
      },
      "source": [
        "and $A^T y$:\n",
        "\n",
        "$$ A^T y =\n",
        "\\begin{bmatrix}\n",
        "1 & 1 & 1 & 1 \\\\\n",
        "1 & 2 & 4 & 5 \\\\\n",
        "2 & 3 & 1 & 5\n",
        "\\end{bmatrix}\n",
        "\\begin{bmatrix}\n",
        "3  \\\\\n",
        "2 \\\\\n",
        "7 \\\\\n",
        "1\n",
        "\\end{bmatrix} =\n",
        "\\begin{bmatrix}\n",
        "13 \\\\\n",
        "40 \\\\\n",
        "24\n",
        "\\end{bmatrix}\n",
        "$$"
      ]
    },
    {
      "cell_type": "code",
      "execution_count": 7,
      "id": "3b913940-2897-4cfd-b60a-5091ab94077d",
      "metadata": {
        "id": "3b913940-2897-4cfd-b60a-5091ab94077d"
      },
      "outputs": [
        {
          "data": {
            "text/plain": [
              "array([13., 40., 24.])"
            ]
          },
          "execution_count": 7,
          "metadata": {},
          "output_type": "execute_result"
        }
      ],
      "source": [
        "A.T.dot(y)"
      ]
    },
    {
      "cell_type": "markdown",
      "id": "3e937131-270b-48f7-8ba7-ff8bf7fa0d9a",
      "metadata": {
        "id": "3e937131-270b-48f7-8ba7-ff8bf7fa0d9a"
      },
      "source": [
        "Next, create the augmented matrix $(A^T A | A^T y)$:\n",
        "\n",
        "$$ (A^T A | A^T y)=\n",
        "\\begin{bmatrix}\n",
        "4  & 12 & 11 & | & 13 \\\\\n",
        "12 & 46 & 37 & | & 40 \\\\\n",
        "11 & 37 & 39 & | & 24\n",
        "\\end{bmatrix}\n",
        "$$"
      ]
    },
    {
      "cell_type": "code",
      "execution_count": 8,
      "id": "b560cae7-d43a-433d-af60-df114e181bdc",
      "metadata": {
        "id": "b560cae7-d43a-433d-af60-df114e181bdc"
      },
      "outputs": [
        {
          "data": {
            "text/plain": [
              "array([[ 4., 12., 11., 13.],\n",
              "       [12., 46., 37., 40.],\n",
              "       [11., 37., 39., 24.]])"
            ]
          },
          "execution_count": 8,
          "metadata": {},
          "output_type": "execute_result"
        }
      ],
      "source": [
        "M1 = np.hstack([A.T.dot(A), A.T.dot(y)[:,None]])\n",
        "M1"
      ]
    },
    {
      "cell_type": "markdown",
      "id": "1dbfb502-4f2f-4586-bc0f-50a84ab400fd",
      "metadata": {
        "id": "1dbfb502-4f2f-4586-bc0f-50a84ab400fd"
      },
      "source": [
        "We will perform some elementary row operations on the augmented matrix to get $A^T A$ in row reduced form:"
      ]
    },
    {
      "cell_type": "code",
      "execution_count": 9,
      "id": "d1ecb9f5-0ddd-4724-a48e-273749594ad6",
      "metadata": {
        "id": "d1ecb9f5-0ddd-4724-a48e-273749594ad6"
      },
      "outputs": [
        {
          "data": {
            "text/plain": [
              "array([[  4.,  12.,  11.,  13.],\n",
              "       [  0.,  10.,   4.,   1.],\n",
              "       [  0.,  16.,  35., -47.]])"
            ]
          },
          "execution_count": 9,
          "metadata": {},
          "output_type": "execute_result"
        }
      ],
      "source": [
        "M2 = np.vstack([M1[0], M1[1]-3*M1[0], 4*M1[2]-11*M1[0]])\n",
        "M2"
      ]
    },
    {
      "cell_type": "code",
      "execution_count": 10,
      "id": "5da621aa-251f-4378-a2bd-5b43decb6b06",
      "metadata": {
        "id": "5da621aa-251f-4378-a2bd-5b43decb6b06"
      },
      "outputs": [
        {
          "data": {
            "text/plain": [
              "array([[   4.,   12.,   11.,   13.],\n",
              "       [   0.,   10.,    4.,    1.],\n",
              "       [   0.,    0.,  143., -243.]])"
            ]
          },
          "execution_count": 10,
          "metadata": {},
          "output_type": "execute_result"
        }
      ],
      "source": [
        "M3 = np.vstack([M2[0], M2[1], 5*M2[2]-8*M2[1]])\n",
        "M3"
      ]
    },
    {
      "cell_type": "code",
      "execution_count": 11,
      "id": "fd2ed094-b22c-4f0d-820c-b1349e0bafc6",
      "metadata": {
        "id": "fd2ed094-b22c-4f0d-820c-b1349e0bafc6"
      },
      "outputs": [
        {
          "data": {
            "text/plain": [
              "array([[   4.,   12.,   11.,   13.],\n",
              "       [   0., 1430.,    0., 1115.],\n",
              "       [   0.,    0.,  143., -243.]])"
            ]
          },
          "execution_count": 11,
          "metadata": {},
          "output_type": "execute_result"
        }
      ],
      "source": [
        "M4 = np.vstack([M3[0], 143*M3[1]-4*M3[2], M3[2]])\n",
        "M4"
      ]
    },
    {
      "cell_type": "code",
      "execution_count": 12,
      "id": "a2188987-8b2c-4f14-a9b8-c54126f12c68",
      "metadata": {
        "id": "a2188987-8b2c-4f14-a9b8-c54126f12c68"
      },
      "outputs": [
        {
          "data": {
            "text/plain": [
              "array([[ 286.,    0.,    0., 1597.],\n",
              "       [   0., 1430.,    0., 1115.],\n",
              "       [   0.,    0.,  143., -243.]])"
            ]
          },
          "execution_count": 12,
          "metadata": {},
          "output_type": "execute_result"
        }
      ],
      "source": [
        "M5 = np.vstack([143/2*(M4[0]-12/1430*M4[1] - 11/143*M4[2]), M4[1], M4[2]])\n",
        "M5"
      ]
    },
    {
      "cell_type": "code",
      "execution_count": 13,
      "id": "81730ab5-3479-41b0-925f-b4808d8ae1b0",
      "metadata": {
        "id": "81730ab5-3479-41b0-925f-b4808d8ae1b0"
      },
      "outputs": [
        {
          "data": {
            "text/plain": [
              "array([[ 1.        ,  0.        ,  0.        ,  5.58391608],\n",
              "       [ 0.        ,  1.        ,  0.        ,  0.77972028],\n",
              "       [ 0.        ,  0.        ,  1.        , -1.6993007 ]])"
            ]
          },
          "execution_count": 13,
          "metadata": {},
          "output_type": "execute_result"
        }
      ],
      "source": [
        "M6 = np.vstack([M5[0]/286, M5[1]/1430, M5[2]/143])\n",
        "M6"
      ]
    },
    {
      "cell_type": "markdown",
      "id": "1e133ab3-4e51-454d-ad74-d6ba8d6f0487",
      "metadata": {
        "id": "1e133ab3-4e51-454d-ad74-d6ba8d6f0487"
      },
      "source": [
        "When we’re finished, our augmented matrix looks like this:\n",
        "\n",
        "$$\n",
        "\\begin{bmatrix}\n",
        "1 & 0 & 0 & | & \\frac{1597}{286} \\\\\n",
        "0 & 1 & 0 & | & \\frac{1115}{1430} \\\\\n",
        "0 & 0 & 1 & | & \\frac{-243}{143}\n",
        "\\end{bmatrix}\n",
        "$$\n",
        "\n",
        "and so\n",
        "\n",
        "$$ w^* = \\left[ \\frac{1597}{286}, \\frac{1115}{1430}, \\frac{-243}{143} \\right] $$"
      ]
    },
    {
      "cell_type": "code",
      "execution_count": 14,
      "id": "f779f49f-fb24-48e0-b1d9-dfc0cb620a2b",
      "metadata": {
        "id": "f779f49f-fb24-48e0-b1d9-dfc0cb620a2b"
      },
      "outputs": [
        {
          "data": {
            "text/plain": [
              "array([ 5.58391608,  0.77972028, -1.6993007 ])"
            ]
          },
          "execution_count": 14,
          "metadata": {},
          "output_type": "execute_result"
        }
      ],
      "source": [
        "M6[:,3]"
      ]
    },
    {
      "cell_type": "markdown",
      "id": "ed84c0e4-246e-4694-97f7-5d56e76b53d0",
      "metadata": {
        "id": "ed84c0e4-246e-4694-97f7-5d56e76b53d0"
      },
      "source": [
        "Compare this to the known solution:"
      ]
    },
    {
      "cell_type": "code",
      "execution_count": 15,
      "id": "1e19b8fe-1864-40ea-8472-5b8e4a5b1b6c",
      "metadata": {
        "id": "1e19b8fe-1864-40ea-8472-5b8e4a5b1b6c"
      },
      "outputs": [
        {
          "data": {
            "text/plain": [
              "array([ 5.58391608,  0.77972028, -1.6993007 ])"
            ]
          },
          "execution_count": 15,
          "metadata": {},
          "output_type": "execute_result"
        }
      ],
      "source": [
        "np.linalg.inv( A.T.dot(A) ).dot(A.T.dot(y))"
      ]
    }
  ],
  "metadata": {
    "colab": {
      "provenance": []
    },
    "kernelspec": {
      "display_name": "Python 3",
      "language": "python",
      "name": "python3"
    },
    "language_info": {
      "codemirror_mode": {
        "name": "ipython",
        "version": 3
      },
      "file_extension": ".py",
      "mimetype": "text/x-python",
      "name": "python",
      "nbconvert_exporter": "python",
      "pygments_lexer": "ipython3",
      "version": "3.11.5"
    }
  },
  "nbformat": 4,
  "nbformat_minor": 5
}
