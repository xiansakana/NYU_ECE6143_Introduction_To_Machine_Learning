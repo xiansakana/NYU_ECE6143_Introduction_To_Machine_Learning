{
 "cells": [
  {
   "cell_type": "markdown",
   "metadata": {},
   "source": [
    "# Linear basis function regression"
   ]
  },
  {
   "cell_type": "markdown",
   "metadata": {},
   "source": [
    "You have labeled data $\\left(x_i, y_i\\right), i=1, \\ldots, n$ and you want to fit an linear basis function regression model of the form,\n",
    "\n",
    "$$\n",
    "\\hat{y}_i=\\sum_{j=0}^d w_j e^{-j x_i}\n",
    "$$\n",
    "\n",
    "where $x_i$ and $y_i$ are scalars. To do this, you will form a matrix $\\Phi(\\mathbf{x})=\\left[\\phi_0(\\mathbf{x}), \\ldots, \\phi_d(\\mathbf{x})\\right]$ and then solve\n",
    "\n",
    "$$\n",
    "\\hat{\\mathbf{y}}=\\Phi \\mathbf{w}\n",
    "$$\n",
    "\n",
    "for the weights that minimize the mean squared error.\n",
    "\n",
    "**Part 1: Entries of the design matrix**\n",
    "\n",
    "Given training data\n",
    "$$\n",
    "((x_1, y_1), (x_2, y_2), (x_3, y_3), (x_4, y_4))\n",
    "$$\n",
    "write out the entries of the design matrix $\\Phi$ you would use to fit the model above, for _d=2_.\n",
    "\n",
    "$$\n",
    "\\Phi =\n",
    "\\left[\n",
    "\\begin{matrix}\n",
    "1 & e^{-x_1} & e^{-2x_1}\\\\\n",
    "1 & e^{-x_2} & e^{-2x_2}\\\\\n",
    "1 & e^{-x_3} & e^{-2x_3}\\\\\n",
    "1 & e^{-x_4} & e^{-2x_4}\n",
    "\\end{matrix}\n",
    "\\right]\n",
    "$$\n",
    "\n",
    "**Part 2: Get transformed _X_**\n",
    "\n",
    "In this question, you will write a Python function to return the design matrix described in the previous part of the question, but for any arbitrary _d_ and _n_.\n",
    "\n",
    "Your code should define a function **transform** that accepts a 1D numpy array named **x** with shape **(n,)** (for arbitrary **n**) and a positive integer argument **d**, and returns the 2D numpy array with shape **(n,d+1)**.\n",
    "\n",
    "For full credit, your code should not use any explicit **for** or **while** loop.\n",
    "\n",
    "Then, you will train a linear regression on the transformed version of the data, and save the model predictions in **y_hat**.\n",
    "\n",
    "| Name |\tType |\tDescription |\n",
    "| --- | --- | --- |\n",
    "**transform**\t| function\t| function that accepts a 1d numpy array and positive integer argument and returns 2d numpy array\n",
    "**y_hat** |\t1d numpy array\t| 1d numpy array containing predictions of the model fit"
   ]
  },
  {
   "cell_type": "code",
   "execution_count": 1,
   "metadata": {},
   "outputs": [],
   "source": [
    "import numpy as np\n",
    "from sklearn import metrics\n",
    "from sklearn.linear_model import LinearRegression"
   ]
  },
  {
   "cell_type": "markdown",
   "metadata": {},
   "source": [
    "First, load in data from a file:"
   ]
  },
  {
   "cell_type": "code",
   "execution_count": 2,
   "metadata": {},
   "outputs": [],
   "source": [
    "x, y = np.genfromtxt('data.csv',delimiter=',', unpack=True)"
   ]
  },
  {
   "cell_type": "code",
   "execution_count": 3,
   "metadata": {},
   "outputs": [
    {
     "data": {
      "text/plain": [
       "(100,)"
      ]
     },
     "execution_count": 3,
     "metadata": {},
     "output_type": "execute_result"
    }
   ],
   "source": [
    "x.shape"
   ]
  },
  {
   "cell_type": "markdown",
   "metadata": {},
   "source": [
    "Now, write a `transform` function to create the matrix you described in the previous part of this question, but for arbitrary `n` and `d`."
   ]
  },
  {
   "cell_type": "code",
   "execution_count": 4,
   "metadata": {},
   "outputs": [],
   "source": [
    "#grade (write your code in this cell and DO NOT DELETE THIS LINE)\n",
    "def transform(x, d):\n",
    "    exponents = np.arange(d + 1)\n",
    "    return np.exp(-np.outer(x, exponents))"
   ]
  },
  {
   "cell_type": "markdown",
   "metadata": {},
   "source": [
    "Then, generate the \"transformed\" version of the data for `d=3` by calling your function. "
   ]
  },
  {
   "cell_type": "code",
   "execution_count": 5,
   "metadata": {},
   "outputs": [],
   "source": [
    "#grade (write your code in this cell and DO NOT DELETE THIS LINE)\n",
    "x_trans = transform(x, d=3)"
   ]
  },
  {
   "cell_type": "markdown",
   "metadata": {},
   "source": [
    "Verify that the \"transformed\" version of the data has 100 rows and 4 columns:"
   ]
  },
  {
   "cell_type": "code",
   "execution_count": 6,
   "metadata": {},
   "outputs": [
    {
     "data": {
      "text/plain": [
       "(100, 4)"
      ]
     },
     "execution_count": 6,
     "metadata": {},
     "output_type": "execute_result"
    }
   ],
   "source": [
    "x_trans.shape"
   ]
  },
  {
   "cell_type": "markdown",
   "metadata": {},
   "source": [
    "Finally, fit a linear regression (you can use `scikit-learn` or you can use `numpy`) on the transformed data.\n",
    "Note that the transformed data has a 'ones' column so if you use `numpy` you wouldn't add another ones column; and if you use `scikit-learn`, you would use `fit_intercept=False` when creating the model.\n",
    "Then, get the predictions of the model on the data, and save the result in `y_hat`.\n"
   ]
  },
  {
   "cell_type": "code",
   "execution_count": 7,
   "metadata": {},
   "outputs": [
    {
     "data": {
      "text/plain": [
       "array([24.91113745,  8.3242551 ,  6.52256034, 14.78174122,  7.13584298,\n",
       "        7.45235793,  7.2051708 ,  8.32482926,  6.33540023,  7.08435974,\n",
       "        9.13552576, 13.48119484,  6.07993674,  5.4544498 , 11.26552176,\n",
       "        5.46149085, 13.20819077, 44.78075501,  7.41997901, 17.0125213 ,\n",
       "       17.79134049,  5.47184038,  6.90016478,  8.30038473, 48.66316938,\n",
       "        7.32318745, 14.97445691,  7.16545138,  5.97777459,  5.6634383 ,\n",
       "        7.87376748,  5.5286746 ,  6.36290931,  8.907893  ,  6.43945551,\n",
       "       13.44784809,  8.72952091,  6.91041898,  6.20791788, 37.05157306,\n",
       "       47.85376456,  9.17664343,  7.27515906, 36.10296017,  6.89200952,\n",
       "       22.82878146,  7.68811071,  5.90143578,  7.21425668,  9.90277307,\n",
       "        8.76272592,  5.90903295, 19.94958417,  5.80320185, 20.76586316,\n",
       "        5.48749427,  6.74152854,  5.42935205,  8.26886539, 10.96034444,\n",
       "       10.84442355,  5.90075725,  9.01574197,  7.05710245,  9.4701328 ,\n",
       "        7.7850996 ,  6.45002779,  7.72396596, 24.25079983, 46.57970573,\n",
       "       12.89721364, 16.56920019, 43.59062261,  7.57449162,  5.22450494,\n",
       "        7.21582492, 14.26707482,  5.53900092, 14.59137641,  6.48372192,\n",
       "       24.04617636,  8.88693007, 29.97148737,  6.16339045, 16.23520119,\n",
       "       34.79617938, 13.29920659,  7.93719853,  5.99883619,  8.10650028,\n",
       "       10.83001357,  5.97049889,  7.21194853,  6.58097831,  5.42184777,\n",
       "       39.53391726,  9.28591012, 11.14258547,  5.3840996 , 16.70202453])"
      ]
     },
     "execution_count": 7,
     "metadata": {},
     "output_type": "execute_result"
    }
   ],
   "source": [
    "#grade (write your code in this cell and DO NOT DELETE THIS LINE)\n",
    "# fit model here... \n",
    "model = LinearRegression(fit_intercept=False)\n",
    "model.fit(x_trans, y)\n",
    "\n",
    "# then get model predictions and save in y_hat\n",
    "y_hat = model.predict(x_trans)\n",
    "y_hat"
   ]
  },
  {
   "cell_type": "code",
   "execution_count": null,
   "metadata": {},
   "outputs": [],
   "source": []
  }
 ],
 "metadata": {
  "kernelspec": {
   "display_name": "Python 3",
   "language": "python",
   "name": "python3"
  },
  "language_info": {
   "codemirror_mode": {
    "name": "ipython",
    "version": 3
   },
   "file_extension": ".py",
   "mimetype": "text/x-python",
   "name": "python",
   "nbconvert_exporter": "python",
   "pygments_lexer": "ipython3",
   "version": "3.11.5"
  }
 },
 "nbformat": 4,
 "nbformat_minor": 4
}
