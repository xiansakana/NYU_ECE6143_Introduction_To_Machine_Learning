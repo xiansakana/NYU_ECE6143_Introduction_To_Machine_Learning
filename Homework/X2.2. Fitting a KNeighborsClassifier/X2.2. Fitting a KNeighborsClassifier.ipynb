{
 "cells": [
  {
   "attachments": {},
   "cell_type": "markdown",
   "metadata": {},
   "source": [
    "## Train a KNN classifier"
   ]
  },
  {
   "cell_type": "markdown",
   "metadata": {},
   "source": [
    "You are working for a home security company to develop a system that predicts whether a detected motion event (from sensors installed in the home) is likely to be a false alarm. This will help reduce unnecessary notifications to customers.\n",
    "\n",
    "You have been provided with a dataset of motion events. Each sample includes:\n",
    "\n",
    "- Event ID\n",
    "- Street address at which the event occurred\n",
    "- False alarm (1 for yes, 0 for no)\n",
    "- Time of day (encoded as 0-23, where 0 represents midnight and 23 represents 11 PM)\n",
    "- Duration of motion event (in seconds)\n",
    "- Number of other motion events detected in the last hour\n",
    "- Outdoor temperature at the time of the event (in Fahrenheit)\n",
    "- Presence of pets in the household (1 for yes, 0 for no)\n",
    "- Percentage of frames with detected human presence during the event\n",
    "\n",
    "In the attached workspace, you will read this data from a file, and split it into training and test sets. Then, you will fit a `KNeighborsClassifier` (using the `sklearn` implementation) on the training set, and evaluate its accuracy in predicting the walkability class on the test set.\n",
    "\n",
    "You'll need to specify this random state in your notebook:\n",
    "\n",
    "> random_state = 13\n",
    "\n",
    "The following items will be graded:\n",
    "\n",
    "| Name | Type | Description |\n",
    "| ---- | ---- | ---- |\n",
    "|`Xtr`\t|pandas dataframe\t|Training data - features used as input to model.|\n",
    "|`Xts`\t|pandas dataframe\t|Test data - features used as input to model.|\n",
    "|`ytr`\t|pandas series OR pandas data frame OR 1d numpy array\t|Training data - target variable.|\n",
    "|`yts`\t|pandas series OR pandas data frame OR 1d numpy array\t|Test data - target variable.|\n",
    "|`yts_hat`\t|1d numpy array\t|Model prediction for test data.|\n",
    "|`acc`\t|float\t|Accuracy of model on test data.|"
   ]
  },
  {
   "cell_type": "code",
   "execution_count": 1,
   "metadata": {},
   "outputs": [],
   "source": [
    "import numpy as np\n",
    "import pandas as pd\n",
    "from sklearn.model_selection import train_test_split\n",
    "from sklearn.neighbors import KNeighborsClassifier\n",
    "from sklearn.metrics import accuracy_score"
   ]
  },
  {
   "attachments": {},
   "cell_type": "markdown",
   "metadata": {},
   "source": [
    "First, we'll load the dataset:"
   ]
  },
  {
   "cell_type": "code",
   "execution_count": 2,
   "metadata": {},
   "outputs": [],
   "source": [
    "df = pd.read_csv('data.csv', index_col = 'Event_ID')"
   ]
  },
  {
   "attachments": {},
   "cell_type": "markdown",
   "metadata": {},
   "source": [
    "You can add some code here to inspect the data, see the names of features, and see the data types. For example, what is the proportion of false alarms? The cell below will not be graded."
   ]
  },
  {
   "cell_type": "code",
   "execution_count": 3,
   "metadata": {},
   "outputs": [
    {
     "data": {
      "text/html": [
       "<div>\n",
       "<style scoped>\n",
       "    .dataframe tbody tr th:only-of-type {\n",
       "        vertical-align: middle;\n",
       "    }\n",
       "\n",
       "    .dataframe tbody tr th {\n",
       "        vertical-align: top;\n",
       "    }\n",
       "\n",
       "    .dataframe thead th {\n",
       "        text-align: right;\n",
       "    }\n",
       "</style>\n",
       "<table border=\"1\" class=\"dataframe\">\n",
       "  <thead>\n",
       "    <tr style=\"text-align: right;\">\n",
       "      <th></th>\n",
       "      <th>Address</th>\n",
       "      <th>Presence_of_Pets</th>\n",
       "      <th>Percentage_of_Frames_with_Human_Presence</th>\n",
       "      <th>False_Alarm</th>\n",
       "      <th>Time_of_Day</th>\n",
       "      <th>Duration_of_Motion_Event</th>\n",
       "      <th>Events_in_Last_Hour</th>\n",
       "      <th>Outdoor_Temperature</th>\n",
       "    </tr>\n",
       "    <tr>\n",
       "      <th>Event_ID</th>\n",
       "      <th></th>\n",
       "      <th></th>\n",
       "      <th></th>\n",
       "      <th></th>\n",
       "      <th></th>\n",
       "      <th></th>\n",
       "      <th></th>\n",
       "      <th></th>\n",
       "    </tr>\n",
       "  </thead>\n",
       "  <tbody>\n",
       "    <tr>\n",
       "      <th>1</th>\n",
       "      <td>2422 Willow Rd</td>\n",
       "      <td>1</td>\n",
       "      <td>90.078592</td>\n",
       "      <td>0</td>\n",
       "      <td>5</td>\n",
       "      <td>19</td>\n",
       "      <td>0</td>\n",
       "      <td>53.212582</td>\n",
       "    </tr>\n",
       "    <tr>\n",
       "      <th>2</th>\n",
       "      <td>3036 Main Ct</td>\n",
       "      <td>1</td>\n",
       "      <td>98.169261</td>\n",
       "      <td>0</td>\n",
       "      <td>17</td>\n",
       "      <td>20</td>\n",
       "      <td>1</td>\n",
       "      <td>70.452566</td>\n",
       "    </tr>\n",
       "    <tr>\n",
       "      <th>3</th>\n",
       "      <td>6228 Chestnut Ln</td>\n",
       "      <td>0</td>\n",
       "      <td>25.555773</td>\n",
       "      <td>0</td>\n",
       "      <td>4</td>\n",
       "      <td>25</td>\n",
       "      <td>2</td>\n",
       "      <td>69.543186</td>\n",
       "    </tr>\n",
       "    <tr>\n",
       "      <th>4</th>\n",
       "      <td>5620 Maple Rd</td>\n",
       "      <td>0</td>\n",
       "      <td>26.367181</td>\n",
       "      <td>0</td>\n",
       "      <td>18</td>\n",
       "      <td>25</td>\n",
       "      <td>0</td>\n",
       "      <td>69.034840</td>\n",
       "    </tr>\n",
       "    <tr>\n",
       "      <th>5</th>\n",
       "      <td>9363 Oak Rd</td>\n",
       "      <td>0</td>\n",
       "      <td>99.221166</td>\n",
       "      <td>0</td>\n",
       "      <td>19</td>\n",
       "      <td>7</td>\n",
       "      <td>1</td>\n",
       "      <td>67.195680</td>\n",
       "    </tr>\n",
       "  </tbody>\n",
       "</table>\n",
       "</div>"
      ],
      "text/plain": [
       "                   Address  Presence_of_Pets  \\\n",
       "Event_ID                                       \n",
       "1           2422 Willow Rd                 1   \n",
       "2             3036 Main Ct                 1   \n",
       "3         6228 Chestnut Ln                 0   \n",
       "4            5620 Maple Rd                 0   \n",
       "5              9363 Oak Rd                 0   \n",
       "\n",
       "          Percentage_of_Frames_with_Human_Presence  False_Alarm  Time_of_Day  \\\n",
       "Event_ID                                                                       \n",
       "1                                        90.078592            0            5   \n",
       "2                                        98.169261            0           17   \n",
       "3                                        25.555773            0            4   \n",
       "4                                        26.367181            0           18   \n",
       "5                                        99.221166            0           19   \n",
       "\n",
       "          Duration_of_Motion_Event  Events_in_Last_Hour  Outdoor_Temperature  \n",
       "Event_ID                                                                      \n",
       "1                               19                    0            53.212582  \n",
       "2                               20                    1            70.452566  \n",
       "3                               25                    2            69.543186  \n",
       "4                               25                    0            69.034840  \n",
       "5                                7                    1            67.195680  "
      ]
     },
     "execution_count": 3,
     "metadata": {},
     "output_type": "execute_result"
    }
   ],
   "source": [
    "df.head()"
   ]
  },
  {
   "attachments": {},
   "cell_type": "markdown",
   "metadata": {},
   "source": [
    "(but, note that your code will be evaluated on *different* data organized in a data frame with the same columns - so in your solution, you should not hard-code anything specific to this data.)"
   ]
  },
  {
   "attachments": {},
   "cell_type": "markdown",
   "metadata": {},
   "source": [
    "Now we will split into training and test sets, using `train_test_split`! \n",
    "\n",
    "* Reserve 20% of the data for testing.\n",
    "* Use the random state specified on the question page.\n",
    "\n",
    "The following cell should create \n",
    "\n",
    "* `Xtr` and `Xts` as pandas data frames including *only* the features used to train the model, \n",
    "* and `ytr` and `yts` as either pandas data series or 1d numpy arrays containing the target variable. \n",
    "\n",
    "(For pandas data frames or data series, don't change the names of any columns.)"
   ]
  },
  {
   "cell_type": "code",
   "execution_count": 10,
   "metadata": {},
   "outputs": [],
   "source": [
    "#grade (write your code in this cell and DO NOT DELETE THIS LINE)\n",
    "df = df.drop('Address', axis=1)\n",
    "X = df.drop('False_Alarm', axis=1)\n",
    "y = df['False_Alarm']\n",
    "random_state = 13\n",
    "Xtr, Xts, ytr, yts = train_test_split(X, y, test_size = 0.2, random_state = random_state)\n"
   ]
  },
  {
   "attachments": {},
   "cell_type": "markdown",
   "metadata": {},
   "source": [
    "Now we are ready to fit the `KNeighborsClassifier`. Using \n",
    "\n",
    "* 9 neighbors\n",
    "* and default settings for everything else, \n",
    "\n",
    "fit the model on the training data. Then, use it to make predictions for the test samples, and save this prediction in `yts_hat`. Evaluate the accuracy score of the model on the test data, and save this in `acc`."
   ]
  },
  {
   "cell_type": "code",
   "execution_count": 11,
   "metadata": {},
   "outputs": [],
   "source": [
    "#grade (write your code in this cell and DO NOT DELETE THIS LINE)\n",
    "knn = KNeighborsClassifier(n_neighbors=9).fit(Xtr, ytr)\n",
    "yts_hat = knn.predict(Xts)\n",
    "acc = accuracy_score(yts, yts_hat)"
   ]
  },
  {
   "cell_type": "code",
   "execution_count": null,
   "metadata": {},
   "outputs": [],
   "source": []
  }
 ],
 "metadata": {
  "kernelspec": {
   "display_name": "Python 3 (ipykernel)",
   "language": "python",
   "name": "python3"
  },
  "language_info": {
   "codemirror_mode": {
    "name": "ipython",
    "version": 3
   },
   "file_extension": ".py",
   "mimetype": "text/x-python",
   "name": "python",
   "nbconvert_exporter": "python",
   "pygments_lexer": "ipython3",
   "version": "3.12.9"
  },
  "vscode": {
   "interpreter": {
    "hash": "916dbcbb3f70747c44a77c7bcd40155683ae19c65e1c03b4aa3499c5328201f1"
   }
  }
 },
 "nbformat": 4,
 "nbformat_minor": 4
}
