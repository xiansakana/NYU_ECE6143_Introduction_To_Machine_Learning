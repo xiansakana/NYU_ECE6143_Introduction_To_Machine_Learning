{
 "cells": [
  {
   "attachments": {},
   "cell_type": "markdown",
   "metadata": {},
   "source": [
    "# Working with indices"
   ]
  },
  {
   "cell_type": "markdown",
   "metadata": {},
   "source": [
    "In the attached workspace, `x` is a numpy array with shape: `(249,2)` (representing the exam scores of Intro ML students), and y is an array with shape: `(249,)` (representing the course section in which the students are enrolled.).\n",
    "\n",
    "In the graded cell, compute the average exam score for students in section 2.\n",
    "\n",
    "Solve in two lines of code, using the following approach:\n",
    "\n",
    "In the first line, use [argwhere](https://numpy.org/doc/stable/reference/generated/numpy.argwhere.html) to get the row indices corresponding to students in section 2 (and save this to `s_idx`).\n",
    "Then, in the second line, use [mean](https://numpy.org/doc/stable/reference/generated/numpy.mean.html) to compute the mean value of samples corresponding to those indices (and save this to `s_mean`).\n",
    "\n",
    "In the notebook attached to this example, your code should produce the following result:\n",
    "\n",
    "|Name\t|Type\t|Description|\n",
    "|---|---|---|\n",
    "|`s_idx`\t|1d numpy array\t|Array of indices of samples that are in section 2.|\n",
    "|`s_mean`\t|float\t|Mean value of x for samples that are in section 2.|"
   ]
  },
  {
   "cell_type": "code",
   "execution_count": 1,
   "metadata": {},
   "outputs": [],
   "source": [
    "import numpy as np"
   ]
  },
  {
   "attachments": {},
   "cell_type": "markdown",
   "metadata": {},
   "source": [
    "The following cell creates an array `x` of shape `(249,2)` and an array `y` of shape `(249,)` (there are not the same arrays that your solution will be graded on, but their dimensions are the same! So you can use these to test your work.)"
   ]
  },
  {
   "cell_type": "code",
   "execution_count": 2,
   "metadata": {},
   "outputs": [],
   "source": [
    "x = np.random.randint(60, 100, size=(249,2))\n",
    "y = np.random.randint(1, 5, size=(249,))"
   ]
  },
  {
   "attachments": {},
   "cell_type": "markdown",
   "metadata": {},
   "source": [
    "In the graded cell, use `argwhere` to get the row indices corresponding to students in section 2 (and save this to `s_idx`). Then, use `mean` to compute the average exam score for students in section 2 (and save this to `s_mean`).\n"
   ]
  },
  {
   "cell_type": "code",
   "execution_count": 3,
   "metadata": {},
   "outputs": [
    {
     "data": {
      "text/plain": [
       "array([  6,   8,  13,  18,  24,  33,  36,  38,  40,  45,  49,  51,  53,\n",
       "        55,  63,  66,  70,  80,  82,  87,  88,  92,  98,  99, 100, 113,\n",
       "       116, 117, 159, 160, 163, 167, 173, 178, 179, 182, 183, 186, 195,\n",
       "       199, 201, 204, 210, 226, 229, 237, 248])"
      ]
     },
     "execution_count": 3,
     "metadata": {},
     "output_type": "execute_result"
    }
   ],
   "source": [
    "#grade (write your code in this cell and DO NOT DELETE THIS LINE)\n",
    "s_idx = np.argwhere(y == 2).flatten()\n",
    "s_idx\n",
    "# s_mean= np.mean(x[s_idx])"
   ]
  },
  {
   "cell_type": "markdown",
   "metadata": {},
   "source": [
    "You can check your work by looking at the output in the next cell:"
   ]
  },
  {
   "cell_type": "code",
   "execution_count": 4,
   "metadata": {},
   "outputs": [
    {
     "data": {
      "text/plain": [
       "array([2, 2, 2, 2, 2, 2, 2, 2, 2, 2, 2, 2, 2, 2, 2, 2, 2, 2, 2, 2, 2, 2,\n",
       "       2, 2, 2, 2, 2, 2, 2, 2, 2, 2, 2, 2, 2, 2, 2, 2, 2, 2, 2, 2, 2, 2,\n",
       "       2, 2, 2], dtype=int32)"
      ]
     },
     "execution_count": 4,
     "metadata": {},
     "output_type": "execute_result"
    }
   ],
   "source": [
    "y[s_idx]"
   ]
  },
  {
   "cell_type": "code",
   "execution_count": null,
   "metadata": {},
   "outputs": [],
   "source": []
  }
 ],
 "metadata": {
  "kernelspec": {
   "display_name": "Python 3",
   "language": "python",
   "name": "python3"
  },
  "language_info": {
   "codemirror_mode": {
    "name": "ipython",
    "version": 3
   },
   "file_extension": ".py",
   "mimetype": "text/x-python",
   "name": "python",
   "nbconvert_exporter": "python",
   "pygments_lexer": "ipython3",
   "version": "3.11.5"
  }
 },
 "nbformat": 4,
 "nbformat_minor": 4
}
