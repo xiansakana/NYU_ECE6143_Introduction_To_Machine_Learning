{
 "cells": [
  {
   "attachments": {},
   "cell_type": "markdown",
   "metadata": {
    "id": "LNsV2yyFrGIs"
   },
   "source": [
    "# Predicting Mortality of ICU Patients"
   ]
  },
  {
   "cell_type": "markdown",
   "metadata": {},
   "source": [
    "A local hospital system wants to explore a new strategy for reducing Intensive Care Unit (ICU) mortality:\n",
    "\n",
    "At the beginning of the shift, a team of specialist doctors will spend some extra time reviewing patient files, and deciding what intervention is needed for each patient.\n",
    "\n",
    "If the doctor identifies the correct intervention, a patient's death may be prevented. However, the probability of missing the correct intervention depends on the time spent reviewing the file. Given that there is a finite budget for doctors' time, it is critically important to have an effective policy for deciding which files to review.\n",
    "\n",
    "You have been hired to explore the likely impact of different policies for selecting patient files, including a policy that uses machine learning to recommend patient files for extra review.\n",
    "\n",
    "In the attached workspace, you will read in some data from ICU patients, use it to train a classifier, and then use simulation to evaluate different policies for patient file review."
   ]
  },
  {
   "cell_type": "code",
   "execution_count": 1,
   "metadata": {
    "id": "LhRjDo48rGIt"
   },
   "outputs": [],
   "source": [
    "import pandas as pd\n",
    "import numpy as np\n",
    "import glob, os\n",
    "from sklearn.model_selection import train_test_split\n",
    "from sklearn.linear_model import LogisticRegression\n",
    "from sklearn.metrics import accuracy_score, roc_curve\n",
    "import matplotlib.pyplot as plt"
   ]
  },
  {
   "attachments": {},
   "cell_type": "markdown",
   "metadata": {
    "id": "Z78jhR20rGIu"
   },
   "source": [
    "The data in this exercise comes from [Predicting Mortality of ICU Patients: The PhysioNet/Computing in Cardiology Challenge 2012](https://physionet.org/content/challenge-2012/1.0.0/).\n",
    "\n",
    "The data is described as follows:\n",
    "\n",
    "> All patients were adults who were admitted for a wide variety of reasons to cardiac, medical, surgical, and trauma ICUs. ICU stays of less than 48 hours have been excluded. Patients with DNR (do not resuscitate) or CMO (comfort measures only) directives were not excluded.\n",
    ">\n",
    "> Up to 42 variables were recorded at least once during the first 48 hours after admission to the ICU. Not all variables are available in all cases, however. Six of these variables are general descriptors (collected on admission), and the remainder are time series, for which multiple observations may be available.\n",
    ">\n",
    "> Each observation has an associated time-stamp indicating the elapsed time of the observation since ICU admission in each case, in hours and minutes. Thus, for example, a time stamp of 35:19 means that the associated observation was made 35 hours and 19 minutes after the patient was admitted to the ICU.\n",
    "\n"
   ]
  },
  {
   "attachments": {},
   "cell_type": "markdown",
   "metadata": {},
   "source": [
    "The data is in an archive called `set-a.zip`, which we will extract (it may take a few minutes):"
   ]
  },
  {
   "cell_type": "code",
   "execution_count": 2,
   "metadata": {
    "id": "Zj0UjAsTrGIv"
   },
   "outputs": [],
   "source": [
    "# !unzip -q -o set-a.zip\n",
    "!tar -xf set-a.zip"
   ]
  },
  {
   "attachments": {},
   "cell_type": "markdown",
   "metadata": {},
   "source": [
    "Now we have a folder called `set-a`, with one file per patient. We will read in all the patient files into a `pandas` DataFrame with the following columns:"
   ]
  },
  {
   "cell_type": "code",
   "execution_count": 3,
   "metadata": {},
   "outputs": [],
   "source": [
    "col_names = [\"Age\", \"Gender\", \"Height\", \"Weight\", \"Urine\",\n",
    "         \"HR\", \"Temp\", \"NIDiasABP\", \"SysABP\", \"DiasABP\", \"pH\",\n",
    "         \"PaCO2\", \"PaO2\", \"Platelets\", \"MAP\", \"K\", \"Na\", \"FiO2\", \"GCS\", \"RecordID\"]"
   ]
  },
  {
   "attachments": {},
   "cell_type": "markdown",
   "metadata": {},
   "source": [
    "For the time series data, we will read in the mean value per patient."
   ]
  },
  {
   "cell_type": "code",
   "execution_count": 4,
   "metadata": {},
   "outputs": [],
   "source": [
    "def read_patient_data(dat, col_names):\n",
    "    # Missing values are encoded in the data as -1, so replace -1 values with true NaN\n",
    "    dat[dat == -1.0] = float('NaN')\n",
    "\n",
    "    # then read each mean of each feature into a dictionary\n",
    "    dat_dict = {}\n",
    "    for c in col_names:\n",
    "        dat_dict[c] = [dat[\"Value\"][dat[\"Parameter\"]==c].mean(axis = 0)]\n",
    "    return dat_dict"
   ]
  },
  {
   "cell_type": "code",
   "execution_count": 5,
   "metadata": {},
   "outputs": [
    {
     "name": "stderr",
     "output_type": "stream",
     "text": [
      "C:\\Users\\cj\\AppData\\Local\\Temp\\ipykernel_18244\\3351938028.py:11: FutureWarning: The behavior of DataFrame concatenation with empty or all-NA entries is deprecated. In a future version, this will no longer exclude empty or all-NA columns when determining the result dtypes. To retain the old behavior, exclude the relevant entries before the concat operation.\n",
      "  df = pd.concat([df, patient_dat])\n"
     ]
    }
   ],
   "source": [
    "# create an empty DataFrame to hold the data\n",
    "df  = pd.DataFrame(columns = col_names)\n",
    "filenames = sorted(glob.glob(\"set-a/*.txt\"))\n",
    "\n",
    "# read in each patient file and add it to the end of df\n",
    "for filename in filenames:\n",
    "    patient_dat = pd.DataFrame.from_dict(\n",
    "        read_patient_data(pd.read_csv(filename, delimiter=','),\n",
    "                          col_names)\n",
    "        )\n",
    "    df = pd.concat([df, patient_dat])\n"
   ]
  },
  {
   "attachments": {},
   "cell_type": "markdown",
   "metadata": {},
   "source": [
    "Now, we read in the outcomes of the patients whose physiological recordings were loaded above -"
   ]
  },
  {
   "cell_type": "code",
   "execution_count": 6,
   "metadata": {},
   "outputs": [],
   "source": [
    "outcome_dat = pd.read_csv(\"Outcomes-a.txt\")\n",
    "outcome_dat[outcome_dat == -1] = float('NaN') # set all -1 to NaNs\n",
    "df = df.merge(outcome_dat, left_on='RecordID', right_on='RecordID')"
   ]
  },
  {
   "attachments": {},
   "cell_type": "markdown",
   "metadata": {},
   "source": [
    "Look at a few samples of `df` to make sure it is loaded correctly - "
   ]
  },
  {
   "cell_type": "code",
   "execution_count": 7,
   "metadata": {},
   "outputs": [
    {
     "data": {
      "text/html": [
       "<div>\n",
       "<style scoped>\n",
       "    .dataframe tbody tr th:only-of-type {\n",
       "        vertical-align: middle;\n",
       "    }\n",
       "\n",
       "    .dataframe tbody tr th {\n",
       "        vertical-align: top;\n",
       "    }\n",
       "\n",
       "    .dataframe thead th {\n",
       "        text-align: right;\n",
       "    }\n",
       "</style>\n",
       "<table border=\"1\" class=\"dataframe\">\n",
       "  <thead>\n",
       "    <tr style=\"text-align: right;\">\n",
       "      <th></th>\n",
       "      <th>Age</th>\n",
       "      <th>Gender</th>\n",
       "      <th>Height</th>\n",
       "      <th>Weight</th>\n",
       "      <th>Urine</th>\n",
       "      <th>HR</th>\n",
       "      <th>Temp</th>\n",
       "      <th>NIDiasABP</th>\n",
       "      <th>SysABP</th>\n",
       "      <th>DiasABP</th>\n",
       "      <th>...</th>\n",
       "      <th>K</th>\n",
       "      <th>Na</th>\n",
       "      <th>FiO2</th>\n",
       "      <th>GCS</th>\n",
       "      <th>RecordID</th>\n",
       "      <th>SAPS-I</th>\n",
       "      <th>SOFA</th>\n",
       "      <th>Length_of_stay</th>\n",
       "      <th>Survival</th>\n",
       "      <th>In-hospital_death</th>\n",
       "    </tr>\n",
       "  </thead>\n",
       "  <tbody>\n",
       "    <tr>\n",
       "      <th>0</th>\n",
       "      <td>54.0</td>\n",
       "      <td>0.0</td>\n",
       "      <td>NaN</td>\n",
       "      <td>NaN</td>\n",
       "      <td>171.052632</td>\n",
       "      <td>70.810811</td>\n",
       "      <td>37.357143</td>\n",
       "      <td>50.147059</td>\n",
       "      <td>NaN</td>\n",
       "      <td>NaN</td>\n",
       "      <td>...</td>\n",
       "      <td>4.20</td>\n",
       "      <td>136.500000</td>\n",
       "      <td>NaN</td>\n",
       "      <td>14.923077</td>\n",
       "      <td>132539.0</td>\n",
       "      <td>6.0</td>\n",
       "      <td>1.0</td>\n",
       "      <td>5.0</td>\n",
       "      <td>NaN</td>\n",
       "      <td>0</td>\n",
       "    </tr>\n",
       "    <tr>\n",
       "      <th>1</th>\n",
       "      <td>76.0</td>\n",
       "      <td>1.0</td>\n",
       "      <td>175.3</td>\n",
       "      <td>80.670588</td>\n",
       "      <td>151.560976</td>\n",
       "      <td>80.794118</td>\n",
       "      <td>36.939130</td>\n",
       "      <td>56.714286</td>\n",
       "      <td>113.411765</td>\n",
       "      <td>58.897059</td>\n",
       "      <td>...</td>\n",
       "      <td>3.90</td>\n",
       "      <td>137.000000</td>\n",
       "      <td>0.56</td>\n",
       "      <td>13.333333</td>\n",
       "      <td>132540.0</td>\n",
       "      <td>16.0</td>\n",
       "      <td>8.0</td>\n",
       "      <td>8.0</td>\n",
       "      <td>NaN</td>\n",
       "      <td>0</td>\n",
       "    </tr>\n",
       "    <tr>\n",
       "      <th>2</th>\n",
       "      <td>44.0</td>\n",
       "      <td>0.0</td>\n",
       "      <td>NaN</td>\n",
       "      <td>56.700000</td>\n",
       "      <td>124.951220</td>\n",
       "      <td>83.759259</td>\n",
       "      <td>37.800000</td>\n",
       "      <td>79.000000</td>\n",
       "      <td>125.687500</td>\n",
       "      <td>67.125000</td>\n",
       "      <td>...</td>\n",
       "      <td>4.26</td>\n",
       "      <td>138.333333</td>\n",
       "      <td>0.50</td>\n",
       "      <td>5.923077</td>\n",
       "      <td>132541.0</td>\n",
       "      <td>21.0</td>\n",
       "      <td>11.0</td>\n",
       "      <td>19.0</td>\n",
       "      <td>NaN</td>\n",
       "      <td>0</td>\n",
       "    </tr>\n",
       "    <tr>\n",
       "      <th>3</th>\n",
       "      <td>68.0</td>\n",
       "      <td>1.0</td>\n",
       "      <td>180.3</td>\n",
       "      <td>84.600000</td>\n",
       "      <td>545.833333</td>\n",
       "      <td>70.983333</td>\n",
       "      <td>36.223077</td>\n",
       "      <td>65.051724</td>\n",
       "      <td>NaN</td>\n",
       "      <td>NaN</td>\n",
       "      <td>...</td>\n",
       "      <td>4.00</td>\n",
       "      <td>139.333333</td>\n",
       "      <td>NaN</td>\n",
       "      <td>14.944444</td>\n",
       "      <td>132543.0</td>\n",
       "      <td>7.0</td>\n",
       "      <td>1.0</td>\n",
       "      <td>9.0</td>\n",
       "      <td>575.0</td>\n",
       "      <td>0</td>\n",
       "    </tr>\n",
       "    <tr>\n",
       "      <th>4</th>\n",
       "      <td>88.0</td>\n",
       "      <td>0.0</td>\n",
       "      <td>NaN</td>\n",
       "      <td>NaN</td>\n",
       "      <td>62.131579</td>\n",
       "      <td>74.958333</td>\n",
       "      <td>36.880000</td>\n",
       "      <td>45.720930</td>\n",
       "      <td>NaN</td>\n",
       "      <td>NaN</td>\n",
       "      <td>...</td>\n",
       "      <td>4.32</td>\n",
       "      <td>139.500000</td>\n",
       "      <td>NaN</td>\n",
       "      <td>15.000000</td>\n",
       "      <td>132545.0</td>\n",
       "      <td>17.0</td>\n",
       "      <td>2.0</td>\n",
       "      <td>4.0</td>\n",
       "      <td>918.0</td>\n",
       "      <td>0</td>\n",
       "    </tr>\n",
       "  </tbody>\n",
       "</table>\n",
       "<p>5 rows × 25 columns</p>\n",
       "</div>"
      ],
      "text/plain": [
       "    Age  Gender  Height     Weight       Urine         HR       Temp  \\\n",
       "0  54.0     0.0     NaN        NaN  171.052632  70.810811  37.357143   \n",
       "1  76.0     1.0   175.3  80.670588  151.560976  80.794118  36.939130   \n",
       "2  44.0     0.0     NaN  56.700000  124.951220  83.759259  37.800000   \n",
       "3  68.0     1.0   180.3  84.600000  545.833333  70.983333  36.223077   \n",
       "4  88.0     0.0     NaN        NaN   62.131579  74.958333  36.880000   \n",
       "\n",
       "   NIDiasABP      SysABP    DiasABP  ...     K          Na  FiO2        GCS  \\\n",
       "0  50.147059         NaN        NaN  ...  4.20  136.500000   NaN  14.923077   \n",
       "1  56.714286  113.411765  58.897059  ...  3.90  137.000000  0.56  13.333333   \n",
       "2  79.000000  125.687500  67.125000  ...  4.26  138.333333  0.50   5.923077   \n",
       "3  65.051724         NaN        NaN  ...  4.00  139.333333   NaN  14.944444   \n",
       "4  45.720930         NaN        NaN  ...  4.32  139.500000   NaN  15.000000   \n",
       "\n",
       "   RecordID  SAPS-I  SOFA  Length_of_stay  Survival  In-hospital_death  \n",
       "0  132539.0     6.0   1.0             5.0       NaN                  0  \n",
       "1  132540.0    16.0   8.0             8.0       NaN                  0  \n",
       "2  132541.0    21.0  11.0            19.0       NaN                  0  \n",
       "3  132543.0     7.0   1.0             9.0     575.0                  0  \n",
       "4  132545.0    17.0   2.0             4.0     918.0                  0  \n",
       "\n",
       "[5 rows x 25 columns]"
      ]
     },
     "execution_count": 7,
     "metadata": {},
     "output_type": "execute_result"
    }
   ],
   "source": [
    "df.head()"
   ]
  },
  {
   "attachments": {},
   "cell_type": "markdown",
   "metadata": {},
   "source": [
    "### Prepare training, validation, and test sets"
   ]
  },
  {
   "attachments": {},
   "cell_type": "markdown",
   "metadata": {},
   "source": [
    "Next, we will divide the data into training, validation, and test sets.\n",
    "\n",
    "* The training data will be used to fit a classifier model to predict patients at risk of mortality\n",
    "* The validation data will be used to explore different policies\n",
    "* The test data will be used at the end, to evaluate the effect of the selected policy"
   ]
  },
  {
   "attachments": {},
   "cell_type": "markdown",
   "metadata": {},
   "source": [
    "Use two calls to `train_test_split` to divide the data as follows:\n",
    "\n",
    "* First, split `df` into a training set and a test set.\n",
    "* Then, further divide the training set from the first split into a training set and validation set.\n",
    "\n",
    "Also:\n",
    "\n",
    "* In both calls to `train_test_split`, shuffle the data, and use `random_state=0` so your result will match the auto-grader's result. \n",
    "* Select all of the features in `col_names` *except* `RecordID` to create `Xtr`, `Xvl`, `Xts` from `df`.\n",
    "* Select only the `In-hospital_death` column to create `ytr`, `yvl`, `yts` from `df`. \n",
    "* Use `.values` so that `ytr`, `yvl`, `yts` will be a `numpy` array. Leave `Xtr`, `Xvl`, `Xts` as data frames.\n",
    "* You should have 800 samples in the test set and 800 samples in the validation set.\n"
   ]
  },
  {
   "cell_type": "code",
   "execution_count": 8,
   "metadata": {
    "id": "YrExE062zb-U"
   },
   "outputs": [],
   "source": [
    "#grade (write your code in this cell and DO NOT DELETE THIS LINE)\n",
    "X = df[col_names[:-1]]\n",
    "y = df['In-hospital_death'].values \n",
    "Xtr, Xts, ytr, yts = train_test_split(X, y, test_size=800, shuffle=True, random_state=0)\n",
    "Xtr, Xvl, ytr, yvl = train_test_split(Xtr, ytr, test_size=800, shuffle=True, random_state=0)"
   ]
  },
  {
   "attachments": {},
   "cell_type": "markdown",
   "metadata": {},
   "source": [
    "Before we proceed, we will also fill in missing values in `Xtr`, `Xvl`, `Xts` as follows:\n",
    "\n",
    "* We will compute the [`median`](https://pandas.pydata.org/docs/reference/api/pandas.DataFrame.median.html) for each column in `Xtr`, and save the results in `col_meds`. \n",
    "* Then, we will use the [`fillna`](https://pandas.pydata.org/docs/reference/api/pandas.DataFrame.fillna.html) function in `pandas`, and pass `col_meds` as the `value` to use to fill holes.\n",
    "\n",
    "Note that we use the median values *computed on the training set* to fill in missing values for all three sets - training, validation, and test."
   ]
  },
  {
   "cell_type": "code",
   "execution_count": 9,
   "metadata": {
    "colab": {
     "base_uri": "https://localhost:8080/"
    },
    "id": "9vHW4H0qzhJR",
    "outputId": "97b0b643-9f46-40cb-be1f-b9852cc62f13"
   },
   "outputs": [],
   "source": [
    "#grade (write your code in this cell and DO NOT DELETE THIS LINE)\n",
    "col_meds = Xtr.median()\n",
    "Xtr = Xtr.fillna(col_meds)\n",
    "Xvl = Xvl.fillna(col_meds)\n",
    "Xts = Xts.fillna(col_meds)"
   ]
  },
  {
   "attachments": {},
   "cell_type": "markdown",
   "metadata": {},
   "source": [
    "### Fit a Logistic Regression model"
   ]
  },
  {
   "attachments": {},
   "cell_type": "markdown",
   "metadata": {},
   "source": [
    "We will explore a policy that uses a logistic regression model to prioritize patient files for review.\n",
    "\n",
    "Using the training data, fit a `LogisticRegression` to predict in-hospital death.\n",
    "\n",
    "* Use `random_state = 0` so your result will match the auto-grader's.\n",
    "* Specify that no regularization penalty should be used.\n",
    "* Leave other settings at their default value.\n"
   ]
  },
  {
   "cell_type": "code",
   "execution_count": 10,
   "metadata": {},
   "outputs": [
    {
     "name": "stderr",
     "output_type": "stream",
     "text": [
      "c:\\Users\\cj\\AppData\\Local\\Programs\\Python\\Python311\\Lib\\site-packages\\sklearn\\linear_model\\_logistic.py:465: ConvergenceWarning: lbfgs failed to converge (status=1):\n",
      "STOP: TOTAL NO. of ITERATIONS REACHED LIMIT.\n",
      "\n",
      "Increase the number of iterations (max_iter) or scale the data as shown in:\n",
      "    https://scikit-learn.org/stable/modules/preprocessing.html\n",
      "Please also refer to the documentation for alternative solver options:\n",
      "    https://scikit-learn.org/stable/modules/linear_model.html#logistic-regression\n",
      "  n_iter_i = _check_optimize_result(\n"
     ]
    },
    {
     "data": {
      "text/html": [
       "<style>#sk-container-id-1 {\n",
       "  /* Definition of color scheme common for light and dark mode */\n",
       "  --sklearn-color-text: #000;\n",
       "  --sklearn-color-text-muted: #666;\n",
       "  --sklearn-color-line: gray;\n",
       "  /* Definition of color scheme for unfitted estimators */\n",
       "  --sklearn-color-unfitted-level-0: #fff5e6;\n",
       "  --sklearn-color-unfitted-level-1: #f6e4d2;\n",
       "  --sklearn-color-unfitted-level-2: #ffe0b3;\n",
       "  --sklearn-color-unfitted-level-3: chocolate;\n",
       "  /* Definition of color scheme for fitted estimators */\n",
       "  --sklearn-color-fitted-level-0: #f0f8ff;\n",
       "  --sklearn-color-fitted-level-1: #d4ebff;\n",
       "  --sklearn-color-fitted-level-2: #b3dbfd;\n",
       "  --sklearn-color-fitted-level-3: cornflowerblue;\n",
       "\n",
       "  /* Specific color for light theme */\n",
       "  --sklearn-color-text-on-default-background: var(--sg-text-color, var(--theme-code-foreground, var(--jp-content-font-color1, black)));\n",
       "  --sklearn-color-background: var(--sg-background-color, var(--theme-background, var(--jp-layout-color0, white)));\n",
       "  --sklearn-color-border-box: var(--sg-text-color, var(--theme-code-foreground, var(--jp-content-font-color1, black)));\n",
       "  --sklearn-color-icon: #696969;\n",
       "\n",
       "  @media (prefers-color-scheme: dark) {\n",
       "    /* Redefinition of color scheme for dark theme */\n",
       "    --sklearn-color-text-on-default-background: var(--sg-text-color, var(--theme-code-foreground, var(--jp-content-font-color1, white)));\n",
       "    --sklearn-color-background: var(--sg-background-color, var(--theme-background, var(--jp-layout-color0, #111)));\n",
       "    --sklearn-color-border-box: var(--sg-text-color, var(--theme-code-foreground, var(--jp-content-font-color1, white)));\n",
       "    --sklearn-color-icon: #878787;\n",
       "  }\n",
       "}\n",
       "\n",
       "#sk-container-id-1 {\n",
       "  color: var(--sklearn-color-text);\n",
       "}\n",
       "\n",
       "#sk-container-id-1 pre {\n",
       "  padding: 0;\n",
       "}\n",
       "\n",
       "#sk-container-id-1 input.sk-hidden--visually {\n",
       "  border: 0;\n",
       "  clip: rect(1px 1px 1px 1px);\n",
       "  clip: rect(1px, 1px, 1px, 1px);\n",
       "  height: 1px;\n",
       "  margin: -1px;\n",
       "  overflow: hidden;\n",
       "  padding: 0;\n",
       "  position: absolute;\n",
       "  width: 1px;\n",
       "}\n",
       "\n",
       "#sk-container-id-1 div.sk-dashed-wrapped {\n",
       "  border: 1px dashed var(--sklearn-color-line);\n",
       "  margin: 0 0.4em 0.5em 0.4em;\n",
       "  box-sizing: border-box;\n",
       "  padding-bottom: 0.4em;\n",
       "  background-color: var(--sklearn-color-background);\n",
       "}\n",
       "\n",
       "#sk-container-id-1 div.sk-container {\n",
       "  /* jupyter's `normalize.less` sets `[hidden] { display: none; }`\n",
       "     but bootstrap.min.css set `[hidden] { display: none !important; }`\n",
       "     so we also need the `!important` here to be able to override the\n",
       "     default hidden behavior on the sphinx rendered scikit-learn.org.\n",
       "     See: https://github.com/scikit-learn/scikit-learn/issues/21755 */\n",
       "  display: inline-block !important;\n",
       "  position: relative;\n",
       "}\n",
       "\n",
       "#sk-container-id-1 div.sk-text-repr-fallback {\n",
       "  display: none;\n",
       "}\n",
       "\n",
       "div.sk-parallel-item,\n",
       "div.sk-serial,\n",
       "div.sk-item {\n",
       "  /* draw centered vertical line to link estimators */\n",
       "  background-image: linear-gradient(var(--sklearn-color-text-on-default-background), var(--sklearn-color-text-on-default-background));\n",
       "  background-size: 2px 100%;\n",
       "  background-repeat: no-repeat;\n",
       "  background-position: center center;\n",
       "}\n",
       "\n",
       "/* Parallel-specific style estimator block */\n",
       "\n",
       "#sk-container-id-1 div.sk-parallel-item::after {\n",
       "  content: \"\";\n",
       "  width: 100%;\n",
       "  border-bottom: 2px solid var(--sklearn-color-text-on-default-background);\n",
       "  flex-grow: 1;\n",
       "}\n",
       "\n",
       "#sk-container-id-1 div.sk-parallel {\n",
       "  display: flex;\n",
       "  align-items: stretch;\n",
       "  justify-content: center;\n",
       "  background-color: var(--sklearn-color-background);\n",
       "  position: relative;\n",
       "}\n",
       "\n",
       "#sk-container-id-1 div.sk-parallel-item {\n",
       "  display: flex;\n",
       "  flex-direction: column;\n",
       "}\n",
       "\n",
       "#sk-container-id-1 div.sk-parallel-item:first-child::after {\n",
       "  align-self: flex-end;\n",
       "  width: 50%;\n",
       "}\n",
       "\n",
       "#sk-container-id-1 div.sk-parallel-item:last-child::after {\n",
       "  align-self: flex-start;\n",
       "  width: 50%;\n",
       "}\n",
       "\n",
       "#sk-container-id-1 div.sk-parallel-item:only-child::after {\n",
       "  width: 0;\n",
       "}\n",
       "\n",
       "/* Serial-specific style estimator block */\n",
       "\n",
       "#sk-container-id-1 div.sk-serial {\n",
       "  display: flex;\n",
       "  flex-direction: column;\n",
       "  align-items: center;\n",
       "  background-color: var(--sklearn-color-background);\n",
       "  padding-right: 1em;\n",
       "  padding-left: 1em;\n",
       "}\n",
       "\n",
       "\n",
       "/* Toggleable style: style used for estimator/Pipeline/ColumnTransformer box that is\n",
       "clickable and can be expanded/collapsed.\n",
       "- Pipeline and ColumnTransformer use this feature and define the default style\n",
       "- Estimators will overwrite some part of the style using the `sk-estimator` class\n",
       "*/\n",
       "\n",
       "/* Pipeline and ColumnTransformer style (default) */\n",
       "\n",
       "#sk-container-id-1 div.sk-toggleable {\n",
       "  /* Default theme specific background. It is overwritten whether we have a\n",
       "  specific estimator or a Pipeline/ColumnTransformer */\n",
       "  background-color: var(--sklearn-color-background);\n",
       "}\n",
       "\n",
       "/* Toggleable label */\n",
       "#sk-container-id-1 label.sk-toggleable__label {\n",
       "  cursor: pointer;\n",
       "  display: flex;\n",
       "  width: 100%;\n",
       "  margin-bottom: 0;\n",
       "  padding: 0.5em;\n",
       "  box-sizing: border-box;\n",
       "  text-align: center;\n",
       "  align-items: start;\n",
       "  justify-content: space-between;\n",
       "  gap: 0.5em;\n",
       "}\n",
       "\n",
       "#sk-container-id-1 label.sk-toggleable__label .caption {\n",
       "  font-size: 0.6rem;\n",
       "  font-weight: lighter;\n",
       "  color: var(--sklearn-color-text-muted);\n",
       "}\n",
       "\n",
       "#sk-container-id-1 label.sk-toggleable__label-arrow:before {\n",
       "  /* Arrow on the left of the label */\n",
       "  content: \"▸\";\n",
       "  float: left;\n",
       "  margin-right: 0.25em;\n",
       "  color: var(--sklearn-color-icon);\n",
       "}\n",
       "\n",
       "#sk-container-id-1 label.sk-toggleable__label-arrow:hover:before {\n",
       "  color: var(--sklearn-color-text);\n",
       "}\n",
       "\n",
       "/* Toggleable content - dropdown */\n",
       "\n",
       "#sk-container-id-1 div.sk-toggleable__content {\n",
       "  max-height: 0;\n",
       "  max-width: 0;\n",
       "  overflow: hidden;\n",
       "  text-align: left;\n",
       "  /* unfitted */\n",
       "  background-color: var(--sklearn-color-unfitted-level-0);\n",
       "}\n",
       "\n",
       "#sk-container-id-1 div.sk-toggleable__content.fitted {\n",
       "  /* fitted */\n",
       "  background-color: var(--sklearn-color-fitted-level-0);\n",
       "}\n",
       "\n",
       "#sk-container-id-1 div.sk-toggleable__content pre {\n",
       "  margin: 0.2em;\n",
       "  border-radius: 0.25em;\n",
       "  color: var(--sklearn-color-text);\n",
       "  /* unfitted */\n",
       "  background-color: var(--sklearn-color-unfitted-level-0);\n",
       "}\n",
       "\n",
       "#sk-container-id-1 div.sk-toggleable__content.fitted pre {\n",
       "  /* unfitted */\n",
       "  background-color: var(--sklearn-color-fitted-level-0);\n",
       "}\n",
       "\n",
       "#sk-container-id-1 input.sk-toggleable__control:checked~div.sk-toggleable__content {\n",
       "  /* Expand drop-down */\n",
       "  max-height: 200px;\n",
       "  max-width: 100%;\n",
       "  overflow: auto;\n",
       "}\n",
       "\n",
       "#sk-container-id-1 input.sk-toggleable__control:checked~label.sk-toggleable__label-arrow:before {\n",
       "  content: \"▾\";\n",
       "}\n",
       "\n",
       "/* Pipeline/ColumnTransformer-specific style */\n",
       "\n",
       "#sk-container-id-1 div.sk-label input.sk-toggleable__control:checked~label.sk-toggleable__label {\n",
       "  color: var(--sklearn-color-text);\n",
       "  background-color: var(--sklearn-color-unfitted-level-2);\n",
       "}\n",
       "\n",
       "#sk-container-id-1 div.sk-label.fitted input.sk-toggleable__control:checked~label.sk-toggleable__label {\n",
       "  background-color: var(--sklearn-color-fitted-level-2);\n",
       "}\n",
       "\n",
       "/* Estimator-specific style */\n",
       "\n",
       "/* Colorize estimator box */\n",
       "#sk-container-id-1 div.sk-estimator input.sk-toggleable__control:checked~label.sk-toggleable__label {\n",
       "  /* unfitted */\n",
       "  background-color: var(--sklearn-color-unfitted-level-2);\n",
       "}\n",
       "\n",
       "#sk-container-id-1 div.sk-estimator.fitted input.sk-toggleable__control:checked~label.sk-toggleable__label {\n",
       "  /* fitted */\n",
       "  background-color: var(--sklearn-color-fitted-level-2);\n",
       "}\n",
       "\n",
       "#sk-container-id-1 div.sk-label label.sk-toggleable__label,\n",
       "#sk-container-id-1 div.sk-label label {\n",
       "  /* The background is the default theme color */\n",
       "  color: var(--sklearn-color-text-on-default-background);\n",
       "}\n",
       "\n",
       "/* On hover, darken the color of the background */\n",
       "#sk-container-id-1 div.sk-label:hover label.sk-toggleable__label {\n",
       "  color: var(--sklearn-color-text);\n",
       "  background-color: var(--sklearn-color-unfitted-level-2);\n",
       "}\n",
       "\n",
       "/* Label box, darken color on hover, fitted */\n",
       "#sk-container-id-1 div.sk-label.fitted:hover label.sk-toggleable__label.fitted {\n",
       "  color: var(--sklearn-color-text);\n",
       "  background-color: var(--sklearn-color-fitted-level-2);\n",
       "}\n",
       "\n",
       "/* Estimator label */\n",
       "\n",
       "#sk-container-id-1 div.sk-label label {\n",
       "  font-family: monospace;\n",
       "  font-weight: bold;\n",
       "  display: inline-block;\n",
       "  line-height: 1.2em;\n",
       "}\n",
       "\n",
       "#sk-container-id-1 div.sk-label-container {\n",
       "  text-align: center;\n",
       "}\n",
       "\n",
       "/* Estimator-specific */\n",
       "#sk-container-id-1 div.sk-estimator {\n",
       "  font-family: monospace;\n",
       "  border: 1px dotted var(--sklearn-color-border-box);\n",
       "  border-radius: 0.25em;\n",
       "  box-sizing: border-box;\n",
       "  margin-bottom: 0.5em;\n",
       "  /* unfitted */\n",
       "  background-color: var(--sklearn-color-unfitted-level-0);\n",
       "}\n",
       "\n",
       "#sk-container-id-1 div.sk-estimator.fitted {\n",
       "  /* fitted */\n",
       "  background-color: var(--sklearn-color-fitted-level-0);\n",
       "}\n",
       "\n",
       "/* on hover */\n",
       "#sk-container-id-1 div.sk-estimator:hover {\n",
       "  /* unfitted */\n",
       "  background-color: var(--sklearn-color-unfitted-level-2);\n",
       "}\n",
       "\n",
       "#sk-container-id-1 div.sk-estimator.fitted:hover {\n",
       "  /* fitted */\n",
       "  background-color: var(--sklearn-color-fitted-level-2);\n",
       "}\n",
       "\n",
       "/* Specification for estimator info (e.g. \"i\" and \"?\") */\n",
       "\n",
       "/* Common style for \"i\" and \"?\" */\n",
       "\n",
       ".sk-estimator-doc-link,\n",
       "a:link.sk-estimator-doc-link,\n",
       "a:visited.sk-estimator-doc-link {\n",
       "  float: right;\n",
       "  font-size: smaller;\n",
       "  line-height: 1em;\n",
       "  font-family: monospace;\n",
       "  background-color: var(--sklearn-color-background);\n",
       "  border-radius: 1em;\n",
       "  height: 1em;\n",
       "  width: 1em;\n",
       "  text-decoration: none !important;\n",
       "  margin-left: 0.5em;\n",
       "  text-align: center;\n",
       "  /* unfitted */\n",
       "  border: var(--sklearn-color-unfitted-level-1) 1pt solid;\n",
       "  color: var(--sklearn-color-unfitted-level-1);\n",
       "}\n",
       "\n",
       ".sk-estimator-doc-link.fitted,\n",
       "a:link.sk-estimator-doc-link.fitted,\n",
       "a:visited.sk-estimator-doc-link.fitted {\n",
       "  /* fitted */\n",
       "  border: var(--sklearn-color-fitted-level-1) 1pt solid;\n",
       "  color: var(--sklearn-color-fitted-level-1);\n",
       "}\n",
       "\n",
       "/* On hover */\n",
       "div.sk-estimator:hover .sk-estimator-doc-link:hover,\n",
       ".sk-estimator-doc-link:hover,\n",
       "div.sk-label-container:hover .sk-estimator-doc-link:hover,\n",
       ".sk-estimator-doc-link:hover {\n",
       "  /* unfitted */\n",
       "  background-color: var(--sklearn-color-unfitted-level-3);\n",
       "  color: var(--sklearn-color-background);\n",
       "  text-decoration: none;\n",
       "}\n",
       "\n",
       "div.sk-estimator.fitted:hover .sk-estimator-doc-link.fitted:hover,\n",
       ".sk-estimator-doc-link.fitted:hover,\n",
       "div.sk-label-container:hover .sk-estimator-doc-link.fitted:hover,\n",
       ".sk-estimator-doc-link.fitted:hover {\n",
       "  /* fitted */\n",
       "  background-color: var(--sklearn-color-fitted-level-3);\n",
       "  color: var(--sklearn-color-background);\n",
       "  text-decoration: none;\n",
       "}\n",
       "\n",
       "/* Span, style for the box shown on hovering the info icon */\n",
       ".sk-estimator-doc-link span {\n",
       "  display: none;\n",
       "  z-index: 9999;\n",
       "  position: relative;\n",
       "  font-weight: normal;\n",
       "  right: .2ex;\n",
       "  padding: .5ex;\n",
       "  margin: .5ex;\n",
       "  width: min-content;\n",
       "  min-width: 20ex;\n",
       "  max-width: 50ex;\n",
       "  color: var(--sklearn-color-text);\n",
       "  box-shadow: 2pt 2pt 4pt #999;\n",
       "  /* unfitted */\n",
       "  background: var(--sklearn-color-unfitted-level-0);\n",
       "  border: .5pt solid var(--sklearn-color-unfitted-level-3);\n",
       "}\n",
       "\n",
       ".sk-estimator-doc-link.fitted span {\n",
       "  /* fitted */\n",
       "  background: var(--sklearn-color-fitted-level-0);\n",
       "  border: var(--sklearn-color-fitted-level-3);\n",
       "}\n",
       "\n",
       ".sk-estimator-doc-link:hover span {\n",
       "  display: block;\n",
       "}\n",
       "\n",
       "/* \"?\"-specific style due to the `<a>` HTML tag */\n",
       "\n",
       "#sk-container-id-1 a.estimator_doc_link {\n",
       "  float: right;\n",
       "  font-size: 1rem;\n",
       "  line-height: 1em;\n",
       "  font-family: monospace;\n",
       "  background-color: var(--sklearn-color-background);\n",
       "  border-radius: 1rem;\n",
       "  height: 1rem;\n",
       "  width: 1rem;\n",
       "  text-decoration: none;\n",
       "  /* unfitted */\n",
       "  color: var(--sklearn-color-unfitted-level-1);\n",
       "  border: var(--sklearn-color-unfitted-level-1) 1pt solid;\n",
       "}\n",
       "\n",
       "#sk-container-id-1 a.estimator_doc_link.fitted {\n",
       "  /* fitted */\n",
       "  border: var(--sklearn-color-fitted-level-1) 1pt solid;\n",
       "  color: var(--sklearn-color-fitted-level-1);\n",
       "}\n",
       "\n",
       "/* On hover */\n",
       "#sk-container-id-1 a.estimator_doc_link:hover {\n",
       "  /* unfitted */\n",
       "  background-color: var(--sklearn-color-unfitted-level-3);\n",
       "  color: var(--sklearn-color-background);\n",
       "  text-decoration: none;\n",
       "}\n",
       "\n",
       "#sk-container-id-1 a.estimator_doc_link.fitted:hover {\n",
       "  /* fitted */\n",
       "  background-color: var(--sklearn-color-fitted-level-3);\n",
       "}\n",
       "</style><div id=\"sk-container-id-1\" class=\"sk-top-container\"><div class=\"sk-text-repr-fallback\"><pre>LogisticRegression(penalty=None, random_state=0)</pre><b>In a Jupyter environment, please rerun this cell to show the HTML representation or trust the notebook. <br />On GitHub, the HTML representation is unable to render, please try loading this page with nbviewer.org.</b></div><div class=\"sk-container\" hidden><div class=\"sk-item\"><div class=\"sk-estimator fitted sk-toggleable\"><input class=\"sk-toggleable__control sk-hidden--visually\" id=\"sk-estimator-id-1\" type=\"checkbox\" checked><label for=\"sk-estimator-id-1\" class=\"sk-toggleable__label fitted sk-toggleable__label-arrow\"><div><div>LogisticRegression</div></div><div><a class=\"sk-estimator-doc-link fitted\" rel=\"noreferrer\" target=\"_blank\" href=\"https://scikit-learn.org/1.6/modules/generated/sklearn.linear_model.LogisticRegression.html\">?<span>Documentation for LogisticRegression</span></a><span class=\"sk-estimator-doc-link fitted\">i<span>Fitted</span></span></div></label><div class=\"sk-toggleable__content fitted\"><pre>LogisticRegression(penalty=None, random_state=0)</pre></div> </div></div></div></div>"
      ],
      "text/plain": [
       "LogisticRegression(penalty=None, random_state=0)"
      ]
     },
     "execution_count": 10,
     "metadata": {},
     "output_type": "execute_result"
    }
   ],
   "source": [
    "#grade (write your code in this cell and DO NOT DELETE THIS LINE)\n",
    "clf = LogisticRegression(random_state = 0, penalty=None)\n",
    "clf.fit(Xtr, ytr)"
   ]
  },
  {
   "attachments": {},
   "cell_type": "markdown",
   "metadata": {},
   "source": [
    "Get the accuracy score of your model on the validation set, and save the result in `acc_lr`:"
   ]
  },
  {
   "cell_type": "code",
   "execution_count": 11,
   "metadata": {},
   "outputs": [],
   "source": [
    "#grade (write your code in this cell and DO NOT DELETE THIS LINE)\n",
    "y_pred_lr = clf.predict(Xvl)\n",
    "acc_lr = accuracy_score(yvl, y_pred_lr)"
   ]
  },
  {
   "attachments": {},
   "cell_type": "markdown",
   "metadata": {},
   "source": [
    "Also compute the validation accuracy of a model that does 'prediction by mode' - that predicts the same class label (whatever the most frequent class label is in the training set) for all data. Save the result in `acc_base`:"
   ]
  },
  {
   "cell_type": "code",
   "execution_count": 12,
   "metadata": {},
   "outputs": [],
   "source": [
    "#grade (write your code in this cell and DO NOT DELETE THIS LINE)\n",
    "most_frequent_label = np.bincount(ytr).argmax()\n",
    "y_pred_base = np.full_like(yvl, most_frequent_label)\n",
    "acc_base = accuracy_score(yvl, y_pred_base)\n"
   ]
  },
  {
   "attachments": {},
   "cell_type": "markdown",
   "metadata": {},
   "source": [
    "Does our model have better accuracy than \"prediction by mode\"?"
   ]
  },
  {
   "attachments": {},
   "cell_type": "markdown",
   "metadata": {},
   "source": [
    "Do you think accuracy is an appropriate metric for evaluating this model? Why or why not?"
   ]
  },
  {
   "attachments": {},
   "cell_type": "markdown",
   "metadata": {},
   "source": [
    "### Plot the ROC curve"
   ]
  },
  {
   "attachments": {},
   "cell_type": "markdown",
   "metadata": {},
   "source": [
    "Using the [`roc_curve`](https://scikit-learn.org/stable/modules/generated/sklearn.metrics.roc_curve.html) function in `sklearn`, get the FPR and TPR for a range of thresholds, for the validation set.\n",
    "\n",
    "You will pass to `roc_curve`:\n",
    "* `yvl` - the true values for the validation set\n",
    "* the estimated probability of mortality (probability of belonging to class 1), for the samples in the validation set\n",
    "\n",
    "You can get the probabilities from the `predict_proba` method of your classifier. This will return an array with `n_samples` rows and `n_classes` columns. Each column $j$ corresponds to the probability of belonging to class $j$.\n",
    "\n",
    "The `roc_curve` function will return three arrays - an array of FPR values, an array of TPR values, and the array of classifiers thresholds corresponding to those values."
   ]
  },
  {
   "cell_type": "code",
   "execution_count": 13,
   "metadata": {},
   "outputs": [],
   "source": [
    "#grade (write your code in this cell and DO NOT DELETE THIS LINE)\n",
    "y_proba = clf.predict_proba(Xvl)[:, 1]\n",
    "fpr, tpr, thresholds = roc_curve(yvl, y_proba)"
   ]
  },
  {
   "attachments": {},
   "cell_type": "markdown",
   "metadata": {},
   "source": [
    "Then, plot the ROC curve, with FPR on the horizontal axis and TPR on the vertical axis."
   ]
  },
  {
   "cell_type": "code",
   "execution_count": 14,
   "metadata": {},
   "outputs": [
    {
     "data": {
      "image/png": "[encoded data removed]",
      "text/plain": [
       "<Figure size 640x480 with 1 Axes>"
      ]
     },
     "metadata": {},
     "output_type": "display_data"
    }
   ],
   "source": [
    "plt.plot(fpr, tpr)\n",
    "plt.xlabel('False Positive Rate')\n",
    "plt.ylabel('True Positive Rate')\n",
    "plt.title('ROC Curve')\n",
    "plt.show()"
   ]
  },
  {
   "attachments": {},
   "cell_type": "markdown",
   "metadata": {},
   "source": [
    "What threshold would we use if we wanted to identify 90% of the patients at risk of mortality? What would be the FPR in this case? Why might it be appropriate for this application to choose a threshold that identifies most patients at risk of mortality, even if it comes with many false positives?"
   ]
  },
  {
   "attachments": {},
   "cell_type": "markdown",
   "metadata": {},
   "source": [
    "### Modeling doctors' decision making"
   ]
  },
  {
   "attachments": {},
   "cell_type": "markdown",
   "metadata": {},
   "source": [
    "Now that we have a trained model, we will explore its use in a hospital context.\n",
    "\n",
    "Suppose we have a new strategy that is intended to reduce ICU mortality. It will work as follows:\n",
    "\n",
    "* At the beginning of the shift, a team of specialist doctors will spend some extra time reviewing patient files, and deciding what intervention is needed for each patient.\n",
    "* If the doctor identifies the correct intervention, the patient will not die.\n",
    "* However, the probability of *missing* the correct intervention depends on the time spent reviewing the file."
   ]
  },
  {
   "attachments": {},
   "cell_type": "markdown",
   "metadata": {},
   "source": [
    "If the doctor spends $t$ minutes reviewing a file, the probability of *missing* the correct treatment is\n",
    "\n",
    "$$P(\\textrm{fail}) = \\exp(-t^2/100).$$\n",
    "\n"
   ]
  },
  {
   "attachments": {},
   "cell_type": "markdown",
   "metadata": {},
   "source": [
    "It's not possible to precisely measure the effect of a system like this using the observational data that we have available to us. To evaluate the effect of the proposed system, we would have to run a controlled experiment.\n",
    "\n",
    "However, to the extent possible, we should try to understand the policy impact first - we will do so by simulation."
   ]
  },
  {
   "attachments": {},
   "cell_type": "markdown",
   "metadata": {},
   "source": [
    "#### Policy 0: No extra review"
   ]
  },
  {
   "attachments": {},
   "cell_type": "markdown",
   "metadata": {},
   "source": [
    "First, as a baseline, let's compute the number of deaths in the validation set. Save the result in `mort_0`:"
   ]
  },
  {
   "cell_type": "code",
   "execution_count": 15,
   "metadata": {},
   "outputs": [],
   "source": [
    "#grade (write your code in this cell and DO NOT DELETE THIS LINE)\n",
    "mort_0 = np.sum(yvl)"
   ]
  },
  {
   "attachments": {},
   "cell_type": "markdown",
   "metadata": {},
   "source": [
    "#### Policy 1: Review all files"
   ]
  },
  {
   "attachments": {},
   "cell_type": "markdown",
   "metadata": {},
   "source": [
    "Now suppose the specialist team will spend\n",
    "\n",
    "$$\\frac{N}{25} \\times 60$$\n",
    "\n",
    "minutes total on extra review, where $N$ is the number of files in the validation set, and they will spend an equal amount of time on each of the $N$ files in the validation set."
   ]
  },
  {
   "attachments": {},
   "cell_type": "markdown",
   "metadata": {},
   "source": [
    "Compute:\n",
    "\n",
    "* `t_1` - the time (in minutes) spent on each file\n",
    "* `p_1` - the probability of failing to identify the correct intervention, given this `t`\n",
    "\n",
    "and then use them to find the expected number of deaths in the validation set, with this policy. Save this value in `mort_1`."
   ]
  },
  {
   "cell_type": "code",
   "execution_count": 16,
   "metadata": {},
   "outputs": [],
   "source": [
    "#grade (write your code in this cell and DO NOT DELETE THIS LINE)\n",
    "# Number of validation samples\n",
    "N = len(yvl)\n",
    "\n",
    "# Step 1: Compute time spent per file\n",
    "t_1 = (N / 25) * 60  / N  # Minutes per file\n",
    "\n",
    "# Step 2: Compute probability of missing correct intervention\n",
    "p_1 = np.exp(-t_1**2 / 100)\n",
    "\n",
    "# Step 3: Compute expected mortality under Policy 1\n",
    "mort_1 = np.sum(yvl * p_1)"
   ]
  },
  {
   "attachments": {},
   "cell_type": "markdown",
   "metadata": {},
   "source": [
    "#### Policy 2: Review high-risk files with 0.5 threshold"
   ]
  },
  {
   "attachments": {},
   "cell_type": "markdown",
   "metadata": {},
   "source": [
    "Now, suppose that the doctor only reviews the files of patients for whom the model outputs a probability of mortality greater than 50%. They will spend the same total amount of time as before, \n",
    "\n",
    "\n",
    "$$\\frac{N}{25} \\times 60$$\n",
    "\n",
    "minutes total on extra review, where $N$ is the number of files in the validation set.  But now they will review fewer files.\n",
    "\n",
    "This would give the doctor more time to look through each file, but the doctor would never be able to intervene in the cases of patients that the model considers very low risk.\n"
   ]
  },
  {
   "attachments": {},
   "cell_type": "markdown",
   "metadata": {},
   "source": [
    "Compute:\n",
    "\n",
    "* `t_2` - the time (in minutes) spent on each file\n",
    "* `p_2` - the probability of failing to identify the correct intervention, given this `t`\n",
    "\n",
    "and then use them to find the expected number of deaths in the validation set, with this policy. Save this value in `mort_2`."
   ]
  },
  {
   "cell_type": "code",
   "execution_count": 17,
   "metadata": {},
   "outputs": [],
   "source": [
    "#grade (write your code in this cell and DO NOT DELETE THIS LINE)\n",
    "# Step 1: Predict probabilities of mortality for the validation set\n",
    "y_proba_vl = clf.predict_proba(Xvl)[:, 1]\n",
    "\n",
    "# Identify high-risk and low-risk patients\n",
    "high_risk_indices = [i for i in range(len(yvl)) if y_proba_vl[i] > 0.5]\n",
    "low_risk_indices = [i for i in range(len(yvl)) if y_proba_vl[i] <= 0.5]\n",
    "\n",
    "# Number of high-risk files\n",
    "N_high_risk = len(high_risk_indices)\n",
    "\n",
    "# Step 2: Calculate t_2\n",
    "N = len(yvl)\n",
    "T = (N / 25) * 60\n",
    "t_2 = T / N_high_risk\n",
    "\n",
    "# Step 3: Calculate p_2\n",
    "p_2 = np.exp(-t_2**2 / 100)\n",
    "\n",
    "# Step 4: Estimate expected deaths\n",
    "mort_2 = 0\n",
    "for i in high_risk_indices:\n",
    "    if yvl[i] == 1:  # Patient would have died without review\n",
    "        mort_2 += p_2  # Adjusted probability of death\n",
    "    else:\n",
    "        mort_2 += 0  # No death for survivors\n",
    "\n",
    "for i in low_risk_indices:\n",
    "    mort_2 += yvl[i]  # No review, so deaths remain unchanged"
   ]
  },
  {
   "attachments": {},
   "cell_type": "markdown",
   "metadata": {},
   "source": [
    "#### Policy 3: Review high-risk files with optimal threshold"
   ]
  },
  {
   "attachments": {},
   "cell_type": "markdown",
   "metadata": {},
   "source": [
    "Finally, we will find the classifier threshold that minimizes the expected mortality in the validation set."
   ]
  },
  {
   "attachments": {},
   "cell_type": "markdown",
   "metadata": {},
   "source": [
    "For all thresholds in `np.arange(0, 1, 0.01)`, compute the expected mortality, given the doctor only reviews the files of patients for whom the model outputs a probability of mortality greater than that threshold. They will spend the same total amount of time as before, \n",
    "\n",
    "\n",
    "$$\\frac{N}{25} \\times 60$$\n",
    "\n",
    "minutes total on extra review, where $N$ is the number of files in the validation set. \n",
    "\n",
    "Save the results in `mort_thr`.\n"
   ]
  },
  {
   "cell_type": "code",
   "execution_count": 18,
   "metadata": {},
   "outputs": [],
   "source": [
    "#grade (write your code in this cell and DO NOT DELETE THIS LINE)\n",
    "# thr_list = np.arange(0, 1, 0.01)\n",
    "# mort_thr = np.zeros(len(thr_list))\n",
    "# # fill in mort_thr...\n",
    "\n",
    "\n",
    "# Step 1: Predict probabilities of mortality for the validation set\n",
    "y_proba_vl = clf.predict_proba(Xvl)[:, 1]  # Predicted probabilities for validation set\n",
    "\n",
    "# Total number of files in the validation set\n",
    "N = len(yvl)\n",
    "\n",
    "# Total time spent on extra review (same as in Policy 1 and Policy 2)\n",
    "T = (N / 25) * 60\n",
    "\n",
    "# Step 2: Initialize arrays to store results\n",
    "thr_list = np.arange(0, 1, 0.01)  # List of thresholds\n",
    "mort_thr = np.zeros(len(thr_list))  # Array to store expected mortality for each threshold\n",
    "\n",
    "# Step 3: Iterate over thresholds\n",
    "for i, t in enumerate(thr_list):\n",
    "    # Identify high-risk patients (probability > threshold)\n",
    "    high_risk_indices = np.where(y_proba_vl > t)[0]\n",
    "    low_risk_indices = np.where(y_proba_vl <= t)[0]\n",
    "    \n",
    "    # Number of high-risk files\n",
    "    N_high_risk = len(high_risk_indices)\n",
    "    \n",
    "    # Skip if there are no high-risk patients (to avoid division by zero)\n",
    "    if N_high_risk == 0:\n",
    "        mort_thr[i] = np.sum(yvl[low_risk_indices])  # No review, so deaths remain unchanged\n",
    "        continue\n",
    "    \n",
    "    # Calculate time spent on each high-risk file\n",
    "    t_2_3 = T / N_high_risk\n",
    "    \n",
    "    # Calculate probability of failing to identify the correct intervention\n",
    "    p_2 = np.exp(-t_2_3**2 / 100)\n",
    "    \n",
    "    # Estimate expected deaths\n",
    "    mort_high_risk = np.sum(yvl[high_risk_indices] * p_2)  # Adjusted probability for high-risk patients\n",
    "    mort_low_risk = np.sum(yvl[low_risk_indices])  # No review for low-risk patients\n",
    "    \n",
    "    # Total expected deaths\n",
    "    mort_thr[i] = mort_high_risk + mort_low_risk"
   ]
  },
  {
   "attachments": {},
   "cell_type": "markdown",
   "metadata": {},
   "source": [
    "Plot the expected mortality against the threshold:"
   ]
  },
  {
   "cell_type": "code",
   "execution_count": 19,
   "metadata": {},
   "outputs": [
    {
     "data": {
      "image/png": "[encoded data removed]",
      "text/plain": [
       "<Figure size 640x480 with 1 Axes>"
      ]
     },
     "metadata": {},
     "output_type": "display_data"
    }
   ],
   "source": [
    "plt.plot(thr_list, mort_thr);\n",
    "plt.xlabel('Threshold');\n",
    "plt.ylabel('Expected Mortality');\n",
    "plt.title('Expected Mortality vs. Threshold');"
   ]
  },
  {
   "attachments": {},
   "cell_type": "markdown",
   "metadata": {},
   "source": [
    "Find \n",
    "\n",
    "* `thr_opt`, the threshold that minimizes mortality on the validation set, and \n",
    "* `mort_3`, the expected mortality on the validation set with this threshold."
   ]
  },
  {
   "cell_type": "code",
   "execution_count": 20,
   "metadata": {},
   "outputs": [],
   "source": [
    "#grade (write your code in this cell and DO NOT DELETE THIS LINE)\n",
    "thr_opt = thr_list[np.argmin(mort_thr)]\n",
    "# mort_3 = np.min(mort_thr)\n",
    "mort_3 = np.min(mort_thr[mort_thr > 0]) if np.any(mort_thr > 0) else np.min(mort_thr)"
   ]
  },
  {
   "attachments": {},
   "cell_type": "markdown",
   "metadata": {},
   "source": [
    "### Evaluate on the test set"
   ]
  },
  {
   "attachments": {},
   "cell_type": "markdown",
   "metadata": {},
   "source": [
    "Finally, compute the mortality (number of deaths) in the test set:"
   ]
  },
  {
   "cell_type": "code",
   "execution_count": 21,
   "metadata": {},
   "outputs": [],
   "source": [
    "#grade (write your code in this cell and DO NOT DELETE THIS LINE)\n",
    "mort_ts = np.sum(yts)"
   ]
  },
  {
   "attachments": {},
   "cell_type": "markdown",
   "metadata": {},
   "source": [
    "and compute the number of lives that would be saved *on the test set*:\n",
    "\n",
    "* by Policy 0: no review\n",
    "* by Policy 1: review all\n",
    "* by Policy 2: review using 50% threshold\n",
    "* by Policy 3: review using `thr_opt` found in the previous part"
   ]
  },
  {
   "cell_type": "code",
   "execution_count": 22,
   "metadata": {},
   "outputs": [],
   "source": [
    "#grade (write your code in this cell and DO NOT DELETE THIS LINE)\n",
    "# saved_0 = 0\n",
    "# saved_1 = ...\n",
    "# saved_2 = ...\n",
    "# saved_3 = ...\n",
    "# First, calculate the total number of deaths in the test set\n",
    "mort_ts = np.sum(yts)\n",
    "\n",
    "# Policy 0: no review, so no lives are saved\n",
    "saved_0 = 0\n",
    "\n",
    "# Policy 1: review all\n",
    "# Calculate the total time available for review\n",
    "N = len(yts)\n",
    "total_time = (N / 25) * 60\n",
    "t_ts_1 = total_time / N\n",
    "p_ts_1 = np.exp(-(t_ts_1 ** 2) / 100)\n",
    "at_risk_patients = np.sum(yts)\n",
    "mort_ts_1 = at_risk_patients * p_ts_1\n",
    "saved_1 = mort_ts - mort_ts_1\n",
    "\n",
    "# Policy 2: review using 50% threshold\n",
    "y_proba_ts = clf.predict_proba(Xts)[:, 1]\n",
    "high_risk_patients = y_proba_ts > 0.5\n",
    "num_high_risk = np.sum(high_risk_patients)\n",
    "t_ts_2 = total_time / num_high_risk if num_high_risk > 0 else 0\n",
    "p_ts_2 = np.exp(-(t_ts_2 ** 2) / 100)\n",
    "at_risk_high_risk = np.sum(yts[high_risk_patients])\n",
    "at_risk_low_risk = np.sum(yts[~high_risk_patients])\n",
    "mort_ts_2 = at_risk_high_risk * p_ts_2 + at_risk_low_risk\n",
    "saved_2 = mort_ts - mort_ts_2\n",
    "\n",
    "# Policy 3: review using thr_opt\n",
    "high_risk_patients = y_proba_ts > thr_opt\n",
    "num_high_risk = np.sum(high_risk_patients)\n",
    "t_ts_3 = total_time / num_high_risk if num_high_risk > 0 else 0\n",
    "p_ts_3 = np.exp(-(t_ts_3 ** 2) / 100)\n",
    "at_risk_high_risk = np.sum(yts[high_risk_patients])\n",
    "at_risk_low_risk = np.sum(yts[~high_risk_patients])\n",
    "mort_ts_3 = at_risk_high_risk * p_ts_3 + at_risk_low_risk\n",
    "saved_3 = mort_ts - mort_ts_3"
   ]
  },
  {
   "attachments": {},
   "cell_type": "markdown",
   "metadata": {},
   "source": [
    "Plot the results: make a bar plot showing the values of `saved_0`, `saved_1`, `saved_2`, and `saved_3`, and showing the total mortality as a horizontal line."
   ]
  },
  {
   "cell_type": "code",
   "execution_count": 23,
   "metadata": {},
   "outputs": [
    {
     "data": {
      "image/png": "[encoded data removed]",
      "text/plain": [
       "<Figure size 640x480 with 1 Axes>"
      ]
     },
     "metadata": {},
     "output_type": "display_data"
    }
   ],
   "source": [
    "#grade (write your code in this cell and DO NOT DELETE THIS LINE)\n",
    "\n",
    "plt.bar([\"Policy 0\", \"Policy 1\", \"Policy 2\", \"Policy 3\"], [saved_0, saved_1, saved_2, saved_3]);\n",
    "plt.hlines(mort_ts, xmin=-0.5, xmax=3.5, colors='r');\n",
    "plt.ylabel(\"Lives saved by policy\");\n"
   ]
  }
 ],
 "metadata": {
  "colab": {
   "collapsed_sections": [],
   "provenance": []
  },
  "kernelspec": {
   "display_name": "Python 3",
   "language": "python",
   "name": "python3"
  },
  "language_info": {
   "codemirror_mode": {
    "name": "ipython",
    "version": 3
   },
   "file_extension": ".py",
   "mimetype": "text/x-python",
   "name": "python",
   "nbconvert_exporter": "python",
   "pygments_lexer": "ipython3",
   "version": "3.11.5"
  }
 },
 "nbformat": 4,
 "nbformat_minor": 4
}
