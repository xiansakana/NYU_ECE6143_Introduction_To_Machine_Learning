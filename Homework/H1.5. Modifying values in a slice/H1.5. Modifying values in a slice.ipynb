{
 "cells": [
  {
   "attachments": {},
   "cell_type": "markdown",
   "metadata": {},
   "source": [
    "# Modifying values in a slice"
   ]
  },
  {
   "cell_type": "markdown",
   "metadata": {},
   "source": [
    "In the attached workspace, `x` is a numpy array with shape: `(28,5)`.\n",
    "\n",
    "In the graded cell, modify `x` to assign the value 3 to the last 3 rows and last 2 columns of `x`.\n",
    "\n",
    "Solve using one line of code, with no explicit `for` loops or other control structures.\n",
    "\n",
    "In the notebook attached to this example, your code should produce the following result:\n",
    "\n",
    "|Name\t|Type\t|Description|\n",
    "|---|---|---|\n",
    "|`x`\t|2D numpy array\t|Modified version of x as specified.|"
   ]
  },
  {
   "cell_type": "code",
   "execution_count": 1,
   "metadata": {},
   "outputs": [],
   "source": [
    "import numpy as np"
   ]
  },
  {
   "attachments": {},
   "cell_type": "markdown",
   "metadata": {},
   "source": [
    "The following cell creates an array of shape `(28,5)` (it's not the same array that your solution will be graded on, but its dimensions are the same! So you can use it to test your work.)"
   ]
  },
  {
   "cell_type": "code",
   "execution_count": 2,
   "metadata": {},
   "outputs": [],
   "source": [
    "x = np.random.randint(-100, 100, size=(28,5))"
   ]
  },
  {
   "attachments": {},
   "cell_type": "markdown",
   "metadata": {},
   "source": [
    "In the graded cell modify `x` to assign the value 3 to the last 3 rows and last 2 columns of <code>x</code>.</p>\n"
   ]
  },
  {
   "cell_type": "code",
   "execution_count": 3,
   "metadata": {},
   "outputs": [],
   "source": [
    "#grade (write your code in this cell and DO NOT DELETE THIS LINE)\n",
    "x[-3:, -2:] = 3\n",
    "\n"
   ]
  },
  {
   "cell_type": "markdown",
   "metadata": {},
   "source": [
    "You can check your work by looking at the output in the next cell:"
   ]
  },
  {
   "cell_type": "code",
   "execution_count": 4,
   "metadata": {},
   "outputs": [
    {
     "data": {
      "text/plain": [
       "array([[-36,   8,  49, -12, -55],\n",
       "       [-21,  62, -67, -18,  54],\n",
       "       [ -3,  20, -48,  29,  88],\n",
       "       [-64,  56, -19, -90, -55],\n",
       "       [ 47,  17, -14, -10, -85],\n",
       "       [ 48,  56,  35, -95, -19],\n",
       "       [-59,  76, -22,  25,   3],\n",
       "       [-28,  -7,   5, -84, -13],\n",
       "       [-91,  40,   1, -26, -76],\n",
       "       [-52, -12,  93, -31,  67],\n",
       "       [  3, -22,  -1, -94,   6],\n",
       "       [ 11, -39,  32, -93,  43],\n",
       "       [-69, -45, -61,  86,  -6],\n",
       "       [-40, -58,  63,  84,  27],\n",
       "       [-14,  77,  77, -78, -48],\n",
       "       [ 42,  19,  -8,  29, -65],\n",
       "       [-81, -45,  18, -14,  78],\n",
       "       [  9, -35,  85,  41, -37],\n",
       "       [-10, -45, -74, -16, -81],\n",
       "       [-85, -13,  70, -34,  15],\n",
       "       [-42, -64,  47, -47, -61],\n",
       "       [  4,  42,  84, -93, -80],\n",
       "       [-52,  95, -97,  54, -73],\n",
       "       [-99,   5, -92, -49,   9],\n",
       "       [ 66,  -5,  -5, -87, -47],\n",
       "       [-91, -37,  -8,   3,   3],\n",
       "       [ 19,  98, -39,   3,   3],\n",
       "       [ 17, -36, -35,   3,   3]], dtype=int32)"
      ]
     },
     "execution_count": 4,
     "metadata": {},
     "output_type": "execute_result"
    }
   ],
   "source": [
    "x"
   ]
  },
  {
   "cell_type": "code",
   "execution_count": null,
   "metadata": {},
   "outputs": [],
   "source": []
  }
 ],
 "metadata": {
  "kernelspec": {
   "display_name": "Python 3",
   "language": "python",
   "name": "python3"
  },
  "language_info": {
   "codemirror_mode": {
    "name": "ipython",
    "version": 3
   },
   "file_extension": ".py",
   "mimetype": "text/x-python",
   "name": "python",
   "nbconvert_exporter": "python",
   "pygments_lexer": "ipython3",
   "version": "3.11.5"
  }
 },
 "nbformat": 4,
 "nbformat_minor": 4
}
