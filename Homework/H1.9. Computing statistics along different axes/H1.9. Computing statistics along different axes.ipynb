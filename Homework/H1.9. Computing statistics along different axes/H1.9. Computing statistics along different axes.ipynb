{
 "cells": [
  {
   "cell_type": "markdown",
   "metadata": {},
   "source": [
    "# Computation over a specific axis"
   ]
  },
  {
   "cell_type": "markdown",
   "metadata": {},
   "source": [
    "The workspace at the link below has a notebook with which you will read in some data from a (fictional) previous section of ECE-GY 6143. The data records the exam scores of each of 88 students on 5 exams.\n",
    "\n",
    "Then, you will use the `mean` function (described [here](https://numpy.org/doc/stable/reference/generated/numpy.mean.html)) with the `axis` argument to compute two different values over n, and save the results in variables with the following name:\n",
    "\n",
    "|Name\t|Type\t|Description|\n",
    "|---|---|---|\n",
    "|`mean_per_student`|\t1d numpy array (length 88)\t|Per-student mean exam score|\n",
    "|`mean_per_exam`\t|1d numpy array (length 5)\t|Per-exam mean score|\n",
    "\n",
    "Solve using two lines of code, with no explicit for loops or other control structures."
   ]
  },
  {
   "cell_type": "code",
   "execution_count": 1,
   "metadata": {},
   "outputs": [],
   "source": [
    "import numpy as np\n"
   ]
  },
  {
   "cell_type": "markdown",
   "metadata": {},
   "source": [
    "Read in the data to a `numpy` array in `n`. If you want to, you can add code to the following cell to explore `n` (for example, see its shape).\n"
   ]
  },
  {
   "cell_type": "code",
   "execution_count": 2,
   "metadata": {},
   "outputs": [],
   "source": [
    "n = np.genfromtxt('data.csv',delimiter=',')\n"
   ]
  },
  {
   "cell_type": "markdown",
   "metadata": {},
   "source": [
    "Write exactly *two* lines of code that uses `np.mean` to create the arrays described in the question. Your solution should not use any loops."
   ]
  },
  {
   "cell_type": "code",
   "execution_count": 3,
   "metadata": {},
   "outputs": [],
   "source": [
    "#grade (write your code in this cell and DO NOT DELETE THIS LINE)\n",
    "mean_per_student = np.mean(n, axis=1)\n",
    "mean_per_exam = np.mean(n, axis=0)\n",
    "\n"
   ]
  },
  {
   "cell_type": "markdown",
   "metadata": {},
   "source": [
    "You can test your work by looking at the output in the next cells (which you can also modify as you like - these cells will not be graded):"
   ]
  },
  {
   "cell_type": "code",
   "execution_count": 4,
   "metadata": {},
   "outputs": [
    {
     "data": {
      "text/plain": [
       "array([77.6, 79.4, 84. , 73.6, 73.2, 71.8, 81.2, 73.6, 77.2, 82.4, 75.6,\n",
       "       82.8, 79. , 75.6, 81. , 81. , 78. , 86.4, 77.2, 72.6, 77.2, 80.4,\n",
       "       78. , 77.8, 82.8, 72.4, 84. , 82.8, 80.4, 76.6, 83. , 75.2, 78. ,\n",
       "       79.8, 77. , 73.8, 78. , 77.8, 81.8, 80. , 84.4, 78.8, 70.8, 84.4,\n",
       "       83.8, 88.2, 83.6, 84. , 75.6, 79.2, 80.8, 76.8, 73.6, 72.4, 73.2,\n",
       "       71. , 76.8, 79. , 91.6, 69.2, 81.4, 79.8, 84.2, 78.8, 89.4, 84. ,\n",
       "       77.8, 76.6, 79.8, 82.2, 76.4, 87.8, 79.6, 83.2, 79. , 80. , 78.8,\n",
       "       68. , 80.2, 78.6, 73.8, 76.4, 81. , 86. , 74.6, 77. , 77.6, 79. ])"
      ]
     },
     "execution_count": 4,
     "metadata": {},
     "output_type": "execute_result"
    }
   ],
   "source": [
    "mean_per_student\n"
   ]
  },
  {
   "cell_type": "code",
   "execution_count": 5,
   "metadata": {},
   "outputs": [
    {
     "data": {
      "text/plain": [
       "array([79.73863636, 77.72727273, 80.47727273, 79.89772727, 76.94318182])"
      ]
     },
     "execution_count": 5,
     "metadata": {},
     "output_type": "execute_result"
    }
   ],
   "source": [
    "mean_per_exam\n"
   ]
  },
  {
   "cell_type": "code",
   "execution_count": null,
   "metadata": {},
   "outputs": [],
   "source": []
  }
 ],
 "metadata": {
  "kernelspec": {
   "display_name": "Python 3",
   "language": "python",
   "name": "python3"
  },
  "language_info": {
   "codemirror_mode": {
    "name": "ipython",
    "version": 3
   },
   "file_extension": ".py",
   "mimetype": "text/x-python",
   "name": "python",
   "nbconvert_exporter": "python",
   "pygments_lexer": "ipython3",
   "version": "3.11.5"
  }
 },
 "nbformat": 4,
 "nbformat_minor": 4
}
