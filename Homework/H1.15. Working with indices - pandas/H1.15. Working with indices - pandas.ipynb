{
 "cells": [
  {
   "attachments": {},
   "cell_type": "markdown",
   "metadata": {},
   "source": [
    "# Working with indices"
   ]
  },
  {
   "cell_type": "markdown",
   "metadata": {},
   "source": [
    "In the attached workspace, **df** is a pandas data frame with the results of 205 students on 2 exams, and their section membership.\n",
    "\n",
    "In the graded cell, compute the average exam score for students in section 3 using the following approach:\n",
    "\n",
    "1. First, create **s_df** by selecting rows and columns from **df** with **.loc[]**. The data frame **s_df** should have just the exam scores of students in section 3.\n",
    "2. Then, use **to_numpy()** and **mean()** to compute the average score for the section, and save the results in **s_mean**.\n",
    "\n",
    "Solve in no more than two lines of code.\n",
    "\n",
    "In the notebook attached to this example, your code should produce the following result:\n",
    "\n",
    "| Name |\tType |\tDescription |\n",
    "| --- | --- | --- |\n",
    "**s_df** |\tdata frame\t| Exam scores of students that are in section 3.\n",
    "**s_mean**\t| float\t| Mean value of x for samples that are in section 3."
   ]
  },
  {
   "cell_type": "code",
   "execution_count": 1,
   "metadata": {},
   "outputs": [],
   "source": [
    "import numpy as np\n",
    "import pandas as pd"
   ]
  },
  {
   "attachments": {},
   "cell_type": "markdown",
   "metadata": {},
   "source": [
    "The following cell creates a data frame with the same columns and same dimensions as the one on which your solution will be evaluated (although with different values), so you can use it to test your work."
   ]
  },
  {
   "cell_type": "code",
   "execution_count": 10,
   "metadata": {},
   "outputs": [],
   "source": [
    "df = pd.DataFrame.from_dict(\n",
    "    { \n",
    "                \"exam1\":  np.random.randint(60, 100, size=(205,)),\n",
    "                \"exam2\":  np.random.randint(60, 100, size=(205,)),\n",
    "                'section': np.random.randint(1, 5, size=(205,))\n",
    "    } \n",
    ")"
   ]
  },
  {
   "attachments": {},
   "cell_type": "markdown",
   "metadata": {},
   "source": [
    "In the graded cell, compute the average exam score for students in section 3 (and save this to `s_mean`).\n"
   ]
  },
  {
   "cell_type": "code",
   "execution_count": 11,
   "metadata": {},
   "outputs": [],
   "source": [
    "#grade (write your code in this cell and DO NOT DELETE THIS LINE)\n",
    "s_df = df.loc[df['section'] == 3, ['exam1', 'exam2']]\n",
    "s_mean = s_df.to_numpy().mean()\n"
   ]
  },
  {
   "cell_type": "code",
   "execution_count": null,
   "metadata": {},
   "outputs": [],
   "source": []
  }
 ],
 "metadata": {
  "kernelspec": {
   "display_name": "Python 3 (ipykernel)",
   "language": "python",
   "name": "python3"
  },
  "language_info": {
   "codemirror_mode": {
    "name": "ipython",
    "version": 3
   },
   "file_extension": ".py",
   "mimetype": "text/x-python",
   "name": "python",
   "nbconvert_exporter": "python",
   "pygments_lexer": "ipython3",
   "version": "3.11.6"
  }
 },
 "nbformat": 4,
 "nbformat_minor": 4
}
