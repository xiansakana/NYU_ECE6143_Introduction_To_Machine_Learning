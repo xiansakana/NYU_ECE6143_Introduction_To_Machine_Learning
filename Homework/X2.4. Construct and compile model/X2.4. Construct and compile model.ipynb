{
 "cells": [
  {
   "cell_type": "markdown",
   "metadata": {},
   "source": [
    "## Construct and compile model"
   ]
  },
  {
   "cell_type": "markdown",
   "metadata": {},
   "source": [
    "X2.4. Construct and compile model\n",
    "On a virtual reality gaming platform, players from across the world engage in an immersive multiplayer experience. The gaming company is facing a challenge in predicting player engagement levels and optimizing in-game events to enhance the overall player experience. As a data scientist on the gaming analytics team, your goal is to build a model to predict the player engagement category based on their long-term and recent engagement patterns. This model will enable the gaming company to tailor in-game events, challenges, and rewards to different player segments, fostering a more engaging and personalized gaming experience for players across the virtual universe.\n",
    "\n",
    "To train your model, you are given a dataset with information on several million players, and each player is described by the following features:\n",
    "\n",
    "- Player ID (alphanumeric): Unique identifier for each player.\n",
    "- Total Playtime (numeric): The cumulative time a player has spent in the game, over the player's lifetime.\n",
    "- Average Session Duration (numeric): The average duration of a player's gaming sessions, over the player's lifetime.\n",
    "- Average Sessions Per Week (numeric): The average number gaming sessions a player has engaged in per week, over the player's lifetime.\n",
    "- In-Game Purchases (numeric): The total amount spent on in-game purchases, over the player's lifetime.\n",
    "- Quest Completion Rate (numeric): The percentage of quests a player has successfully completed, over the player's lifetime.\n",
    "- Social Interactions (numeric): A count of in-game social interactions with other players, over the player's lifetime.\n",
    "- Guild Membership (binary): Indicates whether the player is currently a member of an in-game guild.\n",
    "- Player Level (numeric): The player's current level in the game.\n",
    "- Days Elapsed Since Last Three Sessions (numeric, three values):\n",
    "  - The number of days that have elapsed since the player's most recent gaming session,\n",
    "  - the number of days that have elapsed since the previous gaming session,\n",
    "  - and the number of days that have elapsed since the gaming session before that,\n",
    "- Player Engagement Category: high-engagement (2), moderate-engagement (1), or low-engagement (0) (class labels assigned by experts, ordinal encoded)\n",
    "\n",
    "You decide to use a fully connected neural network with a single hidden layer. In the attached notebook, construct the network and an optimizer and compile it. Use an appropriate activation function at hidden units and at the output, and an appropriate metric for optimization.\n",
    "\n",
    "> Note: Although Keras allows either syntax, for this question you should use strings rather than functions to define activations, loss functions, and metrics. E.g. `accuracy` and not `tf.keras.metrics.Accuracy(`).\n",
    "\n",
    "| Name | Type | Description |\n",
    "| ---- | ---- | ---- |\n",
    "|`model`\t|Keras model\t|Keras model.|"
   ]
  },
  {
   "cell_type": "code",
   "execution_count": 1,
   "metadata": {},
   "outputs": [],
   "source": [
    "from tensorflow.keras.models import Model, Sequential\n",
    "from tensorflow.keras.layers import Dense, Activation, Input\n",
    "from tensorflow.keras import optimizers\n",
    "import tensorflow.keras.backend as K\n",
    "import tensorflow as tf"
   ]
  },
  {
   "cell_type": "markdown",
   "metadata": {},
   "source": [
    "Construct a neural network following the problem parameters described in the question."
   ]
  },
  {
   "cell_type": "code",
   "execution_count": 2,
   "metadata": {},
   "outputs": [],
   "source": [
    "#grade (write your code in this cell and DO NOT DELETE THIS LINE)\n",
    "model = Sequential()\n",
    "model.add(Dense(64, input_dim=11, activation='relu'))\n",
    "model.add(Dense(3, activation='softmax'))"
   ]
  },
  {
   "cell_type": "markdown",
   "metadata": {},
   "source": [
    "Create an optimizer and compile the model.  Select the appropriate loss function for this type of problem, and use an appropriate metric."
   ]
  },
  {
   "cell_type": "code",
   "execution_count": 3,
   "metadata": {},
   "outputs": [],
   "source": [
    "#grade (write your code in this cell and DO NOT DELETE THIS LINE)\n",
    "opt = optimizers.Adam()\n",
    "model.compile(optimizer=opt, loss='sparse_categorical_crossentropy', metrics=['accuracy'])"
   ]
  },
  {
   "cell_type": "code",
   "execution_count": null,
   "metadata": {},
   "outputs": [],
   "source": []
  }
 ],
 "metadata": {
  "kernelspec": {
   "display_name": "Python 3",
   "language": "python",
   "name": "python3"
  },
  "language_info": {
   "codemirror_mode": {
    "name": "ipython",
    "version": 3
   },
   "file_extension": ".py",
   "mimetype": "text/x-python",
   "name": "python",
   "nbconvert_exporter": "python",
   "pygments_lexer": "ipython3",
   "version": "3.8.6"
  },
  "vscode": {
   "interpreter": {
    "hash": "e7370f93d1d0cde622a1f8e1c04877d8463912d04d973331ad4851f04de6915a"
   }
  }
 },
 "nbformat": 4,
 "nbformat_minor": 4
}
