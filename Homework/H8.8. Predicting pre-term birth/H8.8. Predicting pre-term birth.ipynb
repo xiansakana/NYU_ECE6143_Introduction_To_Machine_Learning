{
 "cells": [
  {
   "attachments": {},
   "cell_type": "markdown",
   "metadata": {
    "id": "LNsV2yyFrGIs"
   },
   "source": [
    "# Reproducing “Characterization of Term and Preterm Deliveries using Electrohysterograms Signatures”"
   ]
  },
  {
   "cell_type": "markdown",
   "metadata": {},
   "source": [
    "In this problem, we will reproduce the results from\n",
    "\n",
    "M. U. Khan, S. Aziz, S. Ibraheem, A. Butt and H. Shahid, \"Characterization of Term and Preterm Deliveries using Electrohysterograms Signatures,\" 2019 IEEE 10th Annual Information Technology, Electronics and Mobile Communication Conference (IEMCON), Vancouver, BC, Canada, 2019, pp. 0899-0905, doi: 10.1109/IEMCON.2019.8936292. [PDF](https://us.prairielearn.com/pl/course_instance/175646/instance_question/504680337/clientFilesQuestion/Characterization_of_Term_and_Preterm_Deliveries_using_Electrohysterograms_Signatures.pdf)\n",
    "\n",
    "which predicts pre-term birth based on raw EHG (electrohysterography) signals from pregnant women. It claims an accuracy of 95.5% on the test set using an SVM classifier with RBF kernel. We will follow the steps described in the paper to try and achieve a similar accuracy.\n",
    "\n",
    "However, it turns out - as discussed in\n",
    "\n",
    "Gilles Vandewiele, Isabelle Dehaene, György Kovács, Lucas Sterckx, Olivier Janssens, Femke Ongenae, Femke De Backere, Filip De Turck, Kristien Roelens, Johan Decruyenaere, Sofie Van Hoecke, Thomas Demeester, \"Overly optimistic prediction results on imbalanced data: a case study of flaws and benefits when applying over-sampling\", Artificial Intelligence in Medicine, Volume 111, 2021, 101987, ISSN 0933-3657. [PDF](https://arxiv.org/pdf/2001.06296)\n",
    "\n",
    "that the reported 95.5% accuracy is much higher than we would achieve on new EHG signals when the model is used in practice. This is because the procedure described in the paper oversamples the dataset before splitting it into training and test sets. Consequently, test set samples are used to generate synthetic samples for the training set, and training set samples are used to generate synthetic samples for the test set.\n",
    "\n",
    "We will repeat the original pre-term birth prediction, but without the data leakage error - we keep training and test sets separate in oversampling, rather than oversampling all together. We show that the original accuracy was based on an \"overly optimistic\" evaluation, and the true performance of the model is much less."
   ]
  },
  {
   "cell_type": "code",
   "execution_count": 2,
   "metadata": {
    "id": "LhRjDo48rGIt"
   },
   "outputs": [],
   "source": [
    "import numpy as np\n",
    "import pandas as pd\n",
    "import matplotlib.pyplot as plt\n",
    "from imblearn.over_sampling import ADASYN\n",
    "from sklearn.svm import SVC\n",
    "from sklearn.model_selection import StratifiedKFold, KFold\n",
    "from sklearn.metrics import accuracy_score, recall_score, balanced_accuracy_score\n",
    "from sklearn.metrics import confusion_matrix, ConfusionMatrixDisplay"
   ]
  },
  {
   "attachments": {},
   "cell_type": "markdown",
   "metadata": {},
   "source": [
    "We will use the following random state throughout this notebook, in any function calls that involve randomness:"
   ]
  },
  {
   "cell_type": "code",
   "execution_count": 3,
   "metadata": {},
   "outputs": [],
   "source": [
    "random_state = 83\n"
   ]
  },
  {
   "attachments": {},
   "cell_type": "markdown",
   "metadata": {},
   "source": [
    "In this notebook, we will reproduce the results published in \n",
    "\n",
    "> M. U. Khan, S. Aziz, S. Ibraheem, A. Butt and H. Shahid, \"Characterization of Term and Preterm Deliveries using Electrohysterograms Signatures,\" 2019 IEEE 10th Annual Information Technology, Electronics and Mobile Communication Conference (IEMCON), Vancouver, BC, Canada, 2019, pp. 0899-0905, doi: 10.1109/IEMCON.2019.8936292. [PDF](/Characterization_of_Term_and_Preterm_Deliveries_using_Electrohysterograms_Signatures.pdf)\n",
    "\n",
    "Preterm birth occurs when a baby is born before 37 weeks of pregnancy.  This notebook aims to reproduce the results of a study exploring the use of electrohysterograms (EHG) signatures to predict whether a delivery will be term or preterm.\n",
    "\n",
    "\n"
   ]
  },
  {
   "attachments": {},
   "cell_type": "markdown",
   "metadata": {},
   "source": [
    "In this notebook, we will first use an *incorrect* approach described in Khan et al., then we will fix their error and evaluate a correct version of their model."
   ]
  },
  {
   "attachments": {},
   "cell_type": "markdown",
   "metadata": {},
   "source": [
    "## Read in data"
   ]
  },
  {
   "attachments": {},
   "cell_type": "markdown",
   "metadata": {},
   "source": [
    "The data we will use comes from the Term-Preterm EHG Database, a collection of EHG signals obtained from 1997 to 2005 at the University Medical Centre Ljubljana, Department of Obstetrics and Gynecology. \n",
    "\n",
    "Electrohysterogram signature is obtained by placing four electrodes on the abdomen of the mother, to measure the electrical activity of the uterine muscle.\n",
    "\n",
    "The TPEHG databage consists of EHG records obtained from 262 women who had full-term pregnancies and 38 whose pregnancies ended prematurely. The records were obtained during regular check-ups either around the 22nd week of gestation or around the 32nd week of gestation. \n",
    "\n",
    "In this study, the raw EHG data were further processed to create \"transformed\" features from each channel: Median frequency, Shannon energy, Log energy, and Lyapunov exponent. We have already pre-computed these features."
   ]
  },
  {
   "attachments": {},
   "cell_type": "markdown",
   "metadata": {},
   "source": [
    "Let's read in the data now - "
   ]
  },
  {
   "cell_type": "code",
   "execution_count": 4,
   "metadata": {},
   "outputs": [],
   "source": [
    "features = pd.read_csv(\"raw_features.csv\")       # read in as data frame\n",
    "y = pd.read_csv(\"target.csv\").squeeze(\"columns\") # read in as data series"
   ]
  },
  {
   "attachments": {},
   "cell_type": "markdown",
   "metadata": {},
   "source": [
    "We know that there is a class imbalance in this data - there are many more term births (label 1) than pre-term births (label 0). Let's confirm:"
   ]
  },
  {
   "cell_type": "code",
   "execution_count": 5,
   "metadata": {},
   "outputs": [
    {
     "data": {
      "text/plain": [
       "0\n",
       "1.0    260\n",
       "0.0     38\n",
       "Name: count, dtype: int64"
      ]
     },
     "execution_count": 5,
     "metadata": {},
     "output_type": "execute_result"
    }
   ],
   "source": [
    "y.value_counts()"
   ]
  },
  {
   "cell_type": "code",
   "execution_count": 6,
   "metadata": {},
   "outputs": [
    {
     "data": {
      "image/png": "[encoded data removed]",
      "text/plain": [
       "<Figure size 640x480 with 1 Axes>"
      ]
     },
     "metadata": {},
     "output_type": "display_data"
    }
   ],
   "source": [
    "plt.bar(['Term Births','Preterm Births'],height=[y.value_counts()[1],y.value_counts()[0]],color=['tab:green','tab:red']);\n",
    "plt.ylabel(\"Number of samples\");\n",
    "plt.xlabel(\"Type of Birth\");\n"
   ]
  },
  {
   "attachments": {},
   "cell_type": "markdown",
   "metadata": {},
   "source": [
    "Our \"features\" data file includes many engineered features computed from the raw EHG symbols, we will focus specifically on the features used by Khan et al. in the paper we are trying to reproduce:"
   ]
  },
  {
   "cell_type": "code",
   "execution_count": 7,
   "metadata": {},
   "outputs": [],
   "source": [
    "khan_features = [\n",
    "    'FeaturesJager_fmed_ch1', 'FeaturesJager_max_lyap_ch1',\n",
    "    'FeaturesJager_sampen_ch1', 'FeaturesJager_fmed_ch2',\n",
    "    'FeaturesJager_max_lyap_ch2', 'FeaturesJager_sampen_ch2',\n",
    "    'FeaturesJager_fmed_ch3', 'FeaturesJager_max_lyap_ch3',\n",
    "    'FeaturesJager_sampen_ch3',\n",
    " ]\n",
    "generic_features=[ c for c in features.columns if 'FeaturesAcharya' in c and 'SampleEntropy' in c ]\n",
    "\n",
    "X = features[khan_features + generic_features]\n"
   ]
  },
  {
   "cell_type": "code",
   "execution_count": 8,
   "metadata": {},
   "outputs": [
    {
     "data": {
      "text/html": [
       "<div>\n",
       "<style scoped>\n",
       "    .dataframe tbody tr th:only-of-type {\n",
       "        vertical-align: middle;\n",
       "    }\n",
       "\n",
       "    .dataframe tbody tr th {\n",
       "        vertical-align: top;\n",
       "    }\n",
       "\n",
       "    .dataframe thead th {\n",
       "        text-align: right;\n",
       "    }\n",
       "</style>\n",
       "<table border=\"1\" class=\"dataframe\">\n",
       "  <thead>\n",
       "    <tr style=\"text-align: right;\">\n",
       "      <th></th>\n",
       "      <th>FeaturesJager_fmed_ch1</th>\n",
       "      <th>FeaturesJager_max_lyap_ch1</th>\n",
       "      <th>FeaturesJager_sampen_ch1</th>\n",
       "      <th>FeaturesJager_fmed_ch2</th>\n",
       "      <th>FeaturesJager_max_lyap_ch2</th>\n",
       "      <th>FeaturesJager_sampen_ch2</th>\n",
       "      <th>FeaturesJager_fmed_ch3</th>\n",
       "      <th>FeaturesJager_max_lyap_ch3</th>\n",
       "      <th>FeaturesJager_sampen_ch3</th>\n",
       "      <th>FeaturesAcharya__emd_0_FeatureSampleEntropy_ch1</th>\n",
       "      <th>...</th>\n",
       "      <th>FeaturesAcharya_aa_emd_10_FeatureSampleEntropy_ch3</th>\n",
       "      <th>FeaturesAcharya_aaa_emd_10_FeatureSampleEntropy_ch3</th>\n",
       "      <th>FeaturesAcharya_aaaa_emd_10_FeatureSampleEntropy_ch3</th>\n",
       "      <th>FeaturesAcharya_aaaaa_emd_10_FeatureSampleEntropy_ch3</th>\n",
       "      <th>FeaturesAcharya_aaaaaa_emd_10_FeatureSampleEntropy_ch3</th>\n",
       "      <th>FeaturesAcharya_d_emd_10_FeatureSampleEntropy_ch3</th>\n",
       "      <th>FeaturesAcharya_ad_emd_10_FeatureSampleEntropy_ch3</th>\n",
       "      <th>FeaturesAcharya_aad_emd_10_FeatureSampleEntropy_ch3</th>\n",
       "      <th>FeaturesAcharya_aaad_emd_10_FeatureSampleEntropy_ch3</th>\n",
       "      <th>FeaturesAcharya_aaaad_emd_10_FeatureSampleEntropy_ch3</th>\n",
       "    </tr>\n",
       "  </thead>\n",
       "  <tbody>\n",
       "    <tr>\n",
       "      <th>0</th>\n",
       "      <td>0.154949</td>\n",
       "      <td>0.094890</td>\n",
       "      <td>0.676284</td>\n",
       "      <td>0.133788</td>\n",
       "      <td>0.095959</td>\n",
       "      <td>0.519813</td>\n",
       "      <td>0.145392</td>\n",
       "      <td>0.096591</td>\n",
       "      <td>0.662972</td>\n",
       "      <td>0.780728</td>\n",
       "      <td>...</td>\n",
       "      <td>0.002089</td>\n",
       "      <td>0.004196</td>\n",
       "      <td>0.008464</td>\n",
       "      <td>0.017284</td>\n",
       "      <td>0.035785</td>\n",
       "      <td>0.000137</td>\n",
       "      <td>0.000273</td>\n",
       "      <td>0.000547</td>\n",
       "      <td>0.000002</td>\n",
       "      <td>0.002207</td>\n",
       "    </tr>\n",
       "    <tr>\n",
       "      <th>1</th>\n",
       "      <td>0.157333</td>\n",
       "      <td>0.097758</td>\n",
       "      <td>0.703688</td>\n",
       "      <td>0.242667</td>\n",
       "      <td>0.108000</td>\n",
       "      <td>0.668954</td>\n",
       "      <td>0.146667</td>\n",
       "      <td>0.100279</td>\n",
       "      <td>0.621924</td>\n",
       "      <td>0.854168</td>\n",
       "      <td>...</td>\n",
       "      <td>0.006125</td>\n",
       "      <td>0.012379</td>\n",
       "      <td>0.025282</td>\n",
       "      <td>0.052865</td>\n",
       "      <td>0.116388</td>\n",
       "      <td>0.000133</td>\n",
       "      <td>0.000267</td>\n",
       "      <td>0.000535</td>\n",
       "      <td>0.001072</td>\n",
       "      <td>0.002153</td>\n",
       "    </tr>\n",
       "    <tr>\n",
       "      <th>2</th>\n",
       "      <td>0.205479</td>\n",
       "      <td>0.101883</td>\n",
       "      <td>0.967597</td>\n",
       "      <td>0.149315</td>\n",
       "      <td>0.100426</td>\n",
       "      <td>0.647371</td>\n",
       "      <td>0.164384</td>\n",
       "      <td>0.105308</td>\n",
       "      <td>0.902851</td>\n",
       "      <td>0.739980</td>\n",
       "      <td>...</td>\n",
       "      <td>0.003374</td>\n",
       "      <td>0.006796</td>\n",
       "      <td>0.013789</td>\n",
       "      <td>0.028368</td>\n",
       "      <td>0.060065</td>\n",
       "      <td>0.000137</td>\n",
       "      <td>0.000274</td>\n",
       "      <td>0.000549</td>\n",
       "      <td>0.001101</td>\n",
       "      <td>0.002212</td>\n",
       "    </tr>\n",
       "    <tr>\n",
       "      <th>3</th>\n",
       "      <td>1.611604</td>\n",
       "      <td>0.077030</td>\n",
       "      <td>0.768602</td>\n",
       "      <td>0.148123</td>\n",
       "      <td>0.118442</td>\n",
       "      <td>0.678978</td>\n",
       "      <td>1.529010</td>\n",
       "      <td>0.078359</td>\n",
       "      <td>0.750013</td>\n",
       "      <td>0.362578</td>\n",
       "      <td>...</td>\n",
       "      <td>0.011388</td>\n",
       "      <td>0.023158</td>\n",
       "      <td>0.047877</td>\n",
       "      <td>0.102714</td>\n",
       "      <td>0.225879</td>\n",
       "      <td>0.000137</td>\n",
       "      <td>0.000273</td>\n",
       "      <td>0.000547</td>\n",
       "      <td>0.001098</td>\n",
       "      <td>0.002205</td>\n",
       "    </tr>\n",
       "    <tr>\n",
       "      <th>4</th>\n",
       "      <td>0.146667</td>\n",
       "      <td>0.107116</td>\n",
       "      <td>0.815574</td>\n",
       "      <td>0.220667</td>\n",
       "      <td>0.116404</td>\n",
       "      <td>0.839187</td>\n",
       "      <td>0.168000</td>\n",
       "      <td>0.103709</td>\n",
       "      <td>0.696235</td>\n",
       "      <td>0.740482</td>\n",
       "      <td>...</td>\n",
       "      <td>0.003889</td>\n",
       "      <td>0.007802</td>\n",
       "      <td>0.015694</td>\n",
       "      <td>0.031770</td>\n",
       "      <td>0.065176</td>\n",
       "      <td>0.000133</td>\n",
       "      <td>0.000267</td>\n",
       "      <td>0.000535</td>\n",
       "      <td>0.001071</td>\n",
       "      <td>0.002153</td>\n",
       "    </tr>\n",
       "  </tbody>\n",
       "</table>\n",
       "<p>5 rows × 405 columns</p>\n",
       "</div>"
      ],
      "text/plain": [
       "   FeaturesJager_fmed_ch1  FeaturesJager_max_lyap_ch1  \\\n",
       "0                0.154949                    0.094890   \n",
       "1                0.157333                    0.097758   \n",
       "2                0.205479                    0.101883   \n",
       "3                1.611604                    0.077030   \n",
       "4                0.146667                    0.107116   \n",
       "\n",
       "   FeaturesJager_sampen_ch1  FeaturesJager_fmed_ch2  \\\n",
       "0                  0.676284                0.133788   \n",
       "1                  0.703688                0.242667   \n",
       "2                  0.967597                0.149315   \n",
       "3                  0.768602                0.148123   \n",
       "4                  0.815574                0.220667   \n",
       "\n",
       "   FeaturesJager_max_lyap_ch2  FeaturesJager_sampen_ch2  \\\n",
       "0                    0.095959                  0.519813   \n",
       "1                    0.108000                  0.668954   \n",
       "2                    0.100426                  0.647371   \n",
       "3                    0.118442                  0.678978   \n",
       "4                    0.116404                  0.839187   \n",
       "\n",
       "   FeaturesJager_fmed_ch3  FeaturesJager_max_lyap_ch3  \\\n",
       "0                0.145392                    0.096591   \n",
       "1                0.146667                    0.100279   \n",
       "2                0.164384                    0.105308   \n",
       "3                1.529010                    0.078359   \n",
       "4                0.168000                    0.103709   \n",
       "\n",
       "   FeaturesJager_sampen_ch3  FeaturesAcharya__emd_0_FeatureSampleEntropy_ch1  \\\n",
       "0                  0.662972                                         0.780728   \n",
       "1                  0.621924                                         0.854168   \n",
       "2                  0.902851                                         0.739980   \n",
       "3                  0.750013                                         0.362578   \n",
       "4                  0.696235                                         0.740482   \n",
       "\n",
       "   ...  FeaturesAcharya_aa_emd_10_FeatureSampleEntropy_ch3  \\\n",
       "0  ...                                           0.002089    \n",
       "1  ...                                           0.006125    \n",
       "2  ...                                           0.003374    \n",
       "3  ...                                           0.011388    \n",
       "4  ...                                           0.003889    \n",
       "\n",
       "   FeaturesAcharya_aaa_emd_10_FeatureSampleEntropy_ch3  \\\n",
       "0                                           0.004196     \n",
       "1                                           0.012379     \n",
       "2                                           0.006796     \n",
       "3                                           0.023158     \n",
       "4                                           0.007802     \n",
       "\n",
       "   FeaturesAcharya_aaaa_emd_10_FeatureSampleEntropy_ch3  \\\n",
       "0                                           0.008464      \n",
       "1                                           0.025282      \n",
       "2                                           0.013789      \n",
       "3                                           0.047877      \n",
       "4                                           0.015694      \n",
       "\n",
       "   FeaturesAcharya_aaaaa_emd_10_FeatureSampleEntropy_ch3  \\\n",
       "0                                           0.017284       \n",
       "1                                           0.052865       \n",
       "2                                           0.028368       \n",
       "3                                           0.102714       \n",
       "4                                           0.031770       \n",
       "\n",
       "   FeaturesAcharya_aaaaaa_emd_10_FeatureSampleEntropy_ch3  \\\n",
       "0                                           0.035785        \n",
       "1                                           0.116388        \n",
       "2                                           0.060065        \n",
       "3                                           0.225879        \n",
       "4                                           0.065176        \n",
       "\n",
       "   FeaturesAcharya_d_emd_10_FeatureSampleEntropy_ch3  \\\n",
       "0                                           0.000137   \n",
       "1                                           0.000133   \n",
       "2                                           0.000137   \n",
       "3                                           0.000137   \n",
       "4                                           0.000133   \n",
       "\n",
       "   FeaturesAcharya_ad_emd_10_FeatureSampleEntropy_ch3  \\\n",
       "0                                           0.000273    \n",
       "1                                           0.000267    \n",
       "2                                           0.000274    \n",
       "3                                           0.000273    \n",
       "4                                           0.000267    \n",
       "\n",
       "   FeaturesAcharya_aad_emd_10_FeatureSampleEntropy_ch3  \\\n",
       "0                                           0.000547     \n",
       "1                                           0.000535     \n",
       "2                                           0.000549     \n",
       "3                                           0.000547     \n",
       "4                                           0.000535     \n",
       "\n",
       "   FeaturesAcharya_aaad_emd_10_FeatureSampleEntropy_ch3  \\\n",
       "0                                           0.000002      \n",
       "1                                           0.001072      \n",
       "2                                           0.001101      \n",
       "3                                           0.001098      \n",
       "4                                           0.001071      \n",
       "\n",
       "   FeaturesAcharya_aaaad_emd_10_FeatureSampleEntropy_ch3  \n",
       "0                                           0.002207      \n",
       "1                                           0.002153      \n",
       "2                                           0.002212      \n",
       "3                                           0.002205      \n",
       "4                                           0.002153      \n",
       "\n",
       "[5 rows x 405 columns]"
      ]
     },
     "execution_count": 8,
     "metadata": {},
     "output_type": "execute_result"
    }
   ],
   "source": [
    "X.head()"
   ]
  },
  {
   "attachments": {},
   "cell_type": "markdown",
   "metadata": {},
   "source": [
    "## 1. Train an SVM classifier - baseline"
   ]
  },
  {
   "attachments": {},
   "cell_type": "markdown",
   "metadata": {},
   "source": [
    "Because of the small number of samples, and especially the small number of samples in the minority class, it is not practical to divide this data into a single training set and held-out test set. The results would be highly dependent on the specific division of samples. \n",
    "\n",
    "Instead, we will *evaluate* our model using a K-fold CV - we will consider the average accuracy across folds as our test set accuracy. This is different from *selecting* a model using a validation set inside K-fold CV. We will have a single loop over folds, and in each iteration, we will train the *same* model (on a different training subset) and then evaluate that model on a test subset.\n"
   ]
  },
  {
   "attachments": {},
   "cell_type": "markdown",
   "metadata": {},
   "source": [
    "Inside the following cell:\n",
    "\n",
    "* Set up a `KFold` CV loop with `nfold = 3` splits. Since we have *not* previously shuffled the data, make sure to shuffle it here, and use the random state defined in the `random_state` variable.\n",
    "* Inside the `KFold` CV loop, use the training and test indices provided by the `KFold` to select the appropriate rows of `X` and `y`. Since they are a `pandas` data frame/series and not a `numpy` array, use `.iloc` to select rows by integer index. Save these subsets of the data as `Xtr_kfold`, `Xts_kfold`, `ytr_kfold`, and `yts_kfold`.\n",
    "* Then, train an SVM model on the training subset. Use the `rbf` kernel, the random state defined in the `random_state` variable, `gamma = 0.1`, and `C = 10`.\n",
    "* Get the predictions of the model on the test subset in this fold. Save these in `yhat_ts`.\n",
    "* We will record four classifier metrics for each fold, but code is already provided for you to use to record:\n",
    "    * accuracy (saved in `acc_ts_base`)\n",
    "    * balanced accuracy (saved in `bal_ts_base`)\n",
    "    * sensitivity (saved in `sen_ts_base`)\n",
    "    * specificity (saved in `spe_ts_base`)\n",
    "    * and we will also save the data to generate the confusion matrix (saved in `cm_ts_base`)"
   ]
  },
  {
   "cell_type": "code",
   "execution_count": null,
   "metadata": {},
   "outputs": [],
   "source": [
    "#grade (write your code in this cell and DO NOT DELETE THIS LINE)\n",
    "\n",
    "nfold = 3\n",
    "acc_ts_base = np.zeros(nfold)\n",
    "bal_ts_base = np.zeros(nfold)\n",
    "sen_ts_base = np.zeros(nfold)\n",
    "spe_ts_base = np.zeros(nfold)\n",
    "cm_ts_base  = np.zeros(shape = (2, 2, nfold))\n",
    "\n",
    "kf = KFold(n_splits=nfold, shuffle=True, random_state=random_state)\n",
    "for isplit, (train_index, test_index) in enumerate(kf.split(X, y)):\n",
    "    Xtr_kfold = X.iloc[train_index]\n",
    "    Xts_kfold = X.iloc[test_index]\n",
    "    ytr_kfold = y.iloc[train_index]\n",
    "    yts_kfold = y.iloc[test_index]\n",
    "\n",
    "    clf = SVC(kernel='rbf', random_state=random_state, gamma=0.1, C=10)\n",
    "    clf.fit(Xtr_kfold, ytr_kfold)\n",
    "    yhat_ts = clf.predict(Xts_kfold)\n",
    "\n",
    "    acc_ts_base[isplit] = accuracy_score(yts_kfold, yhat_ts)\n",
    "    bal_ts_base[isplit] = balanced_accuracy_score(yts_kfold, yhat_ts)\n",
    "    sen_ts_base[isplit] = recall_score(yts_kfold, yhat_ts)\n",
    "    spe_ts_base[isplit] = recall_score(yts_kfold, yhat_ts, pos_label=0)\n",
    "    cm_ts_base[:, :, isplit] = confusion_matrix(yts_kfold, yhat_ts, labels=[0, 1])\n"
   ]
  },
  {
   "attachments": {},
   "cell_type": "markdown",
   "metadata": {},
   "source": [
    "Let's see the average performance:"
   ]
  },
  {
   "cell_type": "code",
   "execution_count": 10,
   "metadata": {},
   "outputs": [
    {
     "name": "stdout",
     "output_type": "stream",
     "text": [
      "Accuracy:     0.8691245791245791\n"
     ]
    }
   ],
   "source": [
    "print(\"Accuracy:    \", acc_ts_base.mean())"
   ]
  },
  {
   "attachments": {},
   "cell_type": "markdown",
   "metadata": {},
   "source": [
    "However, since there is a class imbalance, a high accuracy alone does not mean that the classifier is effective. "
   ]
  },
  {
   "cell_type": "code",
   "execution_count": 11,
   "metadata": {},
   "outputs": [
    {
     "name": "stdout",
     "output_type": "stream",
     "text": [
      "Bal Accuracy:  0.51010101010101\n"
     ]
    }
   ],
   "source": [
    "print(\"Bal Accuracy: \", bal_ts_base.mean())"
   ]
  },
  {
   "attachments": {},
   "cell_type": "markdown",
   "metadata": {},
   "source": [
    "We can see some hints about the problem if we look at the model's sensitivity (what proportion of the true positive - term birth - samples are correctly predicted as positive?) and specificity (what proportion of the true negative - pre-term birth - samples are correctly predicted as negative?):"
   ]
  },
  {
   "cell_type": "code",
   "execution_count": 12,
   "metadata": {},
   "outputs": [
    {
     "name": "stdout",
     "output_type": "stream",
     "text": [
      "Sensitivity:  0.9924242424242425\n",
      "Specificity:  0.027777777777777776\n"
     ]
    }
   ],
   "source": [
    "print(\"Sensitivity: \", sen_ts_base.mean())\n",
    "print(\"Specificity: \", spe_ts_base.mean())"
   ]
  },
  {
   "attachments": {},
   "cell_type": "markdown",
   "metadata": {},
   "source": [
    "In our K-fold CV loop, we also saved the confusion matrix in each fold. Let's look at those now:"
   ]
  },
  {
   "cell_type": "code",
   "execution_count": 13,
   "metadata": {},
   "outputs": [
    {
     "data": {
      "image/png": "[encoded data removed]",
      "text/plain": [
       "<Figure size 1500x500 with 3 Axes>"
      ]
     },
     "metadata": {},
     "output_type": "display_data"
    }
   ],
   "source": [
    "f, axes = plt.subplots(1, nfold, figsize = (nfold*5, 5))\n",
    "for i in range(nfold):\n",
    "    disp = ConfusionMatrixDisplay(confusion_matrix = cm_ts_base[:, :, i],\n",
    "                              display_labels = [0, 1])\n",
    "    disp.plot(ax=axes[i])\n",
    "    disp.ax_.set_title(\"Fold %d\" % i)\n",
    "    disp.im_.colorbar.remove()\n"
   ]
  },
  {
   "attachments": {},
   "cell_type": "markdown",
   "metadata": {},
   "source": [
    "We can see two problems:\n",
    "\n",
    "1. The classifier always or almost always predicts the majority class, label 1. It is essentially doing \"prediction by mode\".\n",
    "2. We also note that the proportion of test samples belonging to the minority class - the number of samples where the \"true label\" is 0 - varies wildly across folds, from less than 10% to close to 20%."
   ]
  },
  {
   "attachments": {},
   "cell_type": "markdown",
   "metadata": {},
   "source": [
    "## 2. Train an SVM classifier - stratified split"
   ]
  },
  {
   "attachments": {},
   "cell_type": "markdown",
   "metadata": {},
   "source": [
    "The second problem is easy to fix. To make sure that the ratio of the class labels is similar across folds, we can use a [`StratifiedKFold`](https://scikit-learn.org/dev/modules/generated/sklearn.model_selection.StratifiedKFold.html) instead of the `KFold`."
   ]
  },
  {
   "attachments": {},
   "cell_type": "markdown",
   "metadata": {},
   "source": [
    "Copy your code from Part 1, but replace the `KFold` with a `StratifiedKFold` to ensure that the distribution of `y` is consistent across folds. Otherwise, keep everything else the same.\n",
    "\n",
    "You will save the same metrics as before, in:\n",
    "* accuracy (`acc_ts_strat`)\n",
    "* balanced accuracy (`bal_ts_strat`)\n",
    "* sensitivity (`sen_ts_strat`)\n",
    "* specificity (`spe_ts_strat`)\n",
    "* and the data to generate the confusion matrix (`cm_ts_strat`)\n"
   ]
  },
  {
   "cell_type": "code",
   "execution_count": null,
   "metadata": {},
   "outputs": [],
   "source": [
    "#grade (write your code in this cell and DO NOT DELETE THIS LINE)\n",
    "\n",
    "nfold = 3\n",
    "\n",
    "acc_ts_strat = np.zeros(nfold)\n",
    "bal_ts_strat = np.zeros(nfold)\n",
    "sen_ts_strat = np.zeros(nfold)\n",
    "spe_ts_strat = np.zeros(nfold)\n",
    "\n",
    "cm_ts_strat  = np.zeros(shape = (2, 2, nfold))\n",
    "\n",
    "skf = StratifiedKFold(n_splits=nfold, shuffle=True, random_state=random_state)\n",
    "for isplit, (train_index, test_index) in enumerate(skf.split(X, y)):\n",
    "    Xtr_kfold = X.iloc[train_index]\n",
    "    Xts_kfold = X.iloc[test_index]\n",
    "    ytr_kfold = y.iloc[train_index]\n",
    "    yts_kfold = y.iloc[test_index]\n",
    "\n",
    "    clf = SVC(kernel='rbf', random_state=random_state, gamma=0.1, C=10)\n",
    "    clf.fit(Xtr_kfold, ytr_kfold)\n",
    "    yhat_ts = clf.predict(Xts_kfold)\n",
    "\n",
    "    acc_ts_strat[isplit] = accuracy_score(yts_kfold, yhat_ts)\n",
    "    bal_ts_strat[isplit] = balanced_accuracy_score(yts_kfold, yhat_ts)\n",
    "    sen_ts_strat[isplit] = recall_score(yts_kfold, yhat_ts)\n",
    "    spe_ts_strat[isplit] = recall_score(yts_kfold, yhat_ts, pos_label=0)\n",
    "    cm_ts_strat[:, :, isplit] = confusion_matrix(yts_kfold, yhat_ts, labels=[0, 1])\n",
    "\n",
    "\n"
   ]
  },
  {
   "cell_type": "code",
   "execution_count": 15,
   "metadata": {},
   "outputs": [
    {
     "name": "stdout",
     "output_type": "stream",
     "text": [
      "Accuracy:      0.8658585858585859\n",
      "Bal Accuracy:  0.5081417624521073\n",
      "Sensitivity:   0.9885057471264368\n",
      "Specificity:   0.027777777777777776\n"
     ]
    }
   ],
   "source": [
    "print(\"Accuracy:     \", acc_ts_strat.mean())\n",
    "print(\"Bal Accuracy: \", bal_ts_strat.mean())\n",
    "print(\"Sensitivity:  \", sen_ts_strat.mean())\n",
    "print(\"Specificity:  \", spe_ts_strat.mean())"
   ]
  },
  {
   "cell_type": "code",
   "execution_count": 16,
   "metadata": {},
   "outputs": [
    {
     "data": {
      "image/png": "[encoded data removed]",
      "text/plain": [
       "<Figure size 1500x500 with 3 Axes>"
      ]
     },
     "metadata": {},
     "output_type": "display_data"
    }
   ],
   "source": [
    "f, axes = plt.subplots(1, nfold, figsize = (nfold*5, 5))\n",
    "for i in range(nfold):\n",
    "    disp = ConfusionMatrixDisplay(confusion_matrix = cm_ts_strat[:, :, i],\n",
    "                              display_labels = [0, 1])\n",
    "    disp.plot(ax=axes[i])\n",
    "    disp.ax_.set_title(\"Fold %d\" % i)\n",
    "    disp.im_.colorbar.remove()\n"
   ]
  },
  {
   "attachments": {},
   "cell_type": "markdown",
   "metadata": {},
   "source": [
    "We still have a \"prediction by mode\" classifier, but at least now, the proportion of the class labels is consistent across folds and consistent with the overall ratio in the data."
   ]
  },
  {
   "attachments": {},
   "cell_type": "markdown",
   "metadata": {},
   "source": [
    "## 3. Train an SVM classifier - oversampling"
   ]
  },
  {
   "attachments": {},
   "cell_type": "markdown",
   "metadata": {},
   "source": [
    "The root cause of the first problem - that the SVM classifier does \"prediction by mode\" - is the class imbalance. To \"force\" the classifier to focus on both classes, and not only the majority class, we can consider resampling the data so that the class balance is fair. We will mention two resampling techniques - \n",
    "\n",
    "-   **Oversampling**: Generate more samples from the minority class, so that it matches the count of the majority class.\n",
    "-   **Undersampling**: Remove some samples from the majority class, so that it matches the count of the minority class.\n",
    "\n",
    "In this example, since we have a very small data set, understampling is not practical. We will try oversampling the minority class.\n"
   ]
  },
  {
   "attachments": {},
   "cell_type": "markdown",
   "metadata": {},
   "source": [
    "Khan et al. used ADASYN oversampling, so we will too!\n"
   ]
  },
  {
   "attachments": {},
   "cell_type": "markdown",
   "metadata": {},
   "source": [
    "Adaptive Synthetic Sampling (ADASYN) is an oversampling technique in which we generate synthetic samples of the minority class, and focus especially on generating synthetic samples for the minority samples which are *harder to learn*.\n",
    "\n",
    "ADASYN quantifies the learning difficulty of a minority class sample by calculating the proportion of majority class samples among the sample’s K nearest neighbors. More majority neighbors imply a *harder to learn*\n",
    "minority sample. "
   ]
  },
  {
   "attachments": {},
   "cell_type": "markdown",
   "metadata": {},
   "source": [
    "Here is the ADASYN algorithm in detail:\n",
    "\n",
    "-   **Calculate the degree of class imbalance**:\n",
    "\n",
    "$$d=m_s/m_l$$\n",
    "\n",
    "where $m_s$ is the number of minority class examples and $m_l$ is the\n",
    "number of majority class examples\n",
    "\n",
    "-   If $d < d_{th}$ (where $d_{th}$ is a preset threshold for the\n",
    "    maximum tolerated degree of class imbalance ratio):\n",
    "\n",
    "    -   **Calculate the number of synthetic data examples that need to\n",
    "        be generated for the minority class:**\n",
    "\n",
    "    $$G=(m_l-m_s)\\times\\beta$$\n",
    "\n",
    "    where $\\beta$ is a parameter used to specify the desired balance\n",
    "    level after generation of the synthetic data. $\\beta=1$ means a\n",
    "    fully balanced data set is created after generalization process.\n",
    "\n",
    "    -   For each example $x_i \\in \\text{minority class}$, **find K nearest\n",
    "        neighbors based on the Euclidean distance** in n dimensional\n",
    "        space, and **calculate the ratio** $r_i$ defined as:\n",
    "\n",
    "    $$r_i=\\Delta_i/K,$$  \n",
    "    $$i= 1, \\ldots, m_s$$\n",
    "\n",
    "    where $\\Delta_i$ is the number of examples in the K nearest\n",
    "    neighbors of $x_i$ that belong to the majority class, therefore\n",
    "    $r_i \\in [0, 1]$.\n",
    "\n",
    "    -   **Normalize $r_i$** according to\n",
    "\n",
    "    $$\\hat{r_i}=r_i/\\sum_{i=1}^{m_s}r_i$$\n",
    "\n",
    "    -   **Calculate the number of synthetic data examples that need to\n",
    "        be generated for each minority example $x_i$**:\n",
    "\n",
    "    $$g_i = \\hat{r_i} \\times G$$\n",
    "\n",
    "    -   **For each minority class data example $x_i$, generate $g_i$\n",
    "        synthetic data examples** according to the following steps:\n",
    "        -   Loop from 1 to $g_i$ :\n",
    "\n",
    "            -   Randomly choose one minority example from the K nearest\n",
    "                neighbors for data $x_i$\n",
    "            -   Generate the synthetic data example:\n",
    "\n",
    "            $s_i = x_i + (x_{zi} - x_i) \\times \\lambda$\n",
    "\n",
    "            where $\\lambda$ is a random number: $\\lambda \\in [0, 1]$"
   ]
  },
  {
   "attachments": {},
   "cell_type": "markdown",
   "metadata": {},
   "source": [
    "You may refer to the documentation for the [ADASYN](https://imbalanced-learn.org/stable/references/generated/imblearn.over_sampling.ADASYN.html) oversampling implementation. \n",
    "\n",
    "It is similar to `sklearn` \"transformers\" that we have worked with before, like `StandardScaler` or `CountVectorizer`; where those transformers had a `fit_transform` method, the `ADASYN` implementation has `fit_resample`."
   ]
  },
  {
   "attachments": {},
   "cell_type": "markdown",
   "metadata": {},
   "source": [
    "In the following cell,\n",
    "\n",
    "* Create an `ADASYN` overampler. Specify the random state from the `random_state` variable defined above, and `n_neighbors = 5`.\n",
    "* Use it to generate `X_oversamp` and `y_oversamp`, the oversampled feature data and label data respectively."
   ]
  },
  {
   "cell_type": "code",
   "execution_count": 17,
   "metadata": {},
   "outputs": [],
   "source": [
    "#grade (write your code in this cell and DO NOT DELETE THIS LINE)\n",
    "adasyn = ADASYN(random_state=random_state, n_neighbors=5)\n",
    "X_oversamp, y_oversamp = adasyn.fit_resample(X, y)\n"
   ]
  },
  {
   "attachments": {},
   "cell_type": "markdown",
   "metadata": {},
   "source": [
    "Then, copy your code from Part 2, but \n",
    "\n",
    "* split on the oversampled data, not the original data\n",
    "* when defining `Xtr_fold`, `Xts_kfold`, `ytr_kfold`, `yts_kfold`, select rows from the oversampled data, not the original data.\n",
    "\n",
    "Otherwise, keep everything else the same.\n",
    "\n",
    "You will save the same metrics as before, in:\n",
    "* accuracy (`acc_ts_over`)\n",
    "* balanced accuracy (`bal_ts_over`)\n",
    "* sensitivity (`sen_ts_over`)\n",
    "* specificity (`spe_ts_over`)\n",
    "* and the data to generate the confusion matrix (`cm_ts_over`)\n"
   ]
  },
  {
   "cell_type": "code",
   "execution_count": null,
   "metadata": {},
   "outputs": [],
   "source": [
    "#grade (write your code in this cell and DO NOT DELETE THIS LINE)\n",
    "\n",
    "nfold = 3\n",
    "acc_ts_over = np.zeros(nfold)\n",
    "bal_ts_over = np.zeros(nfold)\n",
    "sen_ts_over = np.zeros(nfold)\n",
    "spe_ts_over = np.zeros(nfold)\n",
    "cm_ts_over  = np.zeros(shape = (2, 2, nfold))\n",
    "\n",
    "skf = StratifiedKFold(n_splits=nfold, shuffle=True, random_state=random_state)\n",
    "for isplit, (train_index, test_index) in enumerate(skf.split(X_oversamp, y_oversamp)):\n",
    "    Xtr_kfold = X_oversamp.iloc[train_index]\n",
    "    Xts_kfold = X_oversamp.iloc[test_index]\n",
    "    ytr_kfold = y_oversamp.iloc[train_index]\n",
    "    yts_kfold = y_oversamp.iloc[test_index]\n",
    "\n",
    "    clf = SVC(kernel='rbf', random_state=random_state, gamma=0.1, C=10)\n",
    "    clf.fit(Xtr_kfold, ytr_kfold)\n",
    "    yhat_ts = clf.predict(Xts_kfold)\n",
    "\n",
    "    acc_ts_over[isplit] = accuracy_score(yts_kfold, yhat_ts)\n",
    "    bal_ts_over[isplit] = balanced_accuracy_score(yts_kfold, yhat_ts)\n",
    "    sen_ts_over[isplit] = recall_score(yts_kfold, yhat_ts)\n",
    "    spe_ts_over[isplit] = recall_score(yts_kfold, yhat_ts, pos_label=0)\n",
    "    cm_ts_over[:, :, isplit] = confusion_matrix(yts_kfold, yhat_ts, labels=[0, 1])\n",
    "\n"
   ]
  },
  {
   "cell_type": "code",
   "execution_count": 19,
   "metadata": {},
   "outputs": [
    {
     "name": "stdout",
     "output_type": "stream",
     "text": [
      "Accuracy:      0.9715909090909092\n",
      "Bal Accuracy:  0.9712628660845954\n",
      "Sensitivity:   0.9462710505212509\n",
      "Specificity:   0.99625468164794\n"
     ]
    }
   ],
   "source": [
    "print(\"Accuracy:     \", acc_ts_over.mean())\n",
    "print(\"Bal Accuracy: \", bal_ts_over.mean())\n",
    "print(\"Sensitivity:  \", sen_ts_over.mean())\n",
    "print(\"Specificity:  \", spe_ts_over.mean())"
   ]
  },
  {
   "cell_type": "code",
   "execution_count": 20,
   "metadata": {},
   "outputs": [
    {
     "data": {
      "image/png": "[encoded data removed]",
      "text/plain": [
       "<Figure size 1500x500 with 3 Axes>"
      ]
     },
     "metadata": {},
     "output_type": "display_data"
    }
   ],
   "source": [
    "f, axes = plt.subplots(1, nfold, figsize = (nfold*5, 5))\n",
    "for i in range(nfold):\n",
    "    disp = ConfusionMatrixDisplay(confusion_matrix = cm_ts_over[:, :, i],\n",
    "                              display_labels = [0, 1])\n",
    "    disp.plot(ax=axes[i])\n",
    "    disp.ax_.set_title(\"Fold %d\" % i)\n",
    "    disp.im_.colorbar.remove()\n"
   ]
  },
  {
   "attachments": {},
   "cell_type": "markdown",
   "metadata": {},
   "source": [
    "Khan et al. report an accuracy of 95.52, sensitivity of 93.51, and specificity of 97.13 for the SVM classifier with a \"fine\" Gaussian kernel. We have essentially matched that result."
   ]
  },
  {
   "attachments": {},
   "cell_type": "markdown",
   "metadata": {},
   "source": [
    "## 4. Train an SVM classifier - oversampling with independent test set"
   ]
  },
  {
   "attachments": {},
   "cell_type": "markdown",
   "metadata": {},
   "source": [
    "The model trained on an oversampled minority class *seems* to be very effective - but in fact, it only appears so due to a data leakage error."
   ]
  },
  {
   "attachments": {},
   "cell_type": "markdown",
   "metadata": {},
   "source": [
    "When we oversample the data, new samples are derived from the existing samples. Since we oversample using the *entire* data set all mixed together:\n",
    "\n",
    "* *test* samples inside the KFold loop will include \"new\" synthetic samples derived from samples in the *training* set\n",
    "* and *training* samples inside the KFold loop include \"new\" synthetic samples derived from samples in the *test* set"
   ]
  },
  {
   "attachments": {},
   "cell_type": "markdown",
   "metadata": {},
   "source": [
    "Thus, our evaluation will be overly optimistic - we training a model on samples derived from the \"test\" data, and evaluating it on samples derived from the training data. This is a much easier \"task\" than training on a training set, and then evaluating on a totally independent test set."
   ]
  },
  {
   "attachments": {},
   "cell_type": "markdown",
   "metadata": {},
   "source": [
    "In the next cell, copy the code from the \"oversampling\" section, but move the oversampling step inside the KFold loop. \n",
    "\n",
    "* You will split on the original data, not the oversampled data.\n",
    "* Create an oversampled training set `Xtr_kfold`, `ytr_kfold` in each fold by oversampling the training data for that fold, \n",
    "* and create an oversampled test set `Xts_kfold`, `yts_kfold` in each fold by oversampling the test data for that fold. \n",
    "\n",
    "Keep everything else the same.\n",
    "\n",
    "You will save the same metrics as before, in:\n",
    "* accuracy (`acc_ts_ind`)\n",
    "* balanced accuracy (`bal_ts_ind`)\n",
    "* sensitivity (`sen_ts_ind`)\n",
    "* specificity (`spe_ts_ind`)\n",
    "* and the data to generate the confusion matrix (`cm_ts_ind`)"
   ]
  },
  {
   "cell_type": "code",
   "execution_count": null,
   "metadata": {},
   "outputs": [],
   "source": [
    "#grade (write your code in this cell and DO NOT DELETE THIS LINE)\n",
    "\n",
    "nfold = 3\n",
    "acc_ts_ind = np.zeros(nfold)\n",
    "bal_ts_ind = np.zeros(nfold)\n",
    "sen_ts_ind = np.zeros(nfold)\n",
    "spe_ts_ind = np.zeros(nfold)\n",
    "cm_ts_ind  = np.zeros(shape = (2, 2, nfold))\n",
    "\n",
    "skf = StratifiedKFold(n_splits=nfold, shuffle=True, random_state=random_state)\n",
    "for isplit, (train_index, test_index) in enumerate(skf.split(X, y)):\n",
    "    Xtr_original = X.iloc[train_index]\n",
    "    Xts_original = X.iloc[test_index]\n",
    "    ytr_original = y.iloc[train_index]\n",
    "    yts_original = y.iloc[test_index]\n",
    "\n",
    "    adasyn_train = ADASYN(random_state=random_state, n_neighbors=5)\n",
    "    Xtr_kfold, ytr_kfold = adasyn_train.fit_resample(Xtr_original, ytr_original)\n",
    "\n",
    "    adasyn_test = ADASYN(random_state=random_state, n_neighbors=5)\n",
    "    Xts_kfold, yts_kfold = adasyn_test.fit_resample(Xts_original, yts_original)\n",
    "\n",
    "    clf = SVC(kernel='rbf', random_state=random_state, gamma=0.1, C=10)\n",
    "    clf.fit(Xtr_kfold, ytr_kfold)\n",
    "    yhat_ts = clf.predict(Xts_kfold)\n",
    "\n",
    "    acc_ts_ind[isplit] = accuracy_score(yts_kfold, yhat_ts)\n",
    "    bal_ts_ind[isplit] = balanced_accuracy_score(yts_kfold, yhat_ts)\n",
    "    sen_ts_ind[isplit] = recall_score(yts_kfold, yhat_ts)\n",
    "    spe_ts_ind[isplit] = recall_score(yts_kfold, yhat_ts, pos_label=0)\n",
    "    cm_ts_ind[:, :, isplit] = confusion_matrix(yts_kfold, yhat_ts, labels=[0, 1])\n",
    "\n"
   ]
  },
  {
   "cell_type": "code",
   "execution_count": 22,
   "metadata": {},
   "outputs": [
    {
     "name": "stdout",
     "output_type": "stream",
     "text": [
      "Accuracy:      0.5401450753711889\n",
      "Bal Accuracy:  0.5344135161334994\n",
      "Sensitivity:   0.9808429118773946\n",
      "Specificity:   0.08798412038960439\n"
     ]
    }
   ],
   "source": [
    "print(\"Accuracy:     \", acc_ts_ind.mean())\n",
    "print(\"Bal Accuracy: \", bal_ts_ind.mean())\n",
    "print(\"Sensitivity:  \", sen_ts_ind.mean())\n",
    "print(\"Specificity:  \", spe_ts_ind.mean())"
   ]
  },
  {
   "cell_type": "code",
   "execution_count": 23,
   "metadata": {},
   "outputs": [
    {
     "data": {
      "image/png": "[encoded data removed]",
      "text/plain": [
       "<Figure size 1500x500 with 3 Axes>"
      ]
     },
     "metadata": {},
     "output_type": "display_data"
    }
   ],
   "source": [
    "f, axes = plt.subplots(1, nfold, figsize = (nfold*5, 5))\n",
    "for i in range(nfold):\n",
    "    disp = ConfusionMatrixDisplay(confusion_matrix = cm_ts_ind[:, :, i],\n",
    "                              display_labels = [0, 1])\n",
    "    disp.plot(ax=axes[i])\n",
    "    disp.ax_.set_title(\"Fold %d\" % i)\n",
    "    disp.im_.colorbar.remove()\n"
   ]
  },
  {
   "attachments": {},
   "cell_type": "markdown",
   "metadata": {},
   "source": [
    "## 5. Train an SVM classifier - test set with imbalance"
   ]
  },
  {
   "attachments": {},
   "cell_type": "markdown",
   "metadata": {},
   "source": [
    "In the example above, we evaluated our classifier on an oversampled test set, so that we can directly compare it to the classifier with data leakage. \n",
    "\n",
    "However, since in real use the model will make predictions on imbalanced (real-life) data, our model evaluation should be similar. "
   ]
  },
  {
   "attachments": {},
   "cell_type": "markdown",
   "metadata": {},
   "source": [
    "In the following cell, copy the code from the previous section, but this time, \n",
    "\n",
    "* Create an oversampled training set `Xtr_kfold`, `ytr_kfold` in each fold by oversampling the training data for that fold, \n",
    "* and create the test set `Xts_kfold`, `yts_kfold` in each fold by selecting rows from the original data for that fold. \n",
    "\n",
    "\n",
    "Keep everything else the same.\n",
    "\n",
    "You will save the same metrics as before, in:\n",
    "* accuracy (`acc_ts_imb`)\n",
    "* balanced accuracy (`bal_ts_imb`)\n",
    "* sensitivity (`sen_ts_imb`)\n",
    "* specificity (`spe_ts_imb`)\n",
    "* and the data to generate the confusion matrix (`cm_ts_imb`)\n"
   ]
  },
  {
   "cell_type": "code",
   "execution_count": null,
   "metadata": {},
   "outputs": [],
   "source": [
    "#grade (write your code in this cell and DO NOT DELETE THIS LINE)\n",
    "\n",
    "nfold = 3\n",
    "acc_ts_imb = np.zeros(nfold)\n",
    "bal_ts_imb = np.zeros(nfold)\n",
    "sen_ts_imb = np.zeros(nfold)\n",
    "spe_ts_imb = np.zeros(nfold)\n",
    "cm_ts_imb  = np.zeros(shape = (2, 2, nfold))\n",
    "\n",
    "skf = StratifiedKFold(n_splits=nfold, shuffle=True, random_state=random_state)\n",
    "for isplit, (train_index, test_index) in enumerate(skf.split(X, y)):\n",
    "    # 选取训练集和测试集的原始数据\n",
    "    Xtr_original = X.iloc[train_index]\n",
    "    Xts_original = X.iloc[test_index]\n",
    "    ytr_original = y.iloc[train_index]\n",
    "    yts_original = y.iloc[test_index]\n",
    "\n",
    "    adasyn = ADASYN(random_state=random_state, n_neighbors=5)\n",
    "    Xtr_kfold, ytr_kfold = adasyn.fit_resample(Xtr_original, ytr_original)\n",
    "\n",
    "    Xts_kfold = Xts_original\n",
    "    yts_kfold = yts_original\n",
    "\n",
    "    clf = SVC(kernel='rbf', random_state=random_state, gamma=0.1, C=10)\n",
    "    clf.fit(Xtr_kfold, ytr_kfold)\n",
    "\n",
    "    yhat_ts = clf.predict(Xts_kfold)\n",
    "\n",
    "    acc_ts_imb[isplit] = accuracy_score(yts_kfold, yhat_ts)\n",
    "    bal_ts_imb[isplit] = balanced_accuracy_score(yts_kfold, yhat_ts)\n",
    "    sen_ts_imb[isplit] = recall_score(yts_kfold, yhat_ts)\n",
    "    spe_ts_imb[isplit] = recall_score(yts_kfold, yhat_ts, pos_label=0)\n",
    "    cm_ts_imb[:, :, isplit] = confusion_matrix(yts_kfold, yhat_ts, labels=[0, 1])\n"
   ]
  },
  {
   "cell_type": "code",
   "execution_count": 25,
   "metadata": {},
   "outputs": [
    {
     "name": "stdout",
     "output_type": "stream",
     "text": [
      "Accuracy:      0.8591582491582491\n",
      "Bal Accuracy:  0.5043103448275862\n",
      "Sensitivity:   0.9808429118773946\n",
      "Specificity:   0.027777777777777776\n"
     ]
    }
   ],
   "source": [
    "print(\"Accuracy:     \", acc_ts_imb.mean())\n",
    "print(\"Bal Accuracy: \", bal_ts_imb.mean())\n",
    "print(\"Sensitivity:  \", sen_ts_imb.mean())\n",
    "print(\"Specificity:  \", spe_ts_imb.mean())"
   ]
  },
  {
   "cell_type": "code",
   "execution_count": 26,
   "metadata": {},
   "outputs": [
    {
     "data": {
      "image/png": "[encoded data removed]",
      "text/plain": [
       "<Figure size 1500x500 with 3 Axes>"
      ]
     },
     "metadata": {},
     "output_type": "display_data"
    }
   ],
   "source": [
    "f, axes = plt.subplots(1, nfold, figsize = (nfold*5, 5))\n",
    "for i in range(nfold):\n",
    "    disp = ConfusionMatrixDisplay(confusion_matrix = cm_ts_imb[:, :, i],\n",
    "                              display_labels = [0, 1])\n",
    "    disp.plot(ax=axes[i])\n",
    "    disp.ax_.set_title(\"Fold %d\" % i)\n",
    "    disp.im_.colorbar.remove()\n"
   ]
  },
  {
   "attachments": {},
   "cell_type": "markdown",
   "metadata": {},
   "source": [
    "## Conclusion"
   ]
  },
  {
   "attachments": {},
   "cell_type": "markdown",
   "metadata": {},
   "source": [
    "We can see that the model does not have any predictive benefit over \"prediction by mode\". The result in the paper by Khan et al. is a **mistake** - their evaluation is not valid, because it is not conducted on an independent test set. \n",
    "\n",
    "(And, as demonstrated by Vandewiele et al., a similar mistake is made in many other published papers on this dataset.)"
   ]
  }
 ],
 "metadata": {
  "colab": {
   "collapsed_sections": [],
   "provenance": []
  },
  "kernelspec": {
   "display_name": "Python 3",
   "language": "python",
   "name": "python3"
  },
  "language_info": {
   "codemirror_mode": {
    "name": "ipython",
    "version": 3
   },
   "file_extension": ".py",
   "mimetype": "text/x-python",
   "name": "python",
   "nbconvert_exporter": "python",
   "pygments_lexer": "ipython3",
   "version": "3.11.5"
  }
 },
 "nbformat": 4,
 "nbformat_minor": 4
}
