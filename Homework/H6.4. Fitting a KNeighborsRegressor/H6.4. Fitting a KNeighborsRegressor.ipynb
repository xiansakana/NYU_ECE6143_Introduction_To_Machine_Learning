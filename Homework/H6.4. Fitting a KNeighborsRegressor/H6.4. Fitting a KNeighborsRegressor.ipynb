{
 "cells": [
  {
   "attachments": {},
   "cell_type": "markdown",
   "metadata": {},
   "source": [
    "## Train a `KNeighborsRegressor`"
   ]
  },
  {
   "cell_type": "markdown",
   "metadata": {},
   "source": [
    "In the attached workspace, you will read in some data from a file. Then, you will fit a `KNeighborsRegressor` (using the `sklearn` implementation) on the training set, and evaluate its accuracy on the test set.\n",
    "\n",
    "Use `n_neighbors = 9`, but leave all other settings at their defaults.\n",
    "\n",
    "| Name\t| Type\t| Description |\n",
    "| --- | --- | --- |\n",
    "|`yhat_ts`\t|2d numpy array\t|Model prediction for test data.|\n",
    "|`r2_ts`\t|float\t|R2 score of model on test data.|"
   ]
  },
  {
   "cell_type": "code",
   "execution_count": 2,
   "metadata": {},
   "outputs": [],
   "source": [
    "import numpy as np\n",
    "from sklearn.neighbors import KNeighborsRegressor\n",
    "from sklearn.metrics import r2_score"
   ]
  },
  {
   "cell_type": "code",
   "execution_count": 3,
   "metadata": {},
   "outputs": [],
   "source": [
    "Xtr = np.load(\"Xtr.npy\")\n",
    "Xts = np.load(\"Xts.npy\")\n",
    "ytr = np.load(\"ytr.npy\")\n",
    "yts = np.load(\"yts.npy\")"
   ]
  },
  {
   "attachments": {},
   "cell_type": "markdown",
   "metadata": {},
   "source": [
    "Fit a `KNeighborsRegressor` on the training data (according to the specifications in the question). Then, use it to predict the label of the test samples, and save this prediction in `yhat_ts`. Evaluate the R2 score of the model's predictions, and save this value in `r2_ts`."
   ]
  },
  {
   "cell_type": "code",
   "execution_count": 4,
   "metadata": {},
   "outputs": [],
   "source": [
    "#grade (write your code in this cell and DO NOT DELETE THIS LINE)\n",
    "knn = KNeighborsRegressor(n_neighbors = 9).fit(Xtr, ytr)\n",
    "yhat_ts = knn.predict(Xts)\n",
    "r2_ts = r2_score(yts, yhat_ts)\n"
   ]
  }
 ],
 "metadata": {
  "kernelspec": {
   "display_name": "Python 3",
   "language": "python",
   "name": "python3"
  },
  "language_info": {
   "codemirror_mode": {
    "name": "ipython",
    "version": 3
   },
   "file_extension": ".py",
   "mimetype": "text/x-python",
   "name": "python",
   "nbconvert_exporter": "python",
   "pygments_lexer": "ipython3",
   "version": "3.11.5"
  }
 },
 "nbformat": 4,
 "nbformat_minor": 4
}
