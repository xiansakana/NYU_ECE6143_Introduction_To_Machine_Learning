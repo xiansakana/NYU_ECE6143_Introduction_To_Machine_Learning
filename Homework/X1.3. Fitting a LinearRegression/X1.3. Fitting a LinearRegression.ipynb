{
 "cells": [
  {
   "attachments": {},
   "cell_type": "markdown",
   "metadata": {},
   "source": [
    "## Train a `LinearRegression`"
   ]
  },
  {
   "cell_type": "markdown",
   "metadata": {},
   "source": [
    "In the heart of Silicon Valley, there is a ruthless software engineering company whose CEO is driven by a single goal: profit at any cost.\n",
    "\n",
    "To maximize its software engineers' output, they have hired you to develop a predictive model to estimate the likely productivity of a software engineer, given their level of sleep deprivation. The company will use this model to overwork its engineers more efficiently.\n",
    "\n",
    "You have been provided with a dataset from an internal study, where a group of employees (including some sleep-deprived employees who had been forced to work all night beforehand, and some who had been permitted to go home and sleep) were asked to all perform the same 90-minute coding task. Then, the quality of their code was evaluated and recorded. Each sample includes the following columns:\n",
    "\n",
    "- `id` number of the sample\n",
    "- `experience` level of the employee (up to 100)\n",
    "- `had_sleep` (1 or 0, indicating whether the employee was permitted to sleep the night before)\n",
    "- `passed_unit_tests` of the code they produced\n",
    "\n",
    "In the attached workspace, you will read this data from a file, and split it into training and test sets. Then, you will fit a `LinearRegression` (using the `sklearn` implementation, you may refer to its documentation [here](https://scikit-learn.org/stable/modules/generated/sklearn.linear_model.LinearRegression.html)) on the training set, and evaluate its accuracy in predicting `passed_unit_tests` on the test set.\n",
    "\n",
    "You'll need to specify this random state in your notebook:\n",
    "\n",
    "> random_state = 20\n",
    "\n",
    "The following items will be graded:\n",
    "\n",
    "| Name | Type | Description |\n",
    "| ---- | ---- | ---- |\n",
    "|`Xtr`\t|pandas dataframe\t|Training data - features.\n",
    "|`Xts`\t|pandas dataframe\t|Test data - features.\n",
    "|`ytr`\t|pandas series OR pandas data frame OR 1d numpy array\t|Training data - target variable.\n",
    "|`yts`\t|pandas series OR pandas data frame OR 1d numpy array\t|Test data - target variable.\n",
    "|`yts_hat`\t|1d numpy array\t|Model prediction for test data.\n",
    "|`rsq`\t|float\t|R2 of model on test data."
   ]
  },
  {
   "cell_type": "code",
   "execution_count": 9,
   "metadata": {},
   "outputs": [],
   "source": [
    "import numpy as np\n",
    "import pandas as pd\n",
    "from sklearn.model_selection import train_test_split\n",
    "from sklearn.linear_model import LinearRegression\n",
    "from sklearn.metrics import r2_score"
   ]
  },
  {
   "attachments": {},
   "cell_type": "markdown",
   "metadata": {},
   "source": [
    "In this question, we will try to predict the number of unit tests that a software engineer's code will pass, given information about their experience level and their sleep status.\n",
    "\n",
    "First, we'll load the dataset:"
   ]
  },
  {
   "cell_type": "code",
   "execution_count": 10,
   "metadata": {},
   "outputs": [],
   "source": [
    "df = pd.read_csv('data.csv', names=['id', 'experience', 'had_sleep', 'passed_unit_tests'], header=None, index_col='id')"
   ]
  },
  {
   "cell_type": "markdown",
   "metadata": {},
   "source": [
    "You can add some code here to inspect the data, see the names of features, and see the data types - the cell below will not be graded."
   ]
  },
  {
   "cell_type": "code",
   "execution_count": 11,
   "metadata": {},
   "outputs": [
    {
     "data": {
      "text/html": [
       "<div>\n",
       "<style scoped>\n",
       "    .dataframe tbody tr th:only-of-type {\n",
       "        vertical-align: middle;\n",
       "    }\n",
       "\n",
       "    .dataframe tbody tr th {\n",
       "        vertical-align: top;\n",
       "    }\n",
       "\n",
       "    .dataframe thead th {\n",
       "        text-align: right;\n",
       "    }\n",
       "</style>\n",
       "<table border=\"1\" class=\"dataframe\">\n",
       "  <thead>\n",
       "    <tr style=\"text-align: right;\">\n",
       "      <th></th>\n",
       "      <th>experience</th>\n",
       "      <th>had_sleep</th>\n",
       "      <th>passed_unit_tests</th>\n",
       "    </tr>\n",
       "    <tr>\n",
       "      <th>id</th>\n",
       "      <th></th>\n",
       "      <th></th>\n",
       "      <th></th>\n",
       "    </tr>\n",
       "  </thead>\n",
       "  <tbody>\n",
       "    <tr>\n",
       "      <th>0</th>\n",
       "      <td>85</td>\n",
       "      <td>1</td>\n",
       "      <td>4</td>\n",
       "    </tr>\n",
       "    <tr>\n",
       "      <th>1</th>\n",
       "      <td>86</td>\n",
       "      <td>1</td>\n",
       "      <td>7</td>\n",
       "    </tr>\n",
       "    <tr>\n",
       "      <th>2</th>\n",
       "      <td>83</td>\n",
       "      <td>1</td>\n",
       "      <td>8</td>\n",
       "    </tr>\n",
       "    <tr>\n",
       "      <th>3</th>\n",
       "      <td>67</td>\n",
       "      <td>1</td>\n",
       "      <td>4</td>\n",
       "    </tr>\n",
       "    <tr>\n",
       "      <th>4</th>\n",
       "      <td>80</td>\n",
       "      <td>1</td>\n",
       "      <td>8</td>\n",
       "    </tr>\n",
       "  </tbody>\n",
       "</table>\n",
       "</div>"
      ],
      "text/plain": [
       "    experience  had_sleep  passed_unit_tests\n",
       "id                                          \n",
       "0           85          1                  4\n",
       "1           86          1                  7\n",
       "2           83          1                  8\n",
       "3           67          1                  4\n",
       "4           80          1                  8"
      ]
     },
     "execution_count": 11,
     "metadata": {},
     "output_type": "execute_result"
    }
   ],
   "source": [
    "df.head()"
   ]
  },
  {
   "attachments": {},
   "cell_type": "markdown",
   "metadata": {},
   "source": [
    "(but, note that your code will be evaluated on *different* data organized in a data frame with the same columns - so in your solution, you should not hard-code anything specific to this data.)"
   ]
  },
  {
   "attachments": {},
   "cell_type": "markdown",
   "metadata": {},
   "source": [
    "Now we will split into training and test sets, using `train_test_split`! \n",
    "\n",
    "* Reserve 20% of the data for testing.\n",
    "* Use the random state specified on the question page.\n",
    "\n",
    "The following cell should create \n",
    "\n",
    "* `Xtr` and `Xts` as pandas data frames including only the `experience` and `had_sleep` features, \n",
    "* and `ytr` and `yts` as either pandas data series or 1d numpy arrays containing the target variable. "
   ]
  },
  {
   "cell_type": "code",
   "execution_count": 12,
   "metadata": {},
   "outputs": [],
   "source": [
    "#grade (write your code in this cell and DO NOT DELETE THIS LINE)\n",
    "features = ['experience', 'had_sleep']\n",
    "target = ['passed_unit_tests']\n",
    "X = df[features]\n",
    "y = df[target]\n",
    "random_state = 20\n",
    "Xtr, Xts, ytr, yts = train_test_split(X, y, test_size=0.2, random_state=random_state)"
   ]
  },
  {
   "cell_type": "markdown",
   "metadata": {},
   "source": [
    "Now we are ready to fit the `LinearRegression`. Using the default settings, fit the model on the training data. Then, use it to make predictions for the test samples, and save this prediction in `yts_hat`. Evaluate the R2 score of the model on the test data, and save this in `rsq`."
   ]
  },
  {
   "cell_type": "code",
   "execution_count": 13,
   "metadata": {},
   "outputs": [
    {
     "data": {
      "text/plain": [
       "0.21836803234855162"
      ]
     },
     "execution_count": 13,
     "metadata": {},
     "output_type": "execute_result"
    }
   ],
   "source": [
    "#grade (write your code in this cell and DO NOT DELETE THIS LINE)\n",
    "model = LinearRegression().fit(Xtr, ytr)\n",
    "yts_hat = model.predict(Xts)\n",
    "rsq = r2_score(yts, yts_hat)"
   ]
  },
  {
   "cell_type": "code",
   "execution_count": null,
   "metadata": {},
   "outputs": [],
   "source": []
  }
 ],
 "metadata": {
  "kernelspec": {
   "display_name": "Python 3 (ipykernel)",
   "language": "python",
   "name": "python3"
  },
  "language_info": {
   "codemirror_mode": {
    "name": "ipython",
    "version": 3
   },
   "file_extension": ".py",
   "mimetype": "text/x-python",
   "name": "python",
   "nbconvert_exporter": "python",
   "pygments_lexer": "ipython3",
   "version": "3.12.9"
  },
  "vscode": {
   "interpreter": {
    "hash": "916dbcbb3f70747c44a77c7bcd40155683ae19c65e1c03b4aa3499c5328201f1"
   }
  }
 },
 "nbformat": 4,
 "nbformat_minor": 4
}
