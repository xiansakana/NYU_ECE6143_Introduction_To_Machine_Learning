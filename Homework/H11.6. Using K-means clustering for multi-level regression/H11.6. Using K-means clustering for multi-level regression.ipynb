{
 "cells": [
  {
   "cell_type": "markdown",
   "metadata": {},
   "source": [
    "# Multi-level regression using K means clustering"
   ]
  },
  {
   "cell_type": "markdown",
   "metadata": {},
   "source": [
    "You are working for a non-profit organization that wants to develop a machine learning model to predict which of the people they engage with are likely to volunteer their time for community service. To train your model, you have a dataset that includes survey data about volunteering from respondents across the United States. However, you realize that volunteering behavior is very region-specific. So you want to first cluster data by geographic features, then fit a new linear model on volunteering-related features in each cluster.\n",
    "\n",
    "This will be a type of multi-level regression. In a multi-level regression, a sample is modeled as\n",
    "$$\n",
    "y=w_{0, j}+w_{1, j} x_1+\\ldots+w_{p, j} x_p\n",
    "$$\n",
    "if the sample belongs to group *j*.\n",
    "\n",
    "In other words, there is a different set of regression coefficients for each group. In this case, we will use K-means clustering to form the groups.\n",
    "\n",
    "---\n",
    "\n",
    "In this workspace, you are given training data `Xtr`, `ytr` and test data `Xts`, `yts` for a regression problem. Write code to do the following:\n",
    "\n",
    "- Perform K-means clustering on the training data `Xtr` with a given number `n_cluster` clusters.\n",
    "- Fit `n_cluster` linear regression models, each on the training data belonging to a particular cluster. For example, the 0th model should be trained on data from the 0th cluster.\n",
    "- Compute the predicted outputs `yhat_ts` for the test data, and compute the MSE of the model on the test data.\n",
    "\n",
    "> In the workspace, use `n_cluster = 5`.\n",
    "For full credit, your solution should use no more than *one* `for` loop.\n",
    "\n",
    "|Name|\tType|\tDescription|\n",
    "| --- | --- | --- |\n",
    "|`Xtr`|\tpandas dataframe|\tTraining data - features.|\n",
    "|`Xts`|\tpandas dataframe|\tTest data - features.|\n",
    "|`ytr`|\t1d numpy array|\tTraining data - target variable.|\n",
    "|`yts`|\t1d numpy array|\tTest data - target variable.|\n",
    "|`Xtr_cid`|\t1d numpy array|\tCluster indices for training samples|\n",
    "|`Xts_cid`|\t1d numpy array|\tCluster indices for test samples|\n",
    "|`yhat_ts`|\t1d numpy array|\tPredictions of model on test set.|\n",
    "|`mse_ts`|\tfloat|\tMean squared error on test set.|\n"
   ]
  },
  {
   "cell_type": "code",
   "execution_count": 1,
   "metadata": {},
   "outputs": [],
   "source": [
    "import random\n",
    "import numpy as np\n",
    "import pandas as pd\n",
    "\n",
    "from sklearn.linear_model import LinearRegression\n",
    "from sklearn.cluster import KMeans\n",
    "from sklearn.metrics import mean_squared_error, r2_score\n",
    "from sklearn.model_selection import train_test_split"
   ]
  },
  {
   "attachments": {},
   "cell_type": "markdown",
   "metadata": {},
   "source": [
    "Read in the dataset:"
   ]
  },
  {
   "cell_type": "code",
   "execution_count": 2,
   "metadata": {},
   "outputs": [],
   "source": [
    "df = pd.read_csv('data-volunteer.csv')"
   ]
  },
  {
   "attachments": {},
   "cell_type": "markdown",
   "metadata": {},
   "source": [
    "The data has the following features, some of which you will use for clustering and some of which you will use for the regression model:\n",
    "\n",
    "* `GEDIV` (geographical region of the US where the respondent lives, ordinal-encoded. You will use this for clustering only.)\n",
    "* `GTMETSTA` (whether or not the respondent lives in a metropolitan area. You will use this for clustering only.)\n",
    "* `GTCBSASZ` (size of the metro area where the respondent lives. You will use this for clustering only.)\n",
    "* `PESEX` (sex of the respondent. You will use this for the regression only.)\n",
    "* `PRTAGE` (age of the respondent, ordinal encoded. You will use this for the regression only.)\n",
    "* `PEEDUCA` (education level of the respondent, ordinal encoded. You will use this for the regression only.)\n",
    "* `PUWK` (whether the respondent worked in the last week (1), did not work in the last week (2), or is retired (3). You will use this for the regression only.)\n",
    "* `PTS16E` (number of hours spent volunteering in the last 12 months. You will use this as the target variable for the regression.)"
   ]
  },
  {
   "attachments": {},
   "cell_type": "markdown",
   "metadata": {},
   "source": [
    "Split the data into training and test sets. Use 2,500 samples for the test set and the remaining samples for the training set. Use `random_state = 42`.\n",
    "\n",
    " * `ytr` and `yts` should each be a 1d `numpy` array with only the target variable.\n",
    " * `Xtr` and `Xts` should be `pandas` data frames with all of the remaining variables (excluding the target variable.)\n",
    "\n"
   ]
  },
  {
   "cell_type": "code",
   "execution_count": 3,
   "metadata": {},
   "outputs": [],
   "source": [
    "#grade (write your code in this cell and DO NOT DELETE THIS LINE)\n",
    "regression_features = ['PESEX', 'PRTAGE', 'PEEDUCA', 'PUWK']\n",
    "clustering_features = ['GEDIV', 'GTMETSTA', 'GTCBSASZ']\n",
    "target = 'PTS16E'\n",
    "\n",
    "X = df[regression_features + clustering_features]\n",
    "y = df[target]\n",
    "Xtr, Xts, ytr, yts = train_test_split(X, y, test_size=2500, random_state=42)\n",
    "ytr = ytr.to_numpy()\n",
    "yts = yts.to_numpy()"
   ]
  },
  {
   "cell_type": "markdown",
   "metadata": {},
   "source": [
    "In the next cells, you will use `sklearn` to perform K-means clustering using  `Xtr`. First, set `n_cluster` as specified on the question page."
   ]
  },
  {
   "cell_type": "code",
   "execution_count": 4,
   "metadata": {},
   "outputs": [],
   "source": [
    "n_cluster = 5"
   ]
  },
  {
   "attachments": {},
   "cell_type": "markdown",
   "metadata": {},
   "source": [
    "Then, assign cluster labels to each data point, using only the geographical features that were specified as \"You will use this for clustering only\". \n",
    "\n",
    "(Use the `random_state = 42` as shown below so that your clustering will match the auto-grader's.) Save the assigned class labels in `Xtr_cid` and `Xts_cid` for the training and test data, respectively."
   ]
  },
  {
   "cell_type": "code",
   "execution_count": 5,
   "metadata": {},
   "outputs": [],
   "source": [
    "#grade (write your code in this cell and DO NOT DELETE THIS LINE)\n",
    "kmeans = KMeans(n_clusters=n_cluster, random_state=42)\n",
    "Xtr_cid = kmeans.fit_predict(Xtr[clustering_features])\n",
    "Xts_cid = kmeans.predict(Xts[clustering_features])\n"
   ]
  },
  {
   "cell_type": "markdown",
   "metadata": {},
   "source": [
    "Finally, fit regression coefficients using the training data in each cluster, and then use the fitted regression models to create `yhat_ts`, the predicted values on the test set."
   ]
  },
  {
   "cell_type": "code",
   "execution_count": 6,
   "metadata": {},
   "outputs": [],
   "source": [
    "#grade (write your code in this cell and DO NOT DELETE THIS LINE)\n",
    "\n",
    "# this just generates an array that's the correct shape - yhat_ts shouldn't really be all zeros\n",
    "yhat_ts = np.zeros(yts.shape)\n",
    "\n",
    "for i in range(n_cluster):\n",
    "    train_indices = np.where(Xtr_cid == i)[0]\n",
    "    test_indices = np.where(Xts_cid == i)[0]\n",
    "    if len(train_indices) > 0:\n",
    "        reg = LinearRegression()\n",
    "        reg.fit(Xtr.iloc[train_indices][regression_features], ytr[train_indices])\n",
    "        yhat_ts[test_indices] = reg.predict(Xts.iloc[test_indices][regression_features])"
   ]
  },
  {
   "cell_type": "markdown",
   "metadata": {},
   "source": [
    "Then, compute the mean squared error of your model on the test data."
   ]
  },
  {
   "cell_type": "code",
   "execution_count": 7,
   "metadata": {},
   "outputs": [],
   "source": [
    "#grade (write your code in this cell and DO NOT DELETE THIS LINE)\n",
    "mse_ts = mean_squared_error(yts, yhat_ts)"
   ]
  },
  {
   "cell_type": "code",
   "execution_count": null,
   "metadata": {},
   "outputs": [],
   "source": []
  }
 ],
 "metadata": {
  "kernelspec": {
   "display_name": "Python 3 (ipykernel)",
   "language": "python",
   "name": "python3"
  },
  "language_info": {
   "codemirror_mode": {
    "name": "ipython",
    "version": 3
   },
   "file_extension": ".py",
   "mimetype": "text/x-python",
   "name": "python",
   "nbconvert_exporter": "python",
   "pygments_lexer": "ipython3",
   "version": "3.12.9"
  }
 },
 "nbformat": 4,
 "nbformat_minor": 4
}
