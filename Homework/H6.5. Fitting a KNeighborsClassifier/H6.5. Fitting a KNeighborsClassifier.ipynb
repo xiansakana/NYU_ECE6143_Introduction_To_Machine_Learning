{
 "cells": [
  {
   "attachments": {},
   "cell_type": "markdown",
   "metadata": {},
   "source": [
    "## Train a `KNeighborsClassifier`"
   ]
  },
  {
   "cell_type": "markdown",
   "metadata": {},
   "source": [
    "In the attached workspace, you will read in some data from files. Then, you will fit a `KNeighborsClassifier` (using the `sklearn` implementation) on the training set, and evaluate its accuracy on the test set.\n",
    "\n",
    "Use `n_neighbors = 9`, but leave all other settings at their defaults.\n",
    "\n",
    "| Name\t| Type\t| Description |\n",
    "| --- | --- | --- |\n",
    "|yhat_ts\t|2d numpy array\t|Model prediction for test data.|\n",
    "|acc_ts\t|float\t|Accuracy of model on test data.|"
   ]
  },
  {
   "cell_type": "code",
   "execution_count": 2,
   "metadata": {},
   "outputs": [],
   "source": [
    "import numpy as np\n",
    "from sklearn.neighbors import KNeighborsClassifier\n",
    "from sklearn.metrics import accuracy_score"
   ]
  },
  {
   "cell_type": "code",
   "execution_count": 3,
   "metadata": {},
   "outputs": [],
   "source": [
    "Xtr = np.load(\"Xtr.npy\")\n",
    "Xts = np.load(\"Xts.npy\")\n",
    "ytr = np.load(\"ytr.npy\").ravel()\n",
    "yts = np.load(\"yts.npy\").ravel()"
   ]
  },
  {
   "attachments": {},
   "cell_type": "markdown",
   "metadata": {},
   "source": [
    "Fit a `KNeighborsClassifier` on the training data (according to the specifications in the question). Then, use it to predict the class of the test samples, and save this prediction in `yhat_ts`. Evaluate the accuracy of the classifier's predictions, and save this value in `acc_ts`."
   ]
  },
  {
   "cell_type": "code",
   "execution_count": 4,
   "metadata": {},
   "outputs": [],
   "source": [
    "#grade (write your code in this cell and DO NOT DELETE THIS LINE)\n",
    "knn = KNeighborsClassifier(n_neighbors=9).fit(Xtr, ytr)\n",
    "yhat_ts = knn.predict(Xts)\n",
    "acc_ts = accuracy_score(yts, yhat_ts)"
   ]
  },
  {
   "cell_type": "code",
   "execution_count": null,
   "metadata": {},
   "outputs": [],
   "source": []
  }
 ],
 "metadata": {
  "kernelspec": {
   "display_name": "Python 3",
   "language": "python",
   "name": "python3"
  },
  "language_info": {
   "codemirror_mode": {
    "name": "ipython",
    "version": 3
   },
   "file_extension": ".py",
   "mimetype": "text/x-python",
   "name": "python",
   "nbconvert_exporter": "python",
   "pygments_lexer": "ipython3",
   "version": "3.11.5"
  }
 },
 "nbformat": 4,
 "nbformat_minor": 4
}
