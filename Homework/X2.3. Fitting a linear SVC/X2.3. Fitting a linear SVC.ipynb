{
 "cells": [
  {
   "attachments": {},
   "cell_type": "markdown",
   "metadata": {},
   "source": [
    "## Train a linear SVM"
   ]
  },
  {
   "cell_type": "markdown",
   "metadata": {},
   "source": [
    "You are working for an online real estate marketplace. As part of their offerings, they include a \"walkability\" score with each listing that estimates how \"walkable\" each address is. Until now, this score was manually assigned by a human expert for each address; now, you are going to train a model to predict whether the human expert would have scored the address as \"low walkability\" (0) or \"high walkability\" (1).\n",
    "\n",
    "To train your model, you have a dataset of already-scored properties. Each sample includes the following columns:\n",
    "\n",
    "- Street address of the property\n",
    "- Walkability score (assigned by a human expert, 0 or 1)\n",
    "- Number of parks nearby (within two miles)\n",
    "- Number of grocery stores nearby (within two miles)\n",
    "- Number of schools nearby (within two miles)\n",
    "- Number of public transit lines nearby (within two miles)\n",
    "\n",
    "In the attached workspace, you will read this data from a file, and split it into training and test sets. Then, you will fit an `SVC` (using the `sklearn` implementation) on the training set, and evaluate its accuracy in predicting the walkability class on the test set.\n",
    "\n",
    "You'll need to specify this random state in your notebook:\n",
    "\n",
    "> random_state = 5\n",
    "\n",
    "The following items will be graded:\n",
    "\n",
    "| Name | Type | Description |\n",
    "| ---- | ---- | ---- |\n",
    "|`Xtr`\t|pandas dataframe\t|Training data - features used as input to model.|\n",
    "|`Xts`\t|pandas dataframe\t|Test data - features used as input to model.|\n",
    "|`ytr`\t|pandas series OR pandas data frame OR 1d numpy array\t|Training data - target variable.|\n",
    "|`yts`\t|pandas series OR pandas data frame OR 1d numpy array\t|Test data - target variable.|\n",
    "|`yts_hat`\t|1d numpy array\t|Model prediction for test data.|\n",
    "|`acc`\t|float\t|Accuracy of model on test data.|"
   ]
  },
  {
   "cell_type": "code",
   "execution_count": 1,
   "metadata": {},
   "outputs": [],
   "source": [
    "import numpy as np\n",
    "import pandas as pd\n",
    "from sklearn.model_selection import train_test_split\n",
    "from sklearn.svm import SVC\n",
    "from sklearn.metrics import accuracy_score"
   ]
  },
  {
   "attachments": {},
   "cell_type": "markdown",
   "metadata": {},
   "source": [
    "First, we'll load the dataset:"
   ]
  },
  {
   "cell_type": "code",
   "execution_count": 2,
   "metadata": {},
   "outputs": [],
   "source": [
    "df = pd.read_csv('data.csv')"
   ]
  },
  {
   "cell_type": "markdown",
   "metadata": {},
   "source": [
    "You can add some code here to inspect the data, see the names of features, and see the data types - the cell below will not be graded."
   ]
  },
  {
   "cell_type": "code",
   "execution_count": 3,
   "metadata": {},
   "outputs": [
    {
     "data": {
      "text/html": [
       "<div>\n",
       "<style scoped>\n",
       "    .dataframe tbody tr th:only-of-type {\n",
       "        vertical-align: middle;\n",
       "    }\n",
       "\n",
       "    .dataframe tbody tr th {\n",
       "        vertical-align: top;\n",
       "    }\n",
       "\n",
       "    .dataframe thead th {\n",
       "        text-align: right;\n",
       "    }\n",
       "</style>\n",
       "<table border=\"1\" class=\"dataframe\">\n",
       "  <thead>\n",
       "    <tr style=\"text-align: right;\">\n",
       "      <th></th>\n",
       "      <th>Address</th>\n",
       "      <th>Walkability_Score</th>\n",
       "      <th>Parks_Nearby</th>\n",
       "      <th>Grocery_Stores_Nearby</th>\n",
       "      <th>Schools_Nearby</th>\n",
       "      <th>Public_Transit_Nearby</th>\n",
       "    </tr>\n",
       "  </thead>\n",
       "  <tbody>\n",
       "    <tr>\n",
       "      <th>0</th>\n",
       "      <td>939 Maple Ave, Bloomington, TX</td>\n",
       "      <td>0</td>\n",
       "      <td>2</td>\n",
       "      <td>2</td>\n",
       "      <td>1</td>\n",
       "      <td>2</td>\n",
       "    </tr>\n",
       "    <tr>\n",
       "      <th>1</th>\n",
       "      <td>986 Cedar Blvd, Greenville, CA</td>\n",
       "      <td>0</td>\n",
       "      <td>2</td>\n",
       "      <td>2</td>\n",
       "      <td>1</td>\n",
       "      <td>1</td>\n",
       "    </tr>\n",
       "    <tr>\n",
       "      <th>2</th>\n",
       "      <td>795 Cedar Blvd, Madison, NC</td>\n",
       "      <td>1</td>\n",
       "      <td>1</td>\n",
       "      <td>3</td>\n",
       "      <td>3</td>\n",
       "      <td>2</td>\n",
       "    </tr>\n",
       "    <tr>\n",
       "      <th>3</th>\n",
       "      <td>742 Main St, Riverside, OR</td>\n",
       "      <td>0</td>\n",
       "      <td>2</td>\n",
       "      <td>2</td>\n",
       "      <td>2</td>\n",
       "      <td>0</td>\n",
       "    </tr>\n",
       "    <tr>\n",
       "      <th>4</th>\n",
       "      <td>515 Maple Ave, Brooklyn, NJ</td>\n",
       "      <td>0</td>\n",
       "      <td>2</td>\n",
       "      <td>2</td>\n",
       "      <td>1</td>\n",
       "      <td>3</td>\n",
       "    </tr>\n",
       "  </tbody>\n",
       "</table>\n",
       "</div>"
      ],
      "text/plain": [
       "                          Address  Walkability_Score  Parks_Nearby  \\\n",
       "0  939 Maple Ave, Bloomington, TX                  0             2   \n",
       "1  986 Cedar Blvd, Greenville, CA                  0             2   \n",
       "2     795 Cedar Blvd, Madison, NC                  1             1   \n",
       "3      742 Main St, Riverside, OR                  0             2   \n",
       "4     515 Maple Ave, Brooklyn, NJ                  0             2   \n",
       "\n",
       "   Grocery_Stores_Nearby  Schools_Nearby  Public_Transit_Nearby  \n",
       "0                      2               1                      2  \n",
       "1                      2               1                      1  \n",
       "2                      3               3                      2  \n",
       "3                      2               2                      0  \n",
       "4                      2               1                      3  "
      ]
     },
     "execution_count": 3,
     "metadata": {},
     "output_type": "execute_result"
    }
   ],
   "source": [
    "df.head()"
   ]
  },
  {
   "attachments": {},
   "cell_type": "markdown",
   "metadata": {},
   "source": [
    "(but, note that your code will be evaluated on *different* data organized in a data frame with the same columns - so in your solution, you should not hard-code anything specific to this data.)"
   ]
  },
  {
   "attachments": {},
   "cell_type": "markdown",
   "metadata": {},
   "source": [
    "Now we will split into training and test sets, using `train_test_split`! \n",
    "\n",
    "* Reserve 20% of the data for testing.\n",
    "* Use the random state specified on the question page.\n",
    "\n",
    "The following cell should create \n",
    "\n",
    "* `Xtr` and `Xts` as pandas data frames including *only* the features used to train the model, \n",
    "* and `ytr` and `yts` as either pandas data series or 1d numpy arrays containing the target variable. \n",
    "\n",
    "(For pandas data frames or data series, don't change the names of any columns.)"
   ]
  },
  {
   "cell_type": "code",
   "execution_count": 7,
   "metadata": {},
   "outputs": [],
   "source": [
    "#grade (write your code in this cell and DO NOT DELETE THIS LINE)\n",
    "df = df.drop('Address', axis=1)\n",
    "X = df.drop('Walkability_Score', axis=1)\n",
    "y = df['Walkability_Score']\n",
    "random_state = 5\n",
    "Xtr, Xts, ytr, yts = train_test_split(X, y, test_size=0.2, random_state=random_state)"
   ]
  },
  {
   "attachments": {},
   "cell_type": "markdown",
   "metadata": {},
   "source": [
    "Now we are ready to fit the `SVC`. Using \n",
    "\n",
    "* a linear kernel\n",
    "* the random state specified in the question page\n",
    "* and default settings for everything else, \n",
    "\n",
    "fit the model on the training data. Then, use it to make predictions for the test samples, and save this prediction in `yts_hat`. Evaluate the accuracy score of the model on the test data, and save this in `acc`."
   ]
  },
  {
   "cell_type": "code",
   "execution_count": 8,
   "metadata": {},
   "outputs": [],
   "source": [
    "#grade (write your code in this cell and DO NOT DELETE THIS LINE)\n",
    "model = SVC(kernel='linear', random_state=random_state)\n",
    "model.fit(Xtr, ytr)\n",
    "yts_hat = model.predict(Xts)\n",
    "acc = accuracy_score(yts, yts_hat)"
   ]
  },
  {
   "cell_type": "code",
   "execution_count": null,
   "metadata": {},
   "outputs": [],
   "source": []
  }
 ],
 "metadata": {
  "kernelspec": {
   "display_name": "Python 3 (ipykernel)",
   "language": "python",
   "name": "python3"
  },
  "language_info": {
   "codemirror_mode": {
    "name": "ipython",
    "version": 3
   },
   "file_extension": ".py",
   "mimetype": "text/x-python",
   "name": "python",
   "nbconvert_exporter": "python",
   "pygments_lexer": "ipython3",
   "version": "3.12.9"
  },
  "vscode": {
   "interpreter": {
    "hash": "916dbcbb3f70747c44a77c7bcd40155683ae19c65e1c03b4aa3499c5328201f1"
   }
  }
 },
 "nbformat": 4,
 "nbformat_minor": 4
}
