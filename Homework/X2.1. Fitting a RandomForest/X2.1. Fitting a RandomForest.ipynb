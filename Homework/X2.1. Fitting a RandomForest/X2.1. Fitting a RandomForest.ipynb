{
 "cells": [
  {
   "attachments": {},
   "cell_type": "markdown",
   "metadata": {},
   "source": [
    "## Train a `RandomForestRegressor`"
   ]
  },
  {
   "cell_type": "markdown",
   "metadata": {},
   "source": [
    "You have been hired by a food delivery startup to optimize the way that jobs are assigned to drivers. They want you to develop a predictive model to estimate the how long it is likely to take for a restaurant to prepare an order.\n",
    "\n",
    "You have been provided with a dataset from previous orders. Each sample includes the following columns, with values given as of the time that the order is placed:\n",
    "\n",
    "- `id` number of the order\n",
    "- `cost` of the order in dollars, excluding delivery fees and tip\n",
    "- `average_cost` of an order at that restaurant, over the previous week\n",
    "- `average_time_wk` is the average time in minutes taken to prepare an order at that restaurant, over the previous week\n",
    "- `average_time_hr` is the average time in minutes taken to prepare an order at that restaurant, over the previous hour\n",
    "- `has_drive_thru` (1 or 0, indicating whether or not the restaurant has a drive-through order window)\n",
    "- `unfulfilled_orders` is the number of orders that have been placed at that restaurant, but not yet prepared (excluding this one)\n",
    "- `time` is the actual time in minutes it took to prepare the order\n",
    "\n",
    "In the attached workspace, you will read this data from a file, and split it into training and test sets. Then, you will fit a `RandomForestRegressor` (using the `sklearn` implementation, you may refer to its documentation [here](https://scikit-learn.org/stable/modules/generated/sklearn.ensemble.RandomForestRegressor.html)) on the training set, and evaluate its accuracy in predicting `time` on the test set.\n",
    "\n",
    "You'll need to specify this random state in your notebook:\n",
    "\n",
    "> random_state = 29\n",
    "\n",
    "The following items will be graded:\n",
    "| Name | Type | Description |\n",
    "| ---- | ---- | ---- |\n",
    "|`Xtr`\t|pandas dataframe\t|Training data - features.|\n",
    "|`Xts`\t|pandas dataframe\t|Test data - features.|\n",
    "|`ytr`\t|pandas series OR pandas data frame OR 1d numpy array\t|Training data - target variable.|\n",
    "|`yts`\t|pandas series OR pandas data frame OR 1d numpy array\t|Test data - target variable.|\n",
    "|`yts_hat`\t|1d numpy array\t|Model prediction for test data.\n",
    "|`rsq`\t|float\t|R2 of model on test data.|\n"
   ]
  },
  {
   "cell_type": "code",
   "execution_count": 20,
   "metadata": {},
   "outputs": [],
   "source": [
    "import numpy as np\n",
    "import pandas as pd\n",
    "from sklearn.model_selection import train_test_split\n",
    "from sklearn.ensemble import RandomForestRegressor\n",
    "from sklearn.metrics import r2_score"
   ]
  },
  {
   "attachments": {},
   "cell_type": "markdown",
   "metadata": {},
   "source": [
    "In this question, we will try to predict the time it will take for an order to be delivered.\n",
    "\n",
    "First, we'll load the dataset:"
   ]
  },
  {
   "cell_type": "code",
   "execution_count": 21,
   "metadata": {},
   "outputs": [],
   "source": [
    "df = pd.read_csv('data.csv', names=['id', 'cost', 'average_cost', 'average_time_wk', 'average_time_hr', 'has_drive_thru', 'unfulfilled_orders', 'time'], header=None, index_col='id')"
   ]
  },
  {
   "cell_type": "markdown",
   "metadata": {},
   "source": [
    "You can add some code here to inspect the data, see the names of features, and see the data types - the cell below will not be graded."
   ]
  },
  {
   "cell_type": "code",
   "execution_count": 22,
   "metadata": {},
   "outputs": [
    {
     "data": {
      "text/html": [
       "<div>\n",
       "<style scoped>\n",
       "    .dataframe tbody tr th:only-of-type {\n",
       "        vertical-align: middle;\n",
       "    }\n",
       "\n",
       "    .dataframe tbody tr th {\n",
       "        vertical-align: top;\n",
       "    }\n",
       "\n",
       "    .dataframe thead th {\n",
       "        text-align: right;\n",
       "    }\n",
       "</style>\n",
       "<table border=\"1\" class=\"dataframe\">\n",
       "  <thead>\n",
       "    <tr style=\"text-align: right;\">\n",
       "      <th></th>\n",
       "      <th>cost</th>\n",
       "      <th>average_cost</th>\n",
       "      <th>average_time_wk</th>\n",
       "      <th>average_time_hr</th>\n",
       "      <th>has_drive_thru</th>\n",
       "      <th>unfulfilled_orders</th>\n",
       "      <th>time</th>\n",
       "    </tr>\n",
       "    <tr>\n",
       "      <th>id</th>\n",
       "      <th></th>\n",
       "      <th></th>\n",
       "      <th></th>\n",
       "      <th></th>\n",
       "      <th></th>\n",
       "      <th></th>\n",
       "      <th></th>\n",
       "    </tr>\n",
       "  </thead>\n",
       "  <tbody>\n",
       "    <tr>\n",
       "      <th>1375.0</th>\n",
       "      <td>9.595529</td>\n",
       "      <td>12.929266</td>\n",
       "      <td>24.808019</td>\n",
       "      <td>28.140299</td>\n",
       "      <td>1.0</td>\n",
       "      <td>2.581362</td>\n",
       "      <td>21.885150</td>\n",
       "    </tr>\n",
       "    <tr>\n",
       "      <th>1376.0</th>\n",
       "      <td>58.069832</td>\n",
       "      <td>38.395697</td>\n",
       "      <td>62.905777</td>\n",
       "      <td>103.955612</td>\n",
       "      <td>0.0</td>\n",
       "      <td>4.882039</td>\n",
       "      <td>85.343048</td>\n",
       "    </tr>\n",
       "    <tr>\n",
       "      <th>1377.0</th>\n",
       "      <td>16.364309</td>\n",
       "      <td>16.678048</td>\n",
       "      <td>36.988889</td>\n",
       "      <td>54.138861</td>\n",
       "      <td>1.0</td>\n",
       "      <td>5.846501</td>\n",
       "      <td>42.501774</td>\n",
       "    </tr>\n",
       "    <tr>\n",
       "      <th>1378.0</th>\n",
       "      <td>10.411111</td>\n",
       "      <td>20.756315</td>\n",
       "      <td>36.531330</td>\n",
       "      <td>59.250801</td>\n",
       "      <td>1.0</td>\n",
       "      <td>5.673834</td>\n",
       "      <td>51.074250</td>\n",
       "    </tr>\n",
       "    <tr>\n",
       "      <th>1379.0</th>\n",
       "      <td>6.501663</td>\n",
       "      <td>21.792520</td>\n",
       "      <td>41.203542</td>\n",
       "      <td>56.736735</td>\n",
       "      <td>1.0</td>\n",
       "      <td>5.142906</td>\n",
       "      <td>50.419929</td>\n",
       "    </tr>\n",
       "  </tbody>\n",
       "</table>\n",
       "</div>"
      ],
      "text/plain": [
       "             cost  average_cost  average_time_wk  average_time_hr  \\\n",
       "id                                                                  \n",
       "1375.0   9.595529     12.929266        24.808019        28.140299   \n",
       "1376.0  58.069832     38.395697        62.905777       103.955612   \n",
       "1377.0  16.364309     16.678048        36.988889        54.138861   \n",
       "1378.0  10.411111     20.756315        36.531330        59.250801   \n",
       "1379.0   6.501663     21.792520        41.203542        56.736735   \n",
       "\n",
       "        has_drive_thru  unfulfilled_orders       time  \n",
       "id                                                     \n",
       "1375.0             1.0            2.581362  21.885150  \n",
       "1376.0             0.0            4.882039  85.343048  \n",
       "1377.0             1.0            5.846501  42.501774  \n",
       "1378.0             1.0            5.673834  51.074250  \n",
       "1379.0             1.0            5.142906  50.419929  "
      ]
     },
     "execution_count": 22,
     "metadata": {},
     "output_type": "execute_result"
    }
   ],
   "source": [
    "df.head()"
   ]
  },
  {
   "attachments": {},
   "cell_type": "markdown",
   "metadata": {},
   "source": [
    "(but, note that your code will be evaluated on *different* data organized in a data frame with the same columns - so in your solution, you should not hard-code anything specific to this data.)"
   ]
  },
  {
   "attachments": {},
   "cell_type": "markdown",
   "metadata": {},
   "source": [
    "Now we will split into training and test sets, using `train_test_split`! \n",
    "\n",
    "* Reserve 20% of the data for testing.\n",
    "* Use the random state specified on the question page.\n",
    "\n",
    "The following cell should create \n",
    "\n",
    "* `Xtr` and `Xts` as pandas data frames including only the features, \n",
    "* and `ytr` and `yts` as either pandas data series or 1d numpy arrays containing the target variable. "
   ]
  },
  {
   "cell_type": "code",
   "execution_count": 23,
   "metadata": {},
   "outputs": [],
   "source": [
    "#grade (write your code in this cell and DO NOT DELETE THIS LINE)\n",
    "features = ['cost', 'average_cost', 'average_time_wk', 'average_time_hr', 'has_drive_thru', 'unfulfilled_orders']\n",
    "target = ['time']\n",
    "X = df[features]\n",
    "y = df[target]\n",
    "random_state = 29\n",
    "Xtr, Xts, ytr, yts = train_test_split(X, y, test_size = 0.2, random_state = random_state)"
   ]
  },
  {
   "attachments": {},
   "cell_type": "markdown",
   "metadata": {},
   "source": [
    "Now we are ready to fit the `RandomForestRegressor`. Using \n",
    "\n",
    "* the random state specified in the question page\n",
    "* and setting the number of trees in the forest to 10\n",
    "* and the default settings otherwise, \n",
    "\n",
    "fit the model on the training data. Then, use it to make predictions for the test samples, and save this prediction in `yts_hat`. Evaluate the R2 score of the model on the test data, and save this in `rsq`."
   ]
  },
  {
   "cell_type": "code",
   "execution_count": 24,
   "metadata": {},
   "outputs": [
    {
     "name": "stderr",
     "output_type": "stream",
     "text": [
      "/opt/conda/lib/python3.12/site-packages/sklearn/base.py:1389: DataConversionWarning: A column-vector y was passed when a 1d array was expected. Please change the shape of y to (n_samples,), for example using ravel().\n",
      "  return fit_method(estimator, *args, **kwargs)\n"
     ]
    }
   ],
   "source": [
    "#grade (write your code in this cell and DO NOT DELETE THIS LINE)\n",
    "model = RandomForestRegressor(n_estimators=10, random_state = random_state)\n",
    "model.fit(Xtr, ytr)\n",
    "yts_hat = model.predict(Xts)\n",
    "rsq = r2_score(yts, yts_hat)"
   ]
  },
  {
   "cell_type": "code",
   "execution_count": null,
   "metadata": {},
   "outputs": [],
   "source": []
  }
 ],
 "metadata": {
  "kernelspec": {
   "display_name": "Python 3 (ipykernel)",
   "language": "python",
   "name": "python3"
  },
  "language_info": {
   "codemirror_mode": {
    "name": "ipython",
    "version": 3
   },
   "file_extension": ".py",
   "mimetype": "text/x-python",
   "name": "python",
   "nbconvert_exporter": "python",
   "pygments_lexer": "ipython3",
   "version": "3.12.9"
  },
  "vscode": {
   "interpreter": {
    "hash": "916dbcbb3f70747c44a77c7bcd40155683ae19c65e1c03b4aa3499c5328201f1"
   }
  }
 },
 "nbformat": 4,
 "nbformat_minor": 4
}
