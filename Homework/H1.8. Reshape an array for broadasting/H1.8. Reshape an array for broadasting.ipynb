{
 "cells": [
  {
   "attachments": {},
   "cell_type": "markdown",
   "metadata": {},
   "source": [
    "# Reshaping arrays to enable operations by broadcasting"
   ]
  },
  {
   "cell_type": "markdown",
   "metadata": {},
   "source": [
    "In the attached workspace, `x` is a numpy array with shape (70,) and `y` is a numpy array with shape (1,9).\n",
    "\n",
    "You want to perform the operation `z = y + x`, where the result is an array with shape (70,9) and each column in `z` is the result of adding a different value in `y` to all values in `x`. However, your initial attempt raises an error:\n",
    "\n",
    "> ValueError: operands could not be broadcast together with shapes (1,9) (70,)\n",
    "\n",
    "In the graded cell, use [reshape](https://numpy.org/doc/stable/reference/generated/numpy.reshape.html) to modify the dimension of `x` and/or `y` to enable the addition operation by broadcasting. (Use your knowledge of the broadcasting 'rules' to determine what shape you will need!)\n",
    "\n",
    "Solve using one line of code, with no explicit `for` loops or other control structures.\n",
    "\n",
    "In the notebook attached to this example, your code should produce the following result:\n",
    "\n",
    "|Name\t|Type\t|Description|\n",
    "|---|---|---|\n",
    "|`z`\t|2d numpy array|\tResult of y + x.|"
   ]
  },
  {
   "cell_type": "code",
   "execution_count": 1,
   "metadata": {},
   "outputs": [],
   "source": [
    "import numpy as np"
   ]
  },
  {
   "attachments": {},
   "cell_type": "markdown",
   "metadata": {},
   "source": [
    "The following cell creates arrays `x` and `y` (not the same arrays that your solution will be graded on, but the dimensions are the same! So you can use it to test your work.)"
   ]
  },
  {
   "cell_type": "code",
   "execution_count": 2,
   "metadata": {},
   "outputs": [],
   "source": [
    "x = np.random.randint(-100, 100, size=(70,))\n",
    "y = np.random.randint(60, 100, size=(1, 9))"
   ]
  },
  {
   "attachments": {},
   "cell_type": "markdown",
   "metadata": {},
   "source": [
    "In the graded cell define a variable `z` by adding `y` and `x`. You will have to `reshape` either `y` and/or `x` in order to enable the broadcasting operation to work.\n"
   ]
  },
  {
   "cell_type": "code",
   "execution_count": 3,
   "metadata": {},
   "outputs": [],
   "source": [
    "#grade (write your code in this cell and DO NOT DELETE THIS LINE)\n",
    "z = y + x.reshape(70, 1)"
   ]
  },
  {
   "cell_type": "code",
   "execution_count": null,
   "metadata": {},
   "outputs": [],
   "source": []
  }
 ],
 "metadata": {
  "kernelspec": {
   "display_name": "Python 3",
   "language": "python",
   "name": "python3"
  },
  "language_info": {
   "codemirror_mode": {
    "name": "ipython",
    "version": 3
   },
   "file_extension": ".py",
   "mimetype": "text/x-python",
   "name": "python",
   "nbconvert_exporter": "python",
   "pygments_lexer": "ipython3",
   "version": "3.11.5"
  }
 },
 "nbformat": 4,
 "nbformat_minor": 4
}
