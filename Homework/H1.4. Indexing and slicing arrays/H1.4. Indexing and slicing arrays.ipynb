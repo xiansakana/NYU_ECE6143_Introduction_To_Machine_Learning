{
 "cells": [
  {
   "attachments": {},
   "cell_type": "markdown",
   "metadata": {},
   "source": [
    "# Indexing and slicing arrays"
   ]
  },
  {
   "cell_type": "markdown",
   "metadata": {},
   "source": [
    "In the attached workspace, x is a numpy array with shape: `(18,8)`.\n",
    "\n",
    "In the graded cell define a variable `y` by indexing and/or slicing `x`, so that `y` is the last 3 columns of `x`.\n",
    "\n",
    "Solve using one line of code, with no explicit `for` loops or other control structures.\n",
    "\n",
    "In the notebook attached to this example, your code should produce the following result:\n",
    "\n",
    "|Name\t|Type\t|Description|\n",
    "|---|---|---|\n",
    "|`y`\t|2D numpy array|\tSlice of x as specified.|\n"
   ]
  },
  {
   "cell_type": "code",
   "execution_count": 6,
   "metadata": {},
   "outputs": [],
   "source": [
    "import numpy as np"
   ]
  },
  {
   "attachments": {},
   "cell_type": "markdown",
   "metadata": {},
   "source": [
    "The following cell creates an array of shape `(18,8)` (it's not the same array that your solution will be graded on, but its dimensions are the same! So you can use it to test your work.)"
   ]
  },
  {
   "cell_type": "code",
   "execution_count": 7,
   "metadata": {},
   "outputs": [],
   "source": [
    "x = np.random.randint(-100, 100, size=(18,8))"
   ]
  },
  {
   "attachments": {},
   "cell_type": "markdown",
   "metadata": {},
   "source": [
    "In the graded cell define a variable `y` by indexing and/or slicing `x`, so that `y` is the last 3 columns of <code>x</code>.</p>\n"
   ]
  },
  {
   "cell_type": "code",
   "execution_count": 8,
   "metadata": {},
   "outputs": [],
   "source": [
    "#grade (write your code in this cell and DO NOT DELETE THIS LINE)\n",
    "y = x[: ,-3:]\n",
    "\n"
   ]
  },
  {
   "cell_type": "markdown",
   "metadata": {},
   "source": [
    "You can check your work by looking at the output in the next cell:"
   ]
  },
  {
   "cell_type": "code",
   "execution_count": 9,
   "metadata": {},
   "outputs": [
    {
     "data": {
      "text/plain": [
       "array([[ 70,  15, -72],\n",
       "       [ -8,   7,  26],\n",
       "       [-67, -13, -85],\n",
       "       [  4, -41,  17],\n",
       "       [ 85,  36,  74],\n",
       "       [-35, -58, -13],\n",
       "       [-38, -68,  16],\n",
       "       [-76, -89,  57],\n",
       "       [ 93,  90, -61],\n",
       "       [-97, -77, -90],\n",
       "       [ 68,  35,  65],\n",
       "       [ 52,  50, -92],\n",
       "       [ 10,   6,  70],\n",
       "       [-74, -92, -54],\n",
       "       [ 86,   2, -91],\n",
       "       [-92, -45,  62],\n",
       "       [-67,  77,  44],\n",
       "       [  8, -35,  38]], dtype=int32)"
      ]
     },
     "execution_count": 9,
     "metadata": {},
     "output_type": "execute_result"
    }
   ],
   "source": [
    "y"
   ]
  },
  {
   "attachments": {},
   "cell_type": "markdown",
   "metadata": {},
   "source": [
    "As a basic sanity check, make sure that `y` has shape `(18,3)`."
   ]
  },
  {
   "cell_type": "code",
   "execution_count": 10,
   "metadata": {},
   "outputs": [
    {
     "data": {
      "text/plain": [
       "(18, 3)"
      ]
     },
     "execution_count": 10,
     "metadata": {},
     "output_type": "execute_result"
    }
   ],
   "source": [
    "y.shape"
   ]
  },
  {
   "cell_type": "code",
   "execution_count": null,
   "metadata": {},
   "outputs": [],
   "source": []
  }
 ],
 "metadata": {
  "kernelspec": {
   "display_name": "Python 3 (ipykernel)",
   "language": "python",
   "name": "python3"
  },
  "language_info": {
   "codemirror_mode": {
    "name": "ipython",
    "version": 3
   },
   "file_extension": ".py",
   "mimetype": "text/x-python",
   "name": "python",
   "nbconvert_exporter": "python",
   "pygments_lexer": "ipython3",
   "version": "3.11.6"
  }
 },
 "nbformat": 4,
 "nbformat_minor": 4
}
