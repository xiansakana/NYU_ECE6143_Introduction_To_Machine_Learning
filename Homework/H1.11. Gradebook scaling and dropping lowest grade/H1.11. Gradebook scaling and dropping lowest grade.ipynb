{
 "cells": [
  {
   "cell_type": "markdown",
   "metadata": {},
   "source": [
    "# Computation using numpy functions"
   ]
  },
  {
   "cell_type": "markdown",
   "metadata": {},
   "source": [
    "The workspace at the link below has a notebook with which you will read in some data from a (fictional) previous section of ECE-GY 6143. The data records the exam scores of each of 50 students on 4 exams.\n",
    "\n",
    "Then, you will use **numpy** functions to compute the overall course grades according to the following grading scheme:\n",
    "\n",
    "- First, for each exam, shift student grades up (if required) so that the maximum score on the exam is exactly 100. For example, if the highest grade on Exam 0 was a 90, add 10 points to everyone's score on Exam 0.\n",
    "- Each student's course grade should be their average exam grade (after the adjustment described above), with their lowest exam grade dropped. For example, if a student's (adjusted) exam grades are\n",
    "    > [71, 73, 81, 93]\n",
    "\n",
    "then that student's course grade should be 82.333.\n",
    "\n",
    "For full credit, implement your solution using efficient **numpy** functions without any explicit **for** loop, in exactly two lines of code. Don't hard-code any values - write code that will work for any comparable dataset, not only this one. (The grader will evaluate your code on a different data set.)\n",
    "\n",
    "| Name\t| Type\t| Description |\n",
    "| --- | --- | --- |\n",
    "**adjusted_x** |\t2d numpy array |\tAdjusted exam scores, curved so that the highest grade per exam is exactly 100.\n",
    "**grades** |\t1d numpy array (length 50) |\tPer-student overall course grade"
   ]
  },
  {
   "cell_type": "code",
   "execution_count": 1,
   "metadata": {},
   "outputs": [],
   "source": [
    "import numpy as np\n"
   ]
  },
  {
   "cell_type": "markdown",
   "metadata": {},
   "source": [
    "Read in the data to a `numpy` array in `x`. If you want to, you can add code to the following cell to explore `x` (for example, see its shape).\n"
   ]
  },
  {
   "cell_type": "code",
   "execution_count": 2,
   "metadata": {},
   "outputs": [],
   "source": [
    "x = np.genfromtxt('data.csv',delimiter=',')"
   ]
  },
  {
   "cell_type": "markdown",
   "metadata": {},
   "source": [
    "Write exactly *two* lines of code to compute the 'adjusted' exam scores for all students, then to compute the overall course grades."
   ]
  },
  {
   "cell_type": "code",
   "execution_count": 3,
   "metadata": {},
   "outputs": [],
   "source": [
    "#grade (write your code in this cell and DO NOT DELETE THIS LINE)\n",
    "adjusted_x = x + 100 - np.max(x, axis=0)\n",
    "grades = np.mean(np.sort(adjusted_x)[:, 1:], axis=1)"
   ]
  },
  {
   "cell_type": "markdown",
   "metadata": {},
   "source": [
    "You can test your work by looking at the output in the next cells (which you can also modify as you like - these cells will not be graded):"
   ]
  },
  {
   "cell_type": "code",
   "execution_count": 4,
   "metadata": {},
   "outputs": [
    {
     "data": {
      "text/plain": [
       "array([[ 61.,  94., 100.,  63.],\n",
       "       [ 86.,  99.,  98.,  71.],\n",
       "       [ 84.,  78.,  70.,  80.],\n",
       "       [ 68.,  62.,  92.,  99.],\n",
       "       [ 98.,  82.,  85.,  94.],\n",
       "       [ 78.,  93.,  74.,  64.],\n",
       "       [ 64.,  98.,  97.,  85.],\n",
       "       [ 61.,  85.,  73.,  74.],\n",
       "       [ 86.,  77.,  88.,  84.],\n",
       "       [ 65.,  68.,  84.,  63.],\n",
       "       [ 71.,  73.,  87.,  77.],\n",
       "       [ 96.,  97.,  65.,  77.],\n",
       "       [ 82.,  61.,  90.,  99.],\n",
       "       [ 71.,  76.,  82.,  85.],\n",
       "       [ 94.,  83.,  76.,  79.],\n",
       "       [ 74.,  93.,  94., 100.],\n",
       "       [100.,  99.,  80.,  91.],\n",
       "       [ 88.,  86.,  94.,  69.],\n",
       "       [ 90.,  66.,  99.,  69.],\n",
       "       [ 68.,  64.,  95.,  89.],\n",
       "       [ 61.,  93.,  71.,  95.],\n",
       "       [100.,  62.,  80.,  77.],\n",
       "       [ 94.,  82.,  80.,  87.],\n",
       "       [ 84.,  71.,  64.,  83.],\n",
       "       [ 97.,  63.,  92.,  93.],\n",
       "       [ 65.,  77.,  64.,  84.],\n",
       "       [ 87.,  87.,  92.,  61.],\n",
       "       [ 93.,  84.,  88.,  94.],\n",
       "       [ 86.,  99.,  86.,  86.],\n",
       "       [ 65.,  93.,  74.,  75.],\n",
       "       [ 70.,  98.,  80.,  71.],\n",
       "       [ 91.,  89.,  99.,  98.],\n",
       "       [ 83.,  91.,  87.,  62.],\n",
       "       [ 66.,  63.,  80.,  68.],\n",
       "       [ 67.,  80.,  69.,  79.],\n",
       "       [ 79.,  81.,  65.,  92.],\n",
       "       [ 92.,  92.,  70.,  83.],\n",
       "       [ 78.,  96.,  76.,  61.],\n",
       "       [ 78.,  83.,  88.,  75.],\n",
       "       [100., 100.,  73.,  95.],\n",
       "       [ 93.,  87.,  76.,  62.],\n",
       "       [ 80.,  63.,  86.,  90.],\n",
       "       [100.,  70.,  71.,  85.],\n",
       "       [ 78.,  61.,  64.,  79.],\n",
       "       [ 63.,  86.,  80.,  87.],\n",
       "       [ 72.,  81.,  79.,  69.],\n",
       "       [ 91.,  86.,  84.,  95.],\n",
       "       [ 69.,  61.,  91.,  74.],\n",
       "       [ 75.,  69.,  75.,  77.],\n",
       "       [ 91.,  81.,  80.,  83.]])"
      ]
     },
     "execution_count": 4,
     "metadata": {},
     "output_type": "execute_result"
    }
   ],
   "source": [
    "adjusted_x\n"
   ]
  },
  {
   "cell_type": "code",
   "execution_count": 5,
   "metadata": {},
   "outputs": [
    {
     "data": {
      "text/plain": [
       "array([85.66666667, 94.33333333, 80.66666667, 86.33333333, 92.33333333,\n",
       "       81.66666667, 93.33333333, 77.33333333, 86.        , 72.33333333,\n",
       "       79.        , 90.        , 90.33333333, 81.        , 85.33333333,\n",
       "       95.66666667, 96.66666667, 89.33333333, 86.        , 84.        ,\n",
       "       86.33333333, 85.66666667, 87.66666667, 79.33333333, 94.        ,\n",
       "       75.33333333, 88.66666667, 91.66666667, 90.33333333, 80.66666667,\n",
       "       83.        , 96.        , 87.        , 71.33333333, 76.        ,\n",
       "       84.        , 89.        , 83.33333333, 83.        , 98.33333333,\n",
       "       85.33333333, 85.33333333, 85.33333333, 73.66666667, 84.33333333,\n",
       "       77.33333333, 90.66666667, 78.        , 75.66666667, 85.        ])"
      ]
     },
     "execution_count": 5,
     "metadata": {},
     "output_type": "execute_result"
    }
   ],
   "source": [
    "grades\n"
   ]
  },
  {
   "cell_type": "code",
   "execution_count": null,
   "metadata": {},
   "outputs": [],
   "source": []
  }
 ],
 "metadata": {
  "kernelspec": {
   "display_name": "Python 3",
   "language": "python",
   "name": "python3"
  },
  "language_info": {
   "codemirror_mode": {
    "name": "ipython",
    "version": 3
   },
   "file_extension": ".py",
   "mimetype": "text/x-python",
   "name": "python",
   "nbconvert_exporter": "python",
   "pygments_lexer": "ipython3",
   "version": "3.11.5"
  }
 },
 "nbformat": 4,
 "nbformat_minor": 4
}
