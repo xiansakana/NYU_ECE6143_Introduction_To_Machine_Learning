{
 "cells": [
  {
   "cell_type": "markdown",
   "metadata": {
    "id": "LNsV2yyFrGIs"
   },
   "source": [
    "# Selecting Logistic Regression Model with K-Fold CV"
   ]
  },
  {
   "cell_type": "markdown",
   "metadata": {},
   "source": [
    "In the attached workspace, you will use K-fold CV to select the regularization strength in an L1-regularized classification model. Then, you will fit the optimal model and evaluate it on a test set not used for model fitting.\n",
    "\n",
    "Name | Type\t| Description\n",
    "| ---- | ---- | ---- |\n",
    "|`score_mean`\t| 1d numpy array  |\tThe mean validation score for each model | in the K-fold CV.|\n",
    "|`C_best`\t|float\t|The value of the tuning parameter C that yields the best score on the validation data.|\n",
    "|`yhat_ts`\t|1d numpy array\t|1d numpy array containing the predictions of the best model for the test set.|\n",
    "|`score_ts`\t|float|\tThe score of the optimal model on the test set.|"
   ]
  },
  {
   "cell_type": "code",
   "execution_count": 1,
   "metadata": {
    "id": "LhRjDo48rGIt"
   },
   "outputs": [],
   "source": [
    "import pandas as pd\n",
    "import numpy as np\n",
    "from sklearn.feature_extraction.text import CountVectorizer\n",
    "from sklearn.metrics import accuracy_score, f1_score\n",
    "from sklearn.linear_model import LogisticRegression\n",
    "from sklearn.model_selection import train_test_split, KFold"
   ]
  },
  {
   "cell_type": "markdown",
   "metadata": {
    "id": "Z78jhR20rGIu"
   },
   "source": [
    "You are hired by a major social media platform to develop a machine learning model that will be used to clearly mark *satirical news\n",
    "articles* when they are shared on social media. \n",
    "\n",
    "To train your model, you are using a dataset of 9,000 headlines from [The Onion](https://www.theonion.com/) and 15,000 headlines scraped from [Not The Onion on Reddit](https://www.reddit.com/r/nottheonion/)."
   ]
  },
  {
   "cell_type": "markdown",
   "metadata": {},
   "source": [
    "First, load in the data:"
   ]
  },
  {
   "cell_type": "code",
   "execution_count": 2,
   "metadata": {
    "id": "Zj0UjAsTrGIv"
   },
   "outputs": [],
   "source": [
    "df = pd.read_csv(\"OnionOrNot.csv\")"
   ]
  },
  {
   "cell_type": "markdown",
   "metadata": {},
   "source": [
    "The data frame includes\n",
    "\n",
    "*  a `text` field, which has the text of the headline, \n",
    "* and a `label` field indicating if it is from The Onion (1) or not (0).\n"
   ]
  },
  {
   "cell_type": "code",
   "execution_count": 3,
   "metadata": {},
   "outputs": [
    {
     "data": {
      "text/html": [
       "<div>\n",
       "<style scoped>\n",
       "    .dataframe tbody tr th:only-of-type {\n",
       "        vertical-align: middle;\n",
       "    }\n",
       "\n",
       "    .dataframe tbody tr th {\n",
       "        vertical-align: top;\n",
       "    }\n",
       "\n",
       "    .dataframe thead th {\n",
       "        text-align: right;\n",
       "    }\n",
       "</style>\n",
       "<table border=\"1\" class=\"dataframe\">\n",
       "  <thead>\n",
       "    <tr style=\"text-align: right;\">\n",
       "      <th></th>\n",
       "      <th>text</th>\n",
       "      <th>label</th>\n",
       "    </tr>\n",
       "  </thead>\n",
       "  <tbody>\n",
       "    <tr>\n",
       "      <th>0</th>\n",
       "      <td>Entire Facebook Staff Laughs As Man Tightens P...</td>\n",
       "      <td>1</td>\n",
       "    </tr>\n",
       "    <tr>\n",
       "      <th>1</th>\n",
       "      <td>Muslim Woman Denied Soda Can for Fear She Coul...</td>\n",
       "      <td>0</td>\n",
       "    </tr>\n",
       "    <tr>\n",
       "      <th>2</th>\n",
       "      <td>Bold Move: Hulu Has Announced That They’re Gon...</td>\n",
       "      <td>1</td>\n",
       "    </tr>\n",
       "    <tr>\n",
       "      <th>3</th>\n",
       "      <td>Despondent Jeff Bezos Realizes He’ll Have To W...</td>\n",
       "      <td>1</td>\n",
       "    </tr>\n",
       "    <tr>\n",
       "      <th>4</th>\n",
       "      <td>For men looking for great single women, online...</td>\n",
       "      <td>1</td>\n",
       "    </tr>\n",
       "  </tbody>\n",
       "</table>\n",
       "</div>"
      ],
      "text/plain": [
       "                                                text  label\n",
       "0  Entire Facebook Staff Laughs As Man Tightens P...      1\n",
       "1  Muslim Woman Denied Soda Can for Fear She Coul...      0\n",
       "2  Bold Move: Hulu Has Announced That They’re Gon...      1\n",
       "3  Despondent Jeff Bezos Realizes He’ll Have To W...      1\n",
       "4  For men looking for great single women, online...      1"
      ]
     },
     "execution_count": 3,
     "metadata": {},
     "output_type": "execute_result"
    }
   ],
   "source": [
    "df.head()"
   ]
  },
  {
   "cell_type": "markdown",
   "metadata": {},
   "source": [
    "Because the data is scraped from Reddit, it's not very clean - some of the entries in `text` are not exactly a headline, and some include a subheading like \"The Onion - America's Finest News Source\" or equivalent (this is an example of data leakage! The target variable is \"leaked\" into the feature data.)\n",
    "\n",
    "For example:"
   ]
  },
  {
   "cell_type": "code",
   "execution_count": 4,
   "metadata": {},
   "outputs": [
    {
     "data": {
      "text/plain": [
       "\"The Onion Reviews 'Avengers: Age Of Ultron'\""
      ]
     },
     "execution_count": 4,
     "metadata": {},
     "output_type": "execute_result"
    }
   ],
   "source": [
    "df.iloc[26].text"
   ]
  },
  {
   "cell_type": "markdown",
   "metadata": {},
   "source": [
    "As a very basic cleaning step to address this, we will drop every row that has the word `onion` or `Onion` in it:"
   ]
  },
  {
   "cell_type": "code",
   "execution_count": 5,
   "metadata": {},
   "outputs": [],
   "source": [
    "df = df[~df.text.str.contains('nion')]"
   ]
  },
  {
   "cell_type": "markdown",
   "metadata": {},
   "source": [
    "To train a model, we will need to get this text into some kind of numeric representation. We will use a basic approach called \"bag of words\", that works as follows:\n",
    "\n",
    "0. (Optional) Remove the \"trivial\" words that you want to ignore, such as \"the\", \"an\", \"has\", etc. from the text.\n",
    "1. Compile a \"vocabulary\" - a list of all of the words in the dataset - with integer indices from 0 to $d-1$.\n",
    "2. Convert every sample into a $d$-dimensional vector $x$, by letting the $j$th coordinate of $x$ be the number of occurences of the $j$th words in the document. (This number is often called the \"term frequency\".)\n",
    "\n",
    "Now, we have a set of vectors - one for each sample - containing the frequency of each word."
   ]
  },
  {
   "cell_type": "markdown",
   "metadata": {},
   "source": [
    "For example, if we had two samples:\n",
    "\n",
    "```\n",
    "dog eats dog\n",
    "dog eats cat\n",
    "```\n",
    "\n",
    "our \"vocabulary\" might be\n",
    "\n",
    "```\n",
    "dog,0\n",
    "eats,1\n",
    "cat,2\n",
    "```\n",
    "\n",
    "and the two samples would be represented by the term frequencies\n",
    "\n",
    "```\n",
    "2,1,0\n",
    "1,1,1\n",
    "```"
   ]
  },
  {
   "cell_type": "markdown",
   "metadata": {},
   "source": [
    "There are more sophisticated ways of representing text, but this approach will work for now. We will use the `sklearn` implementation of this, which is called `CountVectorizer`. \n",
    "\n",
    "First, we will split the data into training and test sets:"
   ]
  },
  {
   "cell_type": "code",
   "execution_count": 6,
   "metadata": {},
   "outputs": [],
   "source": [
    "Xtr_str, Xts_str, ytr, yts = train_test_split(df['text'].values, df['label'].values, shuffle=True, random_state=42, test_size=0.3)"
   ]
  },
  {
   "cell_type": "markdown",
   "metadata": {},
   "source": [
    "Then, we'll create an instance of a `CountVectorizer`, specify the list of \"stop words\" to remove, and \"fit\" it using the text from the training set:"
   ]
  },
  {
   "cell_type": "code",
   "execution_count": 7,
   "metadata": {},
   "outputs": [],
   "source": [
    "vec = CountVectorizer(stop_words='english')\n",
    "Xtr_vec = vec.fit_transform(Xtr_str)\n",
    "Xts_vec = vec.transform(Xts_str)"
   ]
  },
  {
   "cell_type": "markdown",
   "metadata": {},
   "source": [
    "Now we have Xtr_vec and Xts_vec, the text of the headlines, in the form of a numeric array that we can use to train a LogisticRegression classifier. (Note that these arrays have a very large number of columns - one for every word in the vocabular! - so they are represented internally as a \"sparse\" matrix.)"
   ]
  },
  {
   "cell_type": "code",
   "execution_count": 8,
   "metadata": {},
   "outputs": [
    {
     "data": {
      "text/plain": [
       "(16485, 20635)"
      ]
     },
     "execution_count": 8,
     "metadata": {},
     "output_type": "execute_result"
    }
   ],
   "source": [
    "Xtr_vec.shape"
   ]
  },
  {
   "cell_type": "code",
   "execution_count": 9,
   "metadata": {},
   "outputs": [
    {
     "data": {
      "text/plain": [
       "(7066, 20635)"
      ]
     },
     "execution_count": 9,
     "metadata": {},
     "output_type": "execute_result"
    }
   ],
   "source": [
    "Xts_vec.shape"
   ]
  },
  {
   "cell_type": "markdown",
   "metadata": {},
   "source": [
    "(Optional: If you are interested, you can run\n",
    "\n",
    "```\n",
    "vec.vocabulary_\n",
    "```\n",
    "\n",
    "to see the \"vocabulary\".)"
   ]
  },
  {
   "cell_type": "code",
   "execution_count": null,
   "metadata": {},
   "outputs": [],
   "source": []
  },
  {
   "cell_type": "markdown",
   "metadata": {},
   "source": [
    "**Note**: when using a regularized model, we standardize the data if features do not share a common scale. In this case, all features are on the same scale (frequency) so we do *not* standardize."
   ]
  },
  {
   "cell_type": "markdown",
   "metadata": {},
   "source": [
    "Since many of the words will not be so relevant for predicting whether or not a headline is satirical, we can use L1 regularization to \"de-select\" some features."
   ]
  },
  {
   "cell_type": "markdown",
   "metadata": {
    "id": "0qs_Ffz4rGIv"
   },
   "source": [
    "In an `sklearn` `LogisticRegression`, the hyperparameter `C` controls the \"strength\" of the regularization term in the objective function. `C` is the **inverse** of the regularization strength; a greater value of `C` means the model is *less* regularized.\n",
    "\n",
    "We will evaluate models for the following values of `C`:"
   ]
  },
  {
   "cell_type": "code",
   "execution_count": 10,
   "metadata": {
    "id": "qyRyL0G4rGIv"
   },
   "outputs": [],
   "source": [
    "C_test = np.logspace(-1,3,20)"
   ]
  },
  {
   "cell_type": "markdown",
   "metadata": {
    "id": "bgfdNOnyrGIw"
   },
   "source": [
    "In the following cells, we are going to set up a K-fold CV to select a value of `C`.  First, we will set up an array to hold the results of each model in each fold. (Note that our K-fold CV will use 5 folds.)"
   ]
  },
  {
   "cell_type": "code",
   "execution_count": 11,
   "metadata": {
    "id": "cDTUJvF1rGIw"
   },
   "outputs": [],
   "source": [
    "nfold = 5\n",
    "score_val = np.zeros((len(C_test), nfold))"
   ]
  },
  {
   "attachments": {},
   "cell_type": "markdown",
   "metadata": {},
   "source": [
    "Now, create a KFold object using the `sklearn` implementation.\n",
    "\n",
    "* Use 5 folds (and don't shuffle the data inside the K-Fold CV). \n",
    "\n",
    "Use this to evalute an `sklearn` `LogisticRegression` regression model for each of the `C` values in `C_test`, and save the validation score inside `score_val`. In the `LogisticRegression`, \n",
    "\n",
    "* specify `solver = 'liblinear'`\n",
    "* specify `penalty = 'l1'`\n",
    "* specify `random_state = 42`\n",
    "\n",
    "and leave other hyperparameters and settings at their default values, expect for `C`.\n",
    "\n",
    "Also, we will use the F1 score (`f1_score` in `sklearn`) for model selection - i.e. we will select the model with the best validation F1 score, so:\n",
    "\n",
    "* inside your KFold, evaluate the `f1_score` and save the scores in `score_val`\n"
   ]
  },
  {
   "cell_type": "code",
   "execution_count": 12,
   "metadata": {
    "id": "YrExE062zb-U"
   },
   "outputs": [],
   "source": [
    "#grade (write your code in this cell and DO NOT DELETE THIS LINE)\n",
    "\n",
    "kf = KFold(n_splits=nfold, shuffle=False)\n",
    "\n",
    "# For each fold\n",
    "for ifold, (Itr, Ival) in enumerate(kf.split(Xtr_vec)):\n",
    "    # For each C in the list, fit a LogisticRegression model\n",
    "    for iC, C in enumerate(C_test):\n",
    "        clf  = LogisticRegression(random_state = 42, solver = 'liblinear', penalty='l1', C = C)\n",
    "        clf.fit(Xtr_vec[Itr], ytr[Itr])\n",
    "        yhat = clf.predict(Xtr_vec[Ival])\n",
    "        # update the appropriate entry in score_val\n",
    "        score_val[iC, ifold] = f1_score(ytr[Ival], yhat)"
   ]
  },
  {
   "attachments": {},
   "cell_type": "markdown",
   "metadata": {
    "id": "kbRkU6KFzh0B"
   },
   "source": [
    "Next, compute the mean validation score for each of the models, and identify the value of `C` with the best validation score."
   ]
  },
  {
   "cell_type": "code",
   "execution_count": 13,
   "metadata": {
    "colab": {
     "base_uri": "https://localhost:8080/"
    },
    "id": "9vHW4H0qzhJR",
    "outputId": "97b0b643-9f46-40cb-be1f-b9852cc62f13"
   },
   "outputs": [],
   "source": [
    "#grade (write your code in this cell and DO NOT DELETE THIS LINE)\n",
    "score_mean = np.mean(score_val, axis=1)\n",
    "C_best = C_test[np.argmax(score_mean)]"
   ]
  },
  {
   "attachments": {},
   "cell_type": "markdown",
   "metadata": {},
   "source": [
    "Use this visualization to review your work!"
   ]
  },
  {
   "cell_type": "code",
   "execution_count": 14,
   "metadata": {},
   "outputs": [
    {
     "data": {
      "image/png": "[encoded data removed]",
      "text/plain": [
       "<Figure size 640x480 with 1 Axes>"
      ]
     },
     "metadata": {},
     "output_type": "display_data"
    }
   ],
   "source": [
    "#grade (write your code in this cell and DO NOT DELETE THIS LINE)\n",
    "import matplotlib.pyplot as plt\n",
    "plt.scatter(C_test, score_mean);\n",
    "plt.xscale('log');\n",
    "plt.xlabel('C');\n",
    "plt.ylabel(\"Validation score\");"
   ]
  },
  {
   "attachments": {},
   "cell_type": "markdown",
   "metadata": {
    "id": "5h6aK0LWxwju"
   },
   "source": [
    "Using the `C` value you identified in the previous step (and the rest of the logistic regression parameters as specified earlier), fit a logistic regression model on the entire training set. Then, get its prediction on the test set in `y_hat`, and compute the score of the F1 score model on the test set."
   ]
  },
  {
   "cell_type": "code",
   "execution_count": 15,
   "metadata": {
    "id": "uERiNS8YyDpW"
   },
   "outputs": [],
   "source": [
    "#grade (write your code in this cell and DO NOT DELETE THIS LINE)\n",
    "clf_best  = LogisticRegression(random_state = 42, solver = 'liblinear', penalty='l1', C = C_best)\n",
    "clf_best.fit(Xtr_vec, ytr)\n",
    "yhat_ts = clf_best.predict(Xts_vec)\n",
    "score_ts = f1_score(yts, yhat_ts)"
   ]
  }
 ],
 "metadata": {
  "colab": {
   "collapsed_sections": [],
   "provenance": []
  },
  "kernelspec": {
   "display_name": "Python 3",
   "language": "python",
   "name": "python3"
  },
  "language_info": {
   "codemirror_mode": {
    "name": "ipython",
    "version": 3
   },
   "file_extension": ".py",
   "mimetype": "text/x-python",
   "name": "python",
   "nbconvert_exporter": "python",
   "pygments_lexer": "ipython3",
   "version": "3.11.5"
  }
 },
 "nbformat": 4,
 "nbformat_minor": 4
}
