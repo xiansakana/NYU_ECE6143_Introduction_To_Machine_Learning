{
 "cells": [
  {
   "attachments": {},
   "cell_type": "markdown",
   "metadata": {
    "id": "LNsV2yyFrGIs"
   },
   "source": [
    "# Autodiff"
   ]
  },
  {
   "cell_type": "markdown",
   "metadata": {},
   "source": [
    "We saw how the backpropagation algorithm can be used to find gradients for any neural network, as long as each step in its computational graph is differentiable. Working from the end of the computational graph (output) toward the beginning (input), we can use the chain rule to get the derivate of the output with respect to each weight.\n",
    "\n",
    "However, outside of [toy examples](https://colab.research.google.com/github/ffund/ml-notebooks/blob/master/notebooks/8-demo-backprop.ipynb), we don't train modern neural networks by working out these derivatives and then implementing them in code. Modern neural networks are enabled by frameworks for automatic differentiation (like Tensorflow and Pytorch), which build the computational graph and apply the backpropagation algorithm to it without us having to compute derivatives by hand.\n",
    "\n",
    "In this exercise, we will build our own very basic framework for **automatic differentiation**, to better understand how it works.\n",
    "\n",
    "|Name|\tType|\tDescription|\n",
    "| --- | --- | --- |\n",
    "|`sub`\t|function\t|Function to subtract two Variables|\n",
    "|`square`\t|function\t|Function to compute the square of a Variable|\n",
    "|`sigmoid`\t|function\t|Function to compute the sigmoid function of a Variable|\n",
    "|`wh`\t|instance of a Variable\t|Weight at hidden layer, with value and accumulated gradient|\n",
    "|`wo`\t|instance of a Variable\t|Weight at output layer, with value and accumulated gradient|\n",
    "|`L`\t|instance of a Variable\t|Loss, with value and accumulated gradient|"
   ]
  },
  {
   "cell_type": "code",
   "execution_count": 1,
   "metadata": {
    "id": "LhRjDo48rGIt"
   },
   "outputs": [],
   "source": [
    "import numpy as np\n",
    "from IPython.display import Image, display, SVG\n",
    "# utility functions I wrote for visualization\n",
    "from vis import vis_forward_pass, vis_backward_pass "
   ]
  },
  {
   "cell_type": "markdown",
   "metadata": {},
   "source": [
    "We saw how the backpropagation algorithm can be used to find gradients for any neural network, as long as each step in its computational graph is differentiable. Working from the end of the computational graph (output) toward the beginning (input), we can use the chain rule to get the derivate of the output with respect to each weight.\n",
    "\n",
    "However, outside of [toy examples](https://colab.research.google.com/github/ffund/ml-notebooks/blob/master/notebooks/8-demo-backprop.ipynb), we don't train modern neural networks by working out these derivatives and then implementing them in code.  Modern neural networks are enabled by frameworks for **automatic differentiation** (like Tensorflow and Pytorch), which build the computational graph and apply the backpropagation algorithm to it without us having to compute derivatives by hand.\n",
    "\n",
    "In this exercise, we will build our own very basic framework for automatic differentiation, to better understand how it works.\n"
   ]
  },
  {
   "cell_type": "markdown",
   "metadata": {},
   "source": [
    "### Build a Variable class and some operations"
   ]
  },
  {
   "attachments": {},
   "cell_type": "markdown",
   "metadata": {},
   "source": [
    "In our framework, a `Variable` will represent a node in the computational graph and holds these essential pieces of information:\n",
    "\n",
    "* `value` - the value of the variable.\n",
    "* `local_gradients` - the local derivative, i.e. the derivative of the operation that this node performs with respect to its arguments.\n",
    "* `accumulated_gradient` - the accumulated gradient we will compute in the backwards pass along the computational graph.\n",
    "\n",
    " (We'll also add a `name` attribute so that we can visualize our computational graph.)\n",
    "\n",
    "Here is our `Variable` class:"
   ]
  },
  {
   "cell_type": "code",
   "execution_count": 2,
   "metadata": {},
   "outputs": [],
   "source": [
    "class Variable:\n",
    "    def __init__(self, value, local_gradients=(), name=None):\n",
    "        self.value = value\n",
    "        self.local_gradients = local_gradients\n",
    "        self.accumulated_gradient = 0\n",
    "        self.name = name or f\"Var_{id(self)}\"\n"
   ]
  },
  {
   "attachments": {},
   "cell_type": "markdown",
   "metadata": {},
   "source": [
    "Of course, we want to support some operations on our variables. Let's implement addition (`add`) and multiplication (`mul`).\n",
    "\n",
    "For each operation, we should return a new instance of a `Variable` with:\n",
    "\n",
    "* the `value` that is the output of this operation for the forward pass on the computational graph,\n",
    "* and the `local_gradients` of this operation, that we can use for the backward pass on the computational graph."
   ]
  },
  {
   "cell_type": "code",
   "execution_count": 3,
   "metadata": {},
   "outputs": [],
   "source": [
    "def add(a, b):\n",
    "    \"Create the variable that results from adding two variables.\"\n",
    "    value = a.value + b.value\n",
    "    local_gradients = (\n",
    "        (a, 1),  # the local derivative with respect to a is 1\n",
    "        (b, 1)   # the local derivative with respect to b is 1\n",
    "    )\n",
    "    return Variable(value, local_gradients, name=f\"({a.name}+{b.name})\")\n",
    "\n",
    "def mul(a, b):\n",
    "    \"Create the variable that results from multiplying two variables.\"\n",
    "    value = a.value * b.value\n",
    "    local_gradients = (\n",
    "        (a, b.value), # the local derivative with respect to a is b.value\n",
    "        (b, a.value)  # the local derivative with respect to b is a.value\n",
    "    )\n",
    "    return Variable(value, local_gradients, name=f\"({a.name}*{b.name})\")\n"
   ]
  },
  {
   "attachments": {},
   "cell_type": "markdown",
   "metadata": {},
   "source": [
    "Now, we can use this basic framework to do a forward pass on a graph. We'll define two variables, `a` and `b`, and give them values:"
   ]
  },
  {
   "cell_type": "code",
   "execution_count": 4,
   "metadata": {},
   "outputs": [],
   "source": [
    "a = Variable(4, name='a')\n",
    "b = Variable(3, name='b')"
   ]
  },
  {
   "attachments": {},
   "cell_type": "markdown",
   "metadata": {},
   "source": [
    "Note that both of these have \"empty\" `local_gradients` and zero `accumulated_gradient`, to start:"
   ]
  },
  {
   "cell_type": "code",
   "execution_count": 5,
   "metadata": {},
   "outputs": [
    {
     "data": {
      "text/plain": [
       "((), ())"
      ]
     },
     "execution_count": 5,
     "metadata": {},
     "output_type": "execute_result"
    }
   ],
   "source": [
    "a.local_gradients, b.local_gradients"
   ]
  },
  {
   "cell_type": "code",
   "execution_count": 6,
   "metadata": {},
   "outputs": [
    {
     "data": {
      "text/plain": [
       "(0, 0)"
      ]
     },
     "execution_count": 6,
     "metadata": {},
     "output_type": "execute_result"
    }
   ],
   "source": [
    "a.accumulated_gradient, b.accumulated_gradient"
   ]
  },
  {
   "attachments": {},
   "cell_type": "markdown",
   "metadata": {},
   "source": [
    "If we `add` the variables:"
   ]
  },
  {
   "cell_type": "code",
   "execution_count": 7,
   "metadata": {},
   "outputs": [],
   "source": [
    "c = add(a, b)"
   ]
  },
  {
   "cell_type": "markdown",
   "metadata": {},
   "source": [
    "we get a new `Variable` whose `value` is the output of the \"forward pass\":\n"
   ]
  },
  {
   "cell_type": "code",
   "execution_count": 8,
   "metadata": {},
   "outputs": [
    {
     "data": {
      "text/plain": [
       "7"
      ]
     },
     "execution_count": 8,
     "metadata": {},
     "output_type": "execute_result"
    }
   ],
   "source": [
    "c.value"
   ]
  },
  {
   "cell_type": "markdown",
   "metadata": {},
   "source": [
    "and also has `local_gradients` with respect to the variables `a` and `b`:"
   ]
  },
  {
   "cell_type": "code",
   "execution_count": 9,
   "metadata": {},
   "outputs": [
    {
     "name": "stdout",
     "output_type": "stream",
     "text": [
      "Gradient with respect to a : 1\n",
      "Gradient with respect to b : 1\n"
     ]
    }
   ],
   "source": [
    "for grad in c.local_gradients:\n",
    "    print('Gradient with respect to', grad[0].name, ':', grad[1])"
   ]
  },
  {
   "cell_type": "code",
   "execution_count": 10,
   "metadata": {},
   "outputs": [
    {
     "data": {
      "image/svg+xml": [
       "<?xml version=\"1.0\" encoding=\"UTF-8\" standalone=\"no\"?>\n",
       "<!DOCTYPE svg PUBLIC \"-//W3C//DTD SVG 1.1//EN\"\n",
       " \"http://www.w3.org/Graphics/SVG/1.1/DTD/svg11.dtd\">\n",
       "<!-- Generated by graphviz version 12.2.1 (20241206.2353)\n",
       " -->\n",
       "<!-- Pages: 1 -->\n",
       "<svg width=\"200pt\" height=\"156pt\"\n",
       " viewBox=\"0.00 0.00 200.33 155.72\" xmlns=\"http://www.w3.org/2000/svg\" xmlns:xlink=\"http://www.w3.org/1999/xlink\">\n",
       "<g id=\"graph0\" class=\"graph\" transform=\"scale(1 1) rotate(0) translate(4 151.72)\">\n",
       "<polygon fill=\"white\" stroke=\"none\" points=\"-4,4 -4,-151.72 196.33,-151.72 196.33,4 -4,4\"/>\n",
       "<!-- (a+b) -->\n",
       "<g id=\"node1\" class=\"node\">\n",
       "<title>(a+b)</title>\n",
       "<ellipse fill=\"lightgreen\" stroke=\"lightgreen\" cx=\"95.66\" cy=\"-119.79\" rx=\"43.66\" ry=\"27.93\"/>\n",
       "<text text-anchor=\"middle\" x=\"95.66\" y=\"-122.24\" font-family=\"Helvetica,sans-Serif\" font-size=\"14.00\">(a+b)</text>\n",
       "<text text-anchor=\"middle\" x=\"95.66\" y=\"-106.49\" font-family=\"Helvetica,sans-Serif\" font-size=\"14.00\">= 7.000</text>\n",
       "</g>\n",
       "<!-- a -->\n",
       "<g id=\"node2\" class=\"node\">\n",
       "<title>a</title>\n",
       "<ellipse fill=\"lightgreen\" stroke=\"lightgreen\" cx=\"43.66\" cy=\"-27.93\" rx=\"43.66\" ry=\"27.93\"/>\n",
       "<text text-anchor=\"middle\" x=\"43.66\" y=\"-30.38\" font-family=\"Helvetica,sans-Serif\" font-size=\"14.00\">a</text>\n",
       "<text text-anchor=\"middle\" x=\"43.66\" y=\"-14.63\" font-family=\"Helvetica,sans-Serif\" font-size=\"14.00\">= 4.000</text>\n",
       "</g>\n",
       "<!-- a&#45;&gt;(a+b) -->\n",
       "<g id=\"edge1\" class=\"edge\">\n",
       "<title>a&#45;&gt;(a+b)</title>\n",
       "<path fill=\"none\" stroke=\"black\" d=\"M58.43,-54.44C63.64,-63.45 69.6,-73.75 75.2,-83.44\"/>\n",
       "<polygon fill=\"black\" stroke=\"black\" points=\"72.07,-85.01 80.11,-91.91 78.13,-81.5 72.07,-85.01\"/>\n",
       "</g>\n",
       "<!-- b -->\n",
       "<g id=\"node3\" class=\"node\">\n",
       "<title>b</title>\n",
       "<ellipse fill=\"lightgreen\" stroke=\"lightgreen\" cx=\"148.66\" cy=\"-27.93\" rx=\"43.66\" ry=\"27.93\"/>\n",
       "<text text-anchor=\"middle\" x=\"148.66\" y=\"-30.38\" font-family=\"Helvetica,sans-Serif\" font-size=\"14.00\">b</text>\n",
       "<text text-anchor=\"middle\" x=\"148.66\" y=\"-14.63\" font-family=\"Helvetica,sans-Serif\" font-size=\"14.00\">= 3.000</text>\n",
       "</g>\n",
       "<!-- b&#45;&gt;(a+b) -->\n",
       "<g id=\"edge2\" class=\"edge\">\n",
       "<title>b&#45;&gt;(a+b)</title>\n",
       "<path fill=\"none\" stroke=\"black\" d=\"M133.62,-54.44C128.3,-63.45 122.23,-73.75 116.52,-83.44\"/>\n",
       "<polygon fill=\"black\" stroke=\"black\" points=\"113.58,-81.52 111.52,-91.91 119.61,-85.08 113.58,-81.52\"/>\n",
       "</g>\n",
       "</g>\n",
       "</svg>\n"
      ],
      "text/plain": [
       "<graphviz.graphs.Digraph at 0x1d8fc984c50>"
      ]
     },
     "execution_count": 10,
     "metadata": {},
     "output_type": "execute_result"
    }
   ],
   "source": [
    "vis_forward_pass(c)"
   ]
  },
  {
   "cell_type": "markdown",
   "metadata": {},
   "source": [
    "Note: each node in this graph is its own `Variable`."
   ]
  },
  {
   "cell_type": "markdown",
   "metadata": {},
   "source": [
    "### Build the backward pass\n"
   ]
  },
  {
   "cell_type": "markdown",
   "metadata": {},
   "source": [
    "We will need a `get_gradients` function. It will operate as follows, using recursion:\n",
    "\n",
    "* First, it will start at the final output node of the computational graph. We will call `compute_gradients` on that output `Variable`. We will pass a `path_value` of 1 to `compute_gradients` - this is the gradient of that output `Variable` with respect to itself. As we traverse the graph, we will be accumulating the gradient *of this output variable* with respect to each node in the graph.\n",
    "* Inside the `compute_gradients` function, we get the `local_gradients` of the node and iterate over them - these are the child nodes of this node when traversing the graph for the backward pass. For each child node and the gradient with respect to that child node:\n",
    "  * we multiply the values along the edges: the `path_value` up until this node, times the `local_gradient` of this node with respect to this child.\n",
    "  * and then we add this to the `accumulated_gradient` of the child node - i.e. we will sum the path values for all paths to this child.\n",
    "  * finally, we call `compute_gradients` again on this *child* node, passing the `path_value` we have computed, to continue recursing on the graph.\n",
    "* When we reach the input nodes, they do not have any `local_gradients` so the recursion will end."
   ]
  },
  {
   "cell_type": "code",
   "execution_count": 11,
   "metadata": {},
   "outputs": [],
   "source": [
    "def get_gradients(output_variable):\n",
    "    \"\"\" Compute the first derivatives of `variable`\n",
    "    with respect to child variables.\n",
    "    \"\"\"\n",
    "\n",
    "    def compute_gradients(variable, path_value):\n",
    "        for child_variable, local_gradient in variable.local_gradients:\n",
    "            # \"Multiply the edges of a path\":\n",
    "            value_of_path_to_child = path_value * local_gradient\n",
    "            # \"Add together the different paths\":\n",
    "            child_variable.accumulated_gradient += value_of_path_to_child\n",
    "            # recurse through graph:\n",
    "            compute_gradients(child_variable, value_of_path_to_child)\n",
    "\n",
    "    # start here\n",
    "    compute_gradients(output_variable, path_value=1)\n",
    "    # (path_value=1 is from `variable` differentiated w.r.t. itself)\n",
    "    output_variable.accumulated_gradient = 1"
   ]
  },
  {
   "cell_type": "markdown",
   "metadata": {},
   "source": [
    "Let's try it now. We will use the example from Figure 20 in the lecture handout."
   ]
  },
  {
   "cell_type": "code",
   "execution_count": 12,
   "metadata": {},
   "outputs": [],
   "source": [
    "a = Variable(2, name='a')\n",
    "b = Variable(1, name='b')\n",
    "c = add(a, b)\n",
    "d = add(b, Variable(1, name='1'))\n",
    "e = mul(c, d)"
   ]
  },
  {
   "cell_type": "code",
   "execution_count": 13,
   "metadata": {},
   "outputs": [
    {
     "data": {
      "text/plain": [
       "6"
      ]
     },
     "execution_count": 13,
     "metadata": {},
     "output_type": "execute_result"
    }
   ],
   "source": [
    "e.value"
   ]
  },
  {
   "cell_type": "code",
   "execution_count": 14,
   "metadata": {},
   "outputs": [
    {
     "data": {
      "image/svg+xml": [
       "<?xml version=\"1.0\" encoding=\"UTF-8\" standalone=\"no\"?>\n",
       "<!DOCTYPE svg PUBLIC \"-//W3C//DTD SVG 1.1//EN\"\n",
       " \"http://www.w3.org/Graphics/SVG/1.1/DTD/svg11.dtd\">\n",
       "<!-- Generated by graphviz version 12.2.1 (20241206.2353)\n",
       " -->\n",
       "<!-- Pages: 1 -->\n",
       "<svg width=\"305pt\" height=\"248pt\"\n",
       " viewBox=\"0.00 0.00 305.33 247.58\" xmlns=\"http://www.w3.org/2000/svg\" xmlns:xlink=\"http://www.w3.org/1999/xlink\">\n",
       "<g id=\"graph0\" class=\"graph\" transform=\"scale(1 1) rotate(0) translate(4 243.58)\">\n",
       "<polygon fill=\"white\" stroke=\"none\" points=\"-4,4 -4,-243.58 301.33,-243.58 301.33,4 -4,4\"/>\n",
       "<!-- ((a+b)*(b+1)) -->\n",
       "<g id=\"node1\" class=\"node\">\n",
       "<title>((a+b)*(b+1))</title>\n",
       "<ellipse fill=\"lightgreen\" stroke=\"lightgreen\" cx=\"147.66\" cy=\"-211.65\" rx=\"67\" ry=\"27.93\"/>\n",
       "<text text-anchor=\"middle\" x=\"147.66\" y=\"-214.1\" font-family=\"Helvetica,sans-Serif\" font-size=\"14.00\">((a+b)*(b+1))</text>\n",
       "<text text-anchor=\"middle\" x=\"147.66\" y=\"-198.35\" font-family=\"Helvetica,sans-Serif\" font-size=\"14.00\">= 6.000</text>\n",
       "</g>\n",
       "<!-- (a+b) -->\n",
       "<g id=\"node2\" class=\"node\">\n",
       "<title>(a+b)</title>\n",
       "<ellipse fill=\"lightgreen\" stroke=\"lightgreen\" cx=\"95.66\" cy=\"-119.79\" rx=\"43.66\" ry=\"27.93\"/>\n",
       "<text text-anchor=\"middle\" x=\"95.66\" y=\"-122.24\" font-family=\"Helvetica,sans-Serif\" font-size=\"14.00\">(a+b)</text>\n",
       "<text text-anchor=\"middle\" x=\"95.66\" y=\"-106.49\" font-family=\"Helvetica,sans-Serif\" font-size=\"14.00\">= 3.000</text>\n",
       "</g>\n",
       "<!-- (a+b)&#45;&gt;((a+b)*(b+1)) -->\n",
       "<g id=\"edge1\" class=\"edge\">\n",
       "<title>(a+b)&#45;&gt;((a+b)*(b+1))</title>\n",
       "<path fill=\"none\" stroke=\"black\" d=\"M110.43,-146.3C115.45,-154.99 121.18,-164.88 126.6,-174.25\"/>\n",
       "<polygon fill=\"black\" stroke=\"black\" points=\"123.53,-175.93 131.56,-182.83 129.58,-172.42 123.53,-175.93\"/>\n",
       "</g>\n",
       "<!-- a -->\n",
       "<g id=\"node3\" class=\"node\">\n",
       "<title>a</title>\n",
       "<ellipse fill=\"lightgreen\" stroke=\"lightgreen\" cx=\"43.66\" cy=\"-27.93\" rx=\"43.66\" ry=\"27.93\"/>\n",
       "<text text-anchor=\"middle\" x=\"43.66\" y=\"-30.38\" font-family=\"Helvetica,sans-Serif\" font-size=\"14.00\">a</text>\n",
       "<text text-anchor=\"middle\" x=\"43.66\" y=\"-14.63\" font-family=\"Helvetica,sans-Serif\" font-size=\"14.00\">= 2.000</text>\n",
       "</g>\n",
       "<!-- a&#45;&gt;(a+b) -->\n",
       "<g id=\"edge2\" class=\"edge\">\n",
       "<title>a&#45;&gt;(a+b)</title>\n",
       "<path fill=\"none\" stroke=\"black\" d=\"M58.43,-54.44C63.64,-63.45 69.6,-73.75 75.2,-83.44\"/>\n",
       "<polygon fill=\"black\" stroke=\"black\" points=\"72.07,-85.01 80.11,-91.91 78.13,-81.5 72.07,-85.01\"/>\n",
       "</g>\n",
       "<!-- b -->\n",
       "<g id=\"node4\" class=\"node\">\n",
       "<title>b</title>\n",
       "<ellipse fill=\"lightgreen\" stroke=\"lightgreen\" cx=\"148.66\" cy=\"-27.93\" rx=\"43.66\" ry=\"27.93\"/>\n",
       "<text text-anchor=\"middle\" x=\"148.66\" y=\"-30.38\" font-family=\"Helvetica,sans-Serif\" font-size=\"14.00\">b</text>\n",
       "<text text-anchor=\"middle\" x=\"148.66\" y=\"-14.63\" font-family=\"Helvetica,sans-Serif\" font-size=\"14.00\">= 1.000</text>\n",
       "</g>\n",
       "<!-- b&#45;&gt;(a+b) -->\n",
       "<g id=\"edge3\" class=\"edge\">\n",
       "<title>b&#45;&gt;(a+b)</title>\n",
       "<path fill=\"none\" stroke=\"black\" d=\"M133.62,-54.44C128.3,-63.45 122.23,-73.75 116.52,-83.44\"/>\n",
       "<polygon fill=\"black\" stroke=\"black\" points=\"113.58,-81.52 111.52,-91.91 119.61,-85.08 113.58,-81.52\"/>\n",
       "</g>\n",
       "<!-- (b+1) -->\n",
       "<g id=\"node5\" class=\"node\">\n",
       "<title>(b+1)</title>\n",
       "<ellipse fill=\"lightgreen\" stroke=\"lightgreen\" cx=\"200.66\" cy=\"-119.79\" rx=\"43.66\" ry=\"27.93\"/>\n",
       "<text text-anchor=\"middle\" x=\"200.66\" y=\"-122.24\" font-family=\"Helvetica,sans-Serif\" font-size=\"14.00\">(b+1)</text>\n",
       "<text text-anchor=\"middle\" x=\"200.66\" y=\"-106.49\" font-family=\"Helvetica,sans-Serif\" font-size=\"14.00\">= 2.000</text>\n",
       "</g>\n",
       "<!-- b&#45;&gt;(b+1) -->\n",
       "<g id=\"edge5\" class=\"edge\">\n",
       "<title>b&#45;&gt;(b+1)</title>\n",
       "<path fill=\"none\" stroke=\"black\" d=\"M163.43,-54.44C168.64,-63.45 174.6,-73.75 180.2,-83.44\"/>\n",
       "<polygon fill=\"black\" stroke=\"black\" points=\"177.07,-85.01 185.11,-91.91 183.13,-81.5 177.07,-85.01\"/>\n",
       "</g>\n",
       "<!-- (b+1)&#45;&gt;((a+b)*(b+1)) -->\n",
       "<g id=\"edge4\" class=\"edge\">\n",
       "<title>(b+1)&#45;&gt;((a+b)*(b+1))</title>\n",
       "<path fill=\"none\" stroke=\"black\" d=\"M185.62,-146.3C180.49,-154.99 174.66,-164.88 169.13,-174.25\"/>\n",
       "<polygon fill=\"black\" stroke=\"black\" points=\"166.14,-172.45 164.07,-182.84 172.17,-176 166.14,-172.45\"/>\n",
       "</g>\n",
       "<!-- 1 -->\n",
       "<g id=\"node6\" class=\"node\">\n",
       "<title>1</title>\n",
       "<ellipse fill=\"lightgreen\" stroke=\"lightgreen\" cx=\"253.66\" cy=\"-27.93\" rx=\"43.66\" ry=\"27.93\"/>\n",
       "<text text-anchor=\"middle\" x=\"253.66\" y=\"-30.38\" font-family=\"Helvetica,sans-Serif\" font-size=\"14.00\">1</text>\n",
       "<text text-anchor=\"middle\" x=\"253.66\" y=\"-14.63\" font-family=\"Helvetica,sans-Serif\" font-size=\"14.00\">= 1.000</text>\n",
       "</g>\n",
       "<!-- 1&#45;&gt;(b+1) -->\n",
       "<g id=\"edge6\" class=\"edge\">\n",
       "<title>1&#45;&gt;(b+1)</title>\n",
       "<path fill=\"none\" stroke=\"black\" d=\"M238.62,-54.44C233.3,-63.45 227.23,-73.75 221.52,-83.44\"/>\n",
       "<polygon fill=\"black\" stroke=\"black\" points=\"218.58,-81.52 216.52,-91.91 224.61,-85.08 218.58,-81.52\"/>\n",
       "</g>\n",
       "</g>\n",
       "</svg>\n"
      ],
      "text/plain": [
       "<graphviz.graphs.Digraph at 0x1d8fcc42e10>"
      ]
     },
     "execution_count": 14,
     "metadata": {},
     "output_type": "execute_result"
    }
   ],
   "source": [
    "vis_forward_pass(e)"
   ]
  },
  {
   "cell_type": "code",
   "execution_count": 15,
   "metadata": {},
   "outputs": [],
   "source": [
    "get_gradients(e)"
   ]
  },
  {
   "cell_type": "code",
   "execution_count": 16,
   "metadata": {},
   "outputs": [
    {
     "data": {
      "text/plain": [
       "(2, 5)"
      ]
     },
     "execution_count": 16,
     "metadata": {},
     "output_type": "execute_result"
    }
   ],
   "source": [
    "(a.accumulated_gradient, b.accumulated_gradient)"
   ]
  },
  {
   "cell_type": "code",
   "execution_count": 17,
   "metadata": {},
   "outputs": [
    {
     "data": {
      "image/svg+xml": [
       "<?xml version=\"1.0\" encoding=\"UTF-8\" standalone=\"no\"?>\n",
       "<!DOCTYPE svg PUBLIC \"-//W3C//DTD SVG 1.1//EN\"\n",
       " \"http://www.w3.org/Graphics/SVG/1.1/DTD/svg11.dtd\">\n",
       "<!-- Generated by graphviz version 12.2.1 (20241206.2353)\n",
       " -->\n",
       "<!-- Pages: 1 -->\n",
       "<svg width=\"353pt\" height=\"276pt\"\n",
       " viewBox=\"0.00 0.00 353.24 276.08\" xmlns=\"http://www.w3.org/2000/svg\" xmlns:xlink=\"http://www.w3.org/1999/xlink\">\n",
       "<g id=\"graph0\" class=\"graph\" transform=\"scale(1 1) rotate(0) translate(4 272.08)\">\n",
       "<polygon fill=\"white\" stroke=\"none\" points=\"-4,4 -4,-272.08 349.24,-272.08 349.24,4 -4,4\"/>\n",
       "<!-- ((a+b)*(b+1)) -->\n",
       "<g id=\"node1\" class=\"node\">\n",
       "<title>((a+b)*(b+1))</title>\n",
       "<ellipse fill=\"lightgreen\" stroke=\"lightgreen\" cx=\"172.62\" cy=\"-240.15\" rx=\"67\" ry=\"27.93\"/>\n",
       "<text text-anchor=\"middle\" x=\"172.62\" y=\"-242.6\" font-family=\"Helvetica,sans-Serif\" font-size=\"14.00\">((a+b)*(b+1))</text>\n",
       "<text text-anchor=\"middle\" x=\"172.62\" y=\"-226.85\" font-family=\"Helvetica,sans-Serif\" font-size=\"14.00\"> ∇ 1.000</text>\n",
       "</g>\n",
       "<!-- (a+b) -->\n",
       "<g id=\"node2\" class=\"node\">\n",
       "<title>(a+b)</title>\n",
       "<ellipse fill=\"lightgreen\" stroke=\"lightgreen\" cx=\"112.62\" cy=\"-134.04\" rx=\"51.62\" ry=\"27.93\"/>\n",
       "<text text-anchor=\"middle\" x=\"112.62\" y=\"-136.49\" font-family=\"Helvetica,sans-Serif\" font-size=\"14.00\">(a+b)</text>\n",
       "<text text-anchor=\"middle\" x=\"112.62\" y=\"-120.74\" font-family=\"Helvetica,sans-Serif\" font-size=\"14.00\"> ∇ 2.000</text>\n",
       "</g>\n",
       "<!-- ((a+b)*(b+1))&#45;&gt;(a+b) -->\n",
       "<g id=\"edge1\" class=\"edge\">\n",
       "<title>((a+b)*(b+1))&#45;&gt;(a+b)</title>\n",
       "<path fill=\"none\" stroke=\"black\" d=\"M157.32,-212.61C150,-199.91 141.13,-184.52 133.23,-170.8\"/>\n",
       "<polygon fill=\"black\" stroke=\"black\" points=\"136.46,-169.4 128.43,-162.49 130.4,-172.9 136.46,-169.4\"/>\n",
       "<text text-anchor=\"middle\" x=\"161.21\" y=\"-182.82\" font-family=\"Helvetica,sans-Serif\" font-size=\"12.00\" fill=\"grey\">2.000</text>\n",
       "</g>\n",
       "<!-- (b+1) -->\n",
       "<g id=\"node5\" class=\"node\">\n",
       "<title>(b+1)</title>\n",
       "<ellipse fill=\"lightgreen\" stroke=\"lightgreen\" cx=\"233.62\" cy=\"-134.04\" rx=\"51.62\" ry=\"27.93\"/>\n",
       "<text text-anchor=\"middle\" x=\"233.62\" y=\"-136.49\" font-family=\"Helvetica,sans-Serif\" font-size=\"14.00\">(b+1)</text>\n",
       "<text text-anchor=\"middle\" x=\"233.62\" y=\"-120.74\" font-family=\"Helvetica,sans-Serif\" font-size=\"14.00\"> ∇ 3.000</text>\n",
       "</g>\n",
       "<!-- ((a+b)*(b+1))&#45;&gt;(b+1) -->\n",
       "<g id=\"edge4\" class=\"edge\">\n",
       "<title>((a+b)*(b+1))&#45;&gt;(b+1)</title>\n",
       "<path fill=\"none\" stroke=\"black\" d=\"M188.17,-212.61C195.61,-199.91 204.63,-184.52 212.67,-170.8\"/>\n",
       "<polygon fill=\"black\" stroke=\"black\" points=\"215.51,-172.88 217.54,-162.48 209.47,-169.34 215.51,-172.88\"/>\n",
       "<text text-anchor=\"middle\" x=\"221.77\" y=\"-182.82\" font-family=\"Helvetica,sans-Serif\" font-size=\"12.00\" fill=\"grey\">3.000</text>\n",
       "</g>\n",
       "<!-- a -->\n",
       "<g id=\"node3\" class=\"node\">\n",
       "<title>a</title>\n",
       "<ellipse fill=\"lightgreen\" stroke=\"lightgreen\" cx=\"51.62\" cy=\"-27.93\" rx=\"51.62\" ry=\"27.93\"/>\n",
       "<text text-anchor=\"middle\" x=\"51.62\" y=\"-30.38\" font-family=\"Helvetica,sans-Serif\" font-size=\"14.00\">a</text>\n",
       "<text text-anchor=\"middle\" x=\"51.62\" y=\"-14.63\" font-family=\"Helvetica,sans-Serif\" font-size=\"14.00\"> ∇ 2.000</text>\n",
       "</g>\n",
       "<!-- (a+b)&#45;&gt;a -->\n",
       "<g id=\"edge2\" class=\"edge\">\n",
       "<title>(a+b)&#45;&gt;a</title>\n",
       "<path fill=\"none\" stroke=\"black\" d=\"M97.38,-107.04C89.89,-94.24 80.73,-78.62 72.59,-64.72\"/>\n",
       "<polygon fill=\"black\" stroke=\"black\" points=\"75.71,-63.13 67.64,-56.27 69.67,-66.67 75.71,-63.13\"/>\n",
       "<text text-anchor=\"middle\" x=\"100.77\" y=\"-76.71\" font-family=\"Helvetica,sans-Serif\" font-size=\"12.00\" fill=\"grey\">1.000</text>\n",
       "</g>\n",
       "<!-- b -->\n",
       "<g id=\"node4\" class=\"node\">\n",
       "<title>b</title>\n",
       "<ellipse fill=\"lightgreen\" stroke=\"lightgreen\" cx=\"172.62\" cy=\"-27.93\" rx=\"51.62\" ry=\"27.93\"/>\n",
       "<text text-anchor=\"middle\" x=\"172.62\" y=\"-30.38\" font-family=\"Helvetica,sans-Serif\" font-size=\"14.00\">b</text>\n",
       "<text text-anchor=\"middle\" x=\"172.62\" y=\"-14.63\" font-family=\"Helvetica,sans-Serif\" font-size=\"14.00\"> ∇ 5.000</text>\n",
       "</g>\n",
       "<!-- (a+b)&#45;&gt;b -->\n",
       "<g id=\"edge3\" class=\"edge\">\n",
       "<title>(a+b)&#45;&gt;b</title>\n",
       "<path fill=\"none\" stroke=\"black\" d=\"M127.6,-107.04C134.98,-94.24 143.98,-78.62 151.99,-64.72\"/>\n",
       "<polygon fill=\"black\" stroke=\"black\" points=\"154.9,-66.69 156.86,-56.27 148.83,-63.19 154.9,-66.69\"/>\n",
       "<text text-anchor=\"middle\" x=\"161.21\" y=\"-76.71\" font-family=\"Helvetica,sans-Serif\" font-size=\"12.00\" fill=\"grey\">1.000</text>\n",
       "</g>\n",
       "<!-- (b+1)&#45;&gt;b -->\n",
       "<g id=\"edge5\" class=\"edge\">\n",
       "<title>(b+1)&#45;&gt;b</title>\n",
       "<path fill=\"none\" stroke=\"black\" d=\"M218.38,-107.04C210.89,-94.24 201.73,-78.62 193.59,-64.72\"/>\n",
       "<polygon fill=\"black\" stroke=\"black\" points=\"196.71,-63.13 188.64,-56.27 190.67,-66.67 196.71,-63.13\"/>\n",
       "<text text-anchor=\"middle\" x=\"221.77\" y=\"-76.71\" font-family=\"Helvetica,sans-Serif\" font-size=\"12.00\" fill=\"grey\">1.000</text>\n",
       "</g>\n",
       "<!-- 1 -->\n",
       "<g id=\"node6\" class=\"node\">\n",
       "<title>1</title>\n",
       "<ellipse fill=\"lightgreen\" stroke=\"lightgreen\" cx=\"293.62\" cy=\"-27.93\" rx=\"51.62\" ry=\"27.93\"/>\n",
       "<text text-anchor=\"middle\" x=\"293.62\" y=\"-30.38\" font-family=\"Helvetica,sans-Serif\" font-size=\"14.00\">1</text>\n",
       "<text text-anchor=\"middle\" x=\"293.62\" y=\"-14.63\" font-family=\"Helvetica,sans-Serif\" font-size=\"14.00\"> ∇ 3.000</text>\n",
       "</g>\n",
       "<!-- (b+1)&#45;&gt;1 -->\n",
       "<g id=\"edge6\" class=\"edge\">\n",
       "<title>(b+1)&#45;&gt;1</title>\n",
       "<path fill=\"none\" stroke=\"black\" d=\"M248.6,-107.04C255.98,-94.24 264.98,-78.62 272.99,-64.72\"/>\n",
       "<polygon fill=\"black\" stroke=\"black\" points=\"275.9,-66.69 277.86,-56.27 269.83,-63.19 275.9,-66.69\"/>\n",
       "<text text-anchor=\"middle\" x=\"282.21\" y=\"-76.71\" font-family=\"Helvetica,sans-Serif\" font-size=\"12.00\" fill=\"grey\">1.000</text>\n",
       "</g>\n",
       "</g>\n",
       "</svg>\n"
      ],
      "text/plain": [
       "<graphviz.graphs.Digraph at 0x1d8d6731850>"
      ]
     },
     "execution_count": 17,
     "metadata": {},
     "output_type": "execute_result"
    }
   ],
   "source": [
    "vis_backward_pass(e)"
   ]
  },
  {
   "cell_type": "markdown",
   "metadata": {},
   "source": [
    "(you can confirm that this matches Figure 22 in the lecture handout.)"
   ]
  },
  {
   "cell_type": "markdown",
   "metadata": {},
   "source": [
    "We have correctly computed the value in the forward pass and the backward pass. "
   ]
  },
  {
   "cell_type": "markdown",
   "metadata": {},
   "source": [
    "### Extend the framework"
   ]
  },
  {
   "attachments": {},
   "cell_type": "markdown",
   "metadata": {},
   "source": [
    "Using the framework we have developed so far, implement these additional operations, similar to the way `add` and `mul` are implemented above:\n",
    "\n",
    "* `sub` (subtract)\n",
    "* `square` (square)\n",
    "* `sigmoid`\n",
    "\n",
    "Each function should return a new `Variable` with a correct `value` and tuple of `local gradients`, as well as a `name`."
   ]
  },
  {
   "cell_type": "code",
   "execution_count": 18,
   "metadata": {},
   "outputs": [],
   "source": [
    "#grade (write your code in this cell and DO NOT DELETE THIS LINE)\n",
    "def sub(a, b):\n",
    "    \"Create the variable that results from subtracting a-b.\"\n",
    "    value = a.value - b.value\n",
    "    local_gradients = (\n",
    "        (a, 1),  # the local derivative with respect to a is 1\n",
    "        (b, -1)  # the local derivative with respect to b is -1\n",
    "    )\n",
    "    return Variable(value, local_gradients, name=f\"({a.name}-{b.name})\")"
   ]
  },
  {
   "attachments": {},
   "cell_type": "markdown",
   "metadata": {},
   "source": [
    "Note: for a function that takes a single input, `local_gradients` will have one element but should still be defined as a tuple. When you define `local_gradients`, you will use e.g. \n",
    "\n",
    "```\n",
    "local_gradients = (\n",
    "    (?, ?),\n",
    ")\n",
    "```\n",
    "\n",
    "with the comma being strictly required in order for it to be a tuple and not just a value."
   ]
  },
  {
   "cell_type": "code",
   "execution_count": 19,
   "metadata": {},
   "outputs": [],
   "source": [
    "#grade (write your code in this cell and DO NOT DELETE THIS LINE)\n",
    "def square(a):\n",
    "    \"Create the variable that results from squaring the variable a, i.e. a^2.\"\n",
    "    value = a.value ** 2\n",
    "    local_gradients = (\n",
    "        (a, 2 * a.value),  # the local derivative with respect to a is 2*a\n",
    "    )\n",
    "    return Variable(value, local_gradients, name=f\"({a.name}^2)\")"
   ]
  },
  {
   "cell_type": "code",
   "execution_count": 20,
   "metadata": {},
   "outputs": [],
   "source": [
    "#grade (write your code in this cell and DO NOT DELETE THIS LINE)\n",
    "def sigmoid(a):\n",
    "    \"Create the variable that results from applying a sigmoid function to a.\"\n",
    "    value = 1 / (1 + np.exp(-a.value))\n",
    "    local_gradients = (\n",
    "        (a, value * (1 - value)),  # the local derivative of sigmoid\n",
    "    )\n",
    "    return Variable(value, local_gradients, name=f\"sigmoid({a.name})\")"
   ]
  },
  {
   "attachments": {},
   "cell_type": "markdown",
   "metadata": {},
   "source": [
    "### Build a neural network"
   ]
  },
  {
   "attachments": {},
   "cell_type": "markdown",
   "metadata": {},
   "source": [
    "With these new operations, we can construct the computational graph shown in Figure 15 in the lecture handout, where:\n",
    "\n",
    "data sample - \n",
    "\n",
    "* let the value of `x` be 4\n",
    "* let the value of `y` be 1\n",
    "\n",
    "initial weights - \n",
    "\n",
    "* let the value of `wh` be -2\n",
    "* let the value of `wo` be 3\n",
    "\n",
    "activation and loss functions - \n",
    "\n",
    "* let the activation function at the hidden unit be sigmoid\n",
    "* let the activation function at the output unit be linear\n",
    "* use the mean squared error loss function: $(y-\\hat{y})^2$\n"
   ]
  },
  {
   "cell_type": "code",
   "execution_count": 21,
   "metadata": {},
   "outputs": [],
   "source": [
    "#grade (write your code in this cell and DO NOT DELETE THIS LINE)\n",
    "\n",
    "# Input Variables\n",
    "x = Variable(4, name='x')\n",
    "y = Variable(1, name='y')\n",
    "wh = Variable(-2, name='wh')\n",
    "wo = Variable(3, name='wo')\n",
    "\n",
    "# Variables created by operations on those input Variables\n",
    "zh = mul(x, wh)\n",
    "uh = sigmoid(zh)\n",
    "zo = mul(uh, wo)\n",
    "uo = zo\n",
    "L = square(sub(uo, y))"
   ]
  },
  {
   "attachments": {},
   "cell_type": "markdown",
   "metadata": {},
   "source": [
    "Visualize the forward pass:"
   ]
  },
  {
   "cell_type": "code",
   "execution_count": 22,
   "metadata": {},
   "outputs": [
    {
     "data": {
      "image/svg+xml": [
       "<?xml version=\"1.0\" encoding=\"UTF-8\" standalone=\"no\"?>\n",
       "<!DOCTYPE svg PUBLIC \"-//W3C//DTD SVG 1.1//EN\"\n",
       " \"http://www.w3.org/Graphics/SVG/1.1/DTD/svg11.dtd\">\n",
       "<!-- Generated by graphviz version 12.2.1 (20241206.2353)\n",
       " -->\n",
       "<!-- Pages: 1 -->\n",
       "<svg width=\"388pt\" height=\"523pt\"\n",
       " viewBox=\"0.00 0.00 387.83 523.17\" xmlns=\"http://www.w3.org/2000/svg\" xmlns:xlink=\"http://www.w3.org/1999/xlink\">\n",
       "<g id=\"graph0\" class=\"graph\" transform=\"scale(1 1) rotate(0) translate(4 519.17)\">\n",
       "<polygon fill=\"white\" stroke=\"none\" points=\"-4,4 -4,-519.17 383.83,-519.17 383.83,4 -4,4\"/>\n",
       "<!-- (((sigmoid((x*wh))*wo)&#45;y)^2) -->\n",
       "<g id=\"node1\" class=\"node\">\n",
       "<title>(((sigmoid((x*wh))*wo)&#45;y)^2)</title>\n",
       "<ellipse fill=\"lightgreen\" stroke=\"lightgreen\" cx=\"248.66\" cy=\"-487.24\" rx=\"131.17\" ry=\"27.93\"/>\n",
       "<text text-anchor=\"middle\" x=\"248.66\" y=\"-489.69\" font-family=\"Helvetica,sans-Serif\" font-size=\"14.00\">(((sigmoid((x*wh))*wo)&#45;y)^2)</text>\n",
       "<text text-anchor=\"middle\" x=\"248.66\" y=\"-473.94\" font-family=\"Helvetica,sans-Serif\" font-size=\"14.00\">= 0.998</text>\n",
       "</g>\n",
       "<!-- ((sigmoid((x*wh))*wo)&#45;y) -->\n",
       "<g id=\"node2\" class=\"node\">\n",
       "<title>((sigmoid((x*wh))*wo)&#45;y)</title>\n",
       "<ellipse fill=\"lightgreen\" stroke=\"lightgreen\" cx=\"248.66\" cy=\"-395.38\" rx=\"114.73\" ry=\"27.93\"/>\n",
       "<text text-anchor=\"middle\" x=\"248.66\" y=\"-397.83\" font-family=\"Helvetica,sans-Serif\" font-size=\"14.00\">((sigmoid((x*wh))*wo)&#45;y)</text>\n",
       "<text text-anchor=\"middle\" x=\"248.66\" y=\"-382.08\" font-family=\"Helvetica,sans-Serif\" font-size=\"14.00\">= &#45;0.999</text>\n",
       "</g>\n",
       "<!-- ((sigmoid((x*wh))*wo)&#45;y)&#45;&gt;(((sigmoid((x*wh))*wo)&#45;y)^2) -->\n",
       "<g id=\"edge1\" class=\"edge\">\n",
       "<title>((sigmoid((x*wh))*wo)&#45;y)&#45;&gt;(((sigmoid((x*wh))*wo)&#45;y)^2)</title>\n",
       "<path fill=\"none\" stroke=\"black\" d=\"M248.66,-423.34C248.66,-431 248.66,-439.49 248.66,-447.7\"/>\n",
       "<polygon fill=\"black\" stroke=\"black\" points=\"245.16,-447.47 248.66,-457.47 252.16,-447.47 245.16,-447.47\"/>\n",
       "</g>\n",
       "<!-- (sigmoid((x*wh))*wo) -->\n",
       "<g id=\"node3\" class=\"node\">\n",
       "<title>(sigmoid((x*wh))*wo)</title>\n",
       "<ellipse fill=\"lightgreen\" stroke=\"lightgreen\" cx=\"167.66\" cy=\"-303.52\" rx=\"100.41\" ry=\"27.93\"/>\n",
       "<text text-anchor=\"middle\" x=\"167.66\" y=\"-305.97\" font-family=\"Helvetica,sans-Serif\" font-size=\"14.00\">(sigmoid((x*wh))*wo)</text>\n",
       "<text text-anchor=\"middle\" x=\"167.66\" y=\"-290.22\" font-family=\"Helvetica,sans-Serif\" font-size=\"14.00\">= 0.001</text>\n",
       "</g>\n",
       "<!-- (sigmoid((x*wh))*wo)&#45;&gt;((sigmoid((x*wh))*wo)&#45;y) -->\n",
       "<g id=\"edge2\" class=\"edge\">\n",
       "<title>(sigmoid((x*wh))*wo)&#45;&gt;((sigmoid((x*wh))*wo)&#45;y)</title>\n",
       "<path fill=\"none\" stroke=\"black\" d=\"M191.53,-330.99C199.53,-339.87 208.58,-349.91 217.08,-359.34\"/>\n",
       "<polygon fill=\"black\" stroke=\"black\" points=\"214.38,-361.57 223.68,-366.66 219.58,-356.88 214.38,-361.57\"/>\n",
       "</g>\n",
       "<!-- sigmoid((x*wh)) -->\n",
       "<g id=\"node4\" class=\"node\">\n",
       "<title>sigmoid((x*wh))</title>\n",
       "<ellipse fill=\"lightgreen\" stroke=\"lightgreen\" cx=\"97.66\" cy=\"-211.65\" rx=\"78.14\" ry=\"27.93\"/>\n",
       "<text text-anchor=\"middle\" x=\"97.66\" y=\"-214.1\" font-family=\"Helvetica,sans-Serif\" font-size=\"14.00\">sigmoid((x*wh))</text>\n",
       "<text text-anchor=\"middle\" x=\"97.66\" y=\"-198.35\" font-family=\"Helvetica,sans-Serif\" font-size=\"14.00\">= 0.000</text>\n",
       "</g>\n",
       "<!-- sigmoid((x*wh))&#45;&gt;(sigmoid((x*wh))*wo) -->\n",
       "<g id=\"edge3\" class=\"edge\">\n",
       "<title>sigmoid((x*wh))&#45;&gt;(sigmoid((x*wh))*wo)</title>\n",
       "<path fill=\"none\" stroke=\"black\" d=\"M117.91,-238.65C124.83,-247.52 132.68,-257.61 140.08,-267.1\"/>\n",
       "<polygon fill=\"black\" stroke=\"black\" points=\"137.14,-269.03 146.05,-274.76 142.66,-264.72 137.14,-269.03\"/>\n",
       "</g>\n",
       "<!-- (x*wh) -->\n",
       "<g id=\"node5\" class=\"node\">\n",
       "<title>(x*wh)</title>\n",
       "<ellipse fill=\"lightgreen\" stroke=\"lightgreen\" cx=\"97.66\" cy=\"-119.79\" rx=\"46.85\" ry=\"27.93\"/>\n",
       "<text text-anchor=\"middle\" x=\"97.66\" y=\"-122.24\" font-family=\"Helvetica,sans-Serif\" font-size=\"14.00\">(x*wh)</text>\n",
       "<text text-anchor=\"middle\" x=\"97.66\" y=\"-106.49\" font-family=\"Helvetica,sans-Serif\" font-size=\"14.00\">= &#45;8.000</text>\n",
       "</g>\n",
       "<!-- (x*wh)&#45;&gt;sigmoid((x*wh)) -->\n",
       "<g id=\"edge4\" class=\"edge\">\n",
       "<title>(x*wh)&#45;&gt;sigmoid((x*wh))</title>\n",
       "<path fill=\"none\" stroke=\"black\" d=\"M97.66,-147.75C97.66,-155.41 97.66,-163.91 97.66,-172.11\"/>\n",
       "<polygon fill=\"black\" stroke=\"black\" points=\"94.16,-171.89 97.66,-181.89 101.16,-171.89 94.16,-171.89\"/>\n",
       "</g>\n",
       "<!-- x -->\n",
       "<g id=\"node6\" class=\"node\">\n",
       "<title>x</title>\n",
       "<ellipse fill=\"lightgreen\" stroke=\"lightgreen\" cx=\"43.66\" cy=\"-27.93\" rx=\"43.66\" ry=\"27.93\"/>\n",
       "<text text-anchor=\"middle\" x=\"43.66\" y=\"-30.38\" font-family=\"Helvetica,sans-Serif\" font-size=\"14.00\">x</text>\n",
       "<text text-anchor=\"middle\" x=\"43.66\" y=\"-14.63\" font-family=\"Helvetica,sans-Serif\" font-size=\"14.00\">= 4.000</text>\n",
       "</g>\n",
       "<!-- x&#45;&gt;(x*wh) -->\n",
       "<g id=\"edge5\" class=\"edge\">\n",
       "<title>x&#45;&gt;(x*wh)</title>\n",
       "<path fill=\"none\" stroke=\"black\" d=\"M58.99,-54.44C64.41,-63.45 70.6,-73.75 76.42,-83.44\"/>\n",
       "<polygon fill=\"black\" stroke=\"black\" points=\"73.37,-85.15 81.52,-91.92 79.37,-81.55 73.37,-85.15\"/>\n",
       "</g>\n",
       "<!-- wh -->\n",
       "<g id=\"node7\" class=\"node\">\n",
       "<title>wh</title>\n",
       "<ellipse fill=\"lightgreen\" stroke=\"lightgreen\" cx=\"152.66\" cy=\"-27.93\" rx=\"46.85\" ry=\"27.93\"/>\n",
       "<text text-anchor=\"middle\" x=\"152.66\" y=\"-30.38\" font-family=\"Helvetica,sans-Serif\" font-size=\"14.00\">wh</text>\n",
       "<text text-anchor=\"middle\" x=\"152.66\" y=\"-14.63\" font-family=\"Helvetica,sans-Serif\" font-size=\"14.00\">= &#45;2.000</text>\n",
       "</g>\n",
       "<!-- wh&#45;&gt;(x*wh) -->\n",
       "<g id=\"edge6\" class=\"edge\">\n",
       "<title>wh&#45;&gt;(x*wh)</title>\n",
       "<path fill=\"none\" stroke=\"black\" d=\"M137.05,-54.44C131.53,-63.45 125.23,-73.75 119.3,-83.44\"/>\n",
       "<polygon fill=\"black\" stroke=\"black\" points=\"116.34,-81.57 114.11,-91.93 122.31,-85.22 116.34,-81.57\"/>\n",
       "</g>\n",
       "<!-- wo -->\n",
       "<g id=\"node8\" class=\"node\">\n",
       "<title>wo</title>\n",
       "<ellipse fill=\"lightgreen\" stroke=\"lightgreen\" cx=\"237.66\" cy=\"-211.65\" rx=\"43.66\" ry=\"27.93\"/>\n",
       "<text text-anchor=\"middle\" x=\"237.66\" y=\"-214.1\" font-family=\"Helvetica,sans-Serif\" font-size=\"14.00\">wo</text>\n",
       "<text text-anchor=\"middle\" x=\"237.66\" y=\"-198.35\" font-family=\"Helvetica,sans-Serif\" font-size=\"14.00\">= 3.000</text>\n",
       "</g>\n",
       "<!-- wo&#45;&gt;(sigmoid((x*wh))*wo) -->\n",
       "<g id=\"edge7\" class=\"edge\">\n",
       "<title>wo&#45;&gt;(sigmoid((x*wh))*wo)</title>\n",
       "<path fill=\"none\" stroke=\"black\" d=\"M218.54,-237.21C211.41,-246.36 203.17,-256.94 195.42,-266.89\"/>\n",
       "<polygon fill=\"black\" stroke=\"black\" points=\"192.8,-264.55 189.42,-274.59 198.33,-268.85 192.8,-264.55\"/>\n",
       "</g>\n",
       "<!-- y -->\n",
       "<g id=\"node9\" class=\"node\">\n",
       "<title>y</title>\n",
       "<ellipse fill=\"lightgreen\" stroke=\"lightgreen\" cx=\"329.66\" cy=\"-303.52\" rx=\"43.66\" ry=\"27.93\"/>\n",
       "<text text-anchor=\"middle\" x=\"329.66\" y=\"-305.97\" font-family=\"Helvetica,sans-Serif\" font-size=\"14.00\">y</text>\n",
       "<text text-anchor=\"middle\" x=\"329.66\" y=\"-290.22\" font-family=\"Helvetica,sans-Serif\" font-size=\"14.00\">= 1.000</text>\n",
       "</g>\n",
       "<!-- y&#45;&gt;((sigmoid((x*wh))*wo)&#45;y) -->\n",
       "<g id=\"edge8\" class=\"edge\">\n",
       "<title>y&#45;&gt;((sigmoid((x*wh))*wo)&#45;y)</title>\n",
       "<path fill=\"none\" stroke=\"black\" d=\"M308.38,-328.13C299.81,-337.63 289.75,-348.8 280.35,-359.22\"/>\n",
       "<polygon fill=\"black\" stroke=\"black\" points=\"277.77,-356.86 273.68,-366.63 282.97,-361.54 277.77,-356.86\"/>\n",
       "</g>\n",
       "</g>\n",
       "</svg>\n"
      ],
      "text/plain": [
       "<graphviz.graphs.Digraph at 0x1d8fcc42950>"
      ]
     },
     "execution_count": 22,
     "metadata": {},
     "output_type": "execute_result"
    }
   ],
   "source": [
    "vis_forward_pass(L)"
   ]
  },
  {
   "attachments": {},
   "cell_type": "markdown",
   "metadata": {},
   "source": [
    "Then, do a backward pass to get the gradient of the loss function with respect to each of the weights."
   ]
  },
  {
   "cell_type": "code",
   "execution_count": 23,
   "metadata": {},
   "outputs": [],
   "source": [
    "#grade (write your code in this cell and DO NOT DELETE THIS LINE)\n",
    "get_gradients(L)"
   ]
  },
  {
   "cell_type": "code",
   "execution_count": 24,
   "metadata": {},
   "outputs": [
    {
     "data": {
      "image/svg+xml": [
       "<?xml version=\"1.0\" encoding=\"UTF-8\" standalone=\"no\"?>\n",
       "<!DOCTYPE svg PUBLIC \"-//W3C//DTD SVG 1.1//EN\"\n",
       " \"http://www.w3.org/Graphics/SVG/1.1/DTD/svg11.dtd\">\n",
       "<!-- Generated by graphviz version 12.2.1 (20241206.2353)\n",
       " -->\n",
       "<!-- Pages: 1 -->\n",
       "<svg width=\"418pt\" height=\"594pt\"\n",
       " viewBox=\"0.00 0.00 418.24 594.42\" xmlns=\"http://www.w3.org/2000/svg\" xmlns:xlink=\"http://www.w3.org/1999/xlink\">\n",
       "<g id=\"graph0\" class=\"graph\" transform=\"scale(1 1) rotate(0) translate(4 590.42)\">\n",
       "<polygon fill=\"white\" stroke=\"none\" points=\"-4,4 -4,-590.42 414.24,-590.42 414.24,4 -4,4\"/>\n",
       "<!-- (((sigmoid((x*wh))*wo)&#45;y)^2) -->\n",
       "<g id=\"node1\" class=\"node\">\n",
       "<title>(((sigmoid((x*wh))*wo)&#45;y)^2)</title>\n",
       "<ellipse fill=\"lightgreen\" stroke=\"lightgreen\" cx=\"273.62\" cy=\"-558.49\" rx=\"131.17\" ry=\"27.93\"/>\n",
       "<text text-anchor=\"middle\" x=\"273.62\" y=\"-560.94\" font-family=\"Helvetica,sans-Serif\" font-size=\"14.00\">(((sigmoid((x*wh))*wo)&#45;y)^2)</text>\n",
       "<text text-anchor=\"middle\" x=\"273.62\" y=\"-545.19\" font-family=\"Helvetica,sans-Serif\" font-size=\"14.00\"> ∇ 1.000</text>\n",
       "</g>\n",
       "<!-- ((sigmoid((x*wh))*wo)&#45;y) -->\n",
       "<g id=\"node2\" class=\"node\">\n",
       "<title>((sigmoid((x*wh))*wo)&#45;y)</title>\n",
       "<ellipse fill=\"lightgreen\" stroke=\"lightgreen\" cx=\"273.62\" cy=\"-452.38\" rx=\"114.73\" ry=\"27.93\"/>\n",
       "<text text-anchor=\"middle\" x=\"273.62\" y=\"-454.83\" font-family=\"Helvetica,sans-Serif\" font-size=\"14.00\">((sigmoid((x*wh))*wo)&#45;y)</text>\n",
       "<text text-anchor=\"middle\" x=\"273.62\" y=\"-439.08\" font-family=\"Helvetica,sans-Serif\" font-size=\"14.00\"> ∇ &#45;1.998</text>\n",
       "</g>\n",
       "<!-- (((sigmoid((x*wh))*wo)&#45;y)^2)&#45;&gt;((sigmoid((x*wh))*wo)&#45;y) -->\n",
       "<g id=\"edge1\" class=\"edge\">\n",
       "<title>(((sigmoid((x*wh))*wo)&#45;y)^2)&#45;&gt;((sigmoid((x*wh))*wo)&#45;y)</title>\n",
       "<path fill=\"none\" stroke=\"black\" d=\"M273.62,-530.13C273.62,-518.42 273.62,-504.53 273.62,-491.81\"/>\n",
       "<polygon fill=\"black\" stroke=\"black\" points=\"277.12,-492.06 273.62,-482.06 270.12,-492.06 277.12,-492.06\"/>\n",
       "<text text-anchor=\"middle\" x=\"290.49\" y=\"-501.16\" font-family=\"Helvetica,sans-Serif\" font-size=\"12.00\" fill=\"grey\">&#45;1.998</text>\n",
       "</g>\n",
       "<!-- (sigmoid((x*wh))*wo) -->\n",
       "<g id=\"node3\" class=\"node\">\n",
       "<title>(sigmoid((x*wh))*wo)</title>\n",
       "<ellipse fill=\"lightgreen\" stroke=\"lightgreen\" cx=\"188.62\" cy=\"-346.27\" rx=\"100.41\" ry=\"27.93\"/>\n",
       "<text text-anchor=\"middle\" x=\"188.62\" y=\"-348.72\" font-family=\"Helvetica,sans-Serif\" font-size=\"14.00\">(sigmoid((x*wh))*wo)</text>\n",
       "<text text-anchor=\"middle\" x=\"188.62\" y=\"-332.97\" font-family=\"Helvetica,sans-Serif\" font-size=\"14.00\"> ∇ &#45;1.998</text>\n",
       "</g>\n",
       "<!-- ((sigmoid((x*wh))*wo)&#45;y)&#45;&gt;(sigmoid((x*wh))*wo) -->\n",
       "<g id=\"edge2\" class=\"edge\">\n",
       "<title>((sigmoid((x*wh))*wo)&#45;y)&#45;&gt;(sigmoid((x*wh))*wo)</title>\n",
       "<path fill=\"none\" stroke=\"black\" d=\"M251.73,-424.57C241.32,-411.81 228.73,-396.4 217.55,-382.7\"/>\n",
       "<polygon fill=\"black\" stroke=\"black\" points=\"220.43,-380.69 211.39,-375.16 215,-385.12 220.43,-380.69\"/>\n",
       "<text text-anchor=\"middle\" x=\"251.21\" y=\"-395.05\" font-family=\"Helvetica,sans-Serif\" font-size=\"12.00\" fill=\"grey\">1.000</text>\n",
       "</g>\n",
       "<!-- y -->\n",
       "<g id=\"node9\" class=\"node\">\n",
       "<title>y</title>\n",
       "<ellipse fill=\"lightgreen\" stroke=\"lightgreen\" cx=\"358.62\" cy=\"-346.27\" rx=\"51.62\" ry=\"27.93\"/>\n",
       "<text text-anchor=\"middle\" x=\"358.62\" y=\"-348.72\" font-family=\"Helvetica,sans-Serif\" font-size=\"14.00\">y</text>\n",
       "<text text-anchor=\"middle\" x=\"358.62\" y=\"-332.97\" font-family=\"Helvetica,sans-Serif\" font-size=\"14.00\"> ∇ 1.998</text>\n",
       "</g>\n",
       "<!-- ((sigmoid((x*wh))*wo)&#45;y)&#45;&gt;y -->\n",
       "<g id=\"edge8\" class=\"edge\">\n",
       "<title>((sigmoid((x*wh))*wo)&#45;y)&#45;&gt;y</title>\n",
       "<path fill=\"none\" stroke=\"black\" d=\"M295.51,-424.57C306.32,-411.32 319.49,-395.2 330.99,-381.11\"/>\n",
       "<polygon fill=\"black\" stroke=\"black\" points=\"333.69,-383.33 337.31,-373.37 328.27,-378.9 333.69,-383.33\"/>\n",
       "<text text-anchor=\"middle\" x=\"338.08\" y=\"-395.05\" font-family=\"Helvetica,sans-Serif\" font-size=\"12.00\" fill=\"grey\">&#45;1.000</text>\n",
       "</g>\n",
       "<!-- sigmoid((x*wh)) -->\n",
       "<g id=\"node4\" class=\"node\">\n",
       "<title>sigmoid((x*wh))</title>\n",
       "<ellipse fill=\"lightgreen\" stroke=\"lightgreen\" cx=\"113.62\" cy=\"-240.15\" rx=\"78.14\" ry=\"27.93\"/>\n",
       "<text text-anchor=\"middle\" x=\"113.62\" y=\"-242.6\" font-family=\"Helvetica,sans-Serif\" font-size=\"14.00\">sigmoid((x*wh))</text>\n",
       "<text text-anchor=\"middle\" x=\"113.62\" y=\"-226.85\" font-family=\"Helvetica,sans-Serif\" font-size=\"14.00\"> ∇ &#45;5.994</text>\n",
       "</g>\n",
       "<!-- (sigmoid((x*wh))*wo)&#45;&gt;sigmoid((x*wh)) -->\n",
       "<g id=\"edge3\" class=\"edge\">\n",
       "<title>(sigmoid((x*wh))*wo)&#45;&gt;sigmoid((x*wh))</title>\n",
       "<path fill=\"none\" stroke=\"black\" d=\"M169.3,-318.45C160.14,-305.73 149.05,-290.34 139.2,-276.66\"/>\n",
       "<polygon fill=\"black\" stroke=\"black\" points=\"142.18,-274.81 133.49,-268.74 136.5,-278.9 142.18,-274.81\"/>\n",
       "<text text-anchor=\"middle\" x=\"170.61\" y=\"-288.93\" font-family=\"Helvetica,sans-Serif\" font-size=\"12.00\" fill=\"grey\">3.000</text>\n",
       "</g>\n",
       "<!-- wo -->\n",
       "<g id=\"node8\" class=\"node\">\n",
       "<title>wo</title>\n",
       "<ellipse fill=\"lightgreen\" stroke=\"lightgreen\" cx=\"264.62\" cy=\"-240.15\" rx=\"54.8\" ry=\"27.93\"/>\n",
       "<text text-anchor=\"middle\" x=\"264.62\" y=\"-242.6\" font-family=\"Helvetica,sans-Serif\" font-size=\"14.00\">wo</text>\n",
       "<text text-anchor=\"middle\" x=\"264.62\" y=\"-226.85\" font-family=\"Helvetica,sans-Serif\" font-size=\"14.00\"> ∇ &#45;0.001</text>\n",
       "</g>\n",
       "<!-- (sigmoid((x*wh))*wo)&#45;&gt;wo -->\n",
       "<g id=\"edge7\" class=\"edge\">\n",
       "<title>(sigmoid((x*wh))*wo)&#45;&gt;wo</title>\n",
       "<path fill=\"none\" stroke=\"black\" d=\"M208.19,-318.45C217.62,-305.53 229.06,-289.87 239.16,-276.03\"/>\n",
       "<polygon fill=\"black\" stroke=\"black\" points=\"241.94,-278.16 245.01,-268.02 236.28,-274.03 241.94,-278.16\"/>\n",
       "<text text-anchor=\"middle\" x=\"246.17\" y=\"-288.93\" font-family=\"Helvetica,sans-Serif\" font-size=\"12.00\" fill=\"grey\">0.000</text>\n",
       "</g>\n",
       "<!-- (x*wh) -->\n",
       "<g id=\"node5\" class=\"node\">\n",
       "<title>(x*wh)</title>\n",
       "<ellipse fill=\"lightgreen\" stroke=\"lightgreen\" cx=\"113.62\" cy=\"-134.04\" rx=\"54.8\" ry=\"27.93\"/>\n",
       "<text text-anchor=\"middle\" x=\"113.62\" y=\"-136.49\" font-family=\"Helvetica,sans-Serif\" font-size=\"14.00\">(x*wh)</text>\n",
       "<text text-anchor=\"middle\" x=\"113.62\" y=\"-120.74\" font-family=\"Helvetica,sans-Serif\" font-size=\"14.00\"> ∇ &#45;0.002</text>\n",
       "</g>\n",
       "<!-- sigmoid((x*wh))&#45;&gt;(x*wh) -->\n",
       "<g id=\"edge4\" class=\"edge\">\n",
       "<title>sigmoid((x*wh))&#45;&gt;(x*wh)</title>\n",
       "<path fill=\"none\" stroke=\"black\" d=\"M113.62,-211.8C113.62,-200.08 113.62,-186.19 113.62,-173.47\"/>\n",
       "<polygon fill=\"black\" stroke=\"black\" points=\"117.12,-173.73 113.62,-163.73 110.12,-173.73 117.12,-173.73\"/>\n",
       "<text text-anchor=\"middle\" x=\"128.62\" y=\"-182.82\" font-family=\"Helvetica,sans-Serif\" font-size=\"12.00\" fill=\"grey\">0.000</text>\n",
       "</g>\n",
       "<!-- x -->\n",
       "<g id=\"node6\" class=\"node\">\n",
       "<title>x</title>\n",
       "<ellipse fill=\"lightgreen\" stroke=\"lightgreen\" cx=\"51.62\" cy=\"-27.93\" rx=\"51.62\" ry=\"27.93\"/>\n",
       "<text text-anchor=\"middle\" x=\"51.62\" y=\"-30.38\" font-family=\"Helvetica,sans-Serif\" font-size=\"14.00\">x</text>\n",
       "<text text-anchor=\"middle\" x=\"51.62\" y=\"-14.63\" font-family=\"Helvetica,sans-Serif\" font-size=\"14.00\"> ∇ 0.004</text>\n",
       "</g>\n",
       "<!-- (x*wh)&#45;&gt;x -->\n",
       "<g id=\"edge5\" class=\"edge\">\n",
       "<title>(x*wh)&#45;&gt;x</title>\n",
       "<path fill=\"none\" stroke=\"black\" d=\"M98.13,-107.04C90.51,-94.24 81.21,-78.62 72.93,-64.72\"/>\n",
       "<polygon fill=\"black\" stroke=\"black\" points=\"76.02,-63.06 67.9,-56.26 70.01,-66.65 76.02,-63.06\"/>\n",
       "<text text-anchor=\"middle\" x=\"103.21\" y=\"-76.71\" font-family=\"Helvetica,sans-Serif\" font-size=\"12.00\" fill=\"grey\">&#45;2.000</text>\n",
       "</g>\n",
       "<!-- wh -->\n",
       "<g id=\"node7\" class=\"node\">\n",
       "<title>wh</title>\n",
       "<ellipse fill=\"lightgreen\" stroke=\"lightgreen\" cx=\"175.62\" cy=\"-27.93\" rx=\"54.8\" ry=\"27.93\"/>\n",
       "<text text-anchor=\"middle\" x=\"175.62\" y=\"-30.38\" font-family=\"Helvetica,sans-Serif\" font-size=\"14.00\">wh</text>\n",
       "<text text-anchor=\"middle\" x=\"175.62\" y=\"-14.63\" font-family=\"Helvetica,sans-Serif\" font-size=\"14.00\"> ∇ &#45;0.008</text>\n",
       "</g>\n",
       "<!-- (x*wh)&#45;&gt;wh -->\n",
       "<g id=\"edge6\" class=\"edge\">\n",
       "<title>(x*wh)&#45;&gt;wh</title>\n",
       "<path fill=\"none\" stroke=\"black\" d=\"M129.1,-107.04C136.72,-94.24 146.03,-78.62 154.31,-64.72\"/>\n",
       "<polygon fill=\"black\" stroke=\"black\" points=\"157.23,-66.65 159.34,-56.26 151.22,-63.06 157.23,-66.65\"/>\n",
       "<text text-anchor=\"middle\" x=\"163.33\" y=\"-76.71\" font-family=\"Helvetica,sans-Serif\" font-size=\"12.00\" fill=\"grey\">4.000</text>\n",
       "</g>\n",
       "</g>\n",
       "</svg>\n"
      ],
      "text/plain": [
       "<graphviz.graphs.Digraph at 0x1d8fcc59690>"
      ]
     },
     "execution_count": 24,
     "metadata": {},
     "output_type": "execute_result"
    }
   ],
   "source": [
    "vis_backward_pass(L)"
   ]
  },
  {
   "cell_type": "code",
   "execution_count": null,
   "metadata": {},
   "outputs": [],
   "source": []
  }
 ],
 "metadata": {
  "colab": {
   "collapsed_sections": [],
   "provenance": []
  },
  "kernelspec": {
   "display_name": "Python 3",
   "language": "python",
   "name": "python3"
  },
  "language_info": {
   "codemirror_mode": {
    "name": "ipython",
    "version": 3
   },
   "file_extension": ".py",
   "mimetype": "text/x-python",
   "name": "python",
   "nbconvert_exporter": "python",
   "pygments_lexer": "ipython3",
   "version": "3.11.5"
  }
 },
 "nbformat": 4,
 "nbformat_minor": 4
}
