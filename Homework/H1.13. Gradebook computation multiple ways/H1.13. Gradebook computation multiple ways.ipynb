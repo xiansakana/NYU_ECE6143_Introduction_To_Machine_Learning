{
 "cells": [
  {
   "cell_type": "markdown",
   "metadata": {},
   "source": [
    "# Computation with multiple methods"
   ]
  },
  {
   "cell_type": "markdown",
   "metadata": {},
   "source": [
    "The workspace at the link below has a notebook with which you will analyze some data from a (fictional) course at NYU. The data records the scores of each of 48 students on some assessments:\n",
    "\n",
    "- the first 5 columns are lab assignment grades\n",
    "- the next 8 columns are problem set grades\n",
    "- the next column is a midterm exam\n",
    "- the last column is a final exam\n",
    "\n",
    "The course instructor wants to compute an overall numeric grade out of 100 for each student according to multiple methods, as follows:\n",
    "\n",
    "- `Method A`: 25% lab assignment average, 25% problem set average, 25% midterm, 25% final\n",
    "- `Method B`: 20% lab assignment average, 20% problem set average, 30% midterm, 30% final\n",
    "- `Method C`: 30% lab assignment average, 30% problem set average, 20% midterm, 20% final\n",
    "- `Method D`: 20% lab assignment average, 20% problem set average, 20% midterm, 40% final\n",
    "\n",
    "Then, the student's overall course grade will be computed as the highest of these four values.\n",
    "\n",
    "For full credit, implement your solution without any explicit `for` loops (or other control structures). Also, for full credit, your code should use the following `numpy` functions: `max`, `argmax`, and any one of the following: `stack`, `vstack`, `hstack`, `column_stack`, or `row_stack`.\n",
    "\n",
    "\n",
    "| Name |\tType |\tDescription |\n",
    "| --- | --- | --- |\n",
    "|`grades_all_methods` |\t2d numpy array |\tThis array should have 48 rows and 4 columns, representing the students' grades according to each of the four methods, respectively.|\n",
    "|`grades` |\t1d numpy array |\tPer-student overall course grade.|\n",
    "|`idx_method` | \t1d numpy array\t| Index of the method that realizes the highest grade for this student (0 for Method A, 1 for Method B, 2 for Method C, and 3 for Method D).|\n"
   ]
  },
  {
   "cell_type": "code",
   "execution_count": 1,
   "metadata": {},
   "outputs": [],
   "source": [
    "import numpy as np"
   ]
  },
  {
   "cell_type": "markdown",
   "metadata": {},
   "source": [
    "Read in the data to a `numpy` array in `x`. If you want to, you can add code to the following cell to explore `x` (for example, see its shape).\n"
   ]
  },
  {
   "cell_type": "code",
   "execution_count": 2,
   "metadata": {},
   "outputs": [],
   "source": [
    "x = np.genfromtxt('data.csv',delimiter=',')"
   ]
  },
  {
   "cell_type": "markdown",
   "metadata": {},
   "source": [
    "Write code to compute the following arrays:\n",
    "\n",
    "* `grades_all_methods` - student grades according to each of the four different methods (first column: Method A, second column: Method B, third column: Method C, fourth column: method D).\n",
    "* `grades` - student grades using \"best of four methods\".\n",
    "* `idx_method` - the index of the grading method that realizes the highest grade for each student (0 for Method A, 1 for Method B, 2 for Method C, and 3 for Method D)."
   ]
  },
  {
   "cell_type": "code",
   "execution_count": 3,
   "metadata": {},
   "outputs": [],
   "source": [
    "#grade (write your code in this cell and DO NOT DELETE THIS LINE)\n",
    "A = 0.25 * np.mean(x[:, :5], axis=1) + 0.25 * np.mean(x[:, 5:13], axis=1) + 0.25 * np.mean(x[:, 13:14], axis=1) + 0.25 * np.mean(x[:, 14:], axis=1)\n",
    "B = 0.20 * np.mean(x[:, :5], axis=1) + 0.20 * np.mean(x[:, 5:13], axis=1) + 0.30 * np.mean(x[:, 13:14], axis=1) + 0.30 * np.mean(x[:, 14:], axis=1)\n",
    "C = 0.30 * np.mean(x[:, :5], axis=1) + 0.30 * np.mean(x[:, 5:13], axis=1) + 0.20 * np.mean(x[:, 13:14], axis=1) + 0.20 * np.mean(x[:, 14:], axis=1)\n",
    "D = 0.20 * np.mean(x[:, :5], axis=1) + 0.20 * np.mean(x[:, 5:13], axis=1) + 0.20 * np.mean(x[:, 13:14], axis=1) + 0.40 * np.mean(x[:, 14:], axis=1)\n",
    "A = np.reshape(A, (48, 1))\n",
    "B = np.reshape(B, (48, 1))\n",
    "C = np.reshape(C, (48, 1))\n",
    "D = np.reshape(D, (48, 1))\n",
    "grades_all_methods = np.hstack((A, B, C, D))\n",
    "grades = np.max(grades_all_methods, axis=1)\n",
    "idx_method = np.argmax(grades_all_methods, axis=1)"
   ]
  },
  {
   "cell_type": "markdown",
   "metadata": {},
   "source": [
    "You can test your work by looking at the output in the next cells (which you can also modify as you like - these cells will not be graded):"
   ]
  },
  {
   "cell_type": "code",
   "execution_count": 4,
   "metadata": {},
   "outputs": [
    {
     "data": {
      "text/plain": [
       "array([[75.38125, 76.305  , 74.4575 , 76.505  ],\n",
       "       [68.     , 67.     , 69.     , 70.4    ],\n",
       "       [69.11875, 68.895  , 69.3425 , 69.295  ],\n",
       "       [67.25   , 67.2    , 67.3    , 68.4    ],\n",
       "       [59.54375, 58.035  , 61.0525 , 58.435  ],\n",
       "       [69.0875 , 68.47   , 69.705  , 72.07   ],\n",
       "       [65.21875, 64.675  , 65.7625 , 67.775  ],\n",
       "       [73.5875 , 73.87   , 73.305  , 74.67   ],\n",
       "       [73.05   , 73.24   , 72.86   , 75.04   ],\n",
       "       [75.375  , 76.9    , 73.85   , 77.9    ],\n",
       "       [63.3    , 62.84   , 63.76   , 61.64   ],\n",
       "       [68.78125, 68.325  , 69.2375 , 66.625  ],\n",
       "       [71.2875 , 70.33   , 72.245  , 71.23   ],\n",
       "       [66.7875 , 66.63   , 66.945  , 68.63   ],\n",
       "       [62.3375 , 60.97   , 63.705  , 62.27   ],\n",
       "       [69.25   , 68.7    , 69.8    , 70.     ],\n",
       "       [62.63125, 60.705  , 64.5575 , 60.705  ],\n",
       "       [72.00625, 71.905  , 72.1075 , 74.805  ],\n",
       "       [66.84375, 66.475  , 67.2125 , 69.275  ],\n",
       "       [70.19375, 70.555  , 69.8325 , 72.755  ],\n",
       "       [70.7    , 70.26   , 71.14   , 67.96   ],\n",
       "       [67.45   , 66.26   , 68.64   , 67.96   ],\n",
       "       [75.66875, 77.335  , 74.0025 , 78.535  ],\n",
       "       [65.29375, 65.035  , 65.5525 , 68.435  ],\n",
       "       [71.35   , 71.18   , 71.52   , 71.48   ],\n",
       "       [69.425  , 69.44   , 69.41   , 70.34   ],\n",
       "       [69.50625, 68.505  , 70.5075 , 70.205  ],\n",
       "       [68.70625, 68.065  , 69.3475 , 66.765  ],\n",
       "       [71.68125, 72.045  , 71.3175 , 70.545  ],\n",
       "       [73.75625, 73.905  , 73.6075 , 73.205  ],\n",
       "       [73.25   , 74.3    , 72.2    , 75.6    ],\n",
       "       [74.825  , 75.36   , 74.29   , 75.66   ],\n",
       "       [69.79375, 69.535  , 70.0525 , 70.435  ],\n",
       "       [64.525  , 63.12   , 65.93   , 62.42   ],\n",
       "       [75.6    , 76.48   , 74.72   , 76.28   ],\n",
       "       [59.53125, 58.325  , 60.7375 , 58.625  ],\n",
       "       [70.3    , 71.44   , 69.16   , 71.24   ],\n",
       "       [67.09375, 67.475  , 66.7125 , 67.075  ],\n",
       "       [58.9    , 56.62   , 61.18   , 57.52   ],\n",
       "       [75.64375, 76.815  , 74.4725 , 77.115  ],\n",
       "       [70.55   , 70.14   , 70.96   , 68.04   ],\n",
       "       [64.15625, 64.225  , 64.0875 , 66.725  ],\n",
       "       [72.9    , 73.72   , 72.08   , 75.92   ],\n",
       "       [66.8125 , 65.75   , 67.875  , 67.65   ],\n",
       "       [67.1375 , 66.51   , 67.765  , 70.91   ],\n",
       "       [68.84375, 68.375  , 69.3125 , 66.275  ],\n",
       "       [71.825  , 73.06   , 70.59   , 72.46   ],\n",
       "       [66.80625, 66.945  , 66.6675 , 69.245  ]])"
      ]
     },
     "execution_count": 4,
     "metadata": {},
     "output_type": "execute_result"
    }
   ],
   "source": [
    "grades_all_methods"
   ]
  },
  {
   "cell_type": "code",
   "execution_count": 5,
   "metadata": {},
   "outputs": [
    {
     "data": {
      "text/plain": [
       "array([76.505 , 70.4   , 69.3425, 68.4   , 61.0525, 72.07  , 67.775 ,\n",
       "       74.67  , 75.04  , 77.9   , 63.76  , 69.2375, 72.245 , 68.63  ,\n",
       "       63.705 , 70.    , 64.5575, 74.805 , 69.275 , 72.755 , 71.14  ,\n",
       "       68.64  , 78.535 , 68.435 , 71.52  , 70.34  , 70.5075, 69.3475,\n",
       "       72.045 , 73.905 , 75.6   , 75.66  , 70.435 , 65.93  , 76.48  ,\n",
       "       60.7375, 71.44  , 67.475 , 61.18  , 77.115 , 70.96  , 66.725 ,\n",
       "       75.92  , 67.875 , 70.91  , 69.3125, 73.06  , 69.245 ])"
      ]
     },
     "execution_count": 5,
     "metadata": {},
     "output_type": "execute_result"
    }
   ],
   "source": [
    "grades"
   ]
  },
  {
   "cell_type": "code",
   "execution_count": 6,
   "metadata": {},
   "outputs": [
    {
     "data": {
      "text/plain": [
       "array([3, 3, 2, 3, 2, 3, 3, 3, 3, 3, 2, 2, 2, 3, 2, 3, 2, 3, 3, 3, 2, 2,\n",
       "       3, 3, 2, 3, 2, 2, 1, 1, 3, 3, 3, 2, 1, 2, 1, 1, 2, 3, 2, 3, 3, 2,\n",
       "       3, 2, 1, 3], dtype=int64)"
      ]
     },
     "execution_count": 6,
     "metadata": {},
     "output_type": "execute_result"
    }
   ],
   "source": [
    "idx_method"
   ]
  },
  {
   "cell_type": "code",
   "execution_count": null,
   "metadata": {},
   "outputs": [],
   "source": []
  }
 ],
 "metadata": {
  "kernelspec": {
   "display_name": "Python 3",
   "language": "python",
   "name": "python3"
  },
  "language_info": {
   "codemirror_mode": {
    "name": "ipython",
    "version": 3
   },
   "file_extension": ".py",
   "mimetype": "text/x-python",
   "name": "python",
   "nbconvert_exporter": "python",
   "pygments_lexer": "ipython3",
   "version": "3.11.5"
  }
 },
 "nbformat": 4,
 "nbformat_minor": 4
}
