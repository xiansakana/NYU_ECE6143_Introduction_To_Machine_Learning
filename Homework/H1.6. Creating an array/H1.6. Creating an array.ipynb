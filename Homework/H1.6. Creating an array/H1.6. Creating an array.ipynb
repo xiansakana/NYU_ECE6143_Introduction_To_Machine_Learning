{
 "cells": [
  {
   "cell_type": "markdown",
   "metadata": {},
   "source": [
    "# Creating a numpy array with evenly spaced values"
   ]
  },
  {
   "cell_type": "markdown",
   "metadata": {},
   "source": [
    "Open the workspace at the link below.\n",
    "\n",
    "Then, you will use the `arange` function (described [here](https://numpy.org/doc/stable/reference/generated/numpy.arange.html)) to create the variable x which should be a `numpy` array with the following values:\n",
    "\n",
    "> [9, 19, 29, 39, 49, 59, 69, 79, 89]\n",
    "\n",
    "Solve using one line of code, with no explicit `for` loops or other control structures.\n",
    "\n",
    "\n",
    "Your code should produce the following result:\n",
    "\n",
    "|Name\t|Type\t|Description|\n",
    "|---|---|---|\n",
    "|`x`\t|1d numpy array\t|List of values|"
   ]
  },
  {
   "cell_type": "code",
   "execution_count": 1,
   "metadata": {},
   "outputs": [],
   "source": [
    "import numpy as np\n"
   ]
  },
  {
   "cell_type": "markdown",
   "metadata": {},
   "source": [
    "Write exactly *one* line of code that uses `np.arange` to create the array described in the question, and assign it to a variable `x`."
   ]
  },
  {
   "cell_type": "code",
   "execution_count": 2,
   "metadata": {},
   "outputs": [],
   "source": [
    "#grade (write your code in this cell and DO NOT DELETE THIS LINE)\n",
    "x = np.arange(9, 90, 10)\n",
    "\n"
   ]
  },
  {
   "cell_type": "markdown",
   "metadata": {},
   "source": [
    "You can test your work by looking at the output in the next cell:"
   ]
  },
  {
   "cell_type": "code",
   "execution_count": 3,
   "metadata": {},
   "outputs": [
    {
     "data": {
      "text/plain": [
       "array([ 9, 19, 29, 39, 49, 59, 69, 79, 89])"
      ]
     },
     "execution_count": 3,
     "metadata": {},
     "output_type": "execute_result"
    }
   ],
   "source": [
    "x\n"
   ]
  },
  {
   "cell_type": "code",
   "execution_count": null,
   "metadata": {},
   "outputs": [],
   "source": []
  }
 ],
 "metadata": {
  "kernelspec": {
   "display_name": "Python 3",
   "language": "python",
   "name": "python3"
  },
  "language_info": {
   "codemirror_mode": {
    "name": "ipython",
    "version": 3
   },
   "file_extension": ".py",
   "mimetype": "text/x-python",
   "name": "python",
   "nbconvert_exporter": "python",
   "pygments_lexer": "ipython3",
   "version": "3.11.5"
  }
 },
 "nbformat": 4,
 "nbformat_minor": 4
}
