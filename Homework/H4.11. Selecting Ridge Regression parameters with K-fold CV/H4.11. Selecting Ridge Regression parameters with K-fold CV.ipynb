{
 "cells": [
  {
   "cell_type": "markdown",
   "metadata": {
    "id": "LNsV2yyFrGIs"
   },
   "source": [
    "# Selecting Ridge Regression Model with K-Fold CV"
   ]
  },
  {
   "cell_type": "markdown",
   "metadata": {},
   "source": [
    "In the attached workspace, you will use K-fold CV to select the regularization strength in an L2-regularized regression model. Then, you will fit the optimal model and evaluate its accuracy on a test set not used for model fitting.\n",
    "\n",
    "You'll need to specify this random state in your notebook:\n",
    "\n",
    "> random_state = 13\n",
    "\n",
    "| Name\t| Type\t| Description |\n",
    "| --- | --- | --- |\n",
    "|`Xtr_df`| pandas data frame\t| Training data (features).|\n",
    "|`Xts_df`| pandas data frame\t| Test data (features).|\n",
    "|`ytr_df`| pandas data frame\t| Training data (target).|\n",
    "|`yts_df`| pandas data frame\t| Test data (target).|\n",
    "|`mse_mean`\t| 1d numpy array\t| The mean validation MSE for each model in the K-fold CV.|\n",
    "|`alpha_min_mse`\t| float\t| The value of the tuning parameter alpha that yields the lowest MSE on the validation data.|\n",
    "|`mse_ridge`\t| float\t| The test MSE for the best Ridge regression model.|"
   ]
  },
  {
   "cell_type": "code",
   "execution_count": 1,
   "metadata": {
    "id": "LhRjDo48rGIt"
   },
   "outputs": [],
   "source": [
    "import numpy as np\n",
    "import pandas as pd\n",
    "import matplotlib.pyplot as plt\n",
    "from sklearn.metrics import mean_squared_error\n",
    "from sklearn.linear_model import Ridge, LinearRegression\n",
    "from sklearn.model_selection import train_test_split, KFold\n",
    "from sklearn.preprocessing import StandardScaler"
   ]
  },
  {
   "cell_type": "markdown",
   "metadata": {
    "id": "Z78jhR20rGIu"
   },
   "source": [
    "In this notebook, we are interested in predicting the price of a diamond from its physical characteristics."
   ]
  },
  {
   "cell_type": "markdown",
   "metadata": {},
   "source": [
    "First, load in the data:"
   ]
  },
  {
   "cell_type": "code",
   "execution_count": 2,
   "metadata": {
    "id": "Zj0UjAsTrGIv"
   },
   "outputs": [],
   "source": [
    "df = pd.read_csv('diamonds.csv')"
   ]
  },
  {
   "cell_type": "markdown",
   "metadata": {},
   "source": [
    "Get a quick view of the columns in this data by runnning the cell below. "
   ]
  },
  {
   "cell_type": "code",
   "execution_count": 3,
   "metadata": {},
   "outputs": [
    {
     "name": "stdout",
     "output_type": "stream",
     "text": [
      "<class 'pandas.core.frame.DataFrame'>\n",
      "RangeIndex: 53940 entries, 0 to 53939\n",
      "Data columns (total 10 columns):\n",
      " #   Column   Non-Null Count  Dtype  \n",
      "---  ------   --------------  -----  \n",
      " 0   carat    53940 non-null  float64\n",
      " 1   cut      53940 non-null  object \n",
      " 2   color    53940 non-null  object \n",
      " 3   clarity  53940 non-null  object \n",
      " 4   depth    53940 non-null  float64\n",
      " 5   table    53940 non-null  float64\n",
      " 6   price    53940 non-null  int64  \n",
      " 7   x        53940 non-null  float64\n",
      " 8   y        53940 non-null  float64\n",
      " 9   z        53940 non-null  float64\n",
      "dtypes: float64(6), int64(1), object(3)\n",
      "memory usage: 4.1+ MB\n"
     ]
    }
   ],
   "source": [
    "df.info()"
   ]
  },
  {
   "cell_type": "markdown",
   "metadata": {},
   "source": [
    "This dataset contains information about 53,940 round-cut diamonds. It includes variables measuring various pieces of information about the diamonds. \n",
    "\n",
    "There are 3 variables that are ordered categorical values: `cut`, `color`, & `clarity`.\n",
    "\n",
    "* `cut` can be, from worst to best: Fair, Good, Very Good, Premium, Ideal\n",
    "* `color` can range from J (worst) to D (best)\n",
    "* `clarity` can be I1 (worst), SI2, SI1, VS2, VS1, VVS2, VVS1, IF (best)\n",
    "\n",
    "There are 6 variables that are numeric: `carat`, `depth`, `table`, `x`, `y`, `z`. These relate to the physical size of the diamond.\n",
    "\n",
    "* `carat` is the weight of the diamond\n",
    "* `depth` is the total depth percentage\t\n",
    "* `table` gives the width of top of diamond relative to widest point\n",
    "* `x`, `y`, and `z` are the length, width, and depth in mm, respectively.\n",
    "\n",
    "\n",
    "Finally, the `price` variable (which will be our target variable in this analysis) is also numeric, and gives the price of the diamond in US dollars.\n"
   ]
  },
  {
   "cell_type": "markdown",
   "metadata": {},
   "source": [
    "The following cell maps the three categorical variables to numeric equivalents according to their order, so that we can use them in our regression."
   ]
  },
  {
   "cell_type": "code",
   "execution_count": 4,
   "metadata": {},
   "outputs": [],
   "source": [
    "df[\"cut\"] = df[\"cut\"].map({\"Fair\": 1, \"Good\": 2, \"Very Good\": 3, \"Premium\": 4, \"Ideal\": 5})\n",
    "df[\"color\"] = df[\"color\"].map({\"J\": 1, \"I\": 2, \"H\": 3, \"G\": 4, \"F\": 5, \"E\": 6, \"D\": 7})\n",
    "df[\"clarity\"] = df[\"clarity\"].map({\"I1\": 1, \"SI2\": 2, \"SI1\": 3, \"VS2\": 4, \"VS1\": 5, \"VVS2\": 6, \"VVS1\": 7, \"IF\": 8})"
   ]
  },
  {
   "cell_type": "markdown",
   "metadata": {},
   "source": [
    "For convenience, the cell below will read the names of the columns we want to use as features into an array called `x_names`, and the name of the column we want to use as the target will be read into `y_names`."
   ]
  },
  {
   "cell_type": "code",
   "execution_count": 5,
   "metadata": {},
   "outputs": [],
   "source": [
    "x_names = ['carat', 'cut', 'color', 'clarity', 'depth', 'table', 'x', 'y', 'z']\n",
    "y_names = ['price']"
   ]
  },
  {
   "cell_type": "markdown",
   "metadata": {},
   "source": [
    "Using `df`, `x_names`, and `y_names`, split the data into training and test sets using `sklearn`'s implementation of `train_test_split`. \n",
    "\n",
    "* Reserve 30% of the data for testing, and leave 70% for training.\n",
    "* Shuffle the data, and use the random state specified in the PrairieLearn question page."
   ]
  },
  {
   "cell_type": "code",
   "execution_count": 6,
   "metadata": {},
   "outputs": [],
   "source": [
    "#grade (write your code in this cell and DO NOT DELETE THIS LINE)\n",
    "random_state = 13\n",
    "Xtr_df, Xts_df = train_test_split(df[x_names], test_size=0.3, random_state=random_state, shuffle=True)\n",
    "ytr_df, yts_df = train_test_split(df[y_names], test_size=0.3, random_state=random_state, shuffle=True)"
   ]
  },
  {
   "cell_type": "markdown",
   "metadata": {},
   "source": [
    "The `sklearn` implementation of `train_test_split` will return `pandas` data frames, but we'll prefer to work with this data as `numpy` arrays. The following cell will convert the data frames to arrays."
   ]
  },
  {
   "cell_type": "code",
   "execution_count": 7,
   "metadata": {},
   "outputs": [],
   "source": [
    "#grade (write your code in this cell and DO NOT DELETE THIS LINE)\n",
    "Xtr = np.array(Xtr_df)\n",
    "Xts = np.array(Xts_df)\n",
    "ytr = np.array(ytr_df)\n",
    "yts = np.array(yts_df)"
   ]
  },
  {
   "cell_type": "markdown",
   "metadata": {
    "id": "0qs_Ffz4rGIv"
   },
   "source": [
    "With Ridge (L2 norm regularization), the hyperparameter $\\alpha$ controls the \"strength\" regularization term in the objective function. We will evaluate Ridge models for the following values of $\\alpha$:"
   ]
  },
  {
   "cell_type": "code",
   "execution_count": 8,
   "metadata": {
    "id": "qyRyL0G4rGIv"
   },
   "outputs": [],
   "source": [
    "alpha_list = np.array([0, 10, 20, 50, 100, 200, 500])"
   ]
  },
  {
   "cell_type": "markdown",
   "metadata": {
    "id": "bgfdNOnyrGIw"
   },
   "source": [
    "In the following cells, we are going to set up a K-fold CV to select a value of $\\alpha$.  First, we will set up an array to hold the results of each model in each fold. (Note that our K-fold CV will use 5 folds.)"
   ]
  },
  {
   "cell_type": "code",
   "execution_count": 9,
   "metadata": {
    "id": "cDTUJvF1rGIw"
   },
   "outputs": [],
   "source": [
    "nfold = 5\n",
    "mse_val = np.zeros((len(alpha_list), nfold))"
   ]
  },
  {
   "attachments": {},
   "cell_type": "markdown",
   "metadata": {},
   "source": [
    "Now, create a KFold object using the `sklearn` implementation. Use 5 folds (and don't shuffle the data inside the K-Fold CV, since it is already shuffled from the `train_test_split`).\n",
    "\n",
    "When using a regularized model, we always standardize the data (remove the mean and scale to unit variance) first. In the \"outer loop\" (loop over folds), use the `sklearn` implementation of a `StandardScaler` to standardize the feature data (X). You should use the statistics of the training data *for that fold* to standardize both the training set and the validation set. \n",
    "\n",
    "Then, use the standardized validation data to evalute an `sklearn` `Ridge` regression model for each of the $\\alpha$ values in `alpha_list`, and save the validation MSE inside `mse_val`. Leave all the `Ridge` hyperparameters and settings at their default values, expect for `alpha`."
   ]
  },
  {
   "cell_type": "code",
   "execution_count": 10,
   "metadata": {
    "id": "YrExE062zb-U"
   },
   "outputs": [],
   "source": [
    "#grade (write your code in this cell and DO NOT DELETE THIS LINE)\n",
    "\n",
    "kf = KFold(n_splits=nfold, shuffle=False)\n",
    "\n",
    "# For each fold, standardize the data\n",
    "for ifold, (idx_tr, idx_val) in enumerate(kf.split(Xtr)):\n",
    "    X_train_fold, X_val_fold = Xtr[idx_tr], Xtr[idx_val]\n",
    "    y_train_fold, y_val_fold = ytr[idx_tr], ytr[idx_val]\n",
    "    scaler = StandardScaler().fit(X_train_fold)\n",
    "    X_train_fold_std = scaler.transform(X_train_fold)\n",
    "    X_val_fold_std = scaler.transform(X_val_fold)\n",
    "    \n",
    "    # For each alpha in the list, fit a Ridge regression model on the standardized data\n",
    "    for i, alpha in enumerate(alpha_list):\n",
    "        model = Ridge(alpha=alpha)\n",
    "        model.fit(X_train_fold_std, y_train_fold)\n",
    "        y_pred = model.predict(X_val_fold_std)\n",
    "        # update the appropriate entry in mse_val\n",
    "        mse_val[i, ifold] = mean_squared_error(y_val_fold, y_pred)"
   ]
  },
  {
   "cell_type": "markdown",
   "metadata": {
    "id": "kbRkU6KFzh0B"
   },
   "source": [
    "Next, compute the mean validation MSE for each of the models, and identify the value of $\\alpha$ for which the validation MSE is minimized."
   ]
  },
  {
   "cell_type": "code",
   "execution_count": 11,
   "metadata": {
    "colab": {
     "base_uri": "https://localhost:8080/"
    },
    "id": "9vHW4H0qzhJR",
    "outputId": "97b0b643-9f46-40cb-be1f-b9852cc62f13"
   },
   "outputs": [],
   "source": [
    "#grade (write your code in this cell and DO NOT DELETE THIS LINE)\n",
    "mse_mean = np.mean(mse_val, axis=1)\n",
    "alpha_min_mse = alpha_list[np.argmin(mse_mean)]"
   ]
  },
  {
   "attachments": {},
   "cell_type": "markdown",
   "metadata": {},
   "source": [
    "Visualize the results, and make sure the value you found is consistent with the visualization!"
   ]
  },
  {
   "cell_type": "code",
   "execution_count": 12,
   "metadata": {},
   "outputs": [
    {
     "data": {
      "image/png": "[encoded data removed]",
      "text/plain": [
       "<Figure size 640x480 with 1 Axes>"
      ]
     },
     "metadata": {},
     "output_type": "display_data"
    }
   ],
   "source": [
    "plt.scatter(alpha_list, mse_mean);\n",
    "plt.xlabel(\"alpha\");\n",
    "plt.ylabel(\"Mean squared error\");"
   ]
  },
  {
   "attachments": {},
   "cell_type": "markdown",
   "metadata": {
    "id": "5h6aK0LWxwju"
   },
   "source": [
    "Using the $\\alpha$ value you identified in the previous step, standardize the training and test sets using the statistics of the *entire* training set. Then, fit a Ridge regression model on the entire standardized training data. Finally, compute the mean squared error on the standardized test data for this model."
   ]
  },
  {
   "cell_type": "code",
   "execution_count": 13,
   "metadata": {},
   "outputs": [],
   "source": [
    "#grade (write your code in this cell and DO NOT DELETE THIS LINE)\n",
    "scaler = StandardScaler().fit(Xtr)\n",
    "Xtr_std = scaler.transform(Xtr)\n",
    "Xts_std = scaler.transform(Xts)\n",
    "model = Ridge(alpha=alpha_min_mse)\n",
    "model.fit(Xtr_std, ytr)\n",
    "y_pred = model.predict(Xts_std)\n",
    "mse_ridge = mean_squared_error(yts, y_pred)"
   ]
  },
  {
   "cell_type": "code",
   "execution_count": 14,
   "metadata": {},
   "outputs": [
    {
     "data": {
      "text/plain": [
       "1529046.102275018"
      ]
     },
     "execution_count": 14,
     "metadata": {},
     "output_type": "execute_result"
    }
   ],
   "source": [
    "mse_ridge"
   ]
  },
  {
   "cell_type": "code",
   "execution_count": null,
   "metadata": {},
   "outputs": [],
   "source": []
  }
 ],
 "metadata": {
  "colab": {
   "collapsed_sections": [],
   "provenance": []
  },
  "kernelspec": {
   "display_name": "Python 3",
   "language": "python",
   "name": "python3"
  },
  "language_info": {
   "codemirror_mode": {
    "name": "ipython",
    "version": 3
   },
   "file_extension": ".py",
   "mimetype": "text/x-python",
   "name": "python",
   "nbconvert_exporter": "python",
   "pygments_lexer": "ipython3",
   "version": "3.11.5"
  }
 },
 "nbformat": 4,
 "nbformat_minor": 4
}
