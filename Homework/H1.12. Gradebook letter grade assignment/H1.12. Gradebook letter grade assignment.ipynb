{
 "cells": [
  {
   "cell_type": "markdown",
   "metadata": {},
   "source": [
    "# Computation using numpy functions"
   ]
  },
  {
   "cell_type": "markdown",
   "metadata": {},
   "source": [
    "The workspace at the link below has a notebook with which you will read in some data from a (fictional) section of an NYU course. The data records the overall numeric course grades of each of 200 students.\n",
    "\n",
    "The instructor of this fictional course wants to assign letter grades as follows:\n",
    "\n",
    "- The top 35% of students (with the highest numeric course grade) should get an A.\n",
    "- The next 50% of students should get a B.\n",
    "- The last 15% of students should get a C.\n",
    "\n",
    "In the workspace, you will write code to realize this grade assignment.\n",
    "\n",
    "You can use the data in the workspace for reference, to implement your solution, but don't hard-code any values specific to this data, because the grader will evaluate your solution on a different data set. (For example: don't hard-code any values related to the number of rows or columns in your code - if you need them, assign these values directly from the **shape** of the data.)\n",
    "\n",
    "For full credit, implement your solution using the **numpy** function **argsort**. Also, for full credit, do not use any explicit **for** loops, **if** statements, or other control structures.\n",
    "\n",
    "| Name |\tType |\tDescription |\n",
    "| --- | --- | --- |\n",
    "**grades** |\t1d numpy array (length 200) |\tLetter grade for each student\n",
    "**a_min** |\tfloat |\tMinimum numeric grade that was assigned an A\n",
    "**b_min** |\tfloat |\tMinimum numeric grade that was assigned a B"
   ]
  },
  {
   "cell_type": "code",
   "execution_count": 1,
   "metadata": {},
   "outputs": [],
   "source": [
    "import numpy as np"
   ]
  },
  {
   "cell_type": "markdown",
   "metadata": {},
   "source": [
    "Read in the data to a `numpy` array in `x`. If you want to, you can add code to the following cell to explore `x` (for example, see its shape).\n"
   ]
  },
  {
   "cell_type": "code",
   "execution_count": 2,
   "metadata": {},
   "outputs": [],
   "source": [
    "x = np.genfromtxt('data.csv',delimiter=',')"
   ]
  },
  {
   "cell_type": "markdown",
   "metadata": {},
   "source": [
    "Create an empty `numpy` array called `grades`, with the same shape as `x`, which will hold string values:"
   ]
  },
  {
   "cell_type": "code",
   "execution_count": 3,
   "metadata": {},
   "outputs": [],
   "source": [
    "grades = np.empty(shape=x.shape, dtype='str')"
   ]
  },
  {
   "cell_type": "markdown",
   "metadata": {},
   "source": [
    "Write code to compute the letter grade (A, B, or C) for all students, and assign the results to the `grades` array. There should be a one-to-one correspondence between `x` and `grades`, i.e. the 10th entry in `x` should correspond to the same student as the 10th entry in `grades`."
   ]
  },
  {
   "cell_type": "code",
   "execution_count": 4,
   "metadata": {},
   "outputs": [],
   "source": [
    "#grade (write your code in this cell and DO NOT DELETE THIS LINE)\n",
    "sorted_indices = np.argsort(x)[::-1]\n",
    "\n",
    "num_students = len(x)\n",
    "num_A = int(np.ceil(0.35 * num_students))\n",
    "num_B = int(np.ceil(0.50 * num_students))\n",
    "num_C = num_students - num_A - num_B\n",
    "\n",
    "grades[sorted_indices[:num_A]] = 'A'\n",
    "grades[sorted_indices[num_A:num_A + num_B]] = 'B'\n",
    "grades[sorted_indices[num_A + num_B:]] = 'C'"
   ]
  },
  {
   "cell_type": "markdown",
   "metadata": {},
   "source": [
    "Then, write code to find out the minimum numeric score that got an A, and the minimum numeric score that got a B, and assign these values to `a_min` and `b_min`, respectively:"
   ]
  },
  {
   "cell_type": "code",
   "execution_count": 5,
   "metadata": {},
   "outputs": [],
   "source": [
    "#grade (write your code in this cell and DO NOT DELETE THIS LINE)\n",
    "a_min = x[sorted_indices[num_A - 1]]\n",
    "b_min = x[sorted_indices[num_A + num_B - 1]]"
   ]
  }
 ],
 "metadata": {
  "kernelspec": {
   "display_name": "Python 3",
   "language": "python",
   "name": "python3"
  },
  "language_info": {
   "codemirror_mode": {
    "name": "ipython",
    "version": 3
   },
   "file_extension": ".py",
   "mimetype": "text/x-python",
   "name": "python",
   "nbconvert_exporter": "python",
   "pygments_lexer": "ipython3",
   "version": "3.11.5"
  }
 },
 "nbformat": 4,
 "nbformat_minor": 4
}
