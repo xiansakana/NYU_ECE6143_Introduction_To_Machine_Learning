{
  "cells": [
    {
      "cell_type": "markdown",
      "id": "bc93db2d-22b8-486f-87f5-a4575d248afc",
      "metadata": {
        "id": "bc93db2d-22b8-486f-87f5-a4575d248afc"
      },
      "source": [
        "# Colab tour\n",
        "\n",
        "*Fraida Fund*"
      ]
    },
    {
      "cell_type": "markdown",
      "id": "5d164569-4416-4d17-9df7-5a5917f3b6b4",
      "metadata": {
        "id": "5d164569-4416-4d17-9df7-5a5917f3b6b4"
      },
      "source": [
        "### Attribution\n",
        "\n",
        "-   Parts of this notebook are from Google’s own [Overview of Colab features](https://colab.research.google.com/notebooks/basic_features_overview.ipynb).\n",
        "-   Parts of this notebook are from the [I/O example notebook](https://colab.research.google.com/notebooks/io.ipynb)"
      ]
    },
    {
      "cell_type": "markdown",
      "id": "14420ec8-9cbd-4491-b31d-d581aeb7578c",
      "metadata": {
        "id": "14420ec8-9cbd-4491-b31d-d581aeb7578c"
      },
      "source": [
        "## Introduction\n",
        "\n",
        "Colaboratory - “Colab” for short - is a web application that lets you develop Python code in a “notebook” format, directly in your browser.\n",
        "\n",
        "It is especially well suited for machine learning, because:\n",
        "\n",
        "-   It provides free access to GPUs, which will be very helpful later in the course when we are working with neural networks. (There are some limits to this free access, however.)\n",
        "-   It has many of the most popular machine learning libraries already pre-installed, and you can manually install any other libraries you might need (for example, for your project).\n",
        "-   It is easy to share Colab notebooks with others.\n",
        "\n",
        "All of the lab assignments and demos in this course are designed to run on Colab."
      ]
    },
    {
      "cell_type": "markdown",
      "id": "0764bc91-d2de-40bb-9185-45245d2727de",
      "metadata": {
        "id": "0764bc91-d2de-40bb-9185-45245d2727de"
      },
      "source": [
        "This notebook is a “tour” of Colab. You won’t necessarily use all the features demonstrated in this notebook right away, but they’ll be helpful over the course of the semester. So, review this notebook once, then keep it handy to refer back to when needed!"
      ]
    },
    {
      "cell_type": "markdown",
      "id": "dcbcbafc-0e78-4fcf-881e-f1e393e9fb5e",
      "metadata": {
        "id": "dcbcbafc-0e78-4fcf-881e-f1e393e9fb5e"
      },
      "source": [
        "## Saving a notebook"
      ]
    },
    {
      "cell_type": "markdown",
      "id": "261e7872-6603-40d3-9672-5e08dcf011bf",
      "metadata": {
        "id": "261e7872-6603-40d3-9672-5e08dcf011bf"
      },
      "source": [
        "When you open a Colab notebook that has been shared with you on a read-only basis (like this one, and all of the others we’ll use in this course!), you can run code and make changes to the notebook, but your code and output won’t be saved.\n",
        "\n",
        "To save your work, when you first open the notebook, make sure you are logged in to your NYU Google account. Then, click File \\> Save a Copy in Drive. This will save a copy of the notebook in your Google Drive, in a folder called Colab Notebooks. Run and edit code in the copy, rather than the original notebook."
      ]
    },
    {
      "cell_type": "markdown",
      "id": "10bfa5c4-fa61-42ac-8585-7f8e78aee76f",
      "metadata": {
        "id": "10bfa5c4-fa61-42ac-8585-7f8e78aee76f"
      },
      "source": [
        "## Cell basics"
      ]
    },
    {
      "cell_type": "markdown",
      "id": "758fb1da-bc95-4a3f-8f0e-6bfbd2d0bef3",
      "metadata": {
        "id": "758fb1da-bc95-4a3f-8f0e-6bfbd2d0bef3"
      },
      "source": [
        "A notebook is a list of “cells”. Each cell contains either text or executable code."
      ]
    },
    {
      "cell_type": "markdown",
      "id": "2dfaa5f6-2fba-41c3-befa-0e2bff3184af",
      "metadata": {
        "id": "2dfaa5f6-2fba-41c3-befa-0e2bff3184af"
      },
      "source": [
        "There are a few ways to create a new cell:\n",
        "\n",
        "You can click on the +Code or +Text buttons near the top left of the Colab interface:\n",
        "\n",
        "<figure>\n",
        "<img src=\"https://raw.githubusercontent.com/ffund/ml-notebooks/master/notebooks/images/colab-tour-newcell-0.png\" alt=\"Create a new Colab cell from the toolbar.\" />\n",
        "<figcaption aria-hidden=\"true\">Create a new Colab cell from the toolbar.</figcaption>\n",
        "</figure>\n",
        "\n",
        "You can move your mouse near the bottom of any existing cell to see +Code and +Text buttons appear, then click on one of those:\n",
        "\n",
        "<figure>\n",
        "<img src=\"https://raw.githubusercontent.com/ffund/ml-notebooks/master/notebooks/images/colab-tour-newcell-1.png\" alt=\"Create a new Colab cell from the bottom of existing cell.\" />\n",
        "<figcaption aria-hidden=\"true\">Create a new Colab cell from the bottom of existing cell.</figcaption>\n",
        "</figure>\n",
        "\n",
        "Or you can use Insert \\> Code cell or Insert \\> Text cell from the menu bar.\n",
        "\n",
        "<figure>\n",
        "<img src=\"https://raw.githubusercontent.com/ffund/ml-notebooks/master/notebooks/images/colab-tour-newcell-2.png\" alt=\"Create a new Colab cell from the menu bar.\" />\n",
        "<figcaption aria-hidden=\"true\">Create a new Colab cell from the menu bar.</figcaption>\n",
        "</figure>"
      ]
    },
    {
      "cell_type": "markdown",
      "id": "eed2f88d-cc92-46f9-8852-b240ca72de93",
      "metadata": {
        "id": "eed2f88d-cc92-46f9-8852-b240ca72de93"
      },
      "source": [
        "Double-click on any cell to edit the cell.\n",
        "\n",
        "To delete a cell, click on the trash icon that appears in the top right when you click on the cell:\n",
        "\n",
        "<figure>\n",
        "<img src=\"https://raw.githubusercontent.com/ffund/ml-notebooks/master/notebooks/images/colab-tour-delete-0.png\" alt=\"Delete a Colab cell.\" />\n",
        "<figcaption aria-hidden=\"true\">Delete a Colab cell.</figcaption>\n",
        "</figure>\n",
        "\n",
        "Or, you can right-click on a cell and choose “Delete cell”.\n",
        "\n",
        "<figure>\n",
        "<img src=\"https://raw.githubusercontent.com/ffund/ml-notebooks/master/notebooks/images/colab-tour-delete-1.png\" alt=\"Delete a Colab cell from the context menu.\" />\n",
        "<figcaption aria-hidden=\"true\">Delete a Colab cell from the context menu.</figcaption>\n",
        "</figure>"
      ]
    },
    {
      "cell_type": "markdown",
      "id": "066a5369-fea1-44cc-9cec-18b51b299163",
      "metadata": {
        "id": "066a5369-fea1-44cc-9cec-18b51b299163"
      },
      "source": [
        "### Text cells\n",
        "\n",
        "Text cells can be used to explain your code, or to comment on the output.\n",
        "\n",
        "Text cells are formatted using markdown syntax to add headers, lists, bold or italic text, etc. To learn more, see this [markdown reference](https://colab.research.google.com/notebooks/markdown_guide.ipynb).\n",
        "\n",
        "You can also add math to text cells using [LaTeX](http://www.latex-project.org/). Just place the statement within a pair of **\\$** signs. For example,\n",
        "\n",
        "`$\\sqrt{3x-1}+(1+x)^2$`\n",
        "\n",
        "is rendered as\n",
        "\n",
        "$\\sqrt{3x-1}+(1+x)^2.$"
      ]
    },
    {
      "cell_type": "markdown",
      "id": "98676bb0-94bc-46bd-996a-a9d05f3eeb6c",
      "metadata": {
        "id": "98676bb0-94bc-46bd-996a-a9d05f3eeb6c"
      },
      "source": [
        "### Code cells\n",
        "\n",
        "Your Python code will go in code cells. For example:"
      ]
    },
    {
      "cell_type": "code",
      "execution_count": 1,
      "id": "cf5b064e-b3f4-4006-916e-3ef79f1e8b19",
      "metadata": {
        "id": "cf5b064e-b3f4-4006-916e-3ef79f1e8b19"
      },
      "outputs": [
        {
          "data": {
            "text/plain": [
              "10"
            ]
          },
          "execution_count": 1,
          "metadata": {},
          "output_type": "execute_result"
        }
      ],
      "source": [
        "a = 10\n",
        "a"
      ]
    },
    {
      "cell_type": "markdown",
      "id": "8b455625-912a-431d-8a96-459c7c38de13",
      "metadata": {
        "id": "8b455625-912a-431d-8a96-459c7c38de13"
      },
      "source": [
        "To run the code in the cell above, press the Play button that appears on the left side of the cell when you move your mouse over it. The output will appear immediately below the cell."
      ]
    },
    {
      "cell_type": "markdown",
      "id": "856702a2-3da0-47ee-851d-130cac90822d",
      "metadata": {
        "id": "856702a2-3da0-47ee-851d-130cac90822d"
      },
      "source": [
        "Colab also has some extra features to help you write Python code. One helpful feature is autocompletion. For example, run the following cell, which assigns a value to the variable named `course_description`:"
      ]
    },
    {
      "cell_type": "code",
      "execution_count": 2,
      "id": "f1be1fbf-adad-4830-b03f-0ad58d4c6053",
      "metadata": {
        "id": "f1be1fbf-adad-4830-b03f-0ad58d4c6053"
      },
      "outputs": [],
      "source": [
        "course_description = \"Intro to Machine Learning\""
      ]
    },
    {
      "cell_type": "markdown",
      "id": "a9771604-d10f-483a-a1f1-55985efe86f7",
      "metadata": {
        "id": "a9771604-d10f-483a-a1f1-55985efe86f7"
      },
      "source": [
        "Now, suppose you want to print the course description. In the next cell, start to type\n",
        "\n",
        "``` python\n",
        "print(course_description)\n",
        "```"
      ]
    },
    {
      "cell_type": "code",
      "execution_count": null,
      "id": "bc128bb1-3e7c-429f-9fd3-c23c40b486ca",
      "metadata": {
        "id": "bc128bb1-3e7c-429f-9fd3-c23c40b486ca"
      },
      "outputs": [],
      "source": []
    },
    {
      "cell_type": "markdown",
      "id": "44151e2a-9a33-40c6-935a-60ee21dbe127",
      "metadata": {
        "id": "44151e2a-9a33-40c6-935a-60ee21dbe127"
      },
      "source": [
        "After you type the first few characters, you’ll see a menu near your cursor that offers to auto-complete the name of the variable you used earlier. You can press Tab to accept the offer.\n",
        "\n",
        "<figure>\n",
        "<img src=\"https://raw.githubusercontent.com/ffund/ml-notebooks/master/notebooks/images/colab-tour-auto-0.png\" alt=\"Auto-complete in Colab.\" />\n",
        "<figcaption aria-hidden=\"true\">Auto-complete in Colab.</figcaption>\n",
        "</figure>"
      ]
    },
    {
      "cell_type": "markdown",
      "id": "10fdb0c1-fe26-41c2-95c4-08164023a4f0",
      "metadata": {
        "id": "10fdb0c1-fe26-41c2-95c4-08164023a4f0"
      },
      "source": [
        "You may also notice that Colab will show you documentation for a function immediately after you type the function name and open parentheses:\n",
        "\n",
        "<figure>\n",
        "<img src=\"https://raw.githubusercontent.com/ffund/ml-notebooks/master/notebooks/images/colab-tour-auto-1.png\" alt=\"Colab shows documentation for a function.\" />\n",
        "<figcaption aria-hidden=\"true\">Colab shows documentation for a function.</figcaption>\n",
        "</figure>"
      ]
    },
    {
      "cell_type": "markdown",
      "id": "46040b1e-c2ca-4b4e-907c-2f683f71a943",
      "metadata": {
        "id": "46040b1e-c2ca-4b4e-907c-2f683f71a943"
      },
      "source": [
        "Another interesting feature of Colab is that in addition to running Python code, you can also run commands on the underlying (Linux) operating system.\n",
        "\n",
        "To run a command on the underlying operating system, just preface the Linux command with a `!`. For example, try to run the [`pwd` command](https://man7.org/linux/man-pages/man1/pwd.1.html), which will **p**rint the name of your **w**orking **d**irectory:"
      ]
    },
    {
      "cell_type": "code",
      "execution_count": 3,
      "id": "861ae392-862c-4981-be97-b69de593522f",
      "metadata": {
        "id": "861ae392-862c-4981-be97-b69de593522f"
      },
      "outputs": [
        {
          "name": "stderr",
          "output_type": "stream",
          "text": [
            "'pwd' �����ڲ����ⲿ���Ҳ���ǿ����еĳ���\n",
            "���������ļ���\n"
          ]
        }
      ],
      "source": [
        "!pwd"
      ]
    },
    {
      "cell_type": "markdown",
      "id": "e7e76703-e39f-4cd3-9cc2-2dbe4b2b4f8e",
      "metadata": {
        "id": "e7e76703-e39f-4cd3-9cc2-2dbe4b2b4f8e"
      },
      "source": [
        "### Running code cells"
      ]
    },
    {
      "cell_type": "markdown",
      "id": "92bb8bc6-5851-4c94-8a4c-9a11e67c0f33",
      "metadata": {
        "id": "92bb8bc6-5851-4c94-8a4c-9a11e67c0f33"
      },
      "source": [
        "You can run code cells one at a time, or run cells in groups.\n",
        "\n",
        "To run a single code cell, press the Play button that appears on the left side of the cell when you move your mouse over it:\n",
        "\n",
        "<figure>\n",
        "<img src=\"https://raw.githubusercontent.com/ffund/ml-notebooks/master/notebooks/images/colab-tour-run-0.png\" alt=\"Run a single code cell from the Play button\" />\n",
        "<figcaption aria-hidden=\"true\">Run a single code cell from the Play button</figcaption>\n",
        "</figure>\n",
        "\n",
        "Try to run the following cell. The output of the code will appear below the cell when it runs."
      ]
    },
    {
      "cell_type": "code",
      "execution_count": 4,
      "id": "cafe0e32-e95a-4a05-b216-4cd6c67fb3a8",
      "metadata": {
        "id": "cafe0e32-e95a-4a05-b216-4cd6c67fb3a8"
      },
      "outputs": [
        {
          "name": "stdout",
          "output_type": "stream",
          "text": [
            "Hello world\n"
          ]
        }
      ],
      "source": [
        "print(\"Hello world\")"
      ]
    },
    {
      "cell_type": "markdown",
      "id": "eb81f7e3-dced-45d5-aebe-68882e4eb027",
      "metadata": {
        "id": "eb81f7e3-dced-45d5-aebe-68882e4eb027"
      },
      "source": [
        "You can also click on a cell (to make it the “focused” cell), then choose Runtime \\> Run the focused cell from the menu:\n",
        "\n",
        "<figure>\n",
        "<img src=\"https://raw.githubusercontent.com/ffund/ml-notebooks/master/notebooks/images/colab-tour-run-1.png\" alt=\"Run a single code cell from the menu\" />\n",
        "<figcaption aria-hidden=\"true\">Run a single code cell from the menu</figcaption>\n",
        "</figure>"
      ]
    },
    {
      "cell_type": "markdown",
      "id": "329bddea-cf0f-4c99-a507-0273f076ce1d",
      "metadata": {
        "id": "329bddea-cf0f-4c99-a507-0273f076ce1d"
      },
      "source": [
        "As you can see, the runtime menu includes several other useful options. You can:\n",
        "\n",
        "-   Run all of the code cells in the entire notebook\n",
        "-   Run all of the code cells *before* the currently focused cell\n",
        "-   Run all of the code cells *after* the currently focused cell (including the currently focused cell)\n",
        "\n",
        "These are especially helpful when you modify code. For example, suppose you have a notebook with:\n",
        "\n",
        "-   (Part 1) several cells that load in and prepare data\n",
        "-   (Part 2) several cells that prepare and train a machine learning model on this data\n",
        "-   (Part 3) several cells that evaluate and visualize the effectiveness of the model\n",
        "\n",
        "and you have run the entire notebook, but are not satisfied with the results. So, you modify the training procedure in the middle part of the notebook.\n",
        "\n",
        "You don’t have to re-run the cells that load in and prepare the data (Part 1), since those cells are not affected by the changes to the training procedure. But, you do need to re-run some of Part 2 and all of Part 3, so that you can train the model using the modified procedure and visualize the *new* results. In this case, you would select the cell you modified, and use Runtime \\> Run After to re-run that cell and all cells that follow.\n",
        "\n",
        "One common mistake to be careful of: students sometimes modify the code in a cell, re-run that cell, but forget to re-run all the later cells that depend on the modified cell."
      ]
    },
    {
      "cell_type": "markdown",
      "id": "1d76e63c-6b60-415e-8bfb-8c64d9485f9f",
      "metadata": {
        "id": "1d76e63c-6b60-415e-8bfb-8c64d9485f9f"
      },
      "source": [
        "When you run a cell, a number will appear in the left side of the cell, indicating the order in which the cell was executed. For example, consider the following set of three cells:"
      ]
    },
    {
      "cell_type": "code",
      "execution_count": 5,
      "id": "147d99a5-f7e5-44ef-bb37-50d6102535df",
      "metadata": {
        "id": "147d99a5-f7e5-44ef-bb37-50d6102535df"
      },
      "outputs": [],
      "source": [
        "message = \"Hello world\""
      ]
    },
    {
      "cell_type": "code",
      "execution_count": 6,
      "id": "1a6000cc-464c-47d4-81cb-54cd55df03f2",
      "metadata": {
        "id": "1a6000cc-464c-47d4-81cb-54cd55df03f2"
      },
      "outputs": [],
      "source": [
        "prefix = \"Message:\""
      ]
    },
    {
      "cell_type": "code",
      "execution_count": 7,
      "id": "3674b932-63bb-4842-942f-56662ce03f9f",
      "metadata": {
        "id": "3674b932-63bb-4842-942f-56662ce03f9f"
      },
      "outputs": [
        {
          "name": "stdout",
          "output_type": "stream",
          "text": [
            "Message: Hello world\n"
          ]
        }
      ],
      "source": [
        "print(prefix, message)"
      ]
    },
    {
      "cell_type": "markdown",
      "id": "d651bac1-8b40-48a5-8c45-404982281bd4",
      "metadata": {
        "id": "d651bac1-8b40-48a5-8c45-404982281bd4"
      },
      "source": [
        "If you run those three cells in order, you would expect to see consecutive execution numbers, like this:\n",
        "\n",
        "<figure>\n",
        "<img src=\"https://raw.githubusercontent.com/ffund/ml-notebooks/master/notebooks/images/colab-tour-cell-order-0.png\" alt=\"Cells with consecutive execution numbers\" />\n",
        "<figcaption aria-hidden=\"true\">Cells with consecutive execution numbers</figcaption>\n",
        "</figure>"
      ]
    },
    {
      "cell_type": "markdown",
      "id": "3b374d1f-c195-48b7-9bb8-c5a906f6e49d",
      "metadata": {
        "id": "3b374d1f-c195-48b7-9bb8-c5a906f6e49d"
      },
      "source": [
        "Sometimes, you may have a cell that runs for a very long time, or is stuck, and needs to be interrupted. Use Runtime \\> Interrupt Execution to interrupt a running cell.\n",
        "\n",
        "Try it now - run the cell below, then interrupt it using the Runtime menu."
      ]
    },
    {
      "cell_type": "code",
      "execution_count": 8,
      "id": "622ec1c1-b78b-403c-ab35-b912fcdddcbb",
      "metadata": {
        "id": "622ec1c1-b78b-403c-ab35-b912fcdddcbb"
      },
      "outputs": [
        {
          "name": "stdout",
          "output_type": "stream",
          "text": [
            "Sleeping\n",
            "Done Sleeping\n"
          ]
        }
      ],
      "source": [
        "import time\n",
        "print(\"Sleeping\")\n",
        "time.sleep(60) # sleep for a while; interrupt me!\n",
        "print(\"Done Sleeping\")"
      ]
    },
    {
      "cell_type": "markdown",
      "id": "26e0aaf1-5313-4591-b985-9f5358d1ef63",
      "metadata": {
        "id": "26e0aaf1-5313-4591-b985-9f5358d1ef63"
      },
      "source": [
        "## Filesystems\n",
        "\n",
        "When using Colab for machine learning, we often need to get data into the Colab runtime’s filesystem. This section describes several ways to interact with the Colab filesystem, including three ways to get data into the filesystem:\n",
        "\n",
        "-   downloading a file from the Internet\n",
        "-   uploading a file from your computer\n",
        "-   storing a file in your Google Drive, and connecting your Drive to your Colab session"
      ]
    },
    {
      "cell_type": "markdown",
      "id": "52489384-7afe-4e88-a1f0-5314b71d4917",
      "metadata": {
        "id": "52489384-7afe-4e88-a1f0-5314b71d4917"
      },
      "source": [
        "When you run a Colab notebook, your “working directory” - the directory from which your code executes - is, by default, `/content`. This directory will contain a `sample_data` subdirectory."
      ]
    },
    {
      "cell_type": "markdown",
      "id": "8db0b25a-6365-4ada-b2c9-748dcce655d9",
      "metadata": {
        "id": "8db0b25a-6365-4ada-b2c9-748dcce655d9"
      },
      "source": [
        "On the side of the Colab interface, you’ll see a folder icon. You can click on this icon to open a file explorer, where you can point and click to navigate the filesystem.\n",
        "\n",
        "<figure>\n",
        "<img src=\"https://raw.githubusercontent.com/ffund/ml-notebooks/master/notebooks/images/colab-tour-filexplore-0.png\" alt=\"Point-and-click interface for navigating filesystem.\" />\n",
        "<figcaption aria-hidden=\"true\">Point-and-click interface for navigating filesystem.</figcaption>\n",
        "</figure>"
      ]
    },
    {
      "cell_type": "markdown",
      "id": "e1d79d79-4430-4e0f-9a44-0b032f896056",
      "metadata": {
        "id": "e1d79d79-4430-4e0f-9a44-0b032f896056"
      },
      "source": [
        "If you are familiar with standard Linux commands for navigating a filesystem - `ls`, `cd`, `mv`, `pwd` - you can also use those commands in code cells, prefaced with a `!` as shown above. One special exception to note: when using `cd` in Colab, preface the command with a `%` instead of a `!`."
      ]
    },
    {
      "cell_type": "markdown",
      "id": "81dafed9-9321-41f8-b3d5-8f26a3084680",
      "metadata": {
        "id": "81dafed9-9321-41f8-b3d5-8f26a3084680"
      },
      "source": [
        "### Downloading a file\n",
        "\n",
        "One way to get data into the Colab filesystem is to download it from the Internet using the Linux command `wget`. Pass the URL of the file you want to download as an argument to `wget`. You can optionally specify the name of the output file using the `-O` argument. For example:"
      ]
    },
    {
      "cell_type": "code",
      "execution_count": 9,
      "id": "e9407754-6c17-4c3b-bce7-40be9d4cc600",
      "metadata": {
        "id": "e9407754-6c17-4c3b-bce7-40be9d4cc600"
      },
      "outputs": [
        {
          "name": "stderr",
          "output_type": "stream",
          "text": [
            "'wget' �����ڲ����ⲿ���Ҳ���ǿ����еĳ���\n",
            "���������ļ���\n"
          ]
        }
      ],
      "source": [
        "!wget https://www.statlearning.com/s/Advertising.csv -O Advertising.csv"
      ]
    },
    {
      "cell_type": "markdown",
      "id": "b0b2f680-c3fa-4546-9d2a-8965b3ddedb1",
      "metadata": {
        "id": "b0b2f680-c3fa-4546-9d2a-8965b3ddedb1"
      },
      "source": [
        "After a brief delay, you should see the `Advertising.csv` file in the file explorer. (You can click the “Refresh” button, shown highlighted in red below, to update your view.) You can expand the file menu to interact with the file, to download it, rename it, or delete it.\n",
        "\n",
        "<figure>\n",
        "<img src=\"https://raw.githubusercontent.com/ffund/ml-notebooks/master/notebooks/images/colab-tour-filexplore-1.png\" alt=\"View a downloaded file in the file explorer.\" />\n",
        "<figcaption aria-hidden=\"true\">View a downloaded file in the file explorer.</figcaption>\n",
        "</figure>"
      ]
    },
    {
      "cell_type": "markdown",
      "id": "8dcc3ded-0600-4d26-9653-ff9894e53eba",
      "metadata": {
        "id": "8dcc3ded-0600-4d26-9653-ff9894e53eba"
      },
      "source": [
        "### Uploading a file\n",
        "\n",
        "Another way to get data files or other files into Colab is to upload them from your computer. The following cell is a “snippet” for uploading files - run it, click on Choose File in the output below the cell, upload a file, and then make sure you see it in the file browser after a few moments."
      ]
    },
    {
      "cell_type": "code",
      "execution_count": 10,
      "id": "4d14f0e4-1c85-4c6d-bd9c-fd30603af574",
      "metadata": {
        "id": "4d14f0e4-1c85-4c6d-bd9c-fd30603af574"
      },
      "outputs": [
        {
          "ename": "ModuleNotFoundError",
          "evalue": "No module named 'google'",
          "output_type": "error",
          "traceback": [
            "\u001b[1;31m---------------------------------------------------------------------------\u001b[0m",
            "\u001b[1;31mModuleNotFoundError\u001b[0m                       Traceback (most recent call last)",
            "Cell \u001b[1;32mIn[10], line 1\u001b[0m\n\u001b[1;32m----> 1\u001b[0m \u001b[38;5;28;01mfrom\u001b[39;00m \u001b[38;5;21;01mgoogle\u001b[39;00m\u001b[38;5;21;01m.\u001b[39;00m\u001b[38;5;21;01mcolab\u001b[39;00m \u001b[38;5;28;01mimport\u001b[39;00m files\n\u001b[0;32m      3\u001b[0m uploaded \u001b[38;5;241m=\u001b[39m files\u001b[38;5;241m.\u001b[39mupload()\n\u001b[0;32m      5\u001b[0m \u001b[38;5;28;01mfor\u001b[39;00m fn \u001b[38;5;129;01min\u001b[39;00m uploaded\u001b[38;5;241m.\u001b[39mkeys():\n",
            "\u001b[1;31mModuleNotFoundError\u001b[0m: No module named 'google'"
          ]
        }
      ],
      "source": [
        "from google.colab import files\n",
        "\n",
        "uploaded = files.upload()\n",
        "\n",
        "for fn in uploaded.keys():\n",
        "  print('User uploaded file \"{name}\" with length {length} bytes'.format(\n",
        "      name=fn, length=len(uploaded[fn])))"
      ]
    },
    {
      "cell_type": "markdown",
      "id": "a4cad9bd-799f-4346-9a52-ec9332602a3f",
      "metadata": {
        "id": "a4cad9bd-799f-4346-9a52-ec9332602a3f"
      },
      "source": [
        "You can also use the file explorer directly to upload files by clicking on the Upload button:\n",
        "\n",
        "<figure>\n",
        "<img src=\"https://raw.githubusercontent.com/ffund/ml-notebooks/master/notebooks/images/colab-tour-filexplore-2.png\" alt=\"Upload a file directly from the file explorer.\" />\n",
        "<figcaption aria-hidden=\"true\">Upload a file directly from the file explorer.</figcaption>\n",
        "</figure>"
      ]
    },
    {
      "cell_type": "markdown",
      "id": "3a3da176-0f92-4795-847a-338eec467cd9",
      "metadata": {
        "id": "3a3da176-0f92-4795-847a-338eec467cd9"
      },
      "source": [
        "### Mounting a Google Drive\n",
        "\n",
        "Note that files downloaded from the Internet or uploaded from your computer are not *persistent* - they are deleted when your Colab session ends.\n",
        "\n",
        "Sometimes, it is useful to have a persistent file in your Colab session. For example, if you are working with a very large dataset, you may not want to download it or upload it each time you start a Colab session - this can take a long time! For *persistent* storage, you can save the file in your Google Drive, then *mount* your Google Drive in your Colab session to access the file from Colab."
      ]
    },
    {
      "cell_type": "markdown",
      "id": "3e8ae57c-c4c8-485c-8380-9d094a6b4d20",
      "metadata": {
        "id": "3e8ae57c-c4c8-485c-8380-9d094a6b4d20"
      },
      "source": [
        "To mount your Google Drive in the Colab session, run the following cell:"
      ]
    },
    {
      "cell_type": "code",
      "execution_count": null,
      "id": "b03c2192-0e03-490a-8b97-04cebc4749f9",
      "metadata": {
        "id": "b03c2192-0e03-490a-8b97-04cebc4749f9"
      },
      "outputs": [],
      "source": [
        "from google.colab import drive\n",
        "drive.mount('/content/drive')"
      ]
    },
    {
      "cell_type": "markdown",
      "id": "8adf1031-12cf-47f3-8712-846e1413c42c",
      "metadata": {
        "id": "8adf1031-12cf-47f3-8712-846e1413c42c"
      },
      "source": [
        "Click on the link in the output:\n",
        "\n",
        "<figure>\n",
        "<img src=\"https://raw.githubusercontent.com/ffund/ml-notebooks/master/notebooks/images/colab-tour-gdrive-0.png\" alt=\"Link to get authorization code to mount Google Drive.\" />\n",
        "<figcaption aria-hidden=\"true\">Link to get authorization code to mount Google Drive.</figcaption>\n",
        "</figure>\n",
        "\n",
        "and sign in to the Google account that you want to connect.\n",
        "\n",
        "Then, click the button to copy the authorization code:\n",
        "\n",
        "<figure>\n",
        "<img src=\"https://raw.githubusercontent.com/ffund/ml-notebooks/master/notebooks/images/colab-tour-gdrive-1.png\" alt=\"Copy the Google Drive authorization code.\" />\n",
        "<figcaption aria-hidden=\"true\">Copy the Google Drive authorization code.</figcaption>\n",
        "</figure>\n",
        "\n",
        "Paste the code into the text input box in the cell output:\n",
        "\n",
        "<figure>\n",
        "<img src=\"https://raw.githubusercontent.com/ffund/ml-notebooks/master/notebooks/images/colab-tour-gdrive-2.png\" alt=\"Enter the Google Drive authorization code.\" />\n",
        "<figcaption aria-hidden=\"true\">Enter the Google Drive authorization code.</figcaption>\n",
        "</figure>\n",
        "\n",
        "Then, hit Enter to connect your Google Drive. You should then see a `drive` directory, containing all of your Google Drive files and folders, in the file explorer:\n",
        "\n",
        "<figure>\n",
        "<img src=\"https://raw.githubusercontent.com/ffund/ml-notebooks/master/notebooks/images/colab-tour-gdrive-3.png\" alt=\"Google Drive is mounted in Colab.\" />\n",
        "<figcaption aria-hidden=\"true\">Google Drive is mounted in Colab.</figcaption>\n",
        "</figure>\n",
        "\n",
        "Any changes you make to files in that folder - including modifying, adding, or deleting files - will be reflected in your Google Drive. Similarly, any changes you make to files in other Google Drive clients will be reflected in this Colab session."
      ]
    },
    {
      "cell_type": "markdown",
      "id": "e61ce428-66c1-4df9-a8c9-888386cd7849",
      "metadata": {
        "id": "e61ce428-66c1-4df9-a8c9-888386cd7849"
      },
      "source": [
        "To disconnect a Google Drive session from Colab, run the code in the following cell:"
      ]
    },
    {
      "cell_type": "code",
      "execution_count": null,
      "id": "aabe142c-bdb8-4aca-b728-07b5191fa0f4",
      "metadata": {
        "id": "aabe142c-bdb8-4aca-b728-07b5191fa0f4"
      },
      "outputs": [],
      "source": [
        "drive.flush_and_unmount()"
      ]
    },
    {
      "cell_type": "markdown",
      "id": "725bd5f8-e28d-4098-9c60-6620e927e787",
      "metadata": {
        "id": "725bd5f8-e28d-4098-9c60-6620e927e787"
      },
      "source": [
        "## Runtimes - under the hood\n",
        "\n",
        "How does this all work? When you use Colab, a virtual machine is allocated especially for your use. This virtual machine includes:\n",
        "\n",
        "-   a compute resource - CPU or GPU\n",
        "-   a disk, with an operating system and key software (including Python and many data science/machine learning libraries) preinstalled\n",
        "-   RAM\n",
        "\n",
        "You can do anything you need to do on this VM (including downloading files, installing software, and of course, running Python code) for as long as the VM is allocated to you."
      ]
    },
    {
      "cell_type": "markdown",
      "id": "0a41c23e-f626-4f1a-b821-3320f940e3d4",
      "metadata": {
        "id": "0a41c23e-f626-4f1a-b821-3320f940e3d4"
      },
      "source": [
        "### Runtime types\n",
        "\n",
        "Colab comes with three “types” of runtimes:\n",
        "\n",
        "-   no hardware acceleration (i.e. CPU)\n",
        "-   GPU\n",
        "-   TPU\n",
        "\n",
        "However, because GPU and TPU resources are relatively scarce, there are stricter limits imposed on their use. Therefore, you should use a CPU notebook unless you are doing something that benefits from hardware acceleration. If you overuse GPU runtimes when you don’t really need them, Colab will prevent you from using GPU runtimes when you *do* use them!"
      ]
    },
    {
      "cell_type": "markdown",
      "id": "b815ff0a-4a11-4bab-aa59-b0b198a35d1c",
      "metadata": {
        "id": "b815ff0a-4a11-4bab-aa59-b0b198a35d1c"
      },
      "source": [
        "To check what runtime type you are using, or to change the runtime type, click on Runtime \\> Change Runtime Type in the Colab menu. For a CPU runtime, make sure Hardware Acceleration is set to None. Then, choose Save.\n",
        "\n",
        "**Note**: When you change the runtime type, it restarts the runtime, which means that any variables etc. saved in memory will be gone. So it’s a good idea to set up your runtime *before* you start running any code in the notebook."
      ]
    },
    {
      "cell_type": "markdown",
      "id": "9cb39bf1-a653-47e7-8613-26d3e1e962bb",
      "metadata": {
        "id": "9cb39bf1-a653-47e7-8613-26d3e1e962bb"
      },
      "source": [
        "Once you have set or confirmed your desired runtime type, you can connect to a runtime. “Connecting to a runtime” means that you ask Colab to allocate a virtual machine (of the desired type) to you, and connect it to your session.\n",
        "\n",
        "There are two ways to connect to a runtime:\n",
        "\n",
        "-   Run any code cell - this will automatically connect your session to a runtime, if you are not already connected. (If you have already run the code cells above, your session is connected to a runtime!)\n",
        "-   Click the Connect button near the top right part of the Colab interface.\n",
        "\n",
        "<figure>\n",
        "<img src=\"https://raw.githubusercontent.com/ffund/ml-notebooks/master/notebooks/images/colab-tour-connect-0.png\" alt=\"Click here to connect to a Colab runtime\" />\n",
        "<figcaption aria-hidden=\"true\">Click here to connect to a Colab runtime</figcaption>\n",
        "</figure>"
      ]
    },
    {
      "cell_type": "markdown",
      "id": "58efb3e8-c9a2-4d1c-ad84-8a474f5b2b23",
      "metadata": {
        "id": "58efb3e8-c9a2-4d1c-ad84-8a474f5b2b23"
      },
      "source": [
        "### Resource limits\n",
        "\n",
        "Colab is free to use, but several limitations apply to your usage:\n",
        "\n",
        "-   overall usage - there is a limit to how much Colab compute time you can use per day or per week, especially if you are using GPU. If you exceed this limit, you won’t be able to use Colab for a short “cooling off” period.\n",
        "-   maximum VM lifetime - there is a limit to how long you can keep an allocated runtime. After this limit is exceeded, you will be disconnected from the runtime, and the virtual machine will be recyled.\n",
        "-   idle timeout period - there is a limit to how long your session will stay connected to a runtime if you are not actively using it. After this limit is exceeded, you will be disconnected from the runtime. Depending on the circumstances, it may be recyled, or you may be able to re-connect to the same runtime.\n",
        "-   GPU availability - GPU availability is not guaranteed, and you may not be able to access a GPU runtime on demand (especially if you have a lot of recent GPU usage)."
      ]
    },
    {
      "cell_type": "markdown",
      "id": "b7a94054-8c9a-4912-93b5-5421f9b1c82f",
      "metadata": {
        "id": "b7a94054-8c9a-4912-93b5-5421f9b1c82f"
      },
      "source": [
        "The lab assignments and demos in this course are designed carefully to avoid bumping up against these limitations, so that you can use Colab throughout the semester!\n",
        "\n",
        "But, this applies only if you:\n",
        "\n",
        "-   don’t use GPU resources when not necessary.\n",
        "-   close your Colab tabs when you are done working."
      ]
    },
    {
      "cell_type": "markdown",
      "id": "be6bbca0-aca4-4f0d-a153-a5c436786f91",
      "metadata": {
        "id": "be6bbca0-aca4-4f0d-a153-a5c436786f91"
      },
      "source": [
        "In addition to the limits mentioned above, each Colab VM has some disk space and RAM allocated to it.\n",
        "\n",
        "Once you are connected to a runtime, you will see a bar graph in this space that shows you your current RAM and disk space usage. If you move your mouse over this bar graph, it will also show you your exact RAM and disk space usage, and the limits of your virtual machine.\n",
        "\n",
        "<figure>\n",
        "<img src=\"https://raw.githubusercontent.com/ffund/ml-notebooks/master/notebooks/images/colab-tour-connect-1.png\" alt=\"Click here to connect to a Colab runtime\" />\n",
        "<figcaption aria-hidden=\"true\">Click here to connect to a Colab runtime</figcaption>\n",
        "</figure>"
      ]
    },
    {
      "cell_type": "markdown",
      "id": "4d0a4a43-09b3-42b3-8ff1-3210f0946574",
      "metadata": {
        "id": "4d0a4a43-09b3-42b3-8ff1-3210f0946574"
      },
      "source": [
        "As mentioned above, despite the resource limits, Colab will be sufficient for all of the demos and homework assignments we will use in this course. In the fall, when you work on your project, we can discuss strategies including:\n",
        "\n",
        "-   modifying your project scope\n",
        "-   setting up your code to work well despite the resource limits (for example, training your model in small steps, and saving the weights to your Google Drive at each step in case the runtime is recycled)\n",
        "-   connecting your Colab session to a local runtime on your PC or one on a Google Cloud Platform compute instance (with free credits)\n",
        "-   using NYU’s High Performance Computing resources instead\n",
        "\n",
        "These resources will be available to you at no charge - you should not pay for compute resources for this course."
      ]
    },
    {
      "cell_type": "markdown",
      "id": "f4ec1b0c-98f8-498b-901e-8c3c97d1ede7",
      "metadata": {
        "id": "f4ec1b0c-98f8-498b-901e-8c3c97d1ede7"
      },
      "source": [
        "### Submitting your work"
      ]
    },
    {
      "cell_type": "markdown",
      "id": "b3d51eed-6f14-4148-8d45-b26596e0655b",
      "metadata": {
        "id": "b3d51eed-6f14-4148-8d45-b26596e0655b"
      },
      "source": [
        "To submit lab assignments, you will need to generate two versions of your completed Colab notebooks.\n",
        "\n",
        "-   a version in “notebook” format (`.ipynb`) including all code and the output of each cell.\n",
        "-   a version in PDF format including all code and the output of each cell."
      ]
    },
    {
      "cell_type": "markdown",
      "id": "cdd93a84-3fbe-46b7-a0b1-45311a38ce94",
      "metadata": {
        "id": "cdd93a84-3fbe-46b7-a0b1-45311a38ce94"
      },
      "source": [
        "For the `.ipynb` version, you’ll make sure you ran every cell and the output appears as expected. Then, use File \\> Download \\> Download `.ipynb`."
      ]
    },
    {
      "cell_type": "markdown",
      "id": "8ea32cde-4d00-43d5-9017-4128cd47cde9",
      "metadata": {
        "id": "8ea32cde-4d00-43d5-9017-4128cd47cde9"
      },
      "source": [
        "The PDF format seems similarly easy - there’s a File \\> Print option in the menu! However, the built-in print option won’t always work well for us, because if a plot or other output happens to come out near a page break, it can get cut off.\n",
        "\n",
        "For example, try running the following cell, which creates a large plot:"
      ]
    },
    {
      "cell_type": "code",
      "execution_count": 11,
      "id": "15adbc21-6330-41a9-afc0-a9eda84c29ab",
      "metadata": {
        "id": "15adbc21-6330-41a9-afc0-a9eda84c29ab"
      },
      "outputs": [
        {
          "data": {
            "image/png": "[encoded data removed]",
            "text/plain": [
              "<Figure size 600x2000 with 8 Axes>"
            ]
          },
          "metadata": {},
          "output_type": "display_data"
        }
      ],
      "source": [
        "import numpy as np\n",
        "import matplotlib.pyplot as plt\n",
        "\n",
        "\n",
        "x = np.arange(0, 3 * np.pi, 0.1)\n",
        "\n",
        "# set up figure and subplots\n",
        "plt.figure(figsize=(6, 20))\n",
        "plt.subplot(8, 1, 1)\n",
        "\n",
        "# plot random data\n",
        "for p in range(1,8+1):\n",
        "  y = np.random.exponential(size=len(x))\n",
        "  plt.subplot(8, 1, p)\n",
        "  plt.scatter(x, y)\n",
        "  plt.title('Plot %d/8' % p)\n",
        "\n",
        "# adjust spacing between subplots\n",
        "plt.subplots_adjust(hspace = 0.4)\n",
        "\n",
        "# show the figure.\n",
        "plt.show()"
      ]
    },
    {
      "cell_type": "markdown",
      "id": "c9899959-11d0-4cff-a4bb-81aa07f4f037",
      "metadata": {
        "id": "c9899959-11d0-4cff-a4bb-81aa07f4f037"
      },
      "source": [
        "Then, look at the preview PDF output using File \\> Print, and note how some of the subplots do not appear in the PDF output."
      ]
    },
    {
      "cell_type": "markdown",
      "id": "5e578736-064a-46c0-bdaa-3ac12732f337",
      "metadata": {
        "id": "5e578736-064a-46c0-bdaa-3ac12732f337"
      },
      "source": [
        "As an alternative to Colab’s built-in print, you can:\n",
        "\n",
        "-   Use this [helper notebook](https://colab.research.google.com/github/ffund/ml-notebooks/blob/master/notebooks/1-print-colab.ipynb) to create a PDF version of your notebook. (Note that you will have to follow the instructions carefully to connect your Google Drive and specify your notebook name.)\n",
        "-   Or, if you feel comfortable uploading your `ipynb` to a third party service, you can use: <https://htmtopdf.herokuapp.com/ipynbviewer/>"
      ]
    }
  ],
  "metadata": {
    "colab": {
      "provenance": []
    },
    "kernelspec": {
      "display_name": "Python 3",
      "language": "python",
      "name": "python3"
    },
    "language_info": {
      "codemirror_mode": {
        "name": "ipython",
        "version": 3
      },
      "file_extension": ".py",
      "mimetype": "text/x-python",
      "name": "python",
      "nbconvert_exporter": "python",
      "pygments_lexer": "ipython3",
      "version": "3.11.5"
    }
  },
  "nbformat": 4,
  "nbformat_minor": 5
}
