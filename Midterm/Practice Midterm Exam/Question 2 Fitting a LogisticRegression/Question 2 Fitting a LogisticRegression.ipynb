{
 "cells": [
  {
   "cell_type": "markdown",
   "metadata": {},
   "source": [
    "## Train a `LogisticRegression` classifier"
   ]
  },
  {
   "cell_type": "markdown",
   "metadata": {},
   "source": [
    "In the attached workspace, you will read in some data from a file, and split it into training and test sets. Then, you will fit a `LogisticRegression` (using the `sklearn` implementation, you may refer to its documentation [here](https://scikit-learn.org/stable/modules/generated/sklearn.linear_model.LogisticRegression.html)) on the training set, and evaluate its accuracy on the test set.\n",
    "\n",
    "| Name | Type | Description |\n",
    "| ---- | ---- | ---- |\n",
    "|`Xtr_std`\t|2d numpy array\t|Training data, after standardization.|\n",
    "|`Xts_std`\t|2d numpy array\t|Test data, after standardization.|\n",
    "|`yhat_ts`\t|1d numpy array\t|Model prediction for test data.|\n",
    "|`acc_ts`\t|float\t|Accuracy of model on test data.|"
   ]
  },
  {
   "cell_type": "code",
   "execution_count": 1,
   "metadata": {},
   "outputs": [],
   "source": [
    "import numpy as np\n",
    "from sklearn.preprocessing import StandardScaler\n",
    "from sklearn.linear_model import LogisticRegression\n",
    "from sklearn.metrics import accuracy_score"
   ]
  },
  {
   "cell_type": "code",
   "execution_count": 2,
   "metadata": {},
   "outputs": [],
   "source": [
    "Xtr = np.load(\"Xtr.npy\")\n",
    "Xts = np.load(\"Xts.npy\")\n",
    "ytr = np.load(\"ytr.npy\")\n",
    "yts = np.load(\"yts.npy\")"
   ]
  },
  {
   "cell_type": "markdown",
   "metadata": {},
   "source": [
    "Soon, we'll fit a `LogisticRegression` on the training data. The default settings happen to include an L2 regularization penalty, so we should standardize the data (remove the mean and scale to unit variance) first. \n",
    "\n",
    "In the next cell, standardize the data. Save the standardized training and test data in `Xtr_std` and `Xts_std`, respectively. You will use the standardized data with your `LogisticRegression` model.\n"
   ]
  },
  {
   "cell_type": "code",
   "execution_count": 3,
   "metadata": {},
   "outputs": [],
   "source": [
    "#grade (write your code in this cell and DO NOT DELETE THIS LINE)\n",
    "scaler = StandardScaler().fit(Xtr)\n",
    "Xtr_std = scaler.transform(Xtr)\n",
    "Xts_std = scaler.transform(Xts)"
   ]
  },
  {
   "cell_type": "markdown",
   "metadata": {},
   "source": [
    "Now we are ready to fit the `LogisticRegression`. Create a `LogisticRegression` with the following specifications:\n",
    "\n",
    "* use a regularization penalty of `C=1e5` \n",
    "* use `solver='liblinear'`\n",
    "* use `random_state=42`\n",
    "\n",
    "and leave other settings at their default values.  "
   ]
  },
  {
   "cell_type": "markdown",
   "metadata": {},
   "source": [
    " \n",
    "Fit the model. Then, use it to predict the class of the test samples, and save this prediction in `yhat_ts`. Evaluate the accuracy of the classifier's predictions, and save this value in `acc_ts`."
   ]
  },
  {
   "cell_type": "code",
   "execution_count": 4,
   "metadata": {},
   "outputs": [],
   "source": [
    "#grade (write your code in this cell and DO NOT DELETE THIS LINE)\n",
    "clf = LogisticRegression(solver='liblinear', random_state=42, C=1e5)\n",
    "clf.fit(Xtr_std, ytr)\n",
    "yhat_ts = clf.predict(Xts_std)\n",
    "acc_ts = accuracy_score(yts, yhat_ts)"
   ]
  },
  {
   "cell_type": "code",
   "execution_count": null,
   "metadata": {},
   "outputs": [],
   "source": []
  }
 ],
 "metadata": {
  "kernelspec": {
   "display_name": "Python 3",
   "language": "python",
   "name": "python3"
  },
  "language_info": {
   "codemirror_mode": {
    "name": "ipython",
    "version": 3
   },
   "file_extension": ".py",
   "mimetype": "text/x-python",
   "name": "python",
   "nbconvert_exporter": "python",
   "pygments_lexer": "ipython3",
   "version": "3.11.5"
  }
 },
 "nbformat": 4,
 "nbformat_minor": 4
}
